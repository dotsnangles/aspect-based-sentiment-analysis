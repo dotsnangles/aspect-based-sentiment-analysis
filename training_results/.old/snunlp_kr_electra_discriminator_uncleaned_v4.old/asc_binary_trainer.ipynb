{
 "cells": [
  {
   "cell_type": "markdown",
   "id": "64a97887",
   "metadata": {
    "id": "p8Lb8VDc8Rak",
    "papermill": {
     "duration": 0.024796,
     "end_time": "2022-10-26T10:40:42.081778",
     "exception": false,
     "start_time": "2022-10-26T10:40:42.056982",
     "status": "completed"
    },
    "tags": []
   },
   "source": [
    "# Description"
   ]
  },
  {
   "cell_type": "markdown",
   "id": "3c378e7c",
   "metadata": {
    "id": "9pZhmy9xKmZX",
    "papermill": {
     "duration": 0.019885,
     "end_time": "2022-10-26T10:40:42.119371",
     "exception": false,
     "start_time": "2022-10-26T10:40:42.099486",
     "status": "completed"
    },
    "tags": []
   },
   "source": [
    "# Modules and Global Variables"
   ]
  },
  {
   "cell_type": "code",
   "execution_count": 1,
   "id": "30bf10b7",
   "metadata": {
    "execution": {
     "iopub.execute_input": "2022-10-26T10:40:42.160228Z",
     "iopub.status.busy": "2022-10-26T10:40:42.158868Z",
     "iopub.status.idle": "2022-10-26T10:40:45.105733Z",
     "shell.execute_reply": "2022-10-26T10:40:45.104423Z"
    },
    "executionInfo": {
     "elapsed": 6502,
     "status": "ok",
     "timestamp": 1666258918849,
     "user": {
      "displayName": "Jeonghyeon Park",
      "userId": "12513544746873038725"
     },
     "user_tz": -540
    },
    "id": "_v8VXBZdKuUD",
    "papermill": {
     "duration": 2.966606,
     "end_time": "2022-10-26T10:40:45.109644",
     "exception": false,
     "start_time": "2022-10-26T10:40:42.143038",
     "status": "completed"
    },
    "tags": []
   },
   "outputs": [
    {
     "name": "stderr",
     "output_type": "stream",
     "text": [
      "/home/ubuntu/anaconda3/envs/jeonghyeon/lib/python3.10/site-packages/tqdm/auto.py:22: TqdmWarning: IProgress not found. Please update jupyter and ipywidgets. See https://ipywidgets.readthedocs.io/en/stable/user_install.html\n",
      "  from .autonotebook import tqdm as notebook_tqdm\n"
     ]
    }
   ],
   "source": [
    "from transformers import (\n",
    "    AutoConfig, AutoTokenizer, AutoModelForSequenceClassification, \n",
    "    DefaultDataCollator, DataCollatorWithPadding, \n",
    "    TrainingArguments, Trainer,\n",
    ")\n",
    "\n",
    "from transformers.optimization import (\n",
    "    AdamW, get_linear_schedule_with_warmup,\n",
    "    Adafactor, AdafactorSchedule,\n",
    ")\n",
    "\n",
    "import torch\n",
    "import wandb\n",
    "\n",
    "import datasets\n",
    "import evaluate\n",
    "\n",
    "from sklearn.metrics import accuracy_score, f1_score\n",
    "\n",
    "import numpy as np\n",
    "import pandas as pd\n",
    "\n",
    "import os\n",
    "import re\n",
    "import random\n",
    "\n",
    "import demoji"
   ]
  },
  {
   "cell_type": "code",
   "execution_count": 2,
   "id": "2966e18f",
   "metadata": {
    "execution": {
     "iopub.execute_input": "2022-10-26T10:40:45.162460Z",
     "iopub.status.busy": "2022-10-26T10:40:45.161563Z",
     "iopub.status.idle": "2022-10-26T10:40:45.405438Z",
     "shell.execute_reply": "2022-10-26T10:40:45.404373Z"
    },
    "papermill": {
     "duration": 0.270613,
     "end_time": "2022-10-26T10:40:45.407420",
     "exception": false,
     "start_time": "2022-10-26T10:40:45.136807",
     "status": "completed"
    },
    "tags": []
   },
   "outputs": [
    {
     "name": "stdout",
     "output_type": "stream",
     "text": [
      "torch.__version__: 1.12.1\n",
      "torch.cuda.is_available(): True\n",
      "NGPU: 4\n"
     ]
    }
   ],
   "source": [
    "print(f'torch.__version__: {torch.__version__}')\n",
    "print(f'torch.cuda.is_available(): {torch.cuda.is_available()}')\n",
    "NGPU = torch.cuda.device_count()\n",
    "print(f'NGPU: {NGPU}')\n",
    "# NGPU = torch.cuda.device_count()\n",
    "# if NGPU > 1:\n",
    "#     model = torch.nn.DataParallel(model, device_ids=list(range(NGPU)))"
   ]
  },
  {
   "cell_type": "code",
   "execution_count": 3,
   "id": "c9bcbbf6",
   "metadata": {
    "colab": {
     "base_uri": "https://localhost:8080/"
    },
    "execution": {
     "iopub.execute_input": "2022-10-26T10:40:45.437055Z",
     "iopub.status.busy": "2022-10-26T10:40:45.436138Z",
     "iopub.status.idle": "2022-10-26T10:40:45.445263Z",
     "shell.execute_reply": "2022-10-26T10:40:45.444349Z"
    },
    "executionInfo": {
     "elapsed": 9,
     "status": "ok",
     "timestamp": 1666258918850,
     "user": {
      "displayName": "Jeonghyeon Park",
      "userId": "12513544746873038725"
     },
     "user_tz": -540
    },
    "id": "7t7eYrTJkyCV",
    "outputId": "4a36004a-6875-4404-dc79-01c48573a154",
    "papermill": {
     "duration": 0.025503,
     "end_time": "2022-10-26T10:40:45.446648",
     "exception": false,
     "start_time": "2022-10-26T10:40:45.421145",
     "status": "completed"
    },
    "tags": []
   },
   "outputs": [
    {
     "name": "stdout",
     "output_type": "stream",
     "text": [
      "{'True': 0, 'False': 1}\n",
      "{0: 'True', 1: 'False'}\n"
     ]
    }
   ],
   "source": [
    "### labels\n",
    "\n",
    "ce_labels = ['True', 'False']\n",
    "pc_labels = ['positive', 'negative', 'neutral']\n",
    "pc_binary_labels = ['True', 'False']\n",
    "\n",
    "labels = pc_binary_labels\n",
    "\n",
    "label2id = {k: i for i, k in enumerate(labels)}\n",
    "id2label = {i: k for i, k in enumerate(labels)}\n",
    "num_labels = len(labels)\n",
    "\n",
    "print(label2id)\n",
    "print(id2label)"
   ]
  },
  {
   "cell_type": "code",
   "execution_count": 4,
   "id": "bc499711",
   "metadata": {
    "colab": {
     "base_uri": "https://localhost:8080/"
    },
    "execution": {
     "iopub.execute_input": "2022-10-26T10:40:45.472869Z",
     "iopub.status.busy": "2022-10-26T10:40:45.472601Z",
     "iopub.status.idle": "2022-10-26T10:40:46.081832Z",
     "shell.execute_reply": "2022-10-26T10:40:46.080439Z"
    },
    "executionInfo": {
     "elapsed": 2145,
     "status": "ok",
     "timestamp": 1666258920989,
     "user": {
      "displayName": "Jeonghyeon Park",
      "userId": "12513544746873038725"
     },
     "user_tz": -540
    },
    "id": "Rohq6E8Lp1x1",
    "outputId": "88391cfb-80b0-436a-f862-034b00cef374",
    "papermill": {
     "duration": 0.62532,
     "end_time": "2022-10-26T10:40:46.084447",
     "exception": false,
     "start_time": "2022-10-26T10:40:45.459127",
     "status": "completed"
    },
    "tags": []
   },
   "outputs": [],
   "source": [
    "### paths and names\n",
    "\n",
    "PROJECT_NAME = 'aspect_sentiment_classification_binary'\n",
    "RUN_ID = 'uncleaned_v4'\n",
    "\n",
    "DATA_V = 'uncleaned_v4'\n",
    "DATA_T = 'pc_binary' # ce or pc\n",
    "AUGMENTATION = False\n",
    "AUG_NAME = 'aug'\n",
    "\n",
    "model_checkpoint = 'snunlp/KR-ELECTRA-discriminator'\n",
    "\n",
    "notebook_name = 'asc_binary_trainer.ipynb'\n",
    "\n",
    "### fixed\n",
    "\n",
    "model_name = re.sub(r'[/-]', r'_', model_checkpoint).lower()\n",
    "run_name = f'{model_name}_{RUN_ID}'\n",
    "\n",
    "ROOT_PATH = './'\n",
    "SAVE_PATH = os.path.join(ROOT_PATH, 'training_results', run_name, 'asc')\n",
    "NOTEBOOK_PATH = os.path.join('./', notebook_name)\n",
    "\n",
    "augornot = f'_{AUG_NAME}' if AUGMENTATION is True else ''\n",
    "TRAIN_DATA_PATH = os.path.join(ROOT_PATH, 'dataset', DATA_V, f'{DATA_T}_train{augornot}.csv')\n",
    "EVAL_DATA_PATH = os.path.join(ROOT_PATH, 'dataset', DATA_V, f'{DATA_T}_dev.csv')\n",
    "\n",
    "!mkdir -p {SAVE_PATH}"
   ]
  },
  {
   "cell_type": "code",
   "execution_count": 5,
   "id": "6f15cdae",
   "metadata": {
    "execution": {
     "iopub.execute_input": "2022-10-26T10:40:46.113901Z",
     "iopub.status.busy": "2022-10-26T10:40:46.113516Z",
     "iopub.status.idle": "2022-10-26T10:40:46.125373Z",
     "shell.execute_reply": "2022-10-26T10:40:46.124357Z"
    },
    "papermill": {
     "duration": 0.028267,
     "end_time": "2022-10-26T10:40:46.126930",
     "exception": false,
     "start_time": "2022-10-26T10:40:46.098663",
     "status": "completed"
    },
    "tags": []
   },
   "outputs": [
    {
     "name": "stdout",
     "output_type": "stream",
     "text": [
      "./training_results/snunlp_kr_electra_discriminator_uncleaned_v4/asc exists.\n",
      "./asc_binary_trainer.ipynb exists.\n",
      "./dataset/uncleaned_v4/pc_binary_train.csv exists.\n",
      "./dataset/uncleaned_v4/pc_binary_dev.csv exists.\n"
     ]
    }
   ],
   "source": [
    "if os.path.exists(SAVE_PATH):\n",
    "    print(f'{SAVE_PATH} exists.')\n",
    "else:\n",
    "    print(f'{SAVE_PATH} does not exist.')\n",
    "if os.path.exists(NOTEBOOK_PATH):\n",
    "    print(f'{NOTEBOOK_PATH} exists.')\n",
    "else:\n",
    "    print(f'{NOTEBOOK_PATH} does not exist.')\n",
    "if os.path.exists(TRAIN_DATA_PATH):\n",
    "    print(f'{TRAIN_DATA_PATH} exists.')\n",
    "else:\n",
    "    print(f'{TRAIN_DATA_PATH} does not exist.')\n",
    "if os.path.exists(EVAL_DATA_PATH):\n",
    "    print(f'{EVAL_DATA_PATH} exists.')\n",
    "else:\n",
    "    print(f'{EVAL_DATA_PATH} does not exist.')"
   ]
  },
  {
   "cell_type": "code",
   "execution_count": 6,
   "id": "f032e7cd",
   "metadata": {
    "execution": {
     "iopub.execute_input": "2022-10-26T10:40:46.155919Z",
     "iopub.status.busy": "2022-10-26T10:40:46.154458Z",
     "iopub.status.idle": "2022-10-26T10:40:46.165610Z",
     "shell.execute_reply": "2022-10-26T10:40:46.164425Z"
    },
    "executionInfo": {
     "elapsed": 10,
     "status": "ok",
     "timestamp": 1666258920989,
     "user": {
      "displayName": "Jeonghyeon Park",
      "userId": "12513544746873038725"
     },
     "user_tz": -540
    },
    "id": "HnBF0kLyk4Z4",
    "papermill": {
     "duration": 0.027952,
     "end_time": "2022-10-26T10:40:46.167326",
     "exception": false,
     "start_time": "2022-10-26T10:40:46.139374",
     "status": "completed"
    },
    "tags": []
   },
   "outputs": [],
   "source": [
    "### rest of training args\n",
    "\n",
    "report_to=\"wandb\"\n",
    "\n",
    "fp16 = False\n",
    "\n",
    "num_train_epochs = 10\n",
    "batch_size = 3\n",
    "gradient_accumulation_steps = 1\n",
    "\n",
    "optim = 'adamw_torch' # 'adamw_hf'\n",
    "\n",
    "learning_rate = 3e-6 # 5e-5\n",
    "weight_decay = 0.01 # 0\n",
    "adam_epsilon = 1e-8\n",
    "\n",
    "lr_scheduler_type = 'cosine'\n",
    "warmup_ratio = 0\n",
    "\n",
    "save_total_limit = 2\n",
    "\n",
    "load_best_model_at_end = True\n",
    "metric_for_best_model ='eval_loss'\n",
    "\n",
    "save_strategy = \"epoch\"\n",
    "evaluation_strategy = \"epoch\"\n",
    "\n",
    "logging_strategy = \"steps\"\n",
    "logging_first_step = True \n",
    "logging_steps = 500"
   ]
  },
  {
   "cell_type": "markdown",
   "id": "2800b030",
   "metadata": {
    "id": "yXVsV8jQpreV",
    "papermill": {
     "duration": 0.013417,
     "end_time": "2022-10-26T10:40:46.195303",
     "exception": false,
     "start_time": "2022-10-26T10:40:46.181886",
     "status": "completed"
    },
    "tags": []
   },
   "source": [
    "# WandB Configuration"
   ]
  },
  {
   "cell_type": "code",
   "execution_count": 7,
   "id": "e2b3fe11",
   "metadata": {
    "colab": {
     "base_uri": "https://localhost:8080/",
     "height": 143
    },
    "execution": {
     "iopub.execute_input": "2022-10-26T10:40:46.224146Z",
     "iopub.status.busy": "2022-10-26T10:40:46.223586Z",
     "iopub.status.idle": "2022-10-26T10:40:47.753576Z",
     "shell.execute_reply": "2022-10-26T10:40:47.752373Z"
    },
    "executionInfo": {
     "elapsed": 4727,
     "status": "ok",
     "timestamp": 1666258925707,
     "user": {
      "displayName": "Jeonghyeon Park",
      "userId": "12513544746873038725"
     },
     "user_tz": -540
    },
    "id": "P0IR11QyPy26",
    "outputId": "1d7538ee-93e1-419d-ee09-4011e6742d6f",
    "papermill": {
     "duration": 1.54704,
     "end_time": "2022-10-26T10:40:47.755834",
     "exception": false,
     "start_time": "2022-10-26T10:40:46.208794",
     "status": "completed"
    },
    "tags": []
   },
   "outputs": [
    {
     "name": "stdout",
     "output_type": "stream",
     "text": [
      "env: WANDB_PROJECT=aspect_sentiment_classification_binary\n",
      "env: WANDB_NOTEBOOK_NAME=./asc_binary_trainer.ipynb\n",
      "env: WANDB_LOG_MODEL=true\n",
      "env: WANDB_WATCH=all\n"
     ]
    },
    {
     "name": "stderr",
     "output_type": "stream",
     "text": [
      "\u001b[34m\u001b[1mwandb\u001b[0m: Currently logged in as: \u001b[33mdotsnangles\u001b[0m. Use \u001b[1m`wandb login --relogin`\u001b[0m to force relogin\n"
     ]
    },
    {
     "data": {
      "text/plain": [
       "True"
      ]
     },
     "execution_count": 7,
     "metadata": {},
     "output_type": "execute_result"
    }
   ],
   "source": [
    "%env WANDB_PROJECT={PROJECT_NAME}\n",
    "%env WANDB_NOTEBOOK_NAME={NOTEBOOK_PATH}\n",
    "%env WANDB_LOG_MODEL=true\n",
    "%env WANDB_WATCH=all\n",
    "wandb.login()"
   ]
  },
  {
   "cell_type": "markdown",
   "id": "b203e3e2",
   "metadata": {
    "id": "XSAzFxnH1ozQ",
    "papermill": {
     "duration": 0.0146,
     "end_time": "2022-10-26T10:40:47.785061",
     "exception": false,
     "start_time": "2022-10-26T10:40:47.770461",
     "status": "completed"
    },
    "tags": []
   },
   "source": [
    "# Load Model, Tokenizer, and Collator"
   ]
  },
  {
   "cell_type": "code",
   "execution_count": 8,
   "id": "4e24cc8f",
   "metadata": {
    "colab": {
     "base_uri": "https://localhost:8080/",
     "height": 256,
     "referenced_widgets": [
      "bf7dac5b27584f288107f28e482be51d",
      "9355394179624ce3be82e1b294b1a2b5",
      "e3db079ea80048359f6097228cdc8086",
      "0c4bff269e8f4d9693aec278a0a8d52a",
      "c30f1c569f584efdb38e04fd4d5f838a",
      "e01a20c18d8249cea389638d8c005b8d",
      "6acc835b544d451894d35e3736e0d804",
      "c5ed91471a484c8da8249e731a16f343",
      "bc621d540c4f48c88ef6758cc902f652",
      "9890392cc707490d88aa6fe155917a09",
      "f62340167e2d447096a2965b4fc60826",
      "83be86e7a1bc4cb5ad983f549588cec5",
      "0642dca8ab984c91a4539585afef8390",
      "92f849d5359340cc89bce483f9d15bfe",
      "a6d4a8cf193d4d4486b72f41e7ec7fa5",
      "bab12b33f3b0477c9a9c9fb02aa288db",
      "ad20f3a0ca6c42c6afc1f506046ebf3b",
      "fe51a8730e28454d897439830382db46",
      "684011384bc34d2692f71dfe935b4723",
      "44649a89dc5d4156892db45e1fdee5c1",
      "5b3593cbcc844e928f086f80d9108ba1",
      "a7c890f084ac432b9facfa6a397f6295",
      "d93d55f032ac46068d03caeb1330b7bc",
      "a143eeb39a3a4f34be3eea3253d8b3f2",
      "c2924cb5fd6642d5aa134b63aaa01dca",
      "e615f2d044e143d387a202fcaab64972",
      "4d894cca56034a818c9132a012504061",
      "a8e8e78b21d6416f858f4f7352059bc0",
      "7c3552d804164201a11b0d9a7a6d9b10",
      "efd3eea3194c47d28ce4981dceb04f54",
      "658511cf252648a0ae4dd509bbe12fe6",
      "5cb0cdb0332f49caa2c9e728078da80a",
      "1d07530c6d494b4bb5d9579e0da3c820",
      "c9b0e46751fb474ab454ba3eddd8dbd6",
      "e188d96fbcc54a35838b1356cf7a8797",
      "90465c6d97ef4e83b86160ce1e66ca8b",
      "bb83f39eb9b74852b14cc8317cacf616",
      "86c9f350fe5f491e966c968f09428b2f",
      "ba30ea7b361c4105966ff21c1d8a8695",
      "f514807a72e64160b487098810593b20",
      "110c5f6649ab4b3382cce9d0bfcca25b",
      "2e99b266d32549aa80f6234d807ff8bb",
      "45efd1e29eb445d0bbdb4d0e90dec407",
      "dff996c84db24f52bef3d54528588226"
     ]
    },
    "execution": {
     "iopub.execute_input": "2022-10-26T10:40:47.816694Z",
     "iopub.status.busy": "2022-10-26T10:40:47.815947Z",
     "iopub.status.idle": "2022-10-26T10:40:52.149767Z",
     "shell.execute_reply": "2022-10-26T10:40:52.148445Z"
    },
    "executionInfo": {
     "elapsed": 25161,
     "status": "ok",
     "timestamp": 1666258950864,
     "user": {
      "displayName": "Jeonghyeon Park",
      "userId": "12513544746873038725"
     },
     "user_tz": -540
    },
    "id": "v7hpRDtF7ChY",
    "outputId": "32ce331a-b87f-47f7-a3e7-b1af49c11478",
    "papermill": {
     "duration": 4.353718,
     "end_time": "2022-10-26T10:40:52.153486",
     "exception": false,
     "start_time": "2022-10-26T10:40:47.799768",
     "status": "completed"
    },
    "tags": []
   },
   "outputs": [
    {
     "name": "stderr",
     "output_type": "stream",
     "text": [
      "Some weights of the model checkpoint at snunlp/KR-ELECTRA-discriminator were not used when initializing ElectraForSequenceClassification: ['discriminator_predictions.dense.bias', 'discriminator_predictions.dense_prediction.bias', 'discriminator_predictions.dense.weight', 'discriminator_predictions.dense_prediction.weight']\n",
      "- This IS expected if you are initializing ElectraForSequenceClassification from the checkpoint of a model trained on another task or with another architecture (e.g. initializing a BertForSequenceClassification model from a BertForPreTraining model).\n",
      "- This IS NOT expected if you are initializing ElectraForSequenceClassification from the checkpoint of a model that you expect to be exactly identical (initializing a BertForSequenceClassification model from a BertForSequenceClassification model).\n"
     ]
    },
    {
     "name": "stderr",
     "output_type": "stream",
     "text": [
      "Some weights of ElectraForSequenceClassification were not initialized from the model checkpoint at snunlp/KR-ELECTRA-discriminator and are newly initialized: ['classifier.dense.bias', 'classifier.out_proj.bias', 'classifier.out_proj.weight', 'classifier.dense.weight']\n",
      "You should probably TRAIN this model on a down-stream task to be able to use it for predictions and inference.\n"
     ]
    }
   ],
   "source": [
    "tokenizer = AutoTokenizer.from_pretrained(model_checkpoint)\n",
    "model = AutoModelForSequenceClassification.from_pretrained(\n",
    "    model_checkpoint, label2id=label2id, id2label=id2label, num_labels=num_labels\n",
    ")\n",
    "data_collator = DataCollatorWithPadding(tokenizer=tokenizer)"
   ]
  },
  {
   "cell_type": "code",
   "execution_count": 9,
   "id": "4e20e314",
   "metadata": {
    "execution": {
     "iopub.execute_input": "2022-10-26T10:40:52.216675Z",
     "iopub.status.busy": "2022-10-26T10:40:52.216052Z",
     "iopub.status.idle": "2022-10-26T10:40:54.977300Z",
     "shell.execute_reply": "2022-10-26T10:40:54.976384Z"
    },
    "papermill": {
     "duration": 2.792814,
     "end_time": "2022-10-26T10:40:54.979973",
     "exception": false,
     "start_time": "2022-10-26T10:40:52.187159",
     "status": "completed"
    },
    "tags": []
   },
   "outputs": [
    {
     "name": "stdout",
     "output_type": "stream",
     "text": [
      "30000\n",
      "\n"
     ]
    },
    {
     "name": "stdout",
     "output_type": "stream",
     "text": [
      "\n",
      "\n",
      "3018\n",
      "30111\n"
     ]
    },
    {
     "data": {
      "text/plain": [
       "Embedding(30111, 768)"
      ]
     },
     "execution_count": 9,
     "metadata": {},
     "output_type": "execute_result"
    }
   ],
   "source": [
    "train_path = f'./dataset/{DATA_V}/raw_train.csv'\n",
    "dev_path = f'./dataset/{DATA_V}/raw_dev.csv'\n",
    "test_path = f'./dataset/{DATA_V}/raw_test.csv'\n",
    "train = pd.read_csv(train_path)\n",
    "dev = pd.read_csv(dev_path)\n",
    "test = pd.read_csv(test_path)\n",
    "\n",
    "### new\n",
    "entity_property_pair = [\n",
    "    '본품#가격', '본품#다양성', '본품#디자인', '본품#인지도', '본품#일반', '본품#편의성', '본품#품질',\n",
    "    '브랜드#가격', '브랜드#디자인', '브랜드#인지도', '브랜드#일반', '브랜드#품질',\n",
    "    '제품 전체#가격', '제품 전체#다양성', '제품 전체#디자인', '제품 전체#인지도', '제품 전체#일반', '제품 전체#편의성', '제품 전체#품질',\n",
    "    '패키지/구성품#가격', '패키지/구성품#다양성', '패키지/구성품#디자인', '패키지/구성품#일반', '패키지/구성품#편의성', '패키지/구성품#품질'\n",
    "]\n",
    "special_tokens = ['&name&', '&affiliation&', '&social-security-num&', '&tel-num&', '&card-num&', '&bank-account&', '&num&', '&online-account&']\n",
    "emojis = pd.concat([train.sentence_form, dev.sentence_form, test.sentence_form], ignore_index=True, verify_integrity=True).to_frame()\n",
    "emojis = list(set(demoji.findall(' '.join(emojis.sentence_form.to_list())).keys()))\n",
    "ep_labels = pd.Series(entity_property_pair, name='sentence_form', copy=True)\n",
    "\n",
    "tokens2add = special_tokens + emojis\n",
    "\n",
    "tokenizer = AutoTokenizer.from_pretrained(model_checkpoint)\n",
    "print(len(tokenizer))\n",
    "tokenizer_train_data = pd.concat([train.sentence_form, dev.sentence_form, test.sentence_form], ignore_index=True, verify_integrity=True).to_frame().drop_duplicates()\n",
    "tokenizer_train_data = tokenizer_train_data.sentence_form.to_list()\n",
    "new_tokenizer = tokenizer.train_new_from_iterator(tokenizer_train_data, vocab_size=1)\n",
    "new_tokens = set(list(new_tokenizer.vocab.keys()) + tokens2add) - set(tokenizer.vocab.keys())\n",
    "tokenizer.add_tokens(list(new_tokens))\n",
    "print(len(new_tokenizer))\n",
    "print(len(tokenizer))\n",
    "model.resize_token_embeddings(len(tokenizer))"
   ]
  },
  {
   "cell_type": "code",
   "execution_count": 10,
   "id": "bd1ec12d",
   "metadata": {
    "execution": {
     "iopub.execute_input": "2022-10-26T10:40:55.039873Z",
     "iopub.status.busy": "2022-10-26T10:40:55.038711Z",
     "iopub.status.idle": "2022-10-26T10:40:55.045280Z",
     "shell.execute_reply": "2022-10-26T10:40:55.044369Z"
    },
    "papermill": {
     "duration": 0.037691,
     "end_time": "2022-10-26T10:40:55.047200",
     "exception": false,
     "start_time": "2022-10-26T10:40:55.009509",
     "status": "completed"
    },
    "tags": []
   },
   "outputs": [
    {
     "name": "stdout",
     "output_type": "stream",
     "text": [
      "111\n",
      "{'쫜', '##읒', '뜌', 'ᴠ', '➕', '##ˇ', '&num&', '💆\\u200d♀️', '##➕', '💇🏼\\u200d♀️', '💡', 'ɪ', '🧚\\u200d♀️', '〰️', '😯', '⁉️', '㉦', '⏰', 'ᴍ', '✌🏻', '💆', '🏃\\u200d♀️', '🙆\\u200d♂️', '쓩', '쨕', '👠', '죱', '💇', '뿤', '👦🏼', '챳', '##💇', '&tel-num&', '##ᴠ', '💆🏻\\u200d♀️', '##ɪ', '##㉦', 'ғ', 'ᵕ', '##ᴜ', '😺', '##💆', '##ᴘ', '🐄', 'ᴛ', '🙏🏻', '##ʀ', '##◍', '🙋🏻\\u200d♀️', 'ɴ', '🤘🏻', '##ɴ', '💬', '❣️', '👋🏻', 'ɢ', '🙌🏻', '🙋\\u200d♀️', '##쨕', 'ꈍ', '🚗', '◍', '💪🏻', '##뜌', '👌🏻', '🥤', '🍼', '&online-account&', '‼️', '##ᴛ', '🍷', '##🚗', '❤️', '##쫜', '♥️', '##💄', 'ʀ', '##🥤', '##ᴍ', '✌️', '##👠', 'ˇ', '👩\\u200d👦', '##ᴡ', '읒', '&bank-account&', '🙆🏻', '👨\\u200d👧', '💄', '☺️', '🤡', '##🤡', '👉🏻', '##죱', 'ʜ', '&name&', '&card-num&', '✔️', 'ᴜ', '👏🏻', '##ꈍ', '🕺', '🙋🏻', '##ɢ', '&affiliation&', '##ᵕ', 'ᴘ', '&social-security-num&', '☝️', 'ᴡ', '☝🏻'}\n"
     ]
    }
   ],
   "source": [
    "print(len(new_tokens))\n",
    "print(new_tokens)"
   ]
  },
  {
   "cell_type": "code",
   "execution_count": 11,
   "id": "12c40587",
   "metadata": {
    "colab": {
     "base_uri": "https://localhost:8080/"
    },
    "execution": {
     "iopub.execute_input": "2022-10-26T10:40:55.090525Z",
     "iopub.status.busy": "2022-10-26T10:40:55.089994Z",
     "iopub.status.idle": "2022-10-26T10:40:55.097134Z",
     "shell.execute_reply": "2022-10-26T10:40:55.096357Z"
    },
    "executionInfo": {
     "elapsed": 15,
     "status": "ok",
     "timestamp": 1666258957461,
     "user": {
      "displayName": "Jeonghyeon Park",
      "userId": "12513544746873038725"
     },
     "user_tz": -540
    },
    "id": "fPhUW964vTzH",
    "outputId": "eebfdfdb-9e05-4509-fac0-450ca0a24c31",
    "papermill": {
     "duration": 0.030031,
     "end_time": "2022-10-26T10:40:55.098759",
     "exception": false,
     "start_time": "2022-10-26T10:40:55.068728",
     "status": "completed"
    },
    "tags": []
   },
   "outputs": [
    {
     "data": {
      "text/plain": [
       "({'True': 0, 'False': 1}, {0: 'True', 1: 'False'}, 2)"
      ]
     },
     "execution_count": 11,
     "metadata": {},
     "output_type": "execute_result"
    }
   ],
   "source": [
    "model.config.label2id, model.config.id2label, model.num_labels"
   ]
  },
  {
   "cell_type": "code",
   "execution_count": 12,
   "id": "c3d5fdff",
   "metadata": {
    "colab": {
     "base_uri": "https://localhost:8080/"
    },
    "execution": {
     "iopub.execute_input": "2022-10-26T10:40:55.135358Z",
     "iopub.status.busy": "2022-10-26T10:40:55.134858Z",
     "iopub.status.idle": "2022-10-26T10:40:55.141257Z",
     "shell.execute_reply": "2022-10-26T10:40:55.140396Z"
    },
    "executionInfo": {
     "elapsed": 13,
     "status": "ok",
     "timestamp": 1666258957462,
     "user": {
      "displayName": "Jeonghyeon Park",
      "userId": "12513544746873038725"
     },
     "user_tz": -540
    },
    "id": "EbnV6ZS_xp3Z",
    "outputId": "127c6ce6-2bb3-4b42-cd0a-3ccdcb581e6b",
    "papermill": {
     "duration": 0.02602,
     "end_time": "2022-10-26T10:40:55.142725",
     "exception": false,
     "start_time": "2022-10-26T10:40:55.116705",
     "status": "completed"
    },
    "tags": []
   },
   "outputs": [],
   "source": [
    "# entity_property_pair = [\n",
    "#     '본품#가격', '본품#다양성', '본품#디자인', '본품#인지도', '본품#일반', '본품#편의성', '본품#품질',\n",
    "#     '브랜드#가격', '브랜드#디자인', '브랜드#인지도', '브랜드#일반', '브랜드#품질',\n",
    "#     '제품 전체#가격', '제품 전체#다양성', '제품 전체#디자인', '제품 전체#인지도', '제품 전체#일반', '제품 전체#편의성', '제품 전체#품질',\n",
    "#     '패키지/구성품#가격', '패키지/구성품#다양성', '패키지/구성품#디자인', '패키지/구성품#일반', '패키지/구성품#편의성', '패키지/구성품#품질'\n",
    "# ]\n",
    "# polarity_id_to_name = ['positive', 'negative', 'neutral']\n",
    "# tokenizer_tester = []\n",
    "# for pair in entity_property_pair:\n",
    "#     for polarity in polarity_id_to_name:\n",
    "#         tokenizer_tester.append('#'.join([pair, polarity]))\n",
    "# for e in tokenizer_tester:\n",
    "#     print(tokenizer.decode(tokenizer.encode(e)))\n",
    "# for e in tokenizer_tester:\n",
    "#     print(tokenizer.encode(e))"
   ]
  },
  {
   "cell_type": "markdown",
   "id": "2978d74c",
   "metadata": {
    "id": "V-EVcOAQ18dS",
    "papermill": {
     "duration": 0.014918,
     "end_time": "2022-10-26T10:40:55.173164",
     "exception": false,
     "start_time": "2022-10-26T10:40:55.158246",
     "status": "completed"
    },
    "tags": []
   },
   "source": [
    "# Define Metric"
   ]
  },
  {
   "cell_type": "code",
   "execution_count": 13,
   "id": "97466a44",
   "metadata": {
    "colab": {
     "base_uri": "https://localhost:8080/",
     "height": 81,
     "referenced_widgets": [
      "9a01945a9afe49a18a98c35b4cb99c8a",
      "f4a78200b20640f4928944c489daf7a7",
      "0032f06143bf468e90701a0ee56c9df1",
      "2a92b6399a3b4cfea7afcbe89ea6c1c8",
      "275c1bc29ce0431c919d30b0c4de4beb",
      "767206f5d9e04d099a2706442df3e2ca",
      "81ea513d9bbb4dffb926f175947642e9",
      "dc3f367d749440b1acd2f8cefe848c4e",
      "4cc2f55692264694a43389cc5385db8a",
      "b094395b8da34ff8a9c33fcded16377f",
      "1de70d714b014ec4bc1fa226ba66b64f",
      "76629b189eb648d3bc7ba0711e57bc66",
      "8d44dca2d0a24fb38dabcf4bd388323f",
      "89c0ae7377644daa8688ec9ede9f035a",
      "ae3f51735615420bbc92ad5dfb590263",
      "9714e67513334f8e868607422f7da2b9",
      "9237d2a901984102a5deb1c2528f1e10",
      "e9ef7c82807847eb8ff43b3f0303b7d5",
      "41e5cd9c231a46b5bfd8262b2b745cc6",
      "6dcdbf9f62004f9fb3141b1ca5dfddf0",
      "82ebe2dd5a624c418fdfe9dbc021d18d",
      "6ef978f43b214c58abfdf1155f475684"
     ]
    },
    "execution": {
     "iopub.execute_input": "2022-10-26T10:40:55.202945Z",
     "iopub.status.busy": "2022-10-26T10:40:55.202336Z",
     "iopub.status.idle": "2022-10-26T10:40:58.577607Z",
     "shell.execute_reply": "2022-10-26T10:40:58.576456Z"
    },
    "executionInfo": {
     "elapsed": 1037,
     "status": "ok",
     "timestamp": 1666258958492,
     "user": {
      "displayName": "Jeonghyeon Park",
      "userId": "12513544746873038725"
     },
     "user_tz": -540
    },
    "id": "qtEXOy22Gz8l",
    "outputId": "ec55c208-3acd-457e-f052-32644f1ffe7a",
    "papermill": {
     "duration": 3.392722,
     "end_time": "2022-10-26T10:40:58.579968",
     "exception": false,
     "start_time": "2022-10-26T10:40:55.187246",
     "status": "completed"
    },
    "tags": []
   },
   "outputs": [],
   "source": [
    "accuracy_metric = evaluate.load('accuracy')\n",
    "f1_metric = evaluate.load('f1')"
   ]
  },
  {
   "cell_type": "code",
   "execution_count": 14,
   "id": "6c154d69",
   "metadata": {
    "execution": {
     "iopub.execute_input": "2022-10-26T10:40:58.612660Z",
     "iopub.status.busy": "2022-10-26T10:40:58.612051Z",
     "iopub.status.idle": "2022-10-26T10:40:58.621403Z",
     "shell.execute_reply": "2022-10-26T10:40:58.620410Z"
    },
    "executionInfo": {
     "elapsed": 5,
     "status": "ok",
     "timestamp": 1666258958492,
     "user": {
      "displayName": "Jeonghyeon Park",
      "userId": "12513544746873038725"
     },
     "user_tz": -540
    },
    "id": "1d61JHiLEadB",
    "papermill": {
     "duration": 0.027031,
     "end_time": "2022-10-26T10:40:58.622827",
     "exception": false,
     "start_time": "2022-10-26T10:40:58.595796",
     "status": "completed"
    },
    "tags": []
   },
   "outputs": [],
   "source": [
    "def compute_metrics(eval_pred):\n",
    "    predictions, labels = eval_pred\n",
    "    predictions = np.argmax(predictions, axis=1)\n",
    "    \n",
    "    accuracy = accuracy_metric.compute(references=labels, predictions=predictions)['accuracy']\n",
    "    f1_true, f1_false = tuple(f1_metric.compute(references=labels, predictions=predictions, average=None, labels=[0,1])['f1'])\n",
    "    f1_macro = f1_metric.compute(references=labels, predictions=predictions, average='macro')['f1']\n",
    "    f1_micro = f1_metric.compute(references=labels, predictions=predictions, average='micro')['f1']\n",
    "    \n",
    "    return {'accuracy': accuracy, 'f1_true': f1_true, 'f1_false': f1_false, 'f1_macro': f1_macro, 'f1_micro': f1_micro}"
   ]
  },
  {
   "cell_type": "markdown",
   "id": "c601dbd5",
   "metadata": {
    "id": "EBp5WFGR2JRb",
    "papermill": {
     "duration": 0.01339,
     "end_time": "2022-10-26T10:40:58.649885",
     "exception": false,
     "start_time": "2022-10-26T10:40:58.636495",
     "status": "completed"
    },
    "tags": []
   },
   "source": [
    "# Load Data"
   ]
  },
  {
   "cell_type": "code",
   "execution_count": 15,
   "id": "58cc8380",
   "metadata": {
    "execution": {
     "iopub.execute_input": "2022-10-26T10:40:58.677680Z",
     "iopub.status.busy": "2022-10-26T10:40:58.676875Z",
     "iopub.status.idle": "2022-10-26T10:40:58.685313Z",
     "shell.execute_reply": "2022-10-26T10:40:58.684392Z"
    },
    "executionInfo": {
     "elapsed": 6,
     "status": "ok",
     "timestamp": 1666258958493,
     "user": {
      "displayName": "Jeonghyeon Park",
      "userId": "12513544746873038725"
     },
     "user_tz": -540
    },
    "id": "ryHwmgr7B3Ze",
    "papermill": {
     "duration": 0.024065,
     "end_time": "2022-10-26T10:40:58.686709",
     "exception": false,
     "start_time": "2022-10-26T10:40:58.662644",
     "status": "completed"
    },
    "tags": []
   },
   "outputs": [],
   "source": [
    "def preprocess_function(examples):\n",
    "    return tokenizer(examples[\"form\"], examples[\"pair\"], truncation=True)"
   ]
  },
  {
   "cell_type": "code",
   "execution_count": 16,
   "id": "9f7b5fa0",
   "metadata": {
    "colab": {
     "base_uri": "https://localhost:8080/",
     "height": 81,
     "referenced_widgets": [
      "e91015e3fd4e4c48930293c31958c06b",
      "03a85f47681c41cdab9d75beee0fb78a",
      "04fe7e54680749478e8daec82decd3ee",
      "f76847602c9e4f8ba5141ccf966a8918",
      "c3f6df857dac4350a4c43b98e5b61e43",
      "5c02b9951c1946279cb36c6c8a4a50f4",
      "fbe16032b1b54aab84d7f1c3caf83201",
      "7d10259a18d54648a6c670a6722e82b5",
      "505a1235079e40cda60009ba1bcf31fe",
      "d4b8a3d633a346e1ad913a3f39ff7332",
      "df47dce258854a2cbfde89bd1b4333a3",
      "6d5bfc1c2ad541e38ef71c3b70faa6aa",
      "b46847cc57cb4d1686abedd7729f2276",
      "eefa541e2bce44f48d5d57921a5105a9",
      "6a576fba1fb14f2fab2cae599e01c9cb",
      "4652216b070746baa42a73d1dd6cec47",
      "d31b16ab5eeb4d3c8d842ec0a739524b",
      "0ad2f8531b5d4ab28f8cd8f9003f7f56",
      "7c9acc1b41de46debb3a27a4af31f6c1",
      "c7cce1948cf14099b8b760cf64db0733",
      "d70edc08493c42bba3d66945ad4da9ac",
      "f472a293ade641c9bff11ee3905e34ee"
     ]
    },
    "execution": {
     "iopub.execute_input": "2022-10-26T10:40:58.715299Z",
     "iopub.status.busy": "2022-10-26T10:40:58.714359Z",
     "iopub.status.idle": "2022-10-26T10:41:03.597283Z",
     "shell.execute_reply": "2022-10-26T10:41:03.596360Z"
    },
    "executionInfo": {
     "elapsed": 15291,
     "status": "ok",
     "timestamp": 1666258973779,
     "user": {
      "displayName": "Jeonghyeon Park",
      "userId": "12513544746873038725"
     },
     "user_tz": -540
    },
    "id": "lM9mxmKb2Nah",
    "outputId": "c048ff0a-1067-4143-88fb-a765c79f3cbc",
    "papermill": {
     "duration": 4.90029,
     "end_time": "2022-10-26T10:41:03.600132",
     "exception": false,
     "start_time": "2022-10-26T10:40:58.699842",
     "status": "completed"
    },
    "tags": []
   },
   "outputs": [
    {
     "name": "stderr",
     "output_type": "stream",
     "text": [
      "\r",
      "  0%|          | 0/8610 [00:00<?, ?ex/s]"
     ]
    },
    {
     "name": "stderr",
     "output_type": "stream",
     "text": [
      "\r",
      "  5%|▍         | 409/8610 [00:00<00:02, 4082.34ex/s]"
     ]
    },
    {
     "name": "stderr",
     "output_type": "stream",
     "text": [
      "\r",
      " 10%|▉         | 834/8610 [00:00<00:01, 4177.39ex/s]"
     ]
    },
    {
     "name": "stderr",
     "output_type": "stream",
     "text": [
      "\r",
      " 15%|█▍        | 1252/8610 [00:00<00:03, 1966.03ex/s]"
     ]
    },
    {
     "name": "stderr",
     "output_type": "stream",
     "text": [
      "\r",
      " 19%|█▉        | 1632/8610 [00:00<00:02, 2396.28ex/s]"
     ]
    },
    {
     "name": "stderr",
     "output_type": "stream",
     "text": [
      "\r",
      " 23%|██▎       | 2000/8610 [00:00<00:02, 2607.69ex/s]"
     ]
    },
    {
     "name": "stderr",
     "output_type": "stream",
     "text": [
      "\r",
      " 28%|██▊       | 2429/8610 [00:00<00:02, 3036.29ex/s]"
     ]
    },
    {
     "name": "stderr",
     "output_type": "stream",
     "text": [
      "\r",
      " 33%|███▎      | 2868/8610 [00:00<00:01, 3397.98ex/s]"
     ]
    },
    {
     "name": "stderr",
     "output_type": "stream",
     "text": [
      "\r",
      " 38%|███▊      | 3251/8610 [00:01<00:01, 3384.83ex/s]"
     ]
    },
    {
     "name": "stderr",
     "output_type": "stream",
     "text": [
      "\r",
      " 42%|████▏     | 3659/8610 [00:01<00:01, 3575.75ex/s]"
     ]
    },
    {
     "name": "stderr",
     "output_type": "stream",
     "text": [
      "\r",
      " 47%|████▋     | 4040/8610 [00:01<00:01, 3443.72ex/s]"
     ]
    },
    {
     "name": "stderr",
     "output_type": "stream",
     "text": [
      "\r",
      " 52%|█████▏    | 4440/8610 [00:01<00:01, 3596.20ex/s]"
     ]
    },
    {
     "name": "stderr",
     "output_type": "stream",
     "text": [
      "\r",
      " 57%|█████▋    | 4874/8610 [00:01<00:00, 3805.05ex/s]"
     ]
    },
    {
     "name": "stderr",
     "output_type": "stream",
     "text": [
      "\r",
      " 61%|██████    | 5266/8610 [00:01<00:00, 3740.04ex/s]"
     ]
    },
    {
     "name": "stderr",
     "output_type": "stream",
     "text": [
      "\r",
      " 66%|██████▌   | 5700/8610 [00:01<00:00, 3910.71ex/s]"
     ]
    },
    {
     "name": "stderr",
     "output_type": "stream",
     "text": [
      "\r",
      " 71%|███████   | 6098/8610 [00:01<00:00, 3767.64ex/s]"
     ]
    },
    {
     "name": "stderr",
     "output_type": "stream",
     "text": [
      "\r",
      " 76%|███████▌  | 6522/8610 [00:01<00:00, 3900.32ex/s]"
     ]
    },
    {
     "name": "stderr",
     "output_type": "stream",
     "text": [
      "\r",
      " 81%|████████  | 6935/8610 [00:02<00:00, 3966.36ex/s]"
     ]
    },
    {
     "name": "stderr",
     "output_type": "stream",
     "text": [
      "\r",
      " 85%|████████▌ | 7335/8610 [00:02<00:00, 3670.55ex/s]"
     ]
    },
    {
     "name": "stderr",
     "output_type": "stream",
     "text": [
      "\r",
      " 90%|█████████ | 7766/8610 [00:02<00:00, 3847.45ex/s]"
     ]
    },
    {
     "name": "stderr",
     "output_type": "stream",
     "text": [
      "\r",
      " 95%|█████████▍| 8157/8610 [00:02<00:00, 3773.52ex/s]"
     ]
    },
    {
     "name": "stderr",
     "output_type": "stream",
     "text": [
      "\r",
      " 99%|█████████▉| 8539/8610 [00:02<00:00, 3756.31ex/s]"
     ]
    },
    {
     "name": "stderr",
     "output_type": "stream",
     "text": [
      "\r",
      "100%|██████████| 8610/8610 [00:02<00:00, 3468.51ex/s]"
     ]
    },
    {
     "name": "stderr",
     "output_type": "stream",
     "text": [
      "\n"
     ]
    },
    {
     "name": "stderr",
     "output_type": "stream",
     "text": [
      "\r",
      "  0%|          | 0/8418 [00:00<?, ?ex/s]"
     ]
    },
    {
     "name": "stderr",
     "output_type": "stream",
     "text": [
      "\r",
      "  5%|▍         | 399/8418 [00:00<00:02, 3982.31ex/s]"
     ]
    },
    {
     "name": "stderr",
     "output_type": "stream",
     "text": [
      "\r",
      "  9%|▉         | 798/8418 [00:00<00:01, 3896.35ex/s]"
     ]
    },
    {
     "name": "stderr",
     "output_type": "stream",
     "text": [
      "\r",
      " 14%|█▍        | 1188/8418 [00:00<00:02, 3550.70ex/s]"
     ]
    },
    {
     "name": "stderr",
     "output_type": "stream",
     "text": [
      "\r",
      " 19%|█▊        | 1567/8418 [00:00<00:01, 3638.01ex/s]"
     ]
    },
    {
     "name": "stderr",
     "output_type": "stream",
     "text": [
      "\r",
      " 24%|██▎       | 1980/8418 [00:00<00:01, 3805.60ex/s]"
     ]
    },
    {
     "name": "stderr",
     "output_type": "stream",
     "text": [
      "\r",
      " 28%|██▊       | 2363/8418 [00:00<00:01, 3671.26ex/s]"
     ]
    },
    {
     "name": "stderr",
     "output_type": "stream",
     "text": [
      "\r",
      " 33%|███▎      | 2783/8418 [00:00<00:01, 3835.83ex/s]"
     ]
    },
    {
     "name": "stderr",
     "output_type": "stream",
     "text": [
      "\r",
      " 38%|███▊      | 3169/8418 [00:00<00:01, 3668.49ex/s]"
     ]
    },
    {
     "name": "stderr",
     "output_type": "stream",
     "text": [
      "\r",
      " 42%|████▏     | 3550/8418 [00:00<00:01, 3708.97ex/s]"
     ]
    },
    {
     "name": "stderr",
     "output_type": "stream",
     "text": [
      "\r",
      " 47%|████▋     | 3956/8418 [00:01<00:01, 3812.01ex/s]"
     ]
    },
    {
     "name": "stderr",
     "output_type": "stream",
     "text": [
      "\r",
      " 52%|█████▏    | 4339/8418 [00:01<00:01, 3752.67ex/s]"
     ]
    },
    {
     "name": "stderr",
     "output_type": "stream",
     "text": [
      "\r",
      " 57%|█████▋    | 4788/8418 [00:01<00:00, 3968.01ex/s]"
     ]
    },
    {
     "name": "stderr",
     "output_type": "stream",
     "text": [
      "\r",
      " 62%|██████▏   | 5187/8418 [00:01<00:00, 3707.38ex/s]"
     ]
    },
    {
     "name": "stderr",
     "output_type": "stream",
     "text": [
      "\r",
      " 67%|██████▋   | 5613/8418 [00:01<00:00, 3862.82ex/s]"
     ]
    },
    {
     "name": "stderr",
     "output_type": "stream",
     "text": [
      "\r",
      " 71%|███████▏  | 6004/8418 [00:01<00:00, 3669.16ex/s]"
     ]
    },
    {
     "name": "stderr",
     "output_type": "stream",
     "text": [
      "\r",
      " 76%|███████▋  | 6422/8418 [00:01<00:00, 3810.08ex/s]"
     ]
    },
    {
     "name": "stderr",
     "output_type": "stream",
     "text": [
      "\r",
      " 82%|████████▏ | 6876/8418 [00:01<00:00, 4015.43ex/s]"
     ]
    },
    {
     "name": "stderr",
     "output_type": "stream",
     "text": [
      "\r",
      " 87%|████████▋ | 7282/8418 [00:01<00:00, 3894.34ex/s]"
     ]
    },
    {
     "name": "stderr",
     "output_type": "stream",
     "text": [
      "\r",
      " 91%|█████████▏| 7695/8418 [00:02<00:00, 3959.84ex/s]"
     ]
    },
    {
     "name": "stderr",
     "output_type": "stream",
     "text": [
      "\r",
      " 96%|█████████▌| 8094/8418 [00:02<00:00, 3720.84ex/s]"
     ]
    },
    {
     "name": "stderr",
     "output_type": "stream",
     "text": [
      "\r",
      "100%|██████████| 8418/8418 [00:02<00:00, 3792.92ex/s]"
     ]
    },
    {
     "name": "stderr",
     "output_type": "stream",
     "text": [
      "\n"
     ]
    }
   ],
   "source": [
    "train_dataset = pd.read_csv(TRAIN_DATA_PATH)\n",
    "eval_dataset = pd.read_csv(EVAL_DATA_PATH)\n",
    "# train_dataset = pd.concat([train_dataset, eval_dataset])\n",
    "train_dataset = datasets.Dataset.from_pandas(train_dataset) #.shuffle(seed=42)\n",
    "eval_dataset = datasets.Dataset.from_pandas(eval_dataset) #.shuffle(seed=42)\n",
    "train_dataset = train_dataset.map(preprocess_function, batched=False)\n",
    "eval_dataset = eval_dataset.map(preprocess_function, batched=False)"
   ]
  },
  {
   "cell_type": "code",
   "execution_count": 17,
   "id": "aa9d2778",
   "metadata": {
    "colab": {
     "base_uri": "https://localhost:8080/"
    },
    "execution": {
     "iopub.execute_input": "2022-10-26T10:41:03.661271Z",
     "iopub.status.busy": "2022-10-26T10:41:03.660586Z",
     "iopub.status.idle": "2022-10-26T10:41:03.669286Z",
     "shell.execute_reply": "2022-10-26T10:41:03.668377Z"
    },
    "executionInfo": {
     "elapsed": 19,
     "status": "ok",
     "timestamp": 1666258973781,
     "user": {
      "displayName": "Jeonghyeon Park",
      "userId": "12513544746873038725"
     },
     "user_tz": -540
    },
    "id": "YUaaH_gi7UFe",
    "outputId": "a481e242-25ea-461f-b54e-3c6372ae7421",
    "papermill": {
     "duration": 0.037476,
     "end_time": "2022-10-26T10:41:03.671163",
     "exception": false,
     "start_time": "2022-10-26T10:41:03.633687",
     "status": "completed"
    },
    "tags": []
   },
   "outputs": [
    {
     "data": {
      "text/plain": [
       "(8610, 8418)"
      ]
     },
     "execution_count": 17,
     "metadata": {},
     "output_type": "execute_result"
    }
   ],
   "source": [
    "len(train_dataset), len(eval_dataset)"
   ]
  },
  {
   "cell_type": "code",
   "execution_count": 18,
   "id": "198c0826",
   "metadata": {
    "colab": {
     "base_uri": "https://localhost:8080/"
    },
    "execution": {
     "iopub.execute_input": "2022-10-26T10:41:03.708248Z",
     "iopub.status.busy": "2022-10-26T10:41:03.707328Z",
     "iopub.status.idle": "2022-10-26T10:41:03.913555Z",
     "shell.execute_reply": "2022-10-26T10:41:03.912359Z"
    },
    "executionInfo": {
     "elapsed": 18,
     "status": "ok",
     "timestamp": 1666258973782,
     "user": {
      "displayName": "Jeonghyeon Park",
      "userId": "12513544746873038725"
     },
     "user_tz": -540
    },
    "id": "AW4V6ZVKdMRP",
    "outputId": "9a4ad945-bfaa-49d1-93db-3a62b359a6a2",
    "papermill": {
     "duration": 0.226678,
     "end_time": "2022-10-26T10:41:03.915368",
     "exception": false,
     "start_time": "2022-10-26T10:41:03.688690",
     "status": "completed"
    },
    "tags": []
   },
   "outputs": [
    {
     "name": "stdout",
     "output_type": "stream",
     "text": [
      "[CLS] 실크같이 보들보들 매끈한 피부결이 돼요! [SEP] 본품 # 품질 # negative [SEP] 1\n",
      "[CLS] 일랑일랑 & 자스민향이 너무도 좋아서 머리감는시간이 너무 즐겁네요 [SEP] 본품 # 일반 # positive [SEP] 0\n"
     ]
    }
   ],
   "source": [
    "k = random.randrange(len(train_dataset))\n",
    "print(tokenizer.decode(train_dataset['input_ids'][k]), train_dataset['labels'][k])\n",
    "k = random.randrange(len(eval_dataset))\n",
    "print(tokenizer.decode(eval_dataset['input_ids'][k]), eval_dataset['labels'][k])"
   ]
  },
  {
   "cell_type": "markdown",
   "id": "2ac75291",
   "metadata": {
    "id": "admrPVvW1_Q_",
    "papermill": {
     "duration": 0.015935,
     "end_time": "2022-10-26T10:41:03.947447",
     "exception": false,
     "start_time": "2022-10-26T10:41:03.931512",
     "status": "completed"
    },
    "tags": []
   },
   "source": [
    "# Load Trainer"
   ]
  },
  {
   "cell_type": "code",
   "execution_count": 19,
   "id": "157bf3d3",
   "metadata": {
    "execution": {
     "iopub.execute_input": "2022-10-26T10:41:03.982541Z",
     "iopub.status.busy": "2022-10-26T10:41:03.981335Z",
     "iopub.status.idle": "2022-10-26T10:41:03.997503Z",
     "shell.execute_reply": "2022-10-26T10:41:03.996370Z"
    },
    "executionInfo": {
     "elapsed": 15,
     "status": "ok",
     "timestamp": 1666258973782,
     "user": {
      "displayName": "Jeonghyeon Park",
      "userId": "12513544746873038725"
     },
     "user_tz": -540
    },
    "id": "B0b4moolsNWK",
    "papermill": {
     "duration": 0.036498,
     "end_time": "2022-10-26T10:41:03.999572",
     "exception": false,
     "start_time": "2022-10-26T10:41:03.963074",
     "status": "completed"
    },
    "tags": []
   },
   "outputs": [],
   "source": [
    "args = TrainingArguments(\n",
    "    output_dir=run_name,\n",
    "    run_name=run_name,\n",
    "    report_to=report_to,\n",
    "\n",
    "    num_train_epochs=num_train_epochs,\n",
    "    per_device_train_batch_size=batch_size,\n",
    "    per_device_eval_batch_size=batch_size,\n",
    "    gradient_accumulation_steps=gradient_accumulation_steps,\n",
    "\n",
    "    optim=optim,\n",
    "\n",
    "    learning_rate=learning_rate,\n",
    "    weight_decay=weight_decay,\n",
    "    adam_epsilon=adam_epsilon,\n",
    "\n",
    "    lr_scheduler_type=lr_scheduler_type,\n",
    "    warmup_ratio=warmup_ratio,\n",
    "\n",
    "    save_total_limit=save_total_limit,\n",
    "\n",
    "    load_best_model_at_end=load_best_model_at_end,\n",
    "    metric_for_best_model=metric_for_best_model,\n",
    "    \n",
    "    save_strategy=save_strategy,\n",
    "    evaluation_strategy=evaluation_strategy,\n",
    "\n",
    "    logging_strategy=logging_strategy,\n",
    "    logging_first_step=logging_first_step, \n",
    "    logging_steps=logging_steps,\n",
    "    \n",
    "    fp16=fp16,\n",
    ")"
   ]
  },
  {
   "cell_type": "code",
   "execution_count": 20,
   "id": "e9aa7b92",
   "metadata": {
    "execution": {
     "iopub.execute_input": "2022-10-26T10:41:04.035522Z",
     "iopub.status.busy": "2022-10-26T10:41:04.034391Z",
     "iopub.status.idle": "2022-10-26T10:41:04.041500Z",
     "shell.execute_reply": "2022-10-26T10:41:04.040374Z"
    },
    "executionInfo": {
     "elapsed": 15,
     "status": "ok",
     "timestamp": 1666258973782,
     "user": {
      "displayName": "Jeonghyeon Park",
      "userId": "12513544746873038725"
     },
     "user_tz": -540
    },
    "id": "w1aRCCDR9kVb",
    "papermill": {
     "duration": 0.027554,
     "end_time": "2022-10-26T10:41:04.043398",
     "exception": false,
     "start_time": "2022-10-26T10:41:04.015844",
     "status": "completed"
    },
    "tags": []
   },
   "outputs": [],
   "source": [
    "# es = EarlyStoppingCallback(early_stopping_patience=early_stopping_patience)"
   ]
  },
  {
   "cell_type": "code",
   "execution_count": 21,
   "id": "e5413ce0",
   "metadata": {
    "execution": {
     "iopub.execute_input": "2022-10-26T10:41:04.078798Z",
     "iopub.status.busy": "2022-10-26T10:41:04.078472Z",
     "iopub.status.idle": "2022-10-26T10:41:06.765317Z",
     "shell.execute_reply": "2022-10-26T10:41:06.764373Z"
    },
    "executionInfo": {
     "elapsed": 4423,
     "status": "ok",
     "timestamp": 1666258978191,
     "user": {
      "displayName": "Jeonghyeon Park",
      "userId": "12513544746873038725"
     },
     "user_tz": -540
    },
    "id": "pwe87xkaMEK6",
    "papermill": {
     "duration": 2.708187,
     "end_time": "2022-10-26T10:41:06.768398",
     "exception": false,
     "start_time": "2022-10-26T10:41:04.060211",
     "status": "completed"
    },
    "tags": []
   },
   "outputs": [],
   "source": [
    "trainer = Trainer(\n",
    "    model,\n",
    "    args,\n",
    "    train_dataset=train_dataset,\n",
    "    eval_dataset=eval_dataset,\n",
    "    tokenizer=tokenizer,\n",
    "    compute_metrics=compute_metrics,\n",
    "    data_collator=data_collator,\n",
    "    # callbacks=[es],\n",
    ")"
   ]
  },
  {
   "cell_type": "markdown",
   "id": "1bc78931",
   "metadata": {
    "id": "9KNsbWs72BoC",
    "papermill": {
     "duration": 0.016611,
     "end_time": "2022-10-26T10:41:06.806156",
     "exception": false,
     "start_time": "2022-10-26T10:41:06.789545",
     "status": "completed"
    },
    "tags": []
   },
   "source": [
    "# Run Trainer"
   ]
  },
  {
   "cell_type": "code",
   "execution_count": 22,
   "id": "b95cf47b",
   "metadata": {
    "colab": {
     "base_uri": "https://localhost:8080/",
     "height": 349
    },
    "execution": {
     "iopub.execute_input": "2022-10-26T10:41:06.841728Z",
     "iopub.status.busy": "2022-10-26T10:41:06.841027Z",
     "iopub.status.idle": "2022-10-26T12:26:00.653553Z",
     "shell.execute_reply": "2022-10-26T12:26:00.652396Z"
    },
    "id": "tyN8PA8tMFsU",
    "outputId": "43105a1e-799b-4e6f-f03b-713148df5ce7",
    "papermill": {
     "duration": 6293.833356,
     "end_time": "2022-10-26T12:26:00.656243",
     "exception": false,
     "start_time": "2022-10-26T10:41:06.822887",
     "status": "completed"
    },
    "tags": []
   },
   "outputs": [
    {
     "name": "stderr",
     "output_type": "stream",
     "text": [
      "The following columns in the training set don't have a corresponding argument in `ElectraForSequenceClassification.forward` and have been ignored: id, pair, form. If id, pair, form are not expected by `ElectraForSequenceClassification.forward`,  you can safely ignore this message.\n"
     ]
    },
    {
     "name": "stderr",
     "output_type": "stream",
     "text": [
      "***** Running training *****\n"
     ]
    },
    {
     "name": "stderr",
     "output_type": "stream",
     "text": [
      "  Num examples = 8610\n"
     ]
    },
    {
     "name": "stderr",
     "output_type": "stream",
     "text": [
      "  Num Epochs = 10\n"
     ]
    },
    {
     "name": "stderr",
     "output_type": "stream",
     "text": [
      "  Instantaneous batch size per device = 3\n"
     ]
    },
    {
     "name": "stderr",
     "output_type": "stream",
     "text": [
      "  Total train batch size (w. parallel, distributed & accumulation) = 12\n"
     ]
    },
    {
     "name": "stderr",
     "output_type": "stream",
     "text": [
      "  Gradient Accumulation steps = 1\n"
     ]
    },
    {
     "name": "stderr",
     "output_type": "stream",
     "text": [
      "  Total optimization steps = 7180\n"
     ]
    },
    {
     "name": "stderr",
     "output_type": "stream",
     "text": [
      "Automatic Weights & Biases logging enabled, to disable set os.environ[\"WANDB_DISABLED\"] = \"true\"\n"
     ]
    },
    {
     "data": {
      "text/html": [
       "Tracking run with wandb version 0.13.4"
      ],
      "text/plain": [
       "<IPython.core.display.HTML object>"
      ]
     },
     "metadata": {},
     "output_type": "display_data"
    },
    {
     "data": {
      "text/html": [
       "Run data is saved locally in <code>/home/ubuntu/jongmin/Jeonghyeon/codes/absa/wandb/run-20221026_194106-3g5q04rb</code>"
      ],
      "text/plain": [
       "<IPython.core.display.HTML object>"
      ]
     },
     "metadata": {},
     "output_type": "display_data"
    },
    {
     "data": {
      "text/html": [
       "Syncing run <strong><a href=\"https://wandb.ai/dotsnangles/aspect_sentiment_classification_binary/runs/3g5q04rb\" target=\"_blank\">snunlp_kr_electra_discriminator_uncleaned_v4</a></strong> to <a href=\"https://wandb.ai/dotsnangles/aspect_sentiment_classification_binary\" target=\"_blank\">Weights & Biases</a> (<a href=\"https://wandb.me/run\" target=\"_blank\">docs</a>)<br/>"
      ],
      "text/plain": [
       "<IPython.core.display.HTML object>"
      ]
     },
     "metadata": {},
     "output_type": "display_data"
    },
    {
     "name": "stderr",
     "output_type": "stream",
     "text": [
      "You're using a ElectraTokenizerFast tokenizer. Please note that with a fast tokenizer, using the `__call__` method is faster than using a method to encode the text followed by a call to the `pad` method to get a padded encoding.\n"
     ]
    },
    {
     "name": "stderr",
     "output_type": "stream",
     "text": [
      "/home/ubuntu/anaconda3/envs/jeonghyeon/lib/python3.10/site-packages/torch/nn/parallel/_functions.py:68: UserWarning: Was asked to gather along dimension 0, but all input tensors were scalars; will instead unsqueeze and return a vector.\n",
      "  warnings.warn('Was asked to gather along dimension 0, but all '\n"
     ]
    },
    {
     "data": {
      "text/html": [
       "\n",
       "    <div>\n",
       "      \n",
       "      <progress value='7180' max='7180' style='width:300px; height:20px; vertical-align: middle;'></progress>\n",
       "      [7180/7180 1:44:17, Epoch 10/10]\n",
       "    </div>\n",
       "    <table border=\"1\" class=\"dataframe\">\n",
       "  <thead>\n",
       " <tr style=\"text-align: left;\">\n",
       "      <th>Epoch</th>\n",
       "      <th>Training Loss</th>\n",
       "      <th>Validation Loss</th>\n",
       "      <th>Accuracy</th>\n",
       "      <th>F1 True</th>\n",
       "      <th>F1 False</th>\n",
       "      <th>F1 Macro</th>\n",
       "      <th>F1 Micro</th>\n",
       "    </tr>\n",
       "  </thead>\n",
       "  <tbody>\n",
       "    <tr>\n",
       "      <td>1</td>\n",
       "      <td>0.148100</td>\n",
       "      <td>0.002128</td>\n",
       "      <td>1.000000</td>\n",
       "      <td>1.000000</td>\n",
       "      <td>1.000000</td>\n",
       "      <td>1.000000</td>\n",
       "      <td>1.000000</td>\n",
       "    </tr>\n",
       "    <tr>\n",
       "      <td>2</td>\n",
       "      <td>0.004600</td>\n",
       "      <td>0.000558</td>\n",
       "      <td>1.000000</td>\n",
       "      <td>1.000000</td>\n",
       "      <td>1.000000</td>\n",
       "      <td>1.000000</td>\n",
       "      <td>1.000000</td>\n",
       "    </tr>\n",
       "    <tr>\n",
       "      <td>3</td>\n",
       "      <td>0.000900</td>\n",
       "      <td>0.000249</td>\n",
       "      <td>1.000000</td>\n",
       "      <td>1.000000</td>\n",
       "      <td>1.000000</td>\n",
       "      <td>1.000000</td>\n",
       "      <td>1.000000</td>\n",
       "    </tr>\n",
       "    <tr>\n",
       "      <td>4</td>\n",
       "      <td>0.000600</td>\n",
       "      <td>0.000141</td>\n",
       "      <td>1.000000</td>\n",
       "      <td>1.000000</td>\n",
       "      <td>1.000000</td>\n",
       "      <td>1.000000</td>\n",
       "      <td>1.000000</td>\n",
       "    </tr>\n",
       "    <tr>\n",
       "      <td>5</td>\n",
       "      <td>0.000300</td>\n",
       "      <td>0.000092</td>\n",
       "      <td>1.000000</td>\n",
       "      <td>1.000000</td>\n",
       "      <td>1.000000</td>\n",
       "      <td>1.000000</td>\n",
       "      <td>1.000000</td>\n",
       "    </tr>\n",
       "    <tr>\n",
       "      <td>6</td>\n",
       "      <td>0.000200</td>\n",
       "      <td>0.000066</td>\n",
       "      <td>1.000000</td>\n",
       "      <td>1.000000</td>\n",
       "      <td>1.000000</td>\n",
       "      <td>1.000000</td>\n",
       "      <td>1.000000</td>\n",
       "    </tr>\n",
       "    <tr>\n",
       "      <td>7</td>\n",
       "      <td>0.000100</td>\n",
       "      <td>0.000052</td>\n",
       "      <td>1.000000</td>\n",
       "      <td>1.000000</td>\n",
       "      <td>1.000000</td>\n",
       "      <td>1.000000</td>\n",
       "      <td>1.000000</td>\n",
       "    </tr>\n",
       "    <tr>\n",
       "      <td>8</td>\n",
       "      <td>0.000100</td>\n",
       "      <td>0.000045</td>\n",
       "      <td>1.000000</td>\n",
       "      <td>1.000000</td>\n",
       "      <td>1.000000</td>\n",
       "      <td>1.000000</td>\n",
       "      <td>1.000000</td>\n",
       "    </tr>\n",
       "    <tr>\n",
       "      <td>9</td>\n",
       "      <td>0.000100</td>\n",
       "      <td>0.000041</td>\n",
       "      <td>1.000000</td>\n",
       "      <td>1.000000</td>\n",
       "      <td>1.000000</td>\n",
       "      <td>1.000000</td>\n",
       "      <td>1.000000</td>\n",
       "    </tr>\n",
       "    <tr>\n",
       "      <td>10</td>\n",
       "      <td>0.000100</td>\n",
       "      <td>0.000041</td>\n",
       "      <td>1.000000</td>\n",
       "      <td>1.000000</td>\n",
       "      <td>1.000000</td>\n",
       "      <td>1.000000</td>\n",
       "      <td>1.000000</td>\n",
       "    </tr>\n",
       "  </tbody>\n",
       "</table><p>"
      ],
      "text/plain": [
       "<IPython.core.display.HTML object>"
      ]
     },
     "metadata": {},
     "output_type": "display_data"
    },
    {
     "name": "stderr",
     "output_type": "stream",
     "text": [
      "The following columns in the evaluation set don't have a corresponding argument in `ElectraForSequenceClassification.forward` and have been ignored: id, pair, form. If id, pair, form are not expected by `ElectraForSequenceClassification.forward`,  you can safely ignore this message.\n"
     ]
    },
    {
     "name": "stderr",
     "output_type": "stream",
     "text": [
      "***** Running Evaluation *****\n"
     ]
    },
    {
     "name": "stderr",
     "output_type": "stream",
     "text": [
      "  Num examples = 8418\n"
     ]
    },
    {
     "name": "stderr",
     "output_type": "stream",
     "text": [
      "  Batch size = 12\n"
     ]
    },
    {
     "name": "stderr",
     "output_type": "stream",
     "text": [
      "Saving model checkpoint to snunlp_kr_electra_discriminator_uncleaned_v4/checkpoint-718\n"
     ]
    },
    {
     "name": "stderr",
     "output_type": "stream",
     "text": [
      "Configuration saved in snunlp_kr_electra_discriminator_uncleaned_v4/checkpoint-718/config.json\n"
     ]
    },
    {
     "name": "stderr",
     "output_type": "stream",
     "text": [
      "Model weights saved in snunlp_kr_electra_discriminator_uncleaned_v4/checkpoint-718/pytorch_model.bin\n"
     ]
    },
    {
     "name": "stderr",
     "output_type": "stream",
     "text": [
      "tokenizer config file saved in snunlp_kr_electra_discriminator_uncleaned_v4/checkpoint-718/tokenizer_config.json\n"
     ]
    },
    {
     "name": "stderr",
     "output_type": "stream",
     "text": [
      "Special tokens file saved in snunlp_kr_electra_discriminator_uncleaned_v4/checkpoint-718/special_tokens_map.json\n"
     ]
    },
    {
     "name": "stderr",
     "output_type": "stream",
     "text": [
      "/home/ubuntu/anaconda3/envs/jeonghyeon/lib/python3.10/site-packages/torch/nn/parallel/_functions.py:68: UserWarning: Was asked to gather along dimension 0, but all input tensors were scalars; will instead unsqueeze and return a vector.\n",
      "  warnings.warn('Was asked to gather along dimension 0, but all '\n"
     ]
    },
    {
     "name": "stderr",
     "output_type": "stream",
     "text": [
      "The following columns in the evaluation set don't have a corresponding argument in `ElectraForSequenceClassification.forward` and have been ignored: id, pair, form. If id, pair, form are not expected by `ElectraForSequenceClassification.forward`,  you can safely ignore this message.\n"
     ]
    },
    {
     "name": "stderr",
     "output_type": "stream",
     "text": [
      "***** Running Evaluation *****\n"
     ]
    },
    {
     "name": "stderr",
     "output_type": "stream",
     "text": [
      "  Num examples = 8418\n"
     ]
    },
    {
     "name": "stderr",
     "output_type": "stream",
     "text": [
      "  Batch size = 12\n"
     ]
    },
    {
     "name": "stderr",
     "output_type": "stream",
     "text": [
      "Saving model checkpoint to snunlp_kr_electra_discriminator_uncleaned_v4/checkpoint-1436\n"
     ]
    },
    {
     "name": "stderr",
     "output_type": "stream",
     "text": [
      "Configuration saved in snunlp_kr_electra_discriminator_uncleaned_v4/checkpoint-1436/config.json\n"
     ]
    },
    {
     "name": "stderr",
     "output_type": "stream",
     "text": [
      "Model weights saved in snunlp_kr_electra_discriminator_uncleaned_v4/checkpoint-1436/pytorch_model.bin\n"
     ]
    },
    {
     "name": "stderr",
     "output_type": "stream",
     "text": [
      "tokenizer config file saved in snunlp_kr_electra_discriminator_uncleaned_v4/checkpoint-1436/tokenizer_config.json\n"
     ]
    },
    {
     "name": "stderr",
     "output_type": "stream",
     "text": [
      "Special tokens file saved in snunlp_kr_electra_discriminator_uncleaned_v4/checkpoint-1436/special_tokens_map.json\n"
     ]
    },
    {
     "name": "stderr",
     "output_type": "stream",
     "text": [
      "/home/ubuntu/anaconda3/envs/jeonghyeon/lib/python3.10/site-packages/torch/nn/parallel/_functions.py:68: UserWarning: Was asked to gather along dimension 0, but all input tensors were scalars; will instead unsqueeze and return a vector.\n",
      "  warnings.warn('Was asked to gather along dimension 0, but all '\n"
     ]
    },
    {
     "name": "stderr",
     "output_type": "stream",
     "text": [
      "The following columns in the evaluation set don't have a corresponding argument in `ElectraForSequenceClassification.forward` and have been ignored: id, pair, form. If id, pair, form are not expected by `ElectraForSequenceClassification.forward`,  you can safely ignore this message.\n"
     ]
    },
    {
     "name": "stderr",
     "output_type": "stream",
     "text": [
      "***** Running Evaluation *****\n"
     ]
    },
    {
     "name": "stderr",
     "output_type": "stream",
     "text": [
      "  Num examples = 8418\n"
     ]
    },
    {
     "name": "stderr",
     "output_type": "stream",
     "text": [
      "  Batch size = 12\n"
     ]
    },
    {
     "name": "stderr",
     "output_type": "stream",
     "text": [
      "Saving model checkpoint to snunlp_kr_electra_discriminator_uncleaned_v4/checkpoint-2154\n"
     ]
    },
    {
     "name": "stderr",
     "output_type": "stream",
     "text": [
      "Configuration saved in snunlp_kr_electra_discriminator_uncleaned_v4/checkpoint-2154/config.json\n"
     ]
    },
    {
     "name": "stderr",
     "output_type": "stream",
     "text": [
      "Model weights saved in snunlp_kr_electra_discriminator_uncleaned_v4/checkpoint-2154/pytorch_model.bin\n"
     ]
    },
    {
     "name": "stderr",
     "output_type": "stream",
     "text": [
      "tokenizer config file saved in snunlp_kr_electra_discriminator_uncleaned_v4/checkpoint-2154/tokenizer_config.json\n"
     ]
    },
    {
     "name": "stderr",
     "output_type": "stream",
     "text": [
      "Special tokens file saved in snunlp_kr_electra_discriminator_uncleaned_v4/checkpoint-2154/special_tokens_map.json\n"
     ]
    },
    {
     "name": "stderr",
     "output_type": "stream",
     "text": [
      "Deleting older checkpoint [snunlp_kr_electra_discriminator_uncleaned_v4/checkpoint-718] due to args.save_total_limit\n"
     ]
    },
    {
     "name": "stderr",
     "output_type": "stream",
     "text": [
      "/home/ubuntu/anaconda3/envs/jeonghyeon/lib/python3.10/site-packages/torch/nn/parallel/_functions.py:68: UserWarning: Was asked to gather along dimension 0, but all input tensors were scalars; will instead unsqueeze and return a vector.\n",
      "  warnings.warn('Was asked to gather along dimension 0, but all '\n"
     ]
    },
    {
     "name": "stderr",
     "output_type": "stream",
     "text": [
      "The following columns in the evaluation set don't have a corresponding argument in `ElectraForSequenceClassification.forward` and have been ignored: id, pair, form. If id, pair, form are not expected by `ElectraForSequenceClassification.forward`,  you can safely ignore this message.\n"
     ]
    },
    {
     "name": "stderr",
     "output_type": "stream",
     "text": [
      "***** Running Evaluation *****\n"
     ]
    },
    {
     "name": "stderr",
     "output_type": "stream",
     "text": [
      "  Num examples = 8418\n"
     ]
    },
    {
     "name": "stderr",
     "output_type": "stream",
     "text": [
      "  Batch size = 12\n"
     ]
    },
    {
     "name": "stderr",
     "output_type": "stream",
     "text": [
      "Saving model checkpoint to snunlp_kr_electra_discriminator_uncleaned_v4/checkpoint-2872\n"
     ]
    },
    {
     "name": "stderr",
     "output_type": "stream",
     "text": [
      "Configuration saved in snunlp_kr_electra_discriminator_uncleaned_v4/checkpoint-2872/config.json\n"
     ]
    },
    {
     "name": "stderr",
     "output_type": "stream",
     "text": [
      "Model weights saved in snunlp_kr_electra_discriminator_uncleaned_v4/checkpoint-2872/pytorch_model.bin\n"
     ]
    },
    {
     "name": "stderr",
     "output_type": "stream",
     "text": [
      "tokenizer config file saved in snunlp_kr_electra_discriminator_uncleaned_v4/checkpoint-2872/tokenizer_config.json\n"
     ]
    },
    {
     "name": "stderr",
     "output_type": "stream",
     "text": [
      "Special tokens file saved in snunlp_kr_electra_discriminator_uncleaned_v4/checkpoint-2872/special_tokens_map.json\n"
     ]
    },
    {
     "name": "stderr",
     "output_type": "stream",
     "text": [
      "Deleting older checkpoint [snunlp_kr_electra_discriminator_uncleaned_v4/checkpoint-1436] due to args.save_total_limit\n"
     ]
    },
    {
     "name": "stderr",
     "output_type": "stream",
     "text": [
      "/home/ubuntu/anaconda3/envs/jeonghyeon/lib/python3.10/site-packages/torch/nn/parallel/_functions.py:68: UserWarning: Was asked to gather along dimension 0, but all input tensors were scalars; will instead unsqueeze and return a vector.\n",
      "  warnings.warn('Was asked to gather along dimension 0, but all '\n"
     ]
    },
    {
     "name": "stderr",
     "output_type": "stream",
     "text": [
      "The following columns in the evaluation set don't have a corresponding argument in `ElectraForSequenceClassification.forward` and have been ignored: id, pair, form. If id, pair, form are not expected by `ElectraForSequenceClassification.forward`,  you can safely ignore this message.\n"
     ]
    },
    {
     "name": "stderr",
     "output_type": "stream",
     "text": [
      "***** Running Evaluation *****\n"
     ]
    },
    {
     "name": "stderr",
     "output_type": "stream",
     "text": [
      "  Num examples = 8418\n"
     ]
    },
    {
     "name": "stderr",
     "output_type": "stream",
     "text": [
      "  Batch size = 12\n"
     ]
    },
    {
     "name": "stderr",
     "output_type": "stream",
     "text": [
      "Saving model checkpoint to snunlp_kr_electra_discriminator_uncleaned_v4/checkpoint-3590\n"
     ]
    },
    {
     "name": "stderr",
     "output_type": "stream",
     "text": [
      "Configuration saved in snunlp_kr_electra_discriminator_uncleaned_v4/checkpoint-3590/config.json\n"
     ]
    },
    {
     "name": "stderr",
     "output_type": "stream",
     "text": [
      "Model weights saved in snunlp_kr_electra_discriminator_uncleaned_v4/checkpoint-3590/pytorch_model.bin\n"
     ]
    },
    {
     "name": "stderr",
     "output_type": "stream",
     "text": [
      "tokenizer config file saved in snunlp_kr_electra_discriminator_uncleaned_v4/checkpoint-3590/tokenizer_config.json\n"
     ]
    },
    {
     "name": "stderr",
     "output_type": "stream",
     "text": [
      "Special tokens file saved in snunlp_kr_electra_discriminator_uncleaned_v4/checkpoint-3590/special_tokens_map.json\n"
     ]
    },
    {
     "name": "stderr",
     "output_type": "stream",
     "text": [
      "Deleting older checkpoint [snunlp_kr_electra_discriminator_uncleaned_v4/checkpoint-2154] due to args.save_total_limit\n"
     ]
    },
    {
     "name": "stderr",
     "output_type": "stream",
     "text": [
      "/home/ubuntu/anaconda3/envs/jeonghyeon/lib/python3.10/site-packages/torch/nn/parallel/_functions.py:68: UserWarning: Was asked to gather along dimension 0, but all input tensors were scalars; will instead unsqueeze and return a vector.\n",
      "  warnings.warn('Was asked to gather along dimension 0, but all '\n"
     ]
    },
    {
     "name": "stderr",
     "output_type": "stream",
     "text": [
      "The following columns in the evaluation set don't have a corresponding argument in `ElectraForSequenceClassification.forward` and have been ignored: id, pair, form. If id, pair, form are not expected by `ElectraForSequenceClassification.forward`,  you can safely ignore this message.\n"
     ]
    },
    {
     "name": "stderr",
     "output_type": "stream",
     "text": [
      "***** Running Evaluation *****\n"
     ]
    },
    {
     "name": "stderr",
     "output_type": "stream",
     "text": [
      "  Num examples = 8418\n"
     ]
    },
    {
     "name": "stderr",
     "output_type": "stream",
     "text": [
      "  Batch size = 12\n"
     ]
    },
    {
     "name": "stderr",
     "output_type": "stream",
     "text": [
      "Saving model checkpoint to snunlp_kr_electra_discriminator_uncleaned_v4/checkpoint-4308\n"
     ]
    },
    {
     "name": "stderr",
     "output_type": "stream",
     "text": [
      "Configuration saved in snunlp_kr_electra_discriminator_uncleaned_v4/checkpoint-4308/config.json\n"
     ]
    },
    {
     "name": "stderr",
     "output_type": "stream",
     "text": [
      "Model weights saved in snunlp_kr_electra_discriminator_uncleaned_v4/checkpoint-4308/pytorch_model.bin\n"
     ]
    },
    {
     "name": "stderr",
     "output_type": "stream",
     "text": [
      "tokenizer config file saved in snunlp_kr_electra_discriminator_uncleaned_v4/checkpoint-4308/tokenizer_config.json\n"
     ]
    },
    {
     "name": "stderr",
     "output_type": "stream",
     "text": [
      "Special tokens file saved in snunlp_kr_electra_discriminator_uncleaned_v4/checkpoint-4308/special_tokens_map.json\n"
     ]
    },
    {
     "name": "stderr",
     "output_type": "stream",
     "text": [
      "Deleting older checkpoint [snunlp_kr_electra_discriminator_uncleaned_v4/checkpoint-2872] due to args.save_total_limit\n"
     ]
    },
    {
     "name": "stderr",
     "output_type": "stream",
     "text": [
      "/home/ubuntu/anaconda3/envs/jeonghyeon/lib/python3.10/site-packages/torch/nn/parallel/_functions.py:68: UserWarning: Was asked to gather along dimension 0, but all input tensors were scalars; will instead unsqueeze and return a vector.\n",
      "  warnings.warn('Was asked to gather along dimension 0, but all '\n"
     ]
    },
    {
     "name": "stderr",
     "output_type": "stream",
     "text": [
      "The following columns in the evaluation set don't have a corresponding argument in `ElectraForSequenceClassification.forward` and have been ignored: id, pair, form. If id, pair, form are not expected by `ElectraForSequenceClassification.forward`,  you can safely ignore this message.\n"
     ]
    },
    {
     "name": "stderr",
     "output_type": "stream",
     "text": [
      "***** Running Evaluation *****\n"
     ]
    },
    {
     "name": "stderr",
     "output_type": "stream",
     "text": [
      "  Num examples = 8418\n"
     ]
    },
    {
     "name": "stderr",
     "output_type": "stream",
     "text": [
      "  Batch size = 12\n"
     ]
    },
    {
     "name": "stderr",
     "output_type": "stream",
     "text": [
      "Saving model checkpoint to snunlp_kr_electra_discriminator_uncleaned_v4/checkpoint-5026\n"
     ]
    },
    {
     "name": "stderr",
     "output_type": "stream",
     "text": [
      "Configuration saved in snunlp_kr_electra_discriminator_uncleaned_v4/checkpoint-5026/config.json\n"
     ]
    },
    {
     "name": "stderr",
     "output_type": "stream",
     "text": [
      "Model weights saved in snunlp_kr_electra_discriminator_uncleaned_v4/checkpoint-5026/pytorch_model.bin\n"
     ]
    },
    {
     "name": "stderr",
     "output_type": "stream",
     "text": [
      "tokenizer config file saved in snunlp_kr_electra_discriminator_uncleaned_v4/checkpoint-5026/tokenizer_config.json\n"
     ]
    },
    {
     "name": "stderr",
     "output_type": "stream",
     "text": [
      "Special tokens file saved in snunlp_kr_electra_discriminator_uncleaned_v4/checkpoint-5026/special_tokens_map.json\n"
     ]
    },
    {
     "name": "stderr",
     "output_type": "stream",
     "text": [
      "Deleting older checkpoint [snunlp_kr_electra_discriminator_uncleaned_v4/checkpoint-3590] due to args.save_total_limit\n"
     ]
    },
    {
     "name": "stderr",
     "output_type": "stream",
     "text": [
      "/home/ubuntu/anaconda3/envs/jeonghyeon/lib/python3.10/site-packages/torch/nn/parallel/_functions.py:68: UserWarning: Was asked to gather along dimension 0, but all input tensors were scalars; will instead unsqueeze and return a vector.\n",
      "  warnings.warn('Was asked to gather along dimension 0, but all '\n"
     ]
    },
    {
     "name": "stderr",
     "output_type": "stream",
     "text": [
      "The following columns in the evaluation set don't have a corresponding argument in `ElectraForSequenceClassification.forward` and have been ignored: id, pair, form. If id, pair, form are not expected by `ElectraForSequenceClassification.forward`,  you can safely ignore this message.\n"
     ]
    },
    {
     "name": "stderr",
     "output_type": "stream",
     "text": [
      "***** Running Evaluation *****\n"
     ]
    },
    {
     "name": "stderr",
     "output_type": "stream",
     "text": [
      "  Num examples = 8418\n"
     ]
    },
    {
     "name": "stderr",
     "output_type": "stream",
     "text": [
      "  Batch size = 12\n"
     ]
    },
    {
     "name": "stderr",
     "output_type": "stream",
     "text": [
      "Saving model checkpoint to snunlp_kr_electra_discriminator_uncleaned_v4/checkpoint-5744\n"
     ]
    },
    {
     "name": "stderr",
     "output_type": "stream",
     "text": [
      "Configuration saved in snunlp_kr_electra_discriminator_uncleaned_v4/checkpoint-5744/config.json\n"
     ]
    },
    {
     "name": "stderr",
     "output_type": "stream",
     "text": [
      "Model weights saved in snunlp_kr_electra_discriminator_uncleaned_v4/checkpoint-5744/pytorch_model.bin\n"
     ]
    },
    {
     "name": "stderr",
     "output_type": "stream",
     "text": [
      "tokenizer config file saved in snunlp_kr_electra_discriminator_uncleaned_v4/checkpoint-5744/tokenizer_config.json\n"
     ]
    },
    {
     "name": "stderr",
     "output_type": "stream",
     "text": [
      "Special tokens file saved in snunlp_kr_electra_discriminator_uncleaned_v4/checkpoint-5744/special_tokens_map.json\n"
     ]
    },
    {
     "name": "stderr",
     "output_type": "stream",
     "text": [
      "Deleting older checkpoint [snunlp_kr_electra_discriminator_uncleaned_v4/checkpoint-4308] due to args.save_total_limit\n"
     ]
    },
    {
     "name": "stderr",
     "output_type": "stream",
     "text": [
      "/home/ubuntu/anaconda3/envs/jeonghyeon/lib/python3.10/site-packages/torch/nn/parallel/_functions.py:68: UserWarning: Was asked to gather along dimension 0, but all input tensors were scalars; will instead unsqueeze and return a vector.\n",
      "  warnings.warn('Was asked to gather along dimension 0, but all '\n"
     ]
    },
    {
     "name": "stderr",
     "output_type": "stream",
     "text": [
      "The following columns in the evaluation set don't have a corresponding argument in `ElectraForSequenceClassification.forward` and have been ignored: id, pair, form. If id, pair, form are not expected by `ElectraForSequenceClassification.forward`,  you can safely ignore this message.\n"
     ]
    },
    {
     "name": "stderr",
     "output_type": "stream",
     "text": [
      "***** Running Evaluation *****\n"
     ]
    },
    {
     "name": "stderr",
     "output_type": "stream",
     "text": [
      "  Num examples = 8418\n"
     ]
    },
    {
     "name": "stderr",
     "output_type": "stream",
     "text": [
      "  Batch size = 12\n"
     ]
    },
    {
     "name": "stderr",
     "output_type": "stream",
     "text": [
      "Saving model checkpoint to snunlp_kr_electra_discriminator_uncleaned_v4/checkpoint-6462\n"
     ]
    },
    {
     "name": "stderr",
     "output_type": "stream",
     "text": [
      "Configuration saved in snunlp_kr_electra_discriminator_uncleaned_v4/checkpoint-6462/config.json\n"
     ]
    },
    {
     "name": "stderr",
     "output_type": "stream",
     "text": [
      "Model weights saved in snunlp_kr_electra_discriminator_uncleaned_v4/checkpoint-6462/pytorch_model.bin\n"
     ]
    },
    {
     "name": "stderr",
     "output_type": "stream",
     "text": [
      "tokenizer config file saved in snunlp_kr_electra_discriminator_uncleaned_v4/checkpoint-6462/tokenizer_config.json\n"
     ]
    },
    {
     "name": "stderr",
     "output_type": "stream",
     "text": [
      "Special tokens file saved in snunlp_kr_electra_discriminator_uncleaned_v4/checkpoint-6462/special_tokens_map.json\n"
     ]
    },
    {
     "name": "stderr",
     "output_type": "stream",
     "text": [
      "Deleting older checkpoint [snunlp_kr_electra_discriminator_uncleaned_v4/checkpoint-5026] due to args.save_total_limit\n"
     ]
    },
    {
     "name": "stderr",
     "output_type": "stream",
     "text": [
      "/home/ubuntu/anaconda3/envs/jeonghyeon/lib/python3.10/site-packages/torch/nn/parallel/_functions.py:68: UserWarning: Was asked to gather along dimension 0, but all input tensors were scalars; will instead unsqueeze and return a vector.\n",
      "  warnings.warn('Was asked to gather along dimension 0, but all '\n"
     ]
    },
    {
     "name": "stderr",
     "output_type": "stream",
     "text": [
      "The following columns in the evaluation set don't have a corresponding argument in `ElectraForSequenceClassification.forward` and have been ignored: id, pair, form. If id, pair, form are not expected by `ElectraForSequenceClassification.forward`,  you can safely ignore this message.\n"
     ]
    },
    {
     "name": "stderr",
     "output_type": "stream",
     "text": [
      "***** Running Evaluation *****\n"
     ]
    },
    {
     "name": "stderr",
     "output_type": "stream",
     "text": [
      "  Num examples = 8418\n"
     ]
    },
    {
     "name": "stderr",
     "output_type": "stream",
     "text": [
      "  Batch size = 12\n"
     ]
    },
    {
     "name": "stderr",
     "output_type": "stream",
     "text": [
      "Saving model checkpoint to snunlp_kr_electra_discriminator_uncleaned_v4/checkpoint-7180\n"
     ]
    },
    {
     "name": "stderr",
     "output_type": "stream",
     "text": [
      "Configuration saved in snunlp_kr_electra_discriminator_uncleaned_v4/checkpoint-7180/config.json\n"
     ]
    },
    {
     "name": "stderr",
     "output_type": "stream",
     "text": [
      "Model weights saved in snunlp_kr_electra_discriminator_uncleaned_v4/checkpoint-7180/pytorch_model.bin\n"
     ]
    },
    {
     "name": "stderr",
     "output_type": "stream",
     "text": [
      "tokenizer config file saved in snunlp_kr_electra_discriminator_uncleaned_v4/checkpoint-7180/tokenizer_config.json\n"
     ]
    },
    {
     "name": "stderr",
     "output_type": "stream",
     "text": [
      "Special tokens file saved in snunlp_kr_electra_discriminator_uncleaned_v4/checkpoint-7180/special_tokens_map.json\n"
     ]
    },
    {
     "name": "stderr",
     "output_type": "stream",
     "text": [
      "Deleting older checkpoint [snunlp_kr_electra_discriminator_uncleaned_v4/checkpoint-5744] due to args.save_total_limit\n"
     ]
    },
    {
     "name": "stderr",
     "output_type": "stream",
     "text": [
      "\n",
      "\n",
      "Training completed. Do not forget to share your model on huggingface.co/models =)\n",
      "\n",
      "\n"
     ]
    },
    {
     "name": "stderr",
     "output_type": "stream",
     "text": [
      "Loading best model from snunlp_kr_electra_discriminator_uncleaned_v4/checkpoint-7180 (score: 4.0877919673221186e-05).\n"
     ]
    },
    {
     "name": "stderr",
     "output_type": "stream",
     "text": [
      "Saving model checkpoint to /tmp/tmp7ar_7lvq\n"
     ]
    },
    {
     "name": "stderr",
     "output_type": "stream",
     "text": [
      "Configuration saved in /tmp/tmp7ar_7lvq/config.json\n"
     ]
    },
    {
     "name": "stderr",
     "output_type": "stream",
     "text": [
      "Model weights saved in /tmp/tmp7ar_7lvq/pytorch_model.bin\n"
     ]
    },
    {
     "name": "stderr",
     "output_type": "stream",
     "text": [
      "tokenizer config file saved in /tmp/tmp7ar_7lvq/tokenizer_config.json\n"
     ]
    },
    {
     "name": "stderr",
     "output_type": "stream",
     "text": [
      "Special tokens file saved in /tmp/tmp7ar_7lvq/special_tokens_map.json\n"
     ]
    },
    {
     "data": {
      "text/html": [
       "Waiting for W&B process to finish... <strong style=\"color:green\">(success).</strong>"
      ],
      "text/plain": [
       "<IPython.core.display.HTML object>"
      ]
     },
     "metadata": {},
     "output_type": "display_data"
    },
    {
     "data": {
      "text/html": [
       "<style>\n",
       "    table.wandb td:nth-child(1) { padding: 0 10px; text-align: left ; width: auto;} td:nth-child(2) {text-align: left ; width: 100%}\n",
       "    .wandb-row { display: flex; flex-direction: row; flex-wrap: wrap; justify-content: flex-start; width: 100% }\n",
       "    .wandb-col { display: flex; flex-direction: column; flex-basis: 100%; flex: 1; padding: 10px; }\n",
       "    </style>\n",
       "<div class=\"wandb-row\"><div class=\"wandb-col\"><h3>Run history:</h3><br/><table class=\"wandb\"><tr><td>eval/accuracy</td><td>▁▁▁▁▁▁▁▁▁▁</td></tr><tr><td>eval/f1_false</td><td>▁▁▁▁▁▁▁▁▁▁</td></tr><tr><td>eval/f1_macro</td><td>▁▁▁▁▁▁▁▁▁▁</td></tr><tr><td>eval/f1_micro</td><td>▁▁▁▁▁▁▁▁▁▁</td></tr><tr><td>eval/f1_true</td><td>▁▁▁▁▁▁▁▁▁▁</td></tr><tr><td>eval/loss</td><td>█▃▂▁▁▁▁▁▁▁</td></tr><tr><td>eval/runtime</td><td>▄▅█▃▄▂▄▃▃▁</td></tr><tr><td>eval/samples_per_second</td><td>▅▄▁▆▅▇▄▆▆█</td></tr><tr><td>eval/steps_per_second</td><td>▅▄▁▆▅▇▄▆▆█</td></tr><tr><td>train/epoch</td><td>▁▁▂▂▂▂▃▃▃▄▄▄▅▅▅▅▆▆▆▇▇▇▇███</td></tr><tr><td>train/global_step</td><td>▁▁▂▂▂▂▃▃▃▄▄▄▄▅▅▅▆▆▆▇▇▇▇███</td></tr><tr><td>train/learning_rate</td><td>███▇▇▆▅▅▄▃▂▂▁▁▁</td></tr><tr><td>train/loss</td><td>█▃▁▁▁▁▁▁▁▁▁▁▁▁▁</td></tr><tr><td>train/total_flos</td><td>▁</td></tr><tr><td>train/train_loss</td><td>▁</td></tr><tr><td>train/train_runtime</td><td>▁</td></tr><tr><td>train/train_samples_per_second</td><td>▁</td></tr><tr><td>train/train_steps_per_second</td><td>▁</td></tr></table><br/></div><div class=\"wandb-col\"><h3>Run summary:</h3><br/><table class=\"wandb\"><tr><td>eval/accuracy</td><td>1.0</td></tr><tr><td>eval/f1_false</td><td>1.0</td></tr><tr><td>eval/f1_macro</td><td>1.0</td></tr><tr><td>eval/f1_micro</td><td>1.0</td></tr><tr><td>eval/f1_true</td><td>1.0</td></tr><tr><td>eval/loss</td><td>4e-05</td></tr><tr><td>eval/runtime</td><td>222.1998</td></tr><tr><td>eval/samples_per_second</td><td>37.885</td></tr><tr><td>eval/steps_per_second</td><td>3.159</td></tr><tr><td>train/epoch</td><td>10.0</td></tr><tr><td>train/global_step</td><td>7180</td></tr><tr><td>train/learning_rate</td><td>0.0</td></tr><tr><td>train/loss</td><td>0.0001</td></tr><tr><td>train/total_flos</td><td>2387236410830520.0</td></tr><tr><td>train/train_loss</td><td>0.01104</td></tr><tr><td>train/train_runtime</td><td>6262.9629</td></tr><tr><td>train/train_samples_per_second</td><td>13.747</td></tr><tr><td>train/train_steps_per_second</td><td>1.146</td></tr></table><br/></div></div>"
      ],
      "text/plain": [
       "<IPython.core.display.HTML object>"
      ]
     },
     "metadata": {},
     "output_type": "display_data"
    },
    {
     "data": {
      "text/html": [
       "Synced <strong style=\"color:#cdcd00\">snunlp_kr_electra_discriminator_uncleaned_v4</strong>: <a href=\"https://wandb.ai/dotsnangles/aspect_sentiment_classification_binary/runs/3g5q04rb\" target=\"_blank\">https://wandb.ai/dotsnangles/aspect_sentiment_classification_binary/runs/3g5q04rb</a><br/>Synced 6 W&B file(s), 0 media file(s), 8 artifact file(s) and 0 other file(s)"
      ],
      "text/plain": [
       "<IPython.core.display.HTML object>"
      ]
     },
     "metadata": {},
     "output_type": "display_data"
    },
    {
     "data": {
      "text/html": [
       "Find logs at: <code>./wandb/run-20221026_194106-3g5q04rb/logs</code>"
      ],
      "text/plain": [
       "<IPython.core.display.HTML object>"
      ]
     },
     "metadata": {},
     "output_type": "display_data"
    }
   ],
   "source": [
    "trainer.train()\n",
    "wandb.finish()"
   ]
  },
  {
   "cell_type": "code",
   "execution_count": 23,
   "id": "bddeea55",
   "metadata": {
    "execution": {
     "iopub.execute_input": "2022-10-26T12:26:00.715144Z",
     "iopub.status.busy": "2022-10-26T12:26:00.714476Z",
     "iopub.status.idle": "2022-10-26T12:26:02.017914Z",
     "shell.execute_reply": "2022-10-26T12:26:02.016465Z"
    },
    "id": "njKzTZtir0SC",
    "papermill": {
     "duration": 1.33233,
     "end_time": "2022-10-26T12:26:02.020526",
     "exception": false,
     "start_time": "2022-10-26T12:26:00.688196",
     "status": "completed"
    },
    "tags": []
   },
   "outputs": [
    {
     "name": "stdout",
     "output_type": "stream",
     "text": [
      "huggingface/tokenizers: The current process just got forked, after parallelism has already been used. Disabling parallelism to avoid deadlocks...\n",
      "To disable this warning, you can either:\n",
      "\t- Avoid using `tokenizers` before the fork if possible\n",
      "\t- Explicitly set the environment variable TOKENIZERS_PARALLELISM=(true | false)\n"
     ]
    }
   ],
   "source": [
    "keep = [\n",
    "    'added_tokens.json',\n",
    "    'config.json',\n",
    "    'pytorch_model.bin',\n",
    "    'special_tokens_map.json',\n",
    "    'tokenizer.json',\n",
    "    'tokenizer_config.json',\n",
    "    'vocab.txt'\n",
    "]\n",
    "\n",
    "ckpts = os.listdir(run_name)\n",
    "for ckpt in ckpts:\n",
    "    ckpt = os.path.join(run_name, ckpt)\n",
    "    for item in os.listdir(ckpt):\n",
    "        if item not in keep:\n",
    "            os.remove(os.path.join(ckpt, item))\n",
    "\n",
    "!mv wandb {run_name} {SAVE_PATH}/"
   ]
  }
 ],
 "metadata": {
  "accelerator": "GPU",
  "colab": {
   "collapsed_sections": [],
   "provenance": []
  },
  "gpuClass": "premium",
  "kernelspec": {
   "display_name": "Python 3.10.6 ('jeonghyeon')",
   "language": "python",
   "name": "python3"
  },
  "language_info": {
   "codemirror_mode": {
    "name": "ipython",
    "version": 3
   },
   "file_extension": ".py",
   "mimetype": "text/x-python",
   "name": "python",
   "nbconvert_exporter": "python",
   "pygments_lexer": "ipython3",
   "version": "3.10.6"
  },
  "papermill": {
   "default_parameters": {},
   "duration": 6324.860954,
   "end_time": "2022-10-26T12:26:05.541890",
   "environment_variables": {},
   "exception": null,
   "input_path": "./asc_binary_trainer.ipynb",
   "output_path": "./papermill/asc_binary_trainer.ipynb",
   "parameters": {},
   "start_time": "2022-10-26T10:40:40.680936",
   "version": "2.3.4"
  },
  "vscode": {
   "interpreter": {
    "hash": "df12b971f0e4e081474c4ac44bd338416eac6f5401e1e938ba342788cee78ecd"
   }
  },
  "widgets": {
   "application/vnd.jupyter.widget-state+json": {
    "0032f06143bf468e90701a0ee56c9df1": {
     "model_module": "@jupyter-widgets/controls",
     "model_module_version": "1.5.0",
     "model_name": "FloatProgressModel",
     "state": {
      "_dom_classes": [],
      "_model_module": "@jupyter-widgets/controls",
      "_model_module_version": "1.5.0",
      "_model_name": "FloatProgressModel",
      "_view_count": null,
      "_view_module": "@jupyter-widgets/controls",
      "_view_module_version": "1.5.0",
      "_view_name": "ProgressView",
      "bar_style": "success",
      "description": "",
      "description_tooltip": null,
      "layout": "IPY_MODEL_dc3f367d749440b1acd2f8cefe848c4e",
      "max": 4203,
      "min": 0,
      "orientation": "horizontal",
      "style": "IPY_MODEL_4cc2f55692264694a43389cc5385db8a",
      "value": 4203
     }
    },
    "03a85f47681c41cdab9d75beee0fb78a": {
     "model_module": "@jupyter-widgets/controls",
     "model_module_version": "1.5.0",
     "model_name": "HTMLModel",
     "state": {
      "_dom_classes": [],
      "_model_module": "@jupyter-widgets/controls",
      "_model_module_version": "1.5.0",
      "_model_name": "HTMLModel",
      "_view_count": null,
      "_view_module": "@jupyter-widgets/controls",
      "_view_module_version": "1.5.0",
      "_view_name": "HTMLView",
      "description": "",
      "description_tooltip": null,
      "layout": "IPY_MODEL_5c02b9951c1946279cb36c6c8a4a50f4",
      "placeholder": "​",
      "style": "IPY_MODEL_fbe16032b1b54aab84d7f1c3caf83201",
      "value": "100%"
     }
    },
    "04fe7e54680749478e8daec82decd3ee": {
     "model_module": "@jupyter-widgets/controls",
     "model_module_version": "1.5.0",
     "model_name": "FloatProgressModel",
     "state": {
      "_dom_classes": [],
      "_model_module": "@jupyter-widgets/controls",
      "_model_module_version": "1.5.0",
      "_model_name": "FloatProgressModel",
      "_view_count": null,
      "_view_module": "@jupyter-widgets/controls",
      "_view_module_version": "1.5.0",
      "_view_name": "ProgressView",
      "bar_style": "success",
      "description": "",
      "description_tooltip": null,
      "layout": "IPY_MODEL_7d10259a18d54648a6c670a6722e82b5",
      "max": 27321,
      "min": 0,
      "orientation": "horizontal",
      "style": "IPY_MODEL_505a1235079e40cda60009ba1bcf31fe",
      "value": 27321
     }
    },
    "0642dca8ab984c91a4539585afef8390": {
     "model_module": "@jupyter-widgets/controls",
     "model_module_version": "1.5.0",
     "model_name": "HTMLModel",
     "state": {
      "_dom_classes": [],
      "_model_module": "@jupyter-widgets/controls",
      "_model_module_version": "1.5.0",
      "_model_name": "HTMLModel",
      "_view_count": null,
      "_view_module": "@jupyter-widgets/controls",
      "_view_module_version": "1.5.0",
      "_view_name": "HTMLView",
      "description": "",
      "description_tooltip": null,
      "layout": "IPY_MODEL_ad20f3a0ca6c42c6afc1f506046ebf3b",
      "placeholder": "​",
      "style": "IPY_MODEL_fe51a8730e28454d897439830382db46",
      "value": "Downloading: 100%"
     }
    },
    "0ad2f8531b5d4ab28f8cd8f9003f7f56": {
     "model_module": "@jupyter-widgets/controls",
     "model_module_version": "1.5.0",
     "model_name": "DescriptionStyleModel",
     "state": {
      "_model_module": "@jupyter-widgets/controls",
      "_model_module_version": "1.5.0",
      "_model_name": "DescriptionStyleModel",
      "_view_count": null,
      "_view_module": "@jupyter-widgets/base",
      "_view_module_version": "1.2.0",
      "_view_name": "StyleView",
      "description_width": ""
     }
    },
    "0c4bff269e8f4d9693aec278a0a8d52a": {
     "model_module": "@jupyter-widgets/controls",
     "model_module_version": "1.5.0",
     "model_name": "HTMLModel",
     "state": {
      "_dom_classes": [],
      "_model_module": "@jupyter-widgets/controls",
      "_model_module_version": "1.5.0",
      "_model_name": "HTMLModel",
      "_view_count": null,
      "_view_module": "@jupyter-widgets/controls",
      "_view_module_version": "1.5.0",
      "_view_name": "HTMLView",
      "description": "",
      "description_tooltip": null,
      "layout": "IPY_MODEL_9890392cc707490d88aa6fe155917a09",
      "placeholder": "​",
      "style": "IPY_MODEL_f62340167e2d447096a2965b4fc60826",
      "value": " 56.0/56.0 [00:00&lt;00:00, 1.44kB/s]"
     }
    },
    "110c5f6649ab4b3382cce9d0bfcca25b": {
     "model_module": "@jupyter-widgets/base",
     "model_module_version": "1.2.0",
     "model_name": "LayoutModel",
     "state": {
      "_model_module": "@jupyter-widgets/base",
      "_model_module_version": "1.2.0",
      "_model_name": "LayoutModel",
      "_view_count": null,
      "_view_module": "@jupyter-widgets/base",
      "_view_module_version": "1.2.0",
      "_view_name": "LayoutView",
      "align_content": null,
      "align_items": null,
      "align_self": null,
      "border": null,
      "bottom": null,
      "display": null,
      "flex": null,
      "flex_flow": null,
      "grid_area": null,
      "grid_auto_columns": null,
      "grid_auto_flow": null,
      "grid_auto_rows": null,
      "grid_column": null,
      "grid_gap": null,
      "grid_row": null,
      "grid_template_areas": null,
      "grid_template_columns": null,
      "grid_template_rows": null,
      "height": null,
      "justify_content": null,
      "justify_items": null,
      "left": null,
      "margin": null,
      "max_height": null,
      "max_width": null,
      "min_height": null,
      "min_width": null,
      "object_fit": null,
      "object_position": null,
      "order": null,
      "overflow": null,
      "overflow_x": null,
      "overflow_y": null,
      "padding": null,
      "right": null,
      "top": null,
      "visibility": null,
      "width": null
     }
    },
    "1d07530c6d494b4bb5d9579e0da3c820": {
     "model_module": "@jupyter-widgets/controls",
     "model_module_version": "1.5.0",
     "model_name": "DescriptionStyleModel",
     "state": {
      "_model_module": "@jupyter-widgets/controls",
      "_model_module_version": "1.5.0",
      "_model_name": "DescriptionStyleModel",
      "_view_count": null,
      "_view_module": "@jupyter-widgets/base",
      "_view_module_version": "1.2.0",
      "_view_name": "StyleView",
      "description_width": ""
     }
    },
    "1de70d714b014ec4bc1fa226ba66b64f": {
     "model_module": "@jupyter-widgets/controls",
     "model_module_version": "1.5.0",
     "model_name": "DescriptionStyleModel",
     "state": {
      "_model_module": "@jupyter-widgets/controls",
      "_model_module_version": "1.5.0",
      "_model_name": "DescriptionStyleModel",
      "_view_count": null,
      "_view_module": "@jupyter-widgets/base",
      "_view_module_version": "1.2.0",
      "_view_name": "StyleView",
      "description_width": ""
     }
    },
    "275c1bc29ce0431c919d30b0c4de4beb": {
     "model_module": "@jupyter-widgets/base",
     "model_module_version": "1.2.0",
     "model_name": "LayoutModel",
     "state": {
      "_model_module": "@jupyter-widgets/base",
      "_model_module_version": "1.2.0",
      "_model_name": "LayoutModel",
      "_view_count": null,
      "_view_module": "@jupyter-widgets/base",
      "_view_module_version": "1.2.0",
      "_view_name": "LayoutView",
      "align_content": null,
      "align_items": null,
      "align_self": null,
      "border": null,
      "bottom": null,
      "display": null,
      "flex": null,
      "flex_flow": null,
      "grid_area": null,
      "grid_auto_columns": null,
      "grid_auto_flow": null,
      "grid_auto_rows": null,
      "grid_column": null,
      "grid_gap": null,
      "grid_row": null,
      "grid_template_areas": null,
      "grid_template_columns": null,
      "grid_template_rows": null,
      "height": null,
      "justify_content": null,
      "justify_items": null,
      "left": null,
      "margin": null,
      "max_height": null,
      "max_width": null,
      "min_height": null,
      "min_width": null,
      "object_fit": null,
      "object_position": null,
      "order": null,
      "overflow": null,
      "overflow_x": null,
      "overflow_y": null,
      "padding": null,
      "right": null,
      "top": null,
      "visibility": null,
      "width": null
     }
    },
    "2a92b6399a3b4cfea7afcbe89ea6c1c8": {
     "model_module": "@jupyter-widgets/controls",
     "model_module_version": "1.5.0",
     "model_name": "HTMLModel",
     "state": {
      "_dom_classes": [],
      "_model_module": "@jupyter-widgets/controls",
      "_model_module_version": "1.5.0",
      "_model_name": "HTMLModel",
      "_view_count": null,
      "_view_module": "@jupyter-widgets/controls",
      "_view_module_version": "1.5.0",
      "_view_name": "HTMLView",
      "description": "",
      "description_tooltip": null,
      "layout": "IPY_MODEL_b094395b8da34ff8a9c33fcded16377f",
      "placeholder": "​",
      "style": "IPY_MODEL_1de70d714b014ec4bc1fa226ba66b64f",
      "value": " 4.20k/4.20k [00:00&lt;00:00, 114kB/s]"
     }
    },
    "2e99b266d32549aa80f6234d807ff8bb": {
     "model_module": "@jupyter-widgets/controls",
     "model_module_version": "1.5.0",
     "model_name": "ProgressStyleModel",
     "state": {
      "_model_module": "@jupyter-widgets/controls",
      "_model_module_version": "1.5.0",
      "_model_name": "ProgressStyleModel",
      "_view_count": null,
      "_view_module": "@jupyter-widgets/base",
      "_view_module_version": "1.2.0",
      "_view_name": "StyleView",
      "bar_color": null,
      "description_width": ""
     }
    },
    "41e5cd9c231a46b5bfd8262b2b745cc6": {
     "model_module": "@jupyter-widgets/base",
     "model_module_version": "1.2.0",
     "model_name": "LayoutModel",
     "state": {
      "_model_module": "@jupyter-widgets/base",
      "_model_module_version": "1.2.0",
      "_model_name": "LayoutModel",
      "_view_count": null,
      "_view_module": "@jupyter-widgets/base",
      "_view_module_version": "1.2.0",
      "_view_name": "LayoutView",
      "align_content": null,
      "align_items": null,
      "align_self": null,
      "border": null,
      "bottom": null,
      "display": null,
      "flex": null,
      "flex_flow": null,
      "grid_area": null,
      "grid_auto_columns": null,
      "grid_auto_flow": null,
      "grid_auto_rows": null,
      "grid_column": null,
      "grid_gap": null,
      "grid_row": null,
      "grid_template_areas": null,
      "grid_template_columns": null,
      "grid_template_rows": null,
      "height": null,
      "justify_content": null,
      "justify_items": null,
      "left": null,
      "margin": null,
      "max_height": null,
      "max_width": null,
      "min_height": null,
      "min_width": null,
      "object_fit": null,
      "object_position": null,
      "order": null,
      "overflow": null,
      "overflow_x": null,
      "overflow_y": null,
      "padding": null,
      "right": null,
      "top": null,
      "visibility": null,
      "width": null
     }
    },
    "44649a89dc5d4156892db45e1fdee5c1": {
     "model_module": "@jupyter-widgets/controls",
     "model_module_version": "1.5.0",
     "model_name": "ProgressStyleModel",
     "state": {
      "_model_module": "@jupyter-widgets/controls",
      "_model_module_version": "1.5.0",
      "_model_name": "ProgressStyleModel",
      "_view_count": null,
      "_view_module": "@jupyter-widgets/base",
      "_view_module_version": "1.2.0",
      "_view_name": "StyleView",
      "bar_color": null,
      "description_width": ""
     }
    },
    "45efd1e29eb445d0bbdb4d0e90dec407": {
     "model_module": "@jupyter-widgets/base",
     "model_module_version": "1.2.0",
     "model_name": "LayoutModel",
     "state": {
      "_model_module": "@jupyter-widgets/base",
      "_model_module_version": "1.2.0",
      "_model_name": "LayoutModel",
      "_view_count": null,
      "_view_module": "@jupyter-widgets/base",
      "_view_module_version": "1.2.0",
      "_view_name": "LayoutView",
      "align_content": null,
      "align_items": null,
      "align_self": null,
      "border": null,
      "bottom": null,
      "display": null,
      "flex": null,
      "flex_flow": null,
      "grid_area": null,
      "grid_auto_columns": null,
      "grid_auto_flow": null,
      "grid_auto_rows": null,
      "grid_column": null,
      "grid_gap": null,
      "grid_row": null,
      "grid_template_areas": null,
      "grid_template_columns": null,
      "grid_template_rows": null,
      "height": null,
      "justify_content": null,
      "justify_items": null,
      "left": null,
      "margin": null,
      "max_height": null,
      "max_width": null,
      "min_height": null,
      "min_width": null,
      "object_fit": null,
      "object_position": null,
      "order": null,
      "overflow": null,
      "overflow_x": null,
      "overflow_y": null,
      "padding": null,
      "right": null,
      "top": null,
      "visibility": null,
      "width": null
     }
    },
    "4652216b070746baa42a73d1dd6cec47": {
     "model_module": "@jupyter-widgets/base",
     "model_module_version": "1.2.0",
     "model_name": "LayoutModel",
     "state": {
      "_model_module": "@jupyter-widgets/base",
      "_model_module_version": "1.2.0",
      "_model_name": "LayoutModel",
      "_view_count": null,
      "_view_module": "@jupyter-widgets/base",
      "_view_module_version": "1.2.0",
      "_view_name": "LayoutView",
      "align_content": null,
      "align_items": null,
      "align_self": null,
      "border": null,
      "bottom": null,
      "display": null,
      "flex": null,
      "flex_flow": null,
      "grid_area": null,
      "grid_auto_columns": null,
      "grid_auto_flow": null,
      "grid_auto_rows": null,
      "grid_column": null,
      "grid_gap": null,
      "grid_row": null,
      "grid_template_areas": null,
      "grid_template_columns": null,
      "grid_template_rows": null,
      "height": null,
      "justify_content": null,
      "justify_items": null,
      "left": null,
      "margin": null,
      "max_height": null,
      "max_width": null,
      "min_height": null,
      "min_width": null,
      "object_fit": null,
      "object_position": null,
      "order": null,
      "overflow": null,
      "overflow_x": null,
      "overflow_y": null,
      "padding": null,
      "right": null,
      "top": null,
      "visibility": null,
      "width": null
     }
    },
    "4cc2f55692264694a43389cc5385db8a": {
     "model_module": "@jupyter-widgets/controls",
     "model_module_version": "1.5.0",
     "model_name": "ProgressStyleModel",
     "state": {
      "_model_module": "@jupyter-widgets/controls",
      "_model_module_version": "1.5.0",
      "_model_name": "ProgressStyleModel",
      "_view_count": null,
      "_view_module": "@jupyter-widgets/base",
      "_view_module_version": "1.2.0",
      "_view_name": "StyleView",
      "bar_color": null,
      "description_width": ""
     }
    },
    "4d894cca56034a818c9132a012504061": {
     "model_module": "@jupyter-widgets/base",
     "model_module_version": "1.2.0",
     "model_name": "LayoutModel",
     "state": {
      "_model_module": "@jupyter-widgets/base",
      "_model_module_version": "1.2.0",
      "_model_name": "LayoutModel",
      "_view_count": null,
      "_view_module": "@jupyter-widgets/base",
      "_view_module_version": "1.2.0",
      "_view_name": "LayoutView",
      "align_content": null,
      "align_items": null,
      "align_self": null,
      "border": null,
      "bottom": null,
      "display": null,
      "flex": null,
      "flex_flow": null,
      "grid_area": null,
      "grid_auto_columns": null,
      "grid_auto_flow": null,
      "grid_auto_rows": null,
      "grid_column": null,
      "grid_gap": null,
      "grid_row": null,
      "grid_template_areas": null,
      "grid_template_columns": null,
      "grid_template_rows": null,
      "height": null,
      "justify_content": null,
      "justify_items": null,
      "left": null,
      "margin": null,
      "max_height": null,
      "max_width": null,
      "min_height": null,
      "min_width": null,
      "object_fit": null,
      "object_position": null,
      "order": null,
      "overflow": null,
      "overflow_x": null,
      "overflow_y": null,
      "padding": null,
      "right": null,
      "top": null,
      "visibility": null,
      "width": null
     }
    },
    "505a1235079e40cda60009ba1bcf31fe": {
     "model_module": "@jupyter-widgets/controls",
     "model_module_version": "1.5.0",
     "model_name": "ProgressStyleModel",
     "state": {
      "_model_module": "@jupyter-widgets/controls",
      "_model_module_version": "1.5.0",
      "_model_name": "ProgressStyleModel",
      "_view_count": null,
      "_view_module": "@jupyter-widgets/base",
      "_view_module_version": "1.2.0",
      "_view_name": "StyleView",
      "bar_color": null,
      "description_width": ""
     }
    },
    "5b3593cbcc844e928f086f80d9108ba1": {
     "model_module": "@jupyter-widgets/base",
     "model_module_version": "1.2.0",
     "model_name": "LayoutModel",
     "state": {
      "_model_module": "@jupyter-widgets/base",
      "_model_module_version": "1.2.0",
      "_model_name": "LayoutModel",
      "_view_count": null,
      "_view_module": "@jupyter-widgets/base",
      "_view_module_version": "1.2.0",
      "_view_name": "LayoutView",
      "align_content": null,
      "align_items": null,
      "align_self": null,
      "border": null,
      "bottom": null,
      "display": null,
      "flex": null,
      "flex_flow": null,
      "grid_area": null,
      "grid_auto_columns": null,
      "grid_auto_flow": null,
      "grid_auto_rows": null,
      "grid_column": null,
      "grid_gap": null,
      "grid_row": null,
      "grid_template_areas": null,
      "grid_template_columns": null,
      "grid_template_rows": null,
      "height": null,
      "justify_content": null,
      "justify_items": null,
      "left": null,
      "margin": null,
      "max_height": null,
      "max_width": null,
      "min_height": null,
      "min_width": null,
      "object_fit": null,
      "object_position": null,
      "order": null,
      "overflow": null,
      "overflow_x": null,
      "overflow_y": null,
      "padding": null,
      "right": null,
      "top": null,
      "visibility": null,
      "width": null
     }
    },
    "5c02b9951c1946279cb36c6c8a4a50f4": {
     "model_module": "@jupyter-widgets/base",
     "model_module_version": "1.2.0",
     "model_name": "LayoutModel",
     "state": {
      "_model_module": "@jupyter-widgets/base",
      "_model_module_version": "1.2.0",
      "_model_name": "LayoutModel",
      "_view_count": null,
      "_view_module": "@jupyter-widgets/base",
      "_view_module_version": "1.2.0",
      "_view_name": "LayoutView",
      "align_content": null,
      "align_items": null,
      "align_self": null,
      "border": null,
      "bottom": null,
      "display": null,
      "flex": null,
      "flex_flow": null,
      "grid_area": null,
      "grid_auto_columns": null,
      "grid_auto_flow": null,
      "grid_auto_rows": null,
      "grid_column": null,
      "grid_gap": null,
      "grid_row": null,
      "grid_template_areas": null,
      "grid_template_columns": null,
      "grid_template_rows": null,
      "height": null,
      "justify_content": null,
      "justify_items": null,
      "left": null,
      "margin": null,
      "max_height": null,
      "max_width": null,
      "min_height": null,
      "min_width": null,
      "object_fit": null,
      "object_position": null,
      "order": null,
      "overflow": null,
      "overflow_x": null,
      "overflow_y": null,
      "padding": null,
      "right": null,
      "top": null,
      "visibility": null,
      "width": null
     }
    },
    "5cb0cdb0332f49caa2c9e728078da80a": {
     "model_module": "@jupyter-widgets/base",
     "model_module_version": "1.2.0",
     "model_name": "LayoutModel",
     "state": {
      "_model_module": "@jupyter-widgets/base",
      "_model_module_version": "1.2.0",
      "_model_name": "LayoutModel",
      "_view_count": null,
      "_view_module": "@jupyter-widgets/base",
      "_view_module_version": "1.2.0",
      "_view_name": "LayoutView",
      "align_content": null,
      "align_items": null,
      "align_self": null,
      "border": null,
      "bottom": null,
      "display": null,
      "flex": null,
      "flex_flow": null,
      "grid_area": null,
      "grid_auto_columns": null,
      "grid_auto_flow": null,
      "grid_auto_rows": null,
      "grid_column": null,
      "grid_gap": null,
      "grid_row": null,
      "grid_template_areas": null,
      "grid_template_columns": null,
      "grid_template_rows": null,
      "height": null,
      "justify_content": null,
      "justify_items": null,
      "left": null,
      "margin": null,
      "max_height": null,
      "max_width": null,
      "min_height": null,
      "min_width": null,
      "object_fit": null,
      "object_position": null,
      "order": null,
      "overflow": null,
      "overflow_x": null,
      "overflow_y": null,
      "padding": null,
      "right": null,
      "top": null,
      "visibility": null,
      "width": null
     }
    },
    "658511cf252648a0ae4dd509bbe12fe6": {
     "model_module": "@jupyter-widgets/controls",
     "model_module_version": "1.5.0",
     "model_name": "ProgressStyleModel",
     "state": {
      "_model_module": "@jupyter-widgets/controls",
      "_model_module_version": "1.5.0",
      "_model_name": "ProgressStyleModel",
      "_view_count": null,
      "_view_module": "@jupyter-widgets/base",
      "_view_module_version": "1.2.0",
      "_view_name": "StyleView",
      "bar_color": null,
      "description_width": ""
     }
    },
    "684011384bc34d2692f71dfe935b4723": {
     "model_module": "@jupyter-widgets/base",
     "model_module_version": "1.2.0",
     "model_name": "LayoutModel",
     "state": {
      "_model_module": "@jupyter-widgets/base",
      "_model_module_version": "1.2.0",
      "_model_name": "LayoutModel",
      "_view_count": null,
      "_view_module": "@jupyter-widgets/base",
      "_view_module_version": "1.2.0",
      "_view_name": "LayoutView",
      "align_content": null,
      "align_items": null,
      "align_self": null,
      "border": null,
      "bottom": null,
      "display": null,
      "flex": null,
      "flex_flow": null,
      "grid_area": null,
      "grid_auto_columns": null,
      "grid_auto_flow": null,
      "grid_auto_rows": null,
      "grid_column": null,
      "grid_gap": null,
      "grid_row": null,
      "grid_template_areas": null,
      "grid_template_columns": null,
      "grid_template_rows": null,
      "height": null,
      "justify_content": null,
      "justify_items": null,
      "left": null,
      "margin": null,
      "max_height": null,
      "max_width": null,
      "min_height": null,
      "min_width": null,
      "object_fit": null,
      "object_position": null,
      "order": null,
      "overflow": null,
      "overflow_x": null,
      "overflow_y": null,
      "padding": null,
      "right": null,
      "top": null,
      "visibility": null,
      "width": null
     }
    },
    "6a576fba1fb14f2fab2cae599e01c9cb": {
     "model_module": "@jupyter-widgets/controls",
     "model_module_version": "1.5.0",
     "model_name": "HTMLModel",
     "state": {
      "_dom_classes": [],
      "_model_module": "@jupyter-widgets/controls",
      "_model_module_version": "1.5.0",
      "_model_name": "HTMLModel",
      "_view_count": null,
      "_view_module": "@jupyter-widgets/controls",
      "_view_module_version": "1.5.0",
      "_view_name": "HTMLView",
      "description": "",
      "description_tooltip": null,
      "layout": "IPY_MODEL_d70edc08493c42bba3d66945ad4da9ac",
      "placeholder": "​",
      "style": "IPY_MODEL_f472a293ade641c9bff11ee3905e34ee",
      "value": " 9006/9006 [00:03&lt;00:00, 2723.19ex/s]"
     }
    },
    "6acc835b544d451894d35e3736e0d804": {
     "model_module": "@jupyter-widgets/controls",
     "model_module_version": "1.5.0",
     "model_name": "DescriptionStyleModel",
     "state": {
      "_model_module": "@jupyter-widgets/controls",
      "_model_module_version": "1.5.0",
      "_model_name": "DescriptionStyleModel",
      "_view_count": null,
      "_view_module": "@jupyter-widgets/base",
      "_view_module_version": "1.2.0",
      "_view_name": "StyleView",
      "description_width": ""
     }
    },
    "6d5bfc1c2ad541e38ef71c3b70faa6aa": {
     "model_module": "@jupyter-widgets/controls",
     "model_module_version": "1.5.0",
     "model_name": "HBoxModel",
     "state": {
      "_dom_classes": [],
      "_model_module": "@jupyter-widgets/controls",
      "_model_module_version": "1.5.0",
      "_model_name": "HBoxModel",
      "_view_count": null,
      "_view_module": "@jupyter-widgets/controls",
      "_view_module_version": "1.5.0",
      "_view_name": "HBoxView",
      "box_style": "",
      "children": [
       "IPY_MODEL_b46847cc57cb4d1686abedd7729f2276",
       "IPY_MODEL_eefa541e2bce44f48d5d57921a5105a9",
       "IPY_MODEL_6a576fba1fb14f2fab2cae599e01c9cb"
      ],
      "layout": "IPY_MODEL_4652216b070746baa42a73d1dd6cec47"
     }
    },
    "6dcdbf9f62004f9fb3141b1ca5dfddf0": {
     "model_module": "@jupyter-widgets/controls",
     "model_module_version": "1.5.0",
     "model_name": "ProgressStyleModel",
     "state": {
      "_model_module": "@jupyter-widgets/controls",
      "_model_module_version": "1.5.0",
      "_model_name": "ProgressStyleModel",
      "_view_count": null,
      "_view_module": "@jupyter-widgets/base",
      "_view_module_version": "1.2.0",
      "_view_name": "StyleView",
      "bar_color": null,
      "description_width": ""
     }
    },
    "6ef978f43b214c58abfdf1155f475684": {
     "model_module": "@jupyter-widgets/controls",
     "model_module_version": "1.5.0",
     "model_name": "DescriptionStyleModel",
     "state": {
      "_model_module": "@jupyter-widgets/controls",
      "_model_module_version": "1.5.0",
      "_model_name": "DescriptionStyleModel",
      "_view_count": null,
      "_view_module": "@jupyter-widgets/base",
      "_view_module_version": "1.2.0",
      "_view_name": "StyleView",
      "description_width": ""
     }
    },
    "76629b189eb648d3bc7ba0711e57bc66": {
     "model_module": "@jupyter-widgets/controls",
     "model_module_version": "1.5.0",
     "model_name": "HBoxModel",
     "state": {
      "_dom_classes": [],
      "_model_module": "@jupyter-widgets/controls",
      "_model_module_version": "1.5.0",
      "_model_name": "HBoxModel",
      "_view_count": null,
      "_view_module": "@jupyter-widgets/controls",
      "_view_module_version": "1.5.0",
      "_view_name": "HBoxView",
      "box_style": "",
      "children": [
       "IPY_MODEL_8d44dca2d0a24fb38dabcf4bd388323f",
       "IPY_MODEL_89c0ae7377644daa8688ec9ede9f035a",
       "IPY_MODEL_ae3f51735615420bbc92ad5dfb590263"
      ],
      "layout": "IPY_MODEL_9714e67513334f8e868607422f7da2b9"
     }
    },
    "767206f5d9e04d099a2706442df3e2ca": {
     "model_module": "@jupyter-widgets/base",
     "model_module_version": "1.2.0",
     "model_name": "LayoutModel",
     "state": {
      "_model_module": "@jupyter-widgets/base",
      "_model_module_version": "1.2.0",
      "_model_name": "LayoutModel",
      "_view_count": null,
      "_view_module": "@jupyter-widgets/base",
      "_view_module_version": "1.2.0",
      "_view_name": "LayoutView",
      "align_content": null,
      "align_items": null,
      "align_self": null,
      "border": null,
      "bottom": null,
      "display": null,
      "flex": null,
      "flex_flow": null,
      "grid_area": null,
      "grid_auto_columns": null,
      "grid_auto_flow": null,
      "grid_auto_rows": null,
      "grid_column": null,
      "grid_gap": null,
      "grid_row": null,
      "grid_template_areas": null,
      "grid_template_columns": null,
      "grid_template_rows": null,
      "height": null,
      "justify_content": null,
      "justify_items": null,
      "left": null,
      "margin": null,
      "max_height": null,
      "max_width": null,
      "min_height": null,
      "min_width": null,
      "object_fit": null,
      "object_position": null,
      "order": null,
      "overflow": null,
      "overflow_x": null,
      "overflow_y": null,
      "padding": null,
      "right": null,
      "top": null,
      "visibility": null,
      "width": null
     }
    },
    "7c3552d804164201a11b0d9a7a6d9b10": {
     "model_module": "@jupyter-widgets/controls",
     "model_module_version": "1.5.0",
     "model_name": "DescriptionStyleModel",
     "state": {
      "_model_module": "@jupyter-widgets/controls",
      "_model_module_version": "1.5.0",
      "_model_name": "DescriptionStyleModel",
      "_view_count": null,
      "_view_module": "@jupyter-widgets/base",
      "_view_module_version": "1.2.0",
      "_view_name": "StyleView",
      "description_width": ""
     }
    },
    "7c9acc1b41de46debb3a27a4af31f6c1": {
     "model_module": "@jupyter-widgets/base",
     "model_module_version": "1.2.0",
     "model_name": "LayoutModel",
     "state": {
      "_model_module": "@jupyter-widgets/base",
      "_model_module_version": "1.2.0",
      "_model_name": "LayoutModel",
      "_view_count": null,
      "_view_module": "@jupyter-widgets/base",
      "_view_module_version": "1.2.0",
      "_view_name": "LayoutView",
      "align_content": null,
      "align_items": null,
      "align_self": null,
      "border": null,
      "bottom": null,
      "display": null,
      "flex": null,
      "flex_flow": null,
      "grid_area": null,
      "grid_auto_columns": null,
      "grid_auto_flow": null,
      "grid_auto_rows": null,
      "grid_column": null,
      "grid_gap": null,
      "grid_row": null,
      "grid_template_areas": null,
      "grid_template_columns": null,
      "grid_template_rows": null,
      "height": null,
      "justify_content": null,
      "justify_items": null,
      "left": null,
      "margin": null,
      "max_height": null,
      "max_width": null,
      "min_height": null,
      "min_width": null,
      "object_fit": null,
      "object_position": null,
      "order": null,
      "overflow": null,
      "overflow_x": null,
      "overflow_y": null,
      "padding": null,
      "right": null,
      "top": null,
      "visibility": null,
      "width": null
     }
    },
    "7d10259a18d54648a6c670a6722e82b5": {
     "model_module": "@jupyter-widgets/base",
     "model_module_version": "1.2.0",
     "model_name": "LayoutModel",
     "state": {
      "_model_module": "@jupyter-widgets/base",
      "_model_module_version": "1.2.0",
      "_model_name": "LayoutModel",
      "_view_count": null,
      "_view_module": "@jupyter-widgets/base",
      "_view_module_version": "1.2.0",
      "_view_name": "LayoutView",
      "align_content": null,
      "align_items": null,
      "align_self": null,
      "border": null,
      "bottom": null,
      "display": null,
      "flex": null,
      "flex_flow": null,
      "grid_area": null,
      "grid_auto_columns": null,
      "grid_auto_flow": null,
      "grid_auto_rows": null,
      "grid_column": null,
      "grid_gap": null,
      "grid_row": null,
      "grid_template_areas": null,
      "grid_template_columns": null,
      "grid_template_rows": null,
      "height": null,
      "justify_content": null,
      "justify_items": null,
      "left": null,
      "margin": null,
      "max_height": null,
      "max_width": null,
      "min_height": null,
      "min_width": null,
      "object_fit": null,
      "object_position": null,
      "order": null,
      "overflow": null,
      "overflow_x": null,
      "overflow_y": null,
      "padding": null,
      "right": null,
      "top": null,
      "visibility": null,
      "width": null
     }
    },
    "81ea513d9bbb4dffb926f175947642e9": {
     "model_module": "@jupyter-widgets/controls",
     "model_module_version": "1.5.0",
     "model_name": "DescriptionStyleModel",
     "state": {
      "_model_module": "@jupyter-widgets/controls",
      "_model_module_version": "1.5.0",
      "_model_name": "DescriptionStyleModel",
      "_view_count": null,
      "_view_module": "@jupyter-widgets/base",
      "_view_module_version": "1.2.0",
      "_view_name": "StyleView",
      "description_width": ""
     }
    },
    "82ebe2dd5a624c418fdfe9dbc021d18d": {
     "model_module": "@jupyter-widgets/base",
     "model_module_version": "1.2.0",
     "model_name": "LayoutModel",
     "state": {
      "_model_module": "@jupyter-widgets/base",
      "_model_module_version": "1.2.0",
      "_model_name": "LayoutModel",
      "_view_count": null,
      "_view_module": "@jupyter-widgets/base",
      "_view_module_version": "1.2.0",
      "_view_name": "LayoutView",
      "align_content": null,
      "align_items": null,
      "align_self": null,
      "border": null,
      "bottom": null,
      "display": null,
      "flex": null,
      "flex_flow": null,
      "grid_area": null,
      "grid_auto_columns": null,
      "grid_auto_flow": null,
      "grid_auto_rows": null,
      "grid_column": null,
      "grid_gap": null,
      "grid_row": null,
      "grid_template_areas": null,
      "grid_template_columns": null,
      "grid_template_rows": null,
      "height": null,
      "justify_content": null,
      "justify_items": null,
      "left": null,
      "margin": null,
      "max_height": null,
      "max_width": null,
      "min_height": null,
      "min_width": null,
      "object_fit": null,
      "object_position": null,
      "order": null,
      "overflow": null,
      "overflow_x": null,
      "overflow_y": null,
      "padding": null,
      "right": null,
      "top": null,
      "visibility": null,
      "width": null
     }
    },
    "83be86e7a1bc4cb5ad983f549588cec5": {
     "model_module": "@jupyter-widgets/controls",
     "model_module_version": "1.5.0",
     "model_name": "HBoxModel",
     "state": {
      "_dom_classes": [],
      "_model_module": "@jupyter-widgets/controls",
      "_model_module_version": "1.5.0",
      "_model_name": "HBoxModel",
      "_view_count": null,
      "_view_module": "@jupyter-widgets/controls",
      "_view_module_version": "1.5.0",
      "_view_name": "HBoxView",
      "box_style": "",
      "children": [
       "IPY_MODEL_0642dca8ab984c91a4539585afef8390",
       "IPY_MODEL_92f849d5359340cc89bce483f9d15bfe",
       "IPY_MODEL_a6d4a8cf193d4d4486b72f41e7ec7fa5"
      ],
      "layout": "IPY_MODEL_bab12b33f3b0477c9a9c9fb02aa288db"
     }
    },
    "86c9f350fe5f491e966c968f09428b2f": {
     "model_module": "@jupyter-widgets/base",
     "model_module_version": "1.2.0",
     "model_name": "LayoutModel",
     "state": {
      "_model_module": "@jupyter-widgets/base",
      "_model_module_version": "1.2.0",
      "_model_name": "LayoutModel",
      "_view_count": null,
      "_view_module": "@jupyter-widgets/base",
      "_view_module_version": "1.2.0",
      "_view_name": "LayoutView",
      "align_content": null,
      "align_items": null,
      "align_self": null,
      "border": null,
      "bottom": null,
      "display": null,
      "flex": null,
      "flex_flow": null,
      "grid_area": null,
      "grid_auto_columns": null,
      "grid_auto_flow": null,
      "grid_auto_rows": null,
      "grid_column": null,
      "grid_gap": null,
      "grid_row": null,
      "grid_template_areas": null,
      "grid_template_columns": null,
      "grid_template_rows": null,
      "height": null,
      "justify_content": null,
      "justify_items": null,
      "left": null,
      "margin": null,
      "max_height": null,
      "max_width": null,
      "min_height": null,
      "min_width": null,
      "object_fit": null,
      "object_position": null,
      "order": null,
      "overflow": null,
      "overflow_x": null,
      "overflow_y": null,
      "padding": null,
      "right": null,
      "top": null,
      "visibility": null,
      "width": null
     }
    },
    "89c0ae7377644daa8688ec9ede9f035a": {
     "model_module": "@jupyter-widgets/controls",
     "model_module_version": "1.5.0",
     "model_name": "FloatProgressModel",
     "state": {
      "_dom_classes": [],
      "_model_module": "@jupyter-widgets/controls",
      "_model_module_version": "1.5.0",
      "_model_name": "FloatProgressModel",
      "_view_count": null,
      "_view_module": "@jupyter-widgets/controls",
      "_view_module_version": "1.5.0",
      "_view_name": "ProgressView",
      "bar_style": "success",
      "description": "",
      "description_tooltip": null,
      "layout": "IPY_MODEL_41e5cd9c231a46b5bfd8262b2b745cc6",
      "max": 6771,
      "min": 0,
      "orientation": "horizontal",
      "style": "IPY_MODEL_6dcdbf9f62004f9fb3141b1ca5dfddf0",
      "value": 6771
     }
    },
    "8d44dca2d0a24fb38dabcf4bd388323f": {
     "model_module": "@jupyter-widgets/controls",
     "model_module_version": "1.5.0",
     "model_name": "HTMLModel",
     "state": {
      "_dom_classes": [],
      "_model_module": "@jupyter-widgets/controls",
      "_model_module_version": "1.5.0",
      "_model_name": "HTMLModel",
      "_view_count": null,
      "_view_module": "@jupyter-widgets/controls",
      "_view_module_version": "1.5.0",
      "_view_name": "HTMLView",
      "description": "",
      "description_tooltip": null,
      "layout": "IPY_MODEL_9237d2a901984102a5deb1c2528f1e10",
      "placeholder": "​",
      "style": "IPY_MODEL_e9ef7c82807847eb8ff43b3f0303b7d5",
      "value": "Downloading builder script: 100%"
     }
    },
    "90465c6d97ef4e83b86160ce1e66ca8b": {
     "model_module": "@jupyter-widgets/controls",
     "model_module_version": "1.5.0",
     "model_name": "FloatProgressModel",
     "state": {
      "_dom_classes": [],
      "_model_module": "@jupyter-widgets/controls",
      "_model_module_version": "1.5.0",
      "_model_name": "FloatProgressModel",
      "_view_count": null,
      "_view_module": "@jupyter-widgets/controls",
      "_view_module_version": "1.5.0",
      "_view_name": "ProgressView",
      "bar_style": "success",
      "description": "",
      "description_tooltip": null,
      "layout": "IPY_MODEL_110c5f6649ab4b3382cce9d0bfcca25b",
      "max": 436416329,
      "min": 0,
      "orientation": "horizontal",
      "style": "IPY_MODEL_2e99b266d32549aa80f6234d807ff8bb",
      "value": 436416329
     }
    },
    "9237d2a901984102a5deb1c2528f1e10": {
     "model_module": "@jupyter-widgets/base",
     "model_module_version": "1.2.0",
     "model_name": "LayoutModel",
     "state": {
      "_model_module": "@jupyter-widgets/base",
      "_model_module_version": "1.2.0",
      "_model_name": "LayoutModel",
      "_view_count": null,
      "_view_module": "@jupyter-widgets/base",
      "_view_module_version": "1.2.0",
      "_view_name": "LayoutView",
      "align_content": null,
      "align_items": null,
      "align_self": null,
      "border": null,
      "bottom": null,
      "display": null,
      "flex": null,
      "flex_flow": null,
      "grid_area": null,
      "grid_auto_columns": null,
      "grid_auto_flow": null,
      "grid_auto_rows": null,
      "grid_column": null,
      "grid_gap": null,
      "grid_row": null,
      "grid_template_areas": null,
      "grid_template_columns": null,
      "grid_template_rows": null,
      "height": null,
      "justify_content": null,
      "justify_items": null,
      "left": null,
      "margin": null,
      "max_height": null,
      "max_width": null,
      "min_height": null,
      "min_width": null,
      "object_fit": null,
      "object_position": null,
      "order": null,
      "overflow": null,
      "overflow_x": null,
      "overflow_y": null,
      "padding": null,
      "right": null,
      "top": null,
      "visibility": null,
      "width": null
     }
    },
    "92f849d5359340cc89bce483f9d15bfe": {
     "model_module": "@jupyter-widgets/controls",
     "model_module_version": "1.5.0",
     "model_name": "FloatProgressModel",
     "state": {
      "_dom_classes": [],
      "_model_module": "@jupyter-widgets/controls",
      "_model_module_version": "1.5.0",
      "_model_name": "FloatProgressModel",
      "_view_count": null,
      "_view_module": "@jupyter-widgets/controls",
      "_view_module_version": "1.5.0",
      "_view_name": "ProgressView",
      "bar_style": "success",
      "description": "",
      "description_tooltip": null,
      "layout": "IPY_MODEL_684011384bc34d2692f71dfe935b4723",
      "max": 468,
      "min": 0,
      "orientation": "horizontal",
      "style": "IPY_MODEL_44649a89dc5d4156892db45e1fdee5c1",
      "value": 468
     }
    },
    "9355394179624ce3be82e1b294b1a2b5": {
     "model_module": "@jupyter-widgets/controls",
     "model_module_version": "1.5.0",
     "model_name": "HTMLModel",
     "state": {
      "_dom_classes": [],
      "_model_module": "@jupyter-widgets/controls",
      "_model_module_version": "1.5.0",
      "_model_name": "HTMLModel",
      "_view_count": null,
      "_view_module": "@jupyter-widgets/controls",
      "_view_module_version": "1.5.0",
      "_view_name": "HTMLView",
      "description": "",
      "description_tooltip": null,
      "layout": "IPY_MODEL_e01a20c18d8249cea389638d8c005b8d",
      "placeholder": "​",
      "style": "IPY_MODEL_6acc835b544d451894d35e3736e0d804",
      "value": "Downloading: 100%"
     }
    },
    "9714e67513334f8e868607422f7da2b9": {
     "model_module": "@jupyter-widgets/base",
     "model_module_version": "1.2.0",
     "model_name": "LayoutModel",
     "state": {
      "_model_module": "@jupyter-widgets/base",
      "_model_module_version": "1.2.0",
      "_model_name": "LayoutModel",
      "_view_count": null,
      "_view_module": "@jupyter-widgets/base",
      "_view_module_version": "1.2.0",
      "_view_name": "LayoutView",
      "align_content": null,
      "align_items": null,
      "align_self": null,
      "border": null,
      "bottom": null,
      "display": null,
      "flex": null,
      "flex_flow": null,
      "grid_area": null,
      "grid_auto_columns": null,
      "grid_auto_flow": null,
      "grid_auto_rows": null,
      "grid_column": null,
      "grid_gap": null,
      "grid_row": null,
      "grid_template_areas": null,
      "grid_template_columns": null,
      "grid_template_rows": null,
      "height": null,
      "justify_content": null,
      "justify_items": null,
      "left": null,
      "margin": null,
      "max_height": null,
      "max_width": null,
      "min_height": null,
      "min_width": null,
      "object_fit": null,
      "object_position": null,
      "order": null,
      "overflow": null,
      "overflow_x": null,
      "overflow_y": null,
      "padding": null,
      "right": null,
      "top": null,
      "visibility": null,
      "width": null
     }
    },
    "9890392cc707490d88aa6fe155917a09": {
     "model_module": "@jupyter-widgets/base",
     "model_module_version": "1.2.0",
     "model_name": "LayoutModel",
     "state": {
      "_model_module": "@jupyter-widgets/base",
      "_model_module_version": "1.2.0",
      "_model_name": "LayoutModel",
      "_view_count": null,
      "_view_module": "@jupyter-widgets/base",
      "_view_module_version": "1.2.0",
      "_view_name": "LayoutView",
      "align_content": null,
      "align_items": null,
      "align_self": null,
      "border": null,
      "bottom": null,
      "display": null,
      "flex": null,
      "flex_flow": null,
      "grid_area": null,
      "grid_auto_columns": null,
      "grid_auto_flow": null,
      "grid_auto_rows": null,
      "grid_column": null,
      "grid_gap": null,
      "grid_row": null,
      "grid_template_areas": null,
      "grid_template_columns": null,
      "grid_template_rows": null,
      "height": null,
      "justify_content": null,
      "justify_items": null,
      "left": null,
      "margin": null,
      "max_height": null,
      "max_width": null,
      "min_height": null,
      "min_width": null,
      "object_fit": null,
      "object_position": null,
      "order": null,
      "overflow": null,
      "overflow_x": null,
      "overflow_y": null,
      "padding": null,
      "right": null,
      "top": null,
      "visibility": null,
      "width": null
     }
    },
    "9a01945a9afe49a18a98c35b4cb99c8a": {
     "model_module": "@jupyter-widgets/controls",
     "model_module_version": "1.5.0",
     "model_name": "HBoxModel",
     "state": {
      "_dom_classes": [],
      "_model_module": "@jupyter-widgets/controls",
      "_model_module_version": "1.5.0",
      "_model_name": "HBoxModel",
      "_view_count": null,
      "_view_module": "@jupyter-widgets/controls",
      "_view_module_version": "1.5.0",
      "_view_name": "HBoxView",
      "box_style": "",
      "children": [
       "IPY_MODEL_f4a78200b20640f4928944c489daf7a7",
       "IPY_MODEL_0032f06143bf468e90701a0ee56c9df1",
       "IPY_MODEL_2a92b6399a3b4cfea7afcbe89ea6c1c8"
      ],
      "layout": "IPY_MODEL_275c1bc29ce0431c919d30b0c4de4beb"
     }
    },
    "a143eeb39a3a4f34be3eea3253d8b3f2": {
     "model_module": "@jupyter-widgets/controls",
     "model_module_version": "1.5.0",
     "model_name": "HTMLModel",
     "state": {
      "_dom_classes": [],
      "_model_module": "@jupyter-widgets/controls",
      "_model_module_version": "1.5.0",
      "_model_name": "HTMLModel",
      "_view_count": null,
      "_view_module": "@jupyter-widgets/controls",
      "_view_module_version": "1.5.0",
      "_view_name": "HTMLView",
      "description": "",
      "description_tooltip": null,
      "layout": "IPY_MODEL_a8e8e78b21d6416f858f4f7352059bc0",
      "placeholder": "​",
      "style": "IPY_MODEL_7c3552d804164201a11b0d9a7a6d9b10",
      "value": "Downloading: 100%"
     }
    },
    "a6d4a8cf193d4d4486b72f41e7ec7fa5": {
     "model_module": "@jupyter-widgets/controls",
     "model_module_version": "1.5.0",
     "model_name": "HTMLModel",
     "state": {
      "_dom_classes": [],
      "_model_module": "@jupyter-widgets/controls",
      "_model_module_version": "1.5.0",
      "_model_name": "HTMLModel",
      "_view_count": null,
      "_view_module": "@jupyter-widgets/controls",
      "_view_module_version": "1.5.0",
      "_view_name": "HTMLView",
      "description": "",
      "description_tooltip": null,
      "layout": "IPY_MODEL_5b3593cbcc844e928f086f80d9108ba1",
      "placeholder": "​",
      "style": "IPY_MODEL_a7c890f084ac432b9facfa6a397f6295",
      "value": " 468/468 [00:00&lt;00:00, 5.00kB/s]"
     }
    },
    "a7c890f084ac432b9facfa6a397f6295": {
     "model_module": "@jupyter-widgets/controls",
     "model_module_version": "1.5.0",
     "model_name": "DescriptionStyleModel",
     "state": {
      "_model_module": "@jupyter-widgets/controls",
      "_model_module_version": "1.5.0",
      "_model_name": "DescriptionStyleModel",
      "_view_count": null,
      "_view_module": "@jupyter-widgets/base",
      "_view_module_version": "1.2.0",
      "_view_name": "StyleView",
      "description_width": ""
     }
    },
    "a8e8e78b21d6416f858f4f7352059bc0": {
     "model_module": "@jupyter-widgets/base",
     "model_module_version": "1.2.0",
     "model_name": "LayoutModel",
     "state": {
      "_model_module": "@jupyter-widgets/base",
      "_model_module_version": "1.2.0",
      "_model_name": "LayoutModel",
      "_view_count": null,
      "_view_module": "@jupyter-widgets/base",
      "_view_module_version": "1.2.0",
      "_view_name": "LayoutView",
      "align_content": null,
      "align_items": null,
      "align_self": null,
      "border": null,
      "bottom": null,
      "display": null,
      "flex": null,
      "flex_flow": null,
      "grid_area": null,
      "grid_auto_columns": null,
      "grid_auto_flow": null,
      "grid_auto_rows": null,
      "grid_column": null,
      "grid_gap": null,
      "grid_row": null,
      "grid_template_areas": null,
      "grid_template_columns": null,
      "grid_template_rows": null,
      "height": null,
      "justify_content": null,
      "justify_items": null,
      "left": null,
      "margin": null,
      "max_height": null,
      "max_width": null,
      "min_height": null,
      "min_width": null,
      "object_fit": null,
      "object_position": null,
      "order": null,
      "overflow": null,
      "overflow_x": null,
      "overflow_y": null,
      "padding": null,
      "right": null,
      "top": null,
      "visibility": null,
      "width": null
     }
    },
    "ad20f3a0ca6c42c6afc1f506046ebf3b": {
     "model_module": "@jupyter-widgets/base",
     "model_module_version": "1.2.0",
     "model_name": "LayoutModel",
     "state": {
      "_model_module": "@jupyter-widgets/base",
      "_model_module_version": "1.2.0",
      "_model_name": "LayoutModel",
      "_view_count": null,
      "_view_module": "@jupyter-widgets/base",
      "_view_module_version": "1.2.0",
      "_view_name": "LayoutView",
      "align_content": null,
      "align_items": null,
      "align_self": null,
      "border": null,
      "bottom": null,
      "display": null,
      "flex": null,
      "flex_flow": null,
      "grid_area": null,
      "grid_auto_columns": null,
      "grid_auto_flow": null,
      "grid_auto_rows": null,
      "grid_column": null,
      "grid_gap": null,
      "grid_row": null,
      "grid_template_areas": null,
      "grid_template_columns": null,
      "grid_template_rows": null,
      "height": null,
      "justify_content": null,
      "justify_items": null,
      "left": null,
      "margin": null,
      "max_height": null,
      "max_width": null,
      "min_height": null,
      "min_width": null,
      "object_fit": null,
      "object_position": null,
      "order": null,
      "overflow": null,
      "overflow_x": null,
      "overflow_y": null,
      "padding": null,
      "right": null,
      "top": null,
      "visibility": null,
      "width": null
     }
    },
    "ae3f51735615420bbc92ad5dfb590263": {
     "model_module": "@jupyter-widgets/controls",
     "model_module_version": "1.5.0",
     "model_name": "HTMLModel",
     "state": {
      "_dom_classes": [],
      "_model_module": "@jupyter-widgets/controls",
      "_model_module_version": "1.5.0",
      "_model_name": "HTMLModel",
      "_view_count": null,
      "_view_module": "@jupyter-widgets/controls",
      "_view_module_version": "1.5.0",
      "_view_name": "HTMLView",
      "description": "",
      "description_tooltip": null,
      "layout": "IPY_MODEL_82ebe2dd5a624c418fdfe9dbc021d18d",
      "placeholder": "​",
      "style": "IPY_MODEL_6ef978f43b214c58abfdf1155f475684",
      "value": " 6.77k/6.77k [00:00&lt;00:00, 231kB/s]"
     }
    },
    "b094395b8da34ff8a9c33fcded16377f": {
     "model_module": "@jupyter-widgets/base",
     "model_module_version": "1.2.0",
     "model_name": "LayoutModel",
     "state": {
      "_model_module": "@jupyter-widgets/base",
      "_model_module_version": "1.2.0",
      "_model_name": "LayoutModel",
      "_view_count": null,
      "_view_module": "@jupyter-widgets/base",
      "_view_module_version": "1.2.0",
      "_view_name": "LayoutView",
      "align_content": null,
      "align_items": null,
      "align_self": null,
      "border": null,
      "bottom": null,
      "display": null,
      "flex": null,
      "flex_flow": null,
      "grid_area": null,
      "grid_auto_columns": null,
      "grid_auto_flow": null,
      "grid_auto_rows": null,
      "grid_column": null,
      "grid_gap": null,
      "grid_row": null,
      "grid_template_areas": null,
      "grid_template_columns": null,
      "grid_template_rows": null,
      "height": null,
      "justify_content": null,
      "justify_items": null,
      "left": null,
      "margin": null,
      "max_height": null,
      "max_width": null,
      "min_height": null,
      "min_width": null,
      "object_fit": null,
      "object_position": null,
      "order": null,
      "overflow": null,
      "overflow_x": null,
      "overflow_y": null,
      "padding": null,
      "right": null,
      "top": null,
      "visibility": null,
      "width": null
     }
    },
    "b46847cc57cb4d1686abedd7729f2276": {
     "model_module": "@jupyter-widgets/controls",
     "model_module_version": "1.5.0",
     "model_name": "HTMLModel",
     "state": {
      "_dom_classes": [],
      "_model_module": "@jupyter-widgets/controls",
      "_model_module_version": "1.5.0",
      "_model_name": "HTMLModel",
      "_view_count": null,
      "_view_module": "@jupyter-widgets/controls",
      "_view_module_version": "1.5.0",
      "_view_name": "HTMLView",
      "description": "",
      "description_tooltip": null,
      "layout": "IPY_MODEL_d31b16ab5eeb4d3c8d842ec0a739524b",
      "placeholder": "​",
      "style": "IPY_MODEL_0ad2f8531b5d4ab28f8cd8f9003f7f56",
      "value": "100%"
     }
    },
    "ba30ea7b361c4105966ff21c1d8a8695": {
     "model_module": "@jupyter-widgets/base",
     "model_module_version": "1.2.0",
     "model_name": "LayoutModel",
     "state": {
      "_model_module": "@jupyter-widgets/base",
      "_model_module_version": "1.2.0",
      "_model_name": "LayoutModel",
      "_view_count": null,
      "_view_module": "@jupyter-widgets/base",
      "_view_module_version": "1.2.0",
      "_view_name": "LayoutView",
      "align_content": null,
      "align_items": null,
      "align_self": null,
      "border": null,
      "bottom": null,
      "display": null,
      "flex": null,
      "flex_flow": null,
      "grid_area": null,
      "grid_auto_columns": null,
      "grid_auto_flow": null,
      "grid_auto_rows": null,
      "grid_column": null,
      "grid_gap": null,
      "grid_row": null,
      "grid_template_areas": null,
      "grid_template_columns": null,
      "grid_template_rows": null,
      "height": null,
      "justify_content": null,
      "justify_items": null,
      "left": null,
      "margin": null,
      "max_height": null,
      "max_width": null,
      "min_height": null,
      "min_width": null,
      "object_fit": null,
      "object_position": null,
      "order": null,
      "overflow": null,
      "overflow_x": null,
      "overflow_y": null,
      "padding": null,
      "right": null,
      "top": null,
      "visibility": null,
      "width": null
     }
    },
    "bab12b33f3b0477c9a9c9fb02aa288db": {
     "model_module": "@jupyter-widgets/base",
     "model_module_version": "1.2.0",
     "model_name": "LayoutModel",
     "state": {
      "_model_module": "@jupyter-widgets/base",
      "_model_module_version": "1.2.0",
      "_model_name": "LayoutModel",
      "_view_count": null,
      "_view_module": "@jupyter-widgets/base",
      "_view_module_version": "1.2.0",
      "_view_name": "LayoutView",
      "align_content": null,
      "align_items": null,
      "align_self": null,
      "border": null,
      "bottom": null,
      "display": null,
      "flex": null,
      "flex_flow": null,
      "grid_area": null,
      "grid_auto_columns": null,
      "grid_auto_flow": null,
      "grid_auto_rows": null,
      "grid_column": null,
      "grid_gap": null,
      "grid_row": null,
      "grid_template_areas": null,
      "grid_template_columns": null,
      "grid_template_rows": null,
      "height": null,
      "justify_content": null,
      "justify_items": null,
      "left": null,
      "margin": null,
      "max_height": null,
      "max_width": null,
      "min_height": null,
      "min_width": null,
      "object_fit": null,
      "object_position": null,
      "order": null,
      "overflow": null,
      "overflow_x": null,
      "overflow_y": null,
      "padding": null,
      "right": null,
      "top": null,
      "visibility": null,
      "width": null
     }
    },
    "bb83f39eb9b74852b14cc8317cacf616": {
     "model_module": "@jupyter-widgets/controls",
     "model_module_version": "1.5.0",
     "model_name": "HTMLModel",
     "state": {
      "_dom_classes": [],
      "_model_module": "@jupyter-widgets/controls",
      "_model_module_version": "1.5.0",
      "_model_name": "HTMLModel",
      "_view_count": null,
      "_view_module": "@jupyter-widgets/controls",
      "_view_module_version": "1.5.0",
      "_view_name": "HTMLView",
      "description": "",
      "description_tooltip": null,
      "layout": "IPY_MODEL_45efd1e29eb445d0bbdb4d0e90dec407",
      "placeholder": "​",
      "style": "IPY_MODEL_dff996c84db24f52bef3d54528588226",
      "value": " 436M/436M [00:17&lt;00:00, 38.8MB/s]"
     }
    },
    "bc621d540c4f48c88ef6758cc902f652": {
     "model_module": "@jupyter-widgets/controls",
     "model_module_version": "1.5.0",
     "model_name": "ProgressStyleModel",
     "state": {
      "_model_module": "@jupyter-widgets/controls",
      "_model_module_version": "1.5.0",
      "_model_name": "ProgressStyleModel",
      "_view_count": null,
      "_view_module": "@jupyter-widgets/base",
      "_view_module_version": "1.2.0",
      "_view_name": "StyleView",
      "bar_color": null,
      "description_width": ""
     }
    },
    "bf7dac5b27584f288107f28e482be51d": {
     "model_module": "@jupyter-widgets/controls",
     "model_module_version": "1.5.0",
     "model_name": "HBoxModel",
     "state": {
      "_dom_classes": [],
      "_model_module": "@jupyter-widgets/controls",
      "_model_module_version": "1.5.0",
      "_model_name": "HBoxModel",
      "_view_count": null,
      "_view_module": "@jupyter-widgets/controls",
      "_view_module_version": "1.5.0",
      "_view_name": "HBoxView",
      "box_style": "",
      "children": [
       "IPY_MODEL_9355394179624ce3be82e1b294b1a2b5",
       "IPY_MODEL_e3db079ea80048359f6097228cdc8086",
       "IPY_MODEL_0c4bff269e8f4d9693aec278a0a8d52a"
      ],
      "layout": "IPY_MODEL_c30f1c569f584efdb38e04fd4d5f838a"
     }
    },
    "c2924cb5fd6642d5aa134b63aaa01dca": {
     "model_module": "@jupyter-widgets/controls",
     "model_module_version": "1.5.0",
     "model_name": "FloatProgressModel",
     "state": {
      "_dom_classes": [],
      "_model_module": "@jupyter-widgets/controls",
      "_model_module_version": "1.5.0",
      "_model_name": "FloatProgressModel",
      "_view_count": null,
      "_view_module": "@jupyter-widgets/controls",
      "_view_module_version": "1.5.0",
      "_view_name": "ProgressView",
      "bar_style": "success",
      "description": "",
      "description_tooltip": null,
      "layout": "IPY_MODEL_efd3eea3194c47d28ce4981dceb04f54",
      "max": 213726,
      "min": 0,
      "orientation": "horizontal",
      "style": "IPY_MODEL_658511cf252648a0ae4dd509bbe12fe6",
      "value": 213726
     }
    },
    "c30f1c569f584efdb38e04fd4d5f838a": {
     "model_module": "@jupyter-widgets/base",
     "model_module_version": "1.2.0",
     "model_name": "LayoutModel",
     "state": {
      "_model_module": "@jupyter-widgets/base",
      "_model_module_version": "1.2.0",
      "_model_name": "LayoutModel",
      "_view_count": null,
      "_view_module": "@jupyter-widgets/base",
      "_view_module_version": "1.2.0",
      "_view_name": "LayoutView",
      "align_content": null,
      "align_items": null,
      "align_self": null,
      "border": null,
      "bottom": null,
      "display": null,
      "flex": null,
      "flex_flow": null,
      "grid_area": null,
      "grid_auto_columns": null,
      "grid_auto_flow": null,
      "grid_auto_rows": null,
      "grid_column": null,
      "grid_gap": null,
      "grid_row": null,
      "grid_template_areas": null,
      "grid_template_columns": null,
      "grid_template_rows": null,
      "height": null,
      "justify_content": null,
      "justify_items": null,
      "left": null,
      "margin": null,
      "max_height": null,
      "max_width": null,
      "min_height": null,
      "min_width": null,
      "object_fit": null,
      "object_position": null,
      "order": null,
      "overflow": null,
      "overflow_x": null,
      "overflow_y": null,
      "padding": null,
      "right": null,
      "top": null,
      "visibility": null,
      "width": null
     }
    },
    "c3f6df857dac4350a4c43b98e5b61e43": {
     "model_module": "@jupyter-widgets/base",
     "model_module_version": "1.2.0",
     "model_name": "LayoutModel",
     "state": {
      "_model_module": "@jupyter-widgets/base",
      "_model_module_version": "1.2.0",
      "_model_name": "LayoutModel",
      "_view_count": null,
      "_view_module": "@jupyter-widgets/base",
      "_view_module_version": "1.2.0",
      "_view_name": "LayoutView",
      "align_content": null,
      "align_items": null,
      "align_self": null,
      "border": null,
      "bottom": null,
      "display": null,
      "flex": null,
      "flex_flow": null,
      "grid_area": null,
      "grid_auto_columns": null,
      "grid_auto_flow": null,
      "grid_auto_rows": null,
      "grid_column": null,
      "grid_gap": null,
      "grid_row": null,
      "grid_template_areas": null,
      "grid_template_columns": null,
      "grid_template_rows": null,
      "height": null,
      "justify_content": null,
      "justify_items": null,
      "left": null,
      "margin": null,
      "max_height": null,
      "max_width": null,
      "min_height": null,
      "min_width": null,
      "object_fit": null,
      "object_position": null,
      "order": null,
      "overflow": null,
      "overflow_x": null,
      "overflow_y": null,
      "padding": null,
      "right": null,
      "top": null,
      "visibility": null,
      "width": null
     }
    },
    "c5ed91471a484c8da8249e731a16f343": {
     "model_module": "@jupyter-widgets/base",
     "model_module_version": "1.2.0",
     "model_name": "LayoutModel",
     "state": {
      "_model_module": "@jupyter-widgets/base",
      "_model_module_version": "1.2.0",
      "_model_name": "LayoutModel",
      "_view_count": null,
      "_view_module": "@jupyter-widgets/base",
      "_view_module_version": "1.2.0",
      "_view_name": "LayoutView",
      "align_content": null,
      "align_items": null,
      "align_self": null,
      "border": null,
      "bottom": null,
      "display": null,
      "flex": null,
      "flex_flow": null,
      "grid_area": null,
      "grid_auto_columns": null,
      "grid_auto_flow": null,
      "grid_auto_rows": null,
      "grid_column": null,
      "grid_gap": null,
      "grid_row": null,
      "grid_template_areas": null,
      "grid_template_columns": null,
      "grid_template_rows": null,
      "height": null,
      "justify_content": null,
      "justify_items": null,
      "left": null,
      "margin": null,
      "max_height": null,
      "max_width": null,
      "min_height": null,
      "min_width": null,
      "object_fit": null,
      "object_position": null,
      "order": null,
      "overflow": null,
      "overflow_x": null,
      "overflow_y": null,
      "padding": null,
      "right": null,
      "top": null,
      "visibility": null,
      "width": null
     }
    },
    "c7cce1948cf14099b8b760cf64db0733": {
     "model_module": "@jupyter-widgets/controls",
     "model_module_version": "1.5.0",
     "model_name": "ProgressStyleModel",
     "state": {
      "_model_module": "@jupyter-widgets/controls",
      "_model_module_version": "1.5.0",
      "_model_name": "ProgressStyleModel",
      "_view_count": null,
      "_view_module": "@jupyter-widgets/base",
      "_view_module_version": "1.2.0",
      "_view_name": "StyleView",
      "bar_color": null,
      "description_width": ""
     }
    },
    "c9b0e46751fb474ab454ba3eddd8dbd6": {
     "model_module": "@jupyter-widgets/controls",
     "model_module_version": "1.5.0",
     "model_name": "HBoxModel",
     "state": {
      "_dom_classes": [],
      "_model_module": "@jupyter-widgets/controls",
      "_model_module_version": "1.5.0",
      "_model_name": "HBoxModel",
      "_view_count": null,
      "_view_module": "@jupyter-widgets/controls",
      "_view_module_version": "1.5.0",
      "_view_name": "HBoxView",
      "box_style": "",
      "children": [
       "IPY_MODEL_e188d96fbcc54a35838b1356cf7a8797",
       "IPY_MODEL_90465c6d97ef4e83b86160ce1e66ca8b",
       "IPY_MODEL_bb83f39eb9b74852b14cc8317cacf616"
      ],
      "layout": "IPY_MODEL_86c9f350fe5f491e966c968f09428b2f"
     }
    },
    "d31b16ab5eeb4d3c8d842ec0a739524b": {
     "model_module": "@jupyter-widgets/base",
     "model_module_version": "1.2.0",
     "model_name": "LayoutModel",
     "state": {
      "_model_module": "@jupyter-widgets/base",
      "_model_module_version": "1.2.0",
      "_model_name": "LayoutModel",
      "_view_count": null,
      "_view_module": "@jupyter-widgets/base",
      "_view_module_version": "1.2.0",
      "_view_name": "LayoutView",
      "align_content": null,
      "align_items": null,
      "align_self": null,
      "border": null,
      "bottom": null,
      "display": null,
      "flex": null,
      "flex_flow": null,
      "grid_area": null,
      "grid_auto_columns": null,
      "grid_auto_flow": null,
      "grid_auto_rows": null,
      "grid_column": null,
      "grid_gap": null,
      "grid_row": null,
      "grid_template_areas": null,
      "grid_template_columns": null,
      "grid_template_rows": null,
      "height": null,
      "justify_content": null,
      "justify_items": null,
      "left": null,
      "margin": null,
      "max_height": null,
      "max_width": null,
      "min_height": null,
      "min_width": null,
      "object_fit": null,
      "object_position": null,
      "order": null,
      "overflow": null,
      "overflow_x": null,
      "overflow_y": null,
      "padding": null,
      "right": null,
      "top": null,
      "visibility": null,
      "width": null
     }
    },
    "d4b8a3d633a346e1ad913a3f39ff7332": {
     "model_module": "@jupyter-widgets/base",
     "model_module_version": "1.2.0",
     "model_name": "LayoutModel",
     "state": {
      "_model_module": "@jupyter-widgets/base",
      "_model_module_version": "1.2.0",
      "_model_name": "LayoutModel",
      "_view_count": null,
      "_view_module": "@jupyter-widgets/base",
      "_view_module_version": "1.2.0",
      "_view_name": "LayoutView",
      "align_content": null,
      "align_items": null,
      "align_self": null,
      "border": null,
      "bottom": null,
      "display": null,
      "flex": null,
      "flex_flow": null,
      "grid_area": null,
      "grid_auto_columns": null,
      "grid_auto_flow": null,
      "grid_auto_rows": null,
      "grid_column": null,
      "grid_gap": null,
      "grid_row": null,
      "grid_template_areas": null,
      "grid_template_columns": null,
      "grid_template_rows": null,
      "height": null,
      "justify_content": null,
      "justify_items": null,
      "left": null,
      "margin": null,
      "max_height": null,
      "max_width": null,
      "min_height": null,
      "min_width": null,
      "object_fit": null,
      "object_position": null,
      "order": null,
      "overflow": null,
      "overflow_x": null,
      "overflow_y": null,
      "padding": null,
      "right": null,
      "top": null,
      "visibility": null,
      "width": null
     }
    },
    "d70edc08493c42bba3d66945ad4da9ac": {
     "model_module": "@jupyter-widgets/base",
     "model_module_version": "1.2.0",
     "model_name": "LayoutModel",
     "state": {
      "_model_module": "@jupyter-widgets/base",
      "_model_module_version": "1.2.0",
      "_model_name": "LayoutModel",
      "_view_count": null,
      "_view_module": "@jupyter-widgets/base",
      "_view_module_version": "1.2.0",
      "_view_name": "LayoutView",
      "align_content": null,
      "align_items": null,
      "align_self": null,
      "border": null,
      "bottom": null,
      "display": null,
      "flex": null,
      "flex_flow": null,
      "grid_area": null,
      "grid_auto_columns": null,
      "grid_auto_flow": null,
      "grid_auto_rows": null,
      "grid_column": null,
      "grid_gap": null,
      "grid_row": null,
      "grid_template_areas": null,
      "grid_template_columns": null,
      "grid_template_rows": null,
      "height": null,
      "justify_content": null,
      "justify_items": null,
      "left": null,
      "margin": null,
      "max_height": null,
      "max_width": null,
      "min_height": null,
      "min_width": null,
      "object_fit": null,
      "object_position": null,
      "order": null,
      "overflow": null,
      "overflow_x": null,
      "overflow_y": null,
      "padding": null,
      "right": null,
      "top": null,
      "visibility": null,
      "width": null
     }
    },
    "d93d55f032ac46068d03caeb1330b7bc": {
     "model_module": "@jupyter-widgets/controls",
     "model_module_version": "1.5.0",
     "model_name": "HBoxModel",
     "state": {
      "_dom_classes": [],
      "_model_module": "@jupyter-widgets/controls",
      "_model_module_version": "1.5.0",
      "_model_name": "HBoxModel",
      "_view_count": null,
      "_view_module": "@jupyter-widgets/controls",
      "_view_module_version": "1.5.0",
      "_view_name": "HBoxView",
      "box_style": "",
      "children": [
       "IPY_MODEL_a143eeb39a3a4f34be3eea3253d8b3f2",
       "IPY_MODEL_c2924cb5fd6642d5aa134b63aaa01dca",
       "IPY_MODEL_e615f2d044e143d387a202fcaab64972"
      ],
      "layout": "IPY_MODEL_4d894cca56034a818c9132a012504061"
     }
    },
    "dc3f367d749440b1acd2f8cefe848c4e": {
     "model_module": "@jupyter-widgets/base",
     "model_module_version": "1.2.0",
     "model_name": "LayoutModel",
     "state": {
      "_model_module": "@jupyter-widgets/base",
      "_model_module_version": "1.2.0",
      "_model_name": "LayoutModel",
      "_view_count": null,
      "_view_module": "@jupyter-widgets/base",
      "_view_module_version": "1.2.0",
      "_view_name": "LayoutView",
      "align_content": null,
      "align_items": null,
      "align_self": null,
      "border": null,
      "bottom": null,
      "display": null,
      "flex": null,
      "flex_flow": null,
      "grid_area": null,
      "grid_auto_columns": null,
      "grid_auto_flow": null,
      "grid_auto_rows": null,
      "grid_column": null,
      "grid_gap": null,
      "grid_row": null,
      "grid_template_areas": null,
      "grid_template_columns": null,
      "grid_template_rows": null,
      "height": null,
      "justify_content": null,
      "justify_items": null,
      "left": null,
      "margin": null,
      "max_height": null,
      "max_width": null,
      "min_height": null,
      "min_width": null,
      "object_fit": null,
      "object_position": null,
      "order": null,
      "overflow": null,
      "overflow_x": null,
      "overflow_y": null,
      "padding": null,
      "right": null,
      "top": null,
      "visibility": null,
      "width": null
     }
    },
    "df47dce258854a2cbfde89bd1b4333a3": {
     "model_module": "@jupyter-widgets/controls",
     "model_module_version": "1.5.0",
     "model_name": "DescriptionStyleModel",
     "state": {
      "_model_module": "@jupyter-widgets/controls",
      "_model_module_version": "1.5.0",
      "_model_name": "DescriptionStyleModel",
      "_view_count": null,
      "_view_module": "@jupyter-widgets/base",
      "_view_module_version": "1.2.0",
      "_view_name": "StyleView",
      "description_width": ""
     }
    },
    "dff996c84db24f52bef3d54528588226": {
     "model_module": "@jupyter-widgets/controls",
     "model_module_version": "1.5.0",
     "model_name": "DescriptionStyleModel",
     "state": {
      "_model_module": "@jupyter-widgets/controls",
      "_model_module_version": "1.5.0",
      "_model_name": "DescriptionStyleModel",
      "_view_count": null,
      "_view_module": "@jupyter-widgets/base",
      "_view_module_version": "1.2.0",
      "_view_name": "StyleView",
      "description_width": ""
     }
    },
    "e01a20c18d8249cea389638d8c005b8d": {
     "model_module": "@jupyter-widgets/base",
     "model_module_version": "1.2.0",
     "model_name": "LayoutModel",
     "state": {
      "_model_module": "@jupyter-widgets/base",
      "_model_module_version": "1.2.0",
      "_model_name": "LayoutModel",
      "_view_count": null,
      "_view_module": "@jupyter-widgets/base",
      "_view_module_version": "1.2.0",
      "_view_name": "LayoutView",
      "align_content": null,
      "align_items": null,
      "align_self": null,
      "border": null,
      "bottom": null,
      "display": null,
      "flex": null,
      "flex_flow": null,
      "grid_area": null,
      "grid_auto_columns": null,
      "grid_auto_flow": null,
      "grid_auto_rows": null,
      "grid_column": null,
      "grid_gap": null,
      "grid_row": null,
      "grid_template_areas": null,
      "grid_template_columns": null,
      "grid_template_rows": null,
      "height": null,
      "justify_content": null,
      "justify_items": null,
      "left": null,
      "margin": null,
      "max_height": null,
      "max_width": null,
      "min_height": null,
      "min_width": null,
      "object_fit": null,
      "object_position": null,
      "order": null,
      "overflow": null,
      "overflow_x": null,
      "overflow_y": null,
      "padding": null,
      "right": null,
      "top": null,
      "visibility": null,
      "width": null
     }
    },
    "e188d96fbcc54a35838b1356cf7a8797": {
     "model_module": "@jupyter-widgets/controls",
     "model_module_version": "1.5.0",
     "model_name": "HTMLModel",
     "state": {
      "_dom_classes": [],
      "_model_module": "@jupyter-widgets/controls",
      "_model_module_version": "1.5.0",
      "_model_name": "HTMLModel",
      "_view_count": null,
      "_view_module": "@jupyter-widgets/controls",
      "_view_module_version": "1.5.0",
      "_view_name": "HTMLView",
      "description": "",
      "description_tooltip": null,
      "layout": "IPY_MODEL_ba30ea7b361c4105966ff21c1d8a8695",
      "placeholder": "​",
      "style": "IPY_MODEL_f514807a72e64160b487098810593b20",
      "value": "Downloading: 100%"
     }
    },
    "e3db079ea80048359f6097228cdc8086": {
     "model_module": "@jupyter-widgets/controls",
     "model_module_version": "1.5.0",
     "model_name": "FloatProgressModel",
     "state": {
      "_dom_classes": [],
      "_model_module": "@jupyter-widgets/controls",
      "_model_module_version": "1.5.0",
      "_model_name": "FloatProgressModel",
      "_view_count": null,
      "_view_module": "@jupyter-widgets/controls",
      "_view_module_version": "1.5.0",
      "_view_name": "ProgressView",
      "bar_style": "success",
      "description": "",
      "description_tooltip": null,
      "layout": "IPY_MODEL_c5ed91471a484c8da8249e731a16f343",
      "max": 56,
      "min": 0,
      "orientation": "horizontal",
      "style": "IPY_MODEL_bc621d540c4f48c88ef6758cc902f652",
      "value": 56
     }
    },
    "e615f2d044e143d387a202fcaab64972": {
     "model_module": "@jupyter-widgets/controls",
     "model_module_version": "1.5.0",
     "model_name": "HTMLModel",
     "state": {
      "_dom_classes": [],
      "_model_module": "@jupyter-widgets/controls",
      "_model_module_version": "1.5.0",
      "_model_name": "HTMLModel",
      "_view_count": null,
      "_view_module": "@jupyter-widgets/controls",
      "_view_module_version": "1.5.0",
      "_view_name": "HTMLView",
      "description": "",
      "description_tooltip": null,
      "layout": "IPY_MODEL_5cb0cdb0332f49caa2c9e728078da80a",
      "placeholder": "​",
      "style": "IPY_MODEL_1d07530c6d494b4bb5d9579e0da3c820",
      "value": " 214k/214k [00:00&lt;00:00, 481kB/s]"
     }
    },
    "e91015e3fd4e4c48930293c31958c06b": {
     "model_module": "@jupyter-widgets/controls",
     "model_module_version": "1.5.0",
     "model_name": "HBoxModel",
     "state": {
      "_dom_classes": [],
      "_model_module": "@jupyter-widgets/controls",
      "_model_module_version": "1.5.0",
      "_model_name": "HBoxModel",
      "_view_count": null,
      "_view_module": "@jupyter-widgets/controls",
      "_view_module_version": "1.5.0",
      "_view_name": "HBoxView",
      "box_style": "",
      "children": [
       "IPY_MODEL_03a85f47681c41cdab9d75beee0fb78a",
       "IPY_MODEL_04fe7e54680749478e8daec82decd3ee",
       "IPY_MODEL_f76847602c9e4f8ba5141ccf966a8918"
      ],
      "layout": "IPY_MODEL_c3f6df857dac4350a4c43b98e5b61e43"
     }
    },
    "e9ef7c82807847eb8ff43b3f0303b7d5": {
     "model_module": "@jupyter-widgets/controls",
     "model_module_version": "1.5.0",
     "model_name": "DescriptionStyleModel",
     "state": {
      "_model_module": "@jupyter-widgets/controls",
      "_model_module_version": "1.5.0",
      "_model_name": "DescriptionStyleModel",
      "_view_count": null,
      "_view_module": "@jupyter-widgets/base",
      "_view_module_version": "1.2.0",
      "_view_name": "StyleView",
      "description_width": ""
     }
    },
    "eefa541e2bce44f48d5d57921a5105a9": {
     "model_module": "@jupyter-widgets/controls",
     "model_module_version": "1.5.0",
     "model_name": "FloatProgressModel",
     "state": {
      "_dom_classes": [],
      "_model_module": "@jupyter-widgets/controls",
      "_model_module_version": "1.5.0",
      "_model_name": "FloatProgressModel",
      "_view_count": null,
      "_view_module": "@jupyter-widgets/controls",
      "_view_module_version": "1.5.0",
      "_view_name": "ProgressView",
      "bar_style": "success",
      "description": "",
      "description_tooltip": null,
      "layout": "IPY_MODEL_7c9acc1b41de46debb3a27a4af31f6c1",
      "max": 9006,
      "min": 0,
      "orientation": "horizontal",
      "style": "IPY_MODEL_c7cce1948cf14099b8b760cf64db0733",
      "value": 9006
     }
    },
    "efd3eea3194c47d28ce4981dceb04f54": {
     "model_module": "@jupyter-widgets/base",
     "model_module_version": "1.2.0",
     "model_name": "LayoutModel",
     "state": {
      "_model_module": "@jupyter-widgets/base",
      "_model_module_version": "1.2.0",
      "_model_name": "LayoutModel",
      "_view_count": null,
      "_view_module": "@jupyter-widgets/base",
      "_view_module_version": "1.2.0",
      "_view_name": "LayoutView",
      "align_content": null,
      "align_items": null,
      "align_self": null,
      "border": null,
      "bottom": null,
      "display": null,
      "flex": null,
      "flex_flow": null,
      "grid_area": null,
      "grid_auto_columns": null,
      "grid_auto_flow": null,
      "grid_auto_rows": null,
      "grid_column": null,
      "grid_gap": null,
      "grid_row": null,
      "grid_template_areas": null,
      "grid_template_columns": null,
      "grid_template_rows": null,
      "height": null,
      "justify_content": null,
      "justify_items": null,
      "left": null,
      "margin": null,
      "max_height": null,
      "max_width": null,
      "min_height": null,
      "min_width": null,
      "object_fit": null,
      "object_position": null,
      "order": null,
      "overflow": null,
      "overflow_x": null,
      "overflow_y": null,
      "padding": null,
      "right": null,
      "top": null,
      "visibility": null,
      "width": null
     }
    },
    "f472a293ade641c9bff11ee3905e34ee": {
     "model_module": "@jupyter-widgets/controls",
     "model_module_version": "1.5.0",
     "model_name": "DescriptionStyleModel",
     "state": {
      "_model_module": "@jupyter-widgets/controls",
      "_model_module_version": "1.5.0",
      "_model_name": "DescriptionStyleModel",
      "_view_count": null,
      "_view_module": "@jupyter-widgets/base",
      "_view_module_version": "1.2.0",
      "_view_name": "StyleView",
      "description_width": ""
     }
    },
    "f4a78200b20640f4928944c489daf7a7": {
     "model_module": "@jupyter-widgets/controls",
     "model_module_version": "1.5.0",
     "model_name": "HTMLModel",
     "state": {
      "_dom_classes": [],
      "_model_module": "@jupyter-widgets/controls",
      "_model_module_version": "1.5.0",
      "_model_name": "HTMLModel",
      "_view_count": null,
      "_view_module": "@jupyter-widgets/controls",
      "_view_module_version": "1.5.0",
      "_view_name": "HTMLView",
      "description": "",
      "description_tooltip": null,
      "layout": "IPY_MODEL_767206f5d9e04d099a2706442df3e2ca",
      "placeholder": "​",
      "style": "IPY_MODEL_81ea513d9bbb4dffb926f175947642e9",
      "value": "Downloading builder script: 100%"
     }
    },
    "f514807a72e64160b487098810593b20": {
     "model_module": "@jupyter-widgets/controls",
     "model_module_version": "1.5.0",
     "model_name": "DescriptionStyleModel",
     "state": {
      "_model_module": "@jupyter-widgets/controls",
      "_model_module_version": "1.5.0",
      "_model_name": "DescriptionStyleModel",
      "_view_count": null,
      "_view_module": "@jupyter-widgets/base",
      "_view_module_version": "1.2.0",
      "_view_name": "StyleView",
      "description_width": ""
     }
    },
    "f62340167e2d447096a2965b4fc60826": {
     "model_module": "@jupyter-widgets/controls",
     "model_module_version": "1.5.0",
     "model_name": "DescriptionStyleModel",
     "state": {
      "_model_module": "@jupyter-widgets/controls",
      "_model_module_version": "1.5.0",
      "_model_name": "DescriptionStyleModel",
      "_view_count": null,
      "_view_module": "@jupyter-widgets/base",
      "_view_module_version": "1.2.0",
      "_view_name": "StyleView",
      "description_width": ""
     }
    },
    "f76847602c9e4f8ba5141ccf966a8918": {
     "model_module": "@jupyter-widgets/controls",
     "model_module_version": "1.5.0",
     "model_name": "HTMLModel",
     "state": {
      "_dom_classes": [],
      "_model_module": "@jupyter-widgets/controls",
      "_model_module_version": "1.5.0",
      "_model_name": "HTMLModel",
      "_view_count": null,
      "_view_module": "@jupyter-widgets/controls",
      "_view_module_version": "1.5.0",
      "_view_name": "HTMLView",
      "description": "",
      "description_tooltip": null,
      "layout": "IPY_MODEL_d4b8a3d633a346e1ad913a3f39ff7332",
      "placeholder": "​",
      "style": "IPY_MODEL_df47dce258854a2cbfde89bd1b4333a3",
      "value": " 27321/27321 [00:10&lt;00:00, 2639.04ex/s]"
     }
    },
    "fbe16032b1b54aab84d7f1c3caf83201": {
     "model_module": "@jupyter-widgets/controls",
     "model_module_version": "1.5.0",
     "model_name": "DescriptionStyleModel",
     "state": {
      "_model_module": "@jupyter-widgets/controls",
      "_model_module_version": "1.5.0",
      "_model_name": "DescriptionStyleModel",
      "_view_count": null,
      "_view_module": "@jupyter-widgets/base",
      "_view_module_version": "1.2.0",
      "_view_name": "StyleView",
      "description_width": ""
     }
    },
    "fe51a8730e28454d897439830382db46": {
     "model_module": "@jupyter-widgets/controls",
     "model_module_version": "1.5.0",
     "model_name": "DescriptionStyleModel",
     "state": {
      "_model_module": "@jupyter-widgets/controls",
      "_model_module_version": "1.5.0",
      "_model_name": "DescriptionStyleModel",
      "_view_count": null,
      "_view_module": "@jupyter-widgets/base",
      "_view_module_version": "1.2.0",
      "_view_name": "StyleView",
      "description_width": ""
     }
    }
   }
  }
 },
 "nbformat": 4,
 "nbformat_minor": 5
}