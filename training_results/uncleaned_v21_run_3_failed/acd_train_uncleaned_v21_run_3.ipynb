{
 "cells": [
  {
   "cell_type": "code",
   "execution_count": 1,
   "id": "5d2ff60c",
   "metadata": {
    "execution": {
     "iopub.execute_input": "2022-11-07T11:48:40.789499Z",
     "iopub.status.busy": "2022-11-07T11:48:40.788723Z",
     "iopub.status.idle": "2022-11-07T11:48:43.322160Z",
     "shell.execute_reply": "2022-11-07T11:48:43.320450Z"
    },
    "papermill": {
     "duration": 2.55518,
     "end_time": "2022-11-07T11:48:43.324775",
     "exception": false,
     "start_time": "2022-11-07T11:48:40.769595",
     "status": "completed"
    },
    "tags": []
   },
   "outputs": [
    {
     "name": "stdout",
     "output_type": "stream",
     "text": [
      "Current cuda device: 0\n",
      "Count of using GPUs: 1\n"
     ]
    }
   ],
   "source": [
    "import os\n",
    "os.environ[\"TOKENIZERS_PARALLELISM\"] = \"false\"\n",
    "os.environ[\"CUDA_DEVICE_ORDER\"]=\"PCI_BUS_ID\"  # Arrange GPU devices starting from 0\n",
    "os.environ[\"CUDA_VISIBLE_DEVICES\"]= \"0\"  # Set the GPUs to use\n",
    "import torch\n",
    "print('Current cuda device:', torch.cuda.current_device())\n",
    "print('Count of using GPUs:', torch.cuda.device_count())"
   ]
  },
  {
   "cell_type": "markdown",
   "id": "b78af0d0",
   "metadata": {
    "id": "p8Lb8VDc8Rak",
    "papermill": {
     "duration": 0.013521,
     "end_time": "2022-11-07T11:48:43.423106",
     "exception": false,
     "start_time": "2022-11-07T11:48:43.409585",
     "status": "completed"
    },
    "tags": []
   },
   "source": [
    "# Description\n"
   ]
  },
  {
   "cell_type": "markdown",
   "id": "0853e4c6",
   "metadata": {
    "id": "9pZhmy9xKmZX",
    "papermill": {
     "duration": 0.012309,
     "end_time": "2022-11-07T11:48:43.447667",
     "exception": false,
     "start_time": "2022-11-07T11:48:43.435358",
     "status": "completed"
    },
    "tags": []
   },
   "source": [
    "# Modules and Global Variables"
   ]
  },
  {
   "cell_type": "code",
   "execution_count": 2,
   "id": "1117781c",
   "metadata": {
    "execution": {
     "iopub.execute_input": "2022-11-07T11:48:43.475405Z",
     "iopub.status.busy": "2022-11-07T11:48:43.473894Z",
     "iopub.status.idle": "2022-11-07T11:48:45.821683Z",
     "shell.execute_reply": "2022-11-07T11:48:45.820415Z"
    },
    "executionInfo": {
     "elapsed": 7927,
     "status": "ok",
     "timestamp": 1666002823379,
     "user": {
      "displayName": "Jeonghyeon Park",
      "userId": "12513544746873038725"
     },
     "user_tz": -540
    },
    "id": "_v8VXBZdKuUD",
    "papermill": {
     "duration": 2.364132,
     "end_time": "2022-11-07T11:48:45.823947",
     "exception": false,
     "start_time": "2022-11-07T11:48:43.459815",
     "status": "completed"
    },
    "tags": []
   },
   "outputs": [
    {
     "name": "stdout",
     "output_type": "stream",
     "text": [
      "torch.__version__: 1.7.1\n",
      "torch.cuda.is_available(): True\n",
      "NGPU: 1\n"
     ]
    }
   ],
   "source": [
    "from transformers import (\n",
    "    AutoTokenizer, AutoModelForSequenceClassification,\n",
    "    DataCollatorWithPadding, \n",
    "    TrainingArguments, Trainer,\n",
    ")\n",
    "\n",
    "import torch\n",
    "import wandb\n",
    "\n",
    "import datasets\n",
    "import evaluate\n",
    "\n",
    "import numpy as np\n",
    "import pandas as pd\n",
    "\n",
    "import os\n",
    "import re\n",
    "import random\n",
    "\n",
    "from module.args import *\n",
    "\n",
    "print_torch_info()"
   ]
  },
  {
   "cell_type": "code",
   "execution_count": 3,
   "id": "f06d9974",
   "metadata": {
    "colab": {
     "base_uri": "https://localhost:8080/"
    },
    "execution": {
     "iopub.execute_input": "2022-11-07T11:48:45.853640Z",
     "iopub.status.busy": "2022-11-07T11:48:45.852621Z",
     "iopub.status.idle": "2022-11-07T11:48:45.861287Z",
     "shell.execute_reply": "2022-11-07T11:48:45.860375Z"
    },
    "executionInfo": {
     "elapsed": 26,
     "status": "ok",
     "timestamp": 1666002823380,
     "user": {
      "displayName": "Jeonghyeon Park",
      "userId": "12513544746873038725"
     },
     "user_tz": -540
    },
    "id": "7t7eYrTJkyCV",
    "outputId": "752f7fad-c402-455f-e051-508453a58275",
    "papermill": {
     "duration": 0.025724,
     "end_time": "2022-11-07T11:48:45.863204",
     "exception": false,
     "start_time": "2022-11-07T11:48:45.837480",
     "status": "completed"
    },
    "tags": []
   },
   "outputs": [
    {
     "name": "stdout",
     "output_type": "stream",
     "text": [
      "{'True': 0, 'False': 1}\n",
      "{0: 'True', 1: 'False'}\n"
     ]
    }
   ],
   "source": [
    "### labels\n",
    "\n",
    "labels = ce_labels\n",
    "\n",
    "label2id = {k: i for i, k in enumerate(labels)}\n",
    "id2label = {i: k for i, k in enumerate(labels)}\n",
    "num_labels = len(labels)\n",
    "\n",
    "print(label2id)\n",
    "print(id2label)"
   ]
  },
  {
   "cell_type": "code",
   "execution_count": 4,
   "id": "2704cef8",
   "metadata": {
    "colab": {
     "base_uri": "https://localhost:8080/"
    },
    "execution": {
     "iopub.execute_input": "2022-11-07T11:48:45.892229Z",
     "iopub.status.busy": "2022-11-07T11:48:45.891249Z",
     "iopub.status.idle": "2022-11-07T11:48:46.533891Z",
     "shell.execute_reply": "2022-11-07T11:48:46.532476Z"
    },
    "executionInfo": {
     "elapsed": 2740,
     "status": "ok",
     "timestamp": 1666002826099,
     "user": {
      "displayName": "Jeonghyeon Park",
      "userId": "12513544746873038725"
     },
     "user_tz": -540
    },
    "id": "Rohq6E8Lp1x1",
    "outputId": "7acf0b7d-a979-4a20-b9f0-bbd449ae0c06",
    "papermill": {
     "duration": 0.660086,
     "end_time": "2022-11-07T11:48:46.536491",
     "exception": false,
     "start_time": "2022-11-07T11:48:45.876405",
     "status": "completed"
    },
    "tags": []
   },
   "outputs": [],
   "source": [
    "### paths and names\n",
    "\n",
    "PROJECT_NAME = 'aspect_category_detection'\n",
    "RUN_ID = 'uncleaned_v21_maxlen_256'\n",
    "\n",
    "DATA_V = 'uncleaned_v21'\n",
    "DATA_T = 'ce' # ce or pc or pc_binary\n",
    "AUGMENTATION = False\n",
    "AUG_NAME = ''\n",
    "\n",
    "MAX_LEN = False\n",
    "\n",
    "model_checkpoint = 'monologg/koelectra-base-v3-discriminator'\n",
    "\n",
    "notebook_name = 'train_acd.ipynb'\n",
    "\n",
    "### fixed\n",
    "\n",
    "model_name = re.sub(r'[/-]', r'_', model_checkpoint).lower()\n",
    "run_name = f'acd_{model_name}_{RUN_ID}'\n",
    "\n",
    "ROOT_PATH = './'\n",
    "SAVE_PATH = os.path.join(ROOT_PATH, 'training_results', RUN_ID)\n",
    "NOTEBOOK_PATH = os.path.join(ROOT_PATH, notebook_name)\n",
    "\n",
    "augornot = f'_{AUG_NAME}' if AUGMENTATION is True else ''\n",
    "TRAIN_DATA_PATH = os.path.join(ROOT_PATH, 'dataset', DATA_V, f'{DATA_T}_train{augornot}.csv')\n",
    "EVAL_DATA_PATH = os.path.join(ROOT_PATH, 'dataset', DATA_V, f'{DATA_T}_dev.csv')\n",
    "\n",
    "!mkdir -p {SAVE_PATH}"
   ]
  },
  {
   "cell_type": "code",
   "execution_count": 5,
   "id": "5ddd3de7",
   "metadata": {
    "execution": {
     "iopub.execute_input": "2022-11-07T11:48:46.564822Z",
     "iopub.status.busy": "2022-11-07T11:48:46.564141Z",
     "iopub.status.idle": "2022-11-07T11:48:46.573456Z",
     "shell.execute_reply": "2022-11-07T11:48:46.572399Z"
    },
    "papermill": {
     "duration": 0.025327,
     "end_time": "2022-11-07T11:48:46.574952",
     "exception": false,
     "start_time": "2022-11-07T11:48:46.549625",
     "status": "completed"
    },
    "tags": []
   },
   "outputs": [
    {
     "name": "stdout",
     "output_type": "stream",
     "text": [
      "PROJECT_NAME: aspect_category_detection\n",
      "\n",
      "model_checkpoint: monologg/koelectra-base-v3-discriminator\n",
      "DATA_V: uncleaned_v21\n",
      "\n",
      "SAVE_PATH: ./training_results/uncleaned_v21_maxlen_256 exists.\n",
      "NOTEBOOK_PATH: ./train_acd.ipynb exists.\n",
      "\n",
      "TRAIN_DATA_PATH: ./dataset/uncleaned_v21/ce_train.csv exists.\n",
      "EVAL_DATA_PATH: ./dataset/uncleaned_v21/ce_dev.csv exists.\n",
      "\n",
      "per_device_train_batch_size: 32\n",
      "per_device_eval_batch_size: 32\n",
      "learning_rate: 0.0002\n",
      "num_train_epochs: 10\n"
     ]
    }
   ],
   "source": [
    "print_paths(PROJECT_NAME, model_checkpoint, DATA_V, SAVE_PATH, NOTEBOOK_PATH, TRAIN_DATA_PATH, EVAL_DATA_PATH)\n",
    "print()\n",
    "print_args()"
   ]
  },
  {
   "cell_type": "markdown",
   "id": "cb01438a",
   "metadata": {
    "id": "yXVsV8jQpreV",
    "papermill": {
     "duration": 0.012438,
     "end_time": "2022-11-07T11:48:46.600257",
     "exception": false,
     "start_time": "2022-11-07T11:48:46.587819",
     "status": "completed"
    },
    "tags": []
   },
   "source": [
    "# WandB Configuration"
   ]
  },
  {
   "cell_type": "code",
   "execution_count": 6,
   "id": "60ca02ff",
   "metadata": {
    "colab": {
     "base_uri": "https://localhost:8080/",
     "height": 163
    },
    "execution": {
     "iopub.execute_input": "2022-11-07T11:48:46.632337Z",
     "iopub.status.busy": "2022-11-07T11:48:46.631447Z",
     "iopub.status.idle": "2022-11-07T11:48:48.269336Z",
     "shell.execute_reply": "2022-11-07T11:48:48.268410Z"
    },
    "executionInfo": {
     "elapsed": 5223,
     "status": "ok",
     "timestamp": 1666002831299,
     "user": {
      "displayName": "Jeonghyeon Park",
      "userId": "12513544746873038725"
     },
     "user_tz": -540
    },
    "id": "P0IR11QyPy26",
    "outputId": "1fbef064-51fe-4272-cb98-dcdc79bcb78d",
    "papermill": {
     "duration": 1.658528,
     "end_time": "2022-11-07T11:48:48.271040",
     "exception": false,
     "start_time": "2022-11-07T11:48:46.612512",
     "status": "completed"
    },
    "tags": []
   },
   "outputs": [
    {
     "name": "stdout",
     "output_type": "stream",
     "text": [
      "env: WANDB_PROJECT=aspect_category_detection\n",
      "env: WANDB_NOTEBOOK_NAME=./train_acd.ipynb\n",
      "env: WANDB_LOG_MODEL=true\n",
      "env: WANDB_WATCH=all\n"
     ]
    },
    {
     "name": "stderr",
     "output_type": "stream",
     "text": [
      "\u001b[34m\u001b[1mwandb\u001b[0m: Currently logged in as: \u001b[33mdotsnangles\u001b[0m. Use \u001b[1m`wandb login --relogin`\u001b[0m to force relogin\n"
     ]
    },
    {
     "data": {
      "text/plain": [
       "True"
      ]
     },
     "execution_count": 6,
     "metadata": {},
     "output_type": "execute_result"
    }
   ],
   "source": [
    "%env WANDB_PROJECT={PROJECT_NAME}\n",
    "%env WANDB_NOTEBOOK_NAME={NOTEBOOK_PATH}\n",
    "%env WANDB_LOG_MODEL=true\n",
    "%env WANDB_WATCH=all\n",
    "wandb.login()"
   ]
  },
  {
   "cell_type": "markdown",
   "id": "968cb52d",
   "metadata": {
    "id": "XSAzFxnH1ozQ",
    "papermill": {
     "duration": 0.015443,
     "end_time": "2022-11-07T11:48:48.304067",
     "exception": false,
     "start_time": "2022-11-07T11:48:48.288624",
     "status": "completed"
    },
    "tags": []
   },
   "source": [
    "# Load Model, Tokenizer, and Collator"
   ]
  },
  {
   "cell_type": "code",
   "execution_count": 7,
   "id": "ca20155d",
   "metadata": {
    "colab": {
     "base_uri": "https://localhost:8080/",
     "height": 256,
     "referenced_widgets": [
      "a617546d074546e1b5aecfd9455ed7c1",
      "72bf2247806d45388a7e1a0aa11d0959",
      "26c761752f7545eebd3f4031565bd21b",
      "edf47685cc1d42f4b89e5e12098e2b38",
      "fdf9b64435a14fa3a3595cbfceaa74fe",
      "c7fe824174f84db0b4cfcba3ab2d4865",
      "9372cce179da4990b10545216ddfff57",
      "5934d7aa96754d1c8f68e482e4ead238",
      "c24b01a4136347378bc40e292b4a9ae1",
      "f126b3d7919746eda30642d56666403d",
      "65d1b052cf30437595549494881dbfff",
      "3dad4c6750e34ae5a045f4d0b93f4842",
      "80e6eeca23244072bfaba7188bf166e3",
      "34cff3cdd86f497bb030e9047652091e",
      "ca89d634c4594eb7ac596999b528a608",
      "1b695bdc091843efb477445ffa98daed",
      "f421ec005ae340f285bb64edba73d38a",
      "0247963a6fb6431593c3525f80e556a8",
      "3cdcc7db38cc4be0b6d8968fda36033e",
      "70961bf6efb244bbbbd6aa0f55a9d9b5",
      "22c00b59825045c78a680eeab20c2850",
      "220328c5c2b947d997375647045b0188",
      "f176e7c6260c4d9ca52d0e2f7be37835",
      "beddebd7683c4152ba665807ec63e3f1",
      "5f5a745dba1f4f6f9ad72680e44c1f9d",
      "7f0563c80b144498a1cb781c0eda51ca",
      "04d34de8dee54d16b492cde56978c682",
      "873055642db74cdf96bbc78c2254eb08",
      "006f8165820f493daf38f10e7ed02caa",
      "2d4ba99325754feb8987027cd582568a",
      "ede7f3ad3c0d4395b2d5c6650cbb4871",
      "a118595725754a5088c1953b1654ed9d",
      "6b3cd7406576456fa820093599bd4ca7",
      "588821b286b34625a9dbd1008fb553a4",
      "fff8b7627a41445e9bcaaa3c2c280d4d",
      "98b7e9b6cdb648388cdff7ab2626054d",
      "21c14493175b41278c9608f48aefaf63",
      "49347ce9a69544b79514e3bad1065196",
      "568587eeda734aa1974d3ab04284ac23",
      "e9de070546d54e74b5571640c4601977",
      "b634013c76804be5868bea6de3b21876",
      "51a2b42366f647bc873f83e793247d0f",
      "1adb644a97e04715a675cef21c9d4349",
      "64e2c8736f4e4b3d83c8a646c0850542"
     ]
    },
    "execution": {
     "iopub.execute_input": "2022-11-07T11:48:48.341385Z",
     "iopub.status.busy": "2022-11-07T11:48:48.340642Z",
     "iopub.status.idle": "2022-11-07T11:48:53.373405Z",
     "shell.execute_reply": "2022-11-07T11:48:53.372405Z"
    },
    "executionInfo": {
     "elapsed": 25262,
     "status": "ok",
     "timestamp": 1666002856543,
     "user": {
      "displayName": "Jeonghyeon Park",
      "userId": "12513544746873038725"
     },
     "user_tz": -540
    },
    "id": "v7hpRDtF7ChY",
    "outputId": "9e26624f-a607-468c-d346-bdff6569a989",
    "papermill": {
     "duration": 5.053985,
     "end_time": "2022-11-07T11:48:53.375802",
     "exception": false,
     "start_time": "2022-11-07T11:48:48.321817",
     "status": "completed"
    },
    "tags": []
   },
   "outputs": [
    {
     "name": "stderr",
     "output_type": "stream",
     "text": [
      "Some weights of the model checkpoint at monologg/koelectra-base-v3-discriminator were not used when initializing ElectraForSequenceClassification: ['discriminator_predictions.dense.bias', 'discriminator_predictions.dense.weight', 'discriminator_predictions.dense_prediction.bias', 'discriminator_predictions.dense_prediction.weight']\n",
      "- This IS expected if you are initializing ElectraForSequenceClassification from the checkpoint of a model trained on another task or with another architecture (e.g. initializing a BertForSequenceClassification model from a BertForPreTraining model).\n",
      "- This IS NOT expected if you are initializing ElectraForSequenceClassification from the checkpoint of a model that you expect to be exactly identical (initializing a BertForSequenceClassification model from a BertForSequenceClassification model).\n"
     ]
    },
    {
     "name": "stderr",
     "output_type": "stream",
     "text": [
      "Some weights of ElectraForSequenceClassification were not initialized from the model checkpoint at monologg/koelectra-base-v3-discriminator and are newly initialized: ['classifier.dense.weight', 'classifier.out_proj.bias', 'classifier.dense.bias', 'classifier.out_proj.weight']\n",
      "You should probably TRAIN this model on a down-stream task to be able to use it for predictions and inference.\n"
     ]
    }
   ],
   "source": [
    "tokenizer = AutoTokenizer.from_pretrained(model_checkpoint)\n",
    "model = AutoModelForSequenceClassification.from_pretrained(\n",
    "    model_checkpoint, label2id=label2id, id2label=id2label, num_labels=num_labels\n",
    ")\n",
    "\n",
    "if MAX_LEN:\n",
    "    data_collator = DataCollatorWithPadding(tokenizer=tokenizer, padding='max_length', max_length=MAX_LEN)\n",
    "else:\n",
    "    data_collator = DataCollatorWithPadding(tokenizer=tokenizer)"
   ]
  },
  {
   "cell_type": "code",
   "execution_count": 8,
   "id": "baa2b942",
   "metadata": {
    "execution": {
     "iopub.execute_input": "2022-11-07T11:48:53.408739Z",
     "iopub.status.busy": "2022-11-07T11:48:53.407576Z",
     "iopub.status.idle": "2022-11-07T11:48:55.457369Z",
     "shell.execute_reply": "2022-11-07T11:48:55.456375Z"
    },
    "executionInfo": {
     "elapsed": 1183,
     "status": "ok",
     "timestamp": 1666002860165,
     "user": {
      "displayName": "Jeonghyeon Park",
      "userId": "12513544746873038725"
     },
     "user_tz": -540
    },
    "id": "jRpAE71Baeiv",
    "papermill": {
     "duration": 2.068431,
     "end_time": "2022-11-07T11:48:55.459992",
     "exception": false,
     "start_time": "2022-11-07T11:48:53.391561",
     "status": "completed"
    },
    "tags": []
   },
   "outputs": [
    {
     "name": "stdout",
     "output_type": "stream",
     "text": [
      "35000\n"
     ]
    },
    {
     "name": "stdout",
     "output_type": "stream",
     "text": [
      "\n",
      "\n",
      "\n",
      "3060\n",
      "35212\n"
     ]
    },
    {
     "name": "stdout",
     "output_type": "stream",
     "text": [
      "212\n",
      "{'펏', '뗴', '##🕸', '🐥', '귯', 'ᴏ', '👨', 'ɴ', 'ᴗ', '띡', '🤡', '⏰', '💧', '🙃', '##👨', 'ғ', '촥', '##˃', '##💋', '##ᴍ', '##ᵕ', '͈', '##ᴇ', '##ɢ', '##ꈍ', '˚', '##곘', '##젔', '쓩', '👦', '💋', '##🌹', '❔', 'ᴛ', '쏨', 'ᴍ', '##♬', '➰', '쫜', '🌹', '##ᴡ', '◡', '##➰', '😴', '##🧚', '##͈', '##💞', '##😲', 'ꈍ', '💄', '##닼', '##❔', '♪', '##🤮', '##ᴘ', '💯', '##💯', '뜌', '##♩', '##💆', '##챦', '##🎂', '##😬', '##ᴠ', '##🐥', '👠', '##츌', '🥤', '닼', '💞', '##🥤', '횽', '##💧', '😯', '뿤', '##🤘', '🧚', '듕', '츌', '##🍎', '👌', '읒', '웻', '챦', '🎵', '♩', '##˚', '##👠', '💇', 'ᴀ', '##👌', 'ɢ', '🍎', '##🚗', '##☝', '🎂', 'ʜ', '🖒', '🚗', '💬', '🤮', '##➕', '˂', '🕷', '😮', '##띡', 'ᴜ', '닠', '##🌝', '핡', '챳', '##옄', '##💝', '##😶', '##닠', '☝', '##👦', 'ᴠ', '##죱', '잍', 'ɪ', '##♪', '##̵', '앝', '💝', '##쨕', '😬', '🍰', '🍷', '◍', '🍼', '♬', '🎀', '##ˇ', '##쫜', '##👆', 'ʀ', '쨕', '𖤐', '##뜌', '##ɴ', '똭', '🤟', '##🤡', '꺠', '##귯', 'ღ', '##💄', '##˂', '😲', '🌝', 'ᴡ', '##㉦', '🐄', '̵', '⁉', 'ˇ', '##앝', '##🖒', 'ㅖ', '👆', '##💇', 'ᴇ', '옄', '##펏', '🤘', '💆', '##읒', '##◡', '##듕', '##쵝', '##ɪ', '📸', '➕', '곘', '퐉', '😶', '˃', '죱', '💎', '##ᴛ', '졓', '##ᴀ', '##ᴜ', '쵝', 'ෆ', '컄', '💡', 'ᴘ', '🕸', '##잍', '##ᴏ', '🖐', '##®', '밪', 'ᵕ', '##촥', '##쏨', '🐱', '🌻', '😜', '##🕷', '🕺', '##◍', '㉦', '젔', '##ʀ', '##😮', '##🎵', '😺', '🔸', '😡'}\n"
     ]
    }
   ],
   "source": [
    "train_path = f'./dataset/{DATA_V}/raw_train.csv'\n",
    "dev_path = f'./dataset/{DATA_V}/raw_dev.csv'\n",
    "test_path = f'./dataset/{DATA_V}/raw_test.csv'\n",
    "train = pd.read_csv(train_path)\n",
    "dev = pd.read_csv(dev_path)\n",
    "test = pd.read_csv(test_path)\n",
    "\n",
    "print(len(tokenizer))\n",
    "tokenizer_train_data = pd.concat([train.sentence_form, dev.sentence_form, test.sentence_form]).to_frame().drop_duplicates()\n",
    "tokenizer_train_data = tokenizer_train_data.sentence_form.to_list()\n",
    "new_tokenizer = AutoTokenizer.from_pretrained(model_checkpoint)\n",
    "new_tokenizer = tokenizer.train_new_from_iterator(tokenizer_train_data, vocab_size=1)\n",
    "new_tokens = set(list(new_tokenizer.vocab.keys())) - set(tokenizer.vocab.keys())\n",
    "tokenizer.add_tokens(list(new_tokens))\n",
    "print(len(new_tokenizer))\n",
    "print(len(tokenizer))\n",
    "model.resize_token_embeddings(len(tokenizer))\n",
    "\n",
    "print(len(new_tokens))\n",
    "print(new_tokens)"
   ]
  },
  {
   "cell_type": "code",
   "execution_count": 9,
   "id": "7b4c3b76",
   "metadata": {
    "colab": {
     "base_uri": "https://localhost:8080/"
    },
    "execution": {
     "iopub.execute_input": "2022-11-07T11:48:55.504230Z",
     "iopub.status.busy": "2022-11-07T11:48:55.503182Z",
     "iopub.status.idle": "2022-11-07T11:48:55.513213Z",
     "shell.execute_reply": "2022-11-07T11:48:55.512383Z"
    },
    "executionInfo": {
     "elapsed": 12,
     "status": "ok",
     "timestamp": 1666002862318,
     "user": {
      "displayName": "Jeonghyeon Park",
      "userId": "12513544746873038725"
     },
     "user_tz": -540
    },
    "id": "fPhUW964vTzH",
    "outputId": "f7259eb0-6a7d-4527-bd65-ab97d3391bf1",
    "papermill": {
     "duration": 0.027865,
     "end_time": "2022-11-07T11:48:55.515053",
     "exception": false,
     "start_time": "2022-11-07T11:48:55.487188",
     "status": "completed"
    },
    "tags": []
   },
   "outputs": [
    {
     "data": {
      "text/plain": [
       "({'True': 0, 'False': 1}, {0: 'True', 1: 'False'}, 2)"
      ]
     },
     "execution_count": 9,
     "metadata": {},
     "output_type": "execute_result"
    }
   ],
   "source": [
    "model.config.label2id, model.config.id2label, model.num_labels"
   ]
  },
  {
   "cell_type": "markdown",
   "id": "4bdebd3c",
   "metadata": {
    "id": "V-EVcOAQ18dS",
    "papermill": {
     "duration": 0.014271,
     "end_time": "2022-11-07T11:48:55.543697",
     "exception": false,
     "start_time": "2022-11-07T11:48:55.529426",
     "status": "completed"
    },
    "tags": []
   },
   "source": [
    "# Define Metrics"
   ]
  },
  {
   "cell_type": "code",
   "execution_count": 10,
   "id": "473aaa5d",
   "metadata": {
    "colab": {
     "base_uri": "https://localhost:8080/",
     "height": 81,
     "referenced_widgets": [
      "2acbe67064e642e68645ef60458fdfdc",
      "eb4a00ce79f84c2bb6150a24503c1eb6",
      "511d2db235684e2e8621ea2faaebcb1d",
      "c90289bd74b34fafb2bac06f3b22fc7f",
      "f0a629bf3847497ab655c1cda0c9c5af",
      "108c8184c356401c83d1a9679bcb5848",
      "a2ebdd246c7e48b7a019a795526e25fa",
      "2f04c700f3eb41bca2b1dbf0004e47fd",
      "573cb79e515b4a34a99bcd4860bcc2b0",
      "ee834bb939ee462d9a9f34ebf02aac59",
      "4af8016f4e5349e1ab0775f17f2db82f",
      "fa1aee690e874736adc1e4c381327507",
      "7b1808532a3c4903ab98aa58af8e1248",
      "62959d0b97384b48af1ccc453409e5ee",
      "cd84bc40872c43e997130f05d7d170a0",
      "91eb60b340064785ad8cc6a305c3ff55",
      "4b08a69907db4c11a663e3ce1d8d86ae",
      "145aa8c1774e47e6b41cb05b3410f524",
      "3ea409649a9f4e24900c36fe55849691",
      "023e50a08de74d0dbb516866989a50cd",
      "43a1fdd397714aa78df15d8023e4fc8d",
      "a3af79f2f66745b085ed3439060d1b51"
     ]
    },
    "execution": {
     "iopub.execute_input": "2022-11-07T11:48:55.574671Z",
     "iopub.status.busy": "2022-11-07T11:48:55.574094Z",
     "iopub.status.idle": "2022-11-07T11:48:58.929303Z",
     "shell.execute_reply": "2022-11-07T11:48:58.928416Z"
    },
    "executionInfo": {
     "elapsed": 5329,
     "status": "ok",
     "timestamp": 1666002867640,
     "user": {
      "displayName": "Jeonghyeon Park",
      "userId": "12513544746873038725"
     },
     "user_tz": -540
    },
    "id": "qtEXOy22Gz8l",
    "outputId": "14e8d37b-0df4-472e-8039-246a78344968",
    "papermill": {
     "duration": 3.373446,
     "end_time": "2022-11-07T11:48:58.931554",
     "exception": false,
     "start_time": "2022-11-07T11:48:55.558108",
     "status": "completed"
    },
    "tags": []
   },
   "outputs": [],
   "source": [
    "accuracy_metric = evaluate.load('accuracy')\n",
    "f1_metric = evaluate.load('f1')"
   ]
  },
  {
   "cell_type": "code",
   "execution_count": 11,
   "id": "3506797c",
   "metadata": {
    "execution": {
     "iopub.execute_input": "2022-11-07T11:48:58.968694Z",
     "iopub.status.busy": "2022-11-07T11:48:58.962681Z",
     "iopub.status.idle": "2022-11-07T11:48:58.977200Z",
     "shell.execute_reply": "2022-11-07T11:48:58.976383Z"
    },
    "executionInfo": {
     "elapsed": 10,
     "status": "ok",
     "timestamp": 1666002867641,
     "user": {
      "displayName": "Jeonghyeon Park",
      "userId": "12513544746873038725"
     },
     "user_tz": -540
    },
    "id": "1d61JHiLEadB",
    "papermill": {
     "duration": 0.033203,
     "end_time": "2022-11-07T11:48:58.978779",
     "exception": false,
     "start_time": "2022-11-07T11:48:58.945576",
     "status": "completed"
    },
    "tags": []
   },
   "outputs": [],
   "source": [
    "def compute_metrics(eval_pred):\n",
    "    predictions, labels = eval_pred\n",
    "    predictions = np.argmax(predictions, axis=1)\n",
    "    \n",
    "    accuracy = accuracy_metric.compute(references=labels, predictions=predictions)['accuracy']\n",
    "    f1_true, f1_false = tuple(f1_metric.compute(references=labels, predictions=predictions, average=None, labels=[0,1])['f1'])\n",
    "    f1_macro = f1_metric.compute(references=labels, predictions=predictions, average='macro')['f1']\n",
    "    f1_micro = f1_metric.compute(references=labels, predictions=predictions, average='micro')['f1']\n",
    "    \n",
    "    return {'accuracy': accuracy, 'f1_true': f1_true, 'f1_false': f1_false, 'f1_macro': f1_macro, 'f1_micro': f1_micro}"
   ]
  },
  {
   "cell_type": "markdown",
   "id": "c50abfc9",
   "metadata": {
    "id": "EBp5WFGR2JRb",
    "papermill": {
     "duration": 0.013371,
     "end_time": "2022-11-07T11:48:59.005557",
     "exception": false,
     "start_time": "2022-11-07T11:48:58.992186",
     "status": "completed"
    },
    "tags": []
   },
   "source": [
    "# Load Data"
   ]
  },
  {
   "cell_type": "code",
   "execution_count": 12,
   "id": "810f346c",
   "metadata": {
    "execution": {
     "iopub.execute_input": "2022-11-07T11:48:59.034870Z",
     "iopub.status.busy": "2022-11-07T11:48:59.033804Z",
     "iopub.status.idle": "2022-11-07T11:48:59.041089Z",
     "shell.execute_reply": "2022-11-07T11:48:59.040363Z"
    },
    "executionInfo": {
     "elapsed": 9,
     "status": "ok",
     "timestamp": 1666002867641,
     "user": {
      "displayName": "Jeonghyeon Park",
      "userId": "12513544746873038725"
     },
     "user_tz": -540
    },
    "id": "ryHwmgr7B3Ze",
    "papermill": {
     "duration": 0.023876,
     "end_time": "2022-11-07T11:48:59.042489",
     "exception": false,
     "start_time": "2022-11-07T11:48:59.018613",
     "status": "completed"
    },
    "tags": []
   },
   "outputs": [],
   "source": [
    "def preprocess_function(examples):\n",
    "    return tokenizer(examples[\"form\"], examples[\"pair\"], truncation=True)"
   ]
  },
  {
   "cell_type": "code",
   "execution_count": 13,
   "id": "513a8fde",
   "metadata": {
    "colab": {
     "base_uri": "https://localhost:8080/",
     "height": 81,
     "referenced_widgets": [
      "84347e32e7c347dc944f17495ce5d0d1",
      "a2bbca70b92a4cadb7490f9557090cb8",
      "bcb47f2fcce3498bad5649df3765875c",
      "58f58af09b4c40c5842a85ef74691b43",
      "c24715f2177f4671b7d59194e70adf05",
      "78b1cc22cf7d4dc0b336aad1de510d65",
      "d2451ff40bc542d7a4e4a5c078d52a80",
      "1571b488fd5f43abbe7403a9eb6c5dc0",
      "a86755357a82421aadf92b445e936d21",
      "889b946a743142329787ca7652e8351b",
      "795293e6d69648069d41e689c4288e3c",
      "1d3d62930fb54eb1b42416c2d29b60c9",
      "34718e57ddbd45fd9b39df78c39ac684",
      "354c39a508c24098945ecc3e0370c802",
      "fadede78260f47dcbb5dd57b06f63e03",
      "c9105a4d4c8146518865674f0c01eeba",
      "2e61589dbff743109b00222189d0852d",
      "c45b08001d0842ef96b9e0d5bd238a47",
      "e9f1f74a460c479583ac50966ce6dc00",
      "b30b5031b69246178354057c0adb28d2",
      "c4c70934fa6949d393e6619ba7918f9f",
      "99ff889a390148d6806eb682f1c0aea8"
     ]
    },
    "execution": {
     "iopub.execute_input": "2022-11-07T11:48:59.071948Z",
     "iopub.status.busy": "2022-11-07T11:48:59.070908Z",
     "iopub.status.idle": "2022-11-07T11:49:18.669360Z",
     "shell.execute_reply": "2022-11-07T11:49:18.668391Z"
    },
    "executionInfo": {
     "elapsed": 50966,
     "status": "ok",
     "timestamp": 1666002918598,
     "user": {
      "displayName": "Jeonghyeon Park",
      "userId": "12513544746873038725"
     },
     "user_tz": -540
    },
    "id": "lM9mxmKb2Nah",
    "outputId": "97146b6f-80f1-4c8b-d6ec-efd8f524f65c",
    "papermill": {
     "duration": 19.615378,
     "end_time": "2022-11-07T11:49:18.671394",
     "exception": false,
     "start_time": "2022-11-07T11:48:59.056016",
     "status": "completed"
    },
    "tags": []
   },
   "outputs": [
    {
     "data": {
      "application/vnd.jupyter.widget-view+json": {
       "model_id": "5d07314aa8464246902d5c71f36c9220",
       "version_major": 2,
       "version_minor": 0
      },
      "text/plain": [
       "  0%|          | 0/75 [00:00<?, ?ba/s]"
      ]
     },
     "metadata": {},
     "output_type": "display_data"
    },
    {
     "data": {
      "application/vnd.jupyter.widget-view+json": {
       "model_id": "70b867c9d5a74cd390a539d5de7b8b63",
       "version_major": 2,
       "version_minor": 0
      },
      "text/plain": [
       "  0%|          | 0/70 [00:00<?, ?ba/s]"
      ]
     },
     "metadata": {},
     "output_type": "display_data"
    }
   ],
   "source": [
    "train_dataset = pd.read_csv(TRAIN_DATA_PATH)\n",
    "eval_dataset = pd.read_csv(EVAL_DATA_PATH)\n",
    "train_dataset = datasets.Dataset.from_pandas(train_dataset).shuffle(seed=42)\n",
    "eval_dataset = datasets.Dataset.from_pandas(eval_dataset).shuffle(seed=42)\n",
    "train_dataset = train_dataset.map(preprocess_function, batched=True)\n",
    "eval_dataset = eval_dataset.map(preprocess_function, batched=True)"
   ]
  },
  {
   "cell_type": "code",
   "execution_count": 14,
   "id": "72ed6bcd",
   "metadata": {
    "colab": {
     "base_uri": "https://localhost:8080/"
    },
    "execution": {
     "iopub.execute_input": "2022-11-07T11:49:18.704848Z",
     "iopub.status.busy": "2022-11-07T11:49:18.703903Z",
     "iopub.status.idle": "2022-11-07T11:49:18.713393Z",
     "shell.execute_reply": "2022-11-07T11:49:18.712398Z"
    },
    "executionInfo": {
     "elapsed": 720,
     "status": "ok",
     "timestamp": 1666002919300,
     "user": {
      "displayName": "Jeonghyeon Park",
      "userId": "12513544746873038725"
     },
     "user_tz": -540
    },
    "id": "YUaaH_gi7UFe",
    "outputId": "400c3962-ef13-4f6c-ce89-680522f3b3c8",
    "papermill": {
     "duration": 0.027707,
     "end_time": "2022-11-07T11:49:18.715393",
     "exception": false,
     "start_time": "2022-11-07T11:49:18.687686",
     "status": "completed"
    },
    "tags": []
   },
   "outputs": [
    {
     "data": {
      "text/plain": [
       "(75000, 69825)"
      ]
     },
     "execution_count": 14,
     "metadata": {},
     "output_type": "execute_result"
    }
   ],
   "source": [
    "len(train_dataset), len(eval_dataset)"
   ]
  },
  {
   "cell_type": "code",
   "execution_count": 15,
   "id": "01b661e8",
   "metadata": {
    "colab": {
     "base_uri": "https://localhost:8080/"
    },
    "execution": {
     "iopub.execute_input": "2022-11-07T11:49:18.746314Z",
     "iopub.status.busy": "2022-11-07T11:49:18.745778Z",
     "iopub.status.idle": "2022-11-07T11:49:21.033626Z",
     "shell.execute_reply": "2022-11-07T11:49:21.032429Z"
    },
    "executionInfo": {
     "elapsed": 7,
     "status": "ok",
     "timestamp": 1666002919301,
     "user": {
      "displayName": "Jeonghyeon Park",
      "userId": "12513544746873038725"
     },
     "user_tz": -540
    },
    "id": "AW4V6ZVKdMRP",
    "outputId": "ebd2c436-824c-4b5e-8359-129c4e32b6a1",
    "papermill": {
     "duration": 2.306085,
     "end_time": "2022-11-07T11:49:21.035868",
     "exception": false,
     "start_time": "2022-11-07T11:49:18.729783",
     "status": "completed"
    },
    "tags": []
   },
   "outputs": [
    {
     "name": "stdout",
     "output_type": "stream",
     "text": [
      "[CLS] 수분감이 확실히 많아서 촉촉하니 잘 발리는데다가 발색도 자연스럽고 오래 유지되는데 커버력도 굿 귯 😍😍 [SEP] 본품 # 품질 [SEP] 0\n"
     ]
    },
    {
     "name": "stdout",
     "output_type": "stream",
     "text": [
      "[CLS] 집 분위기도 좋앙 [SEP] 본품 # 편의성 [SEP] 1\n"
     ]
    }
   ],
   "source": [
    "k = random.randrange(len(train_dataset))\n",
    "print(tokenizer.decode(train_dataset['input_ids'][k]), train_dataset['labels'][k])\n",
    "k = random.randrange(len(eval_dataset))\n",
    "print(tokenizer.decode(eval_dataset['input_ids'][k]), eval_dataset['labels'][k])"
   ]
  },
  {
   "cell_type": "markdown",
   "id": "14285083",
   "metadata": {
    "id": "admrPVvW1_Q_",
    "papermill": {
     "duration": 0.013806,
     "end_time": "2022-11-07T11:49:21.064498",
     "exception": false,
     "start_time": "2022-11-07T11:49:21.050692",
     "status": "completed"
    },
    "tags": []
   },
   "source": [
    "# Load Trainer"
   ]
  },
  {
   "cell_type": "code",
   "execution_count": 16,
   "id": "44dbff09",
   "metadata": {
    "execution": {
     "iopub.execute_input": "2022-11-07T11:49:21.094484Z",
     "iopub.status.busy": "2022-11-07T11:49:21.093437Z",
     "iopub.status.idle": "2022-11-07T11:49:21.105524Z",
     "shell.execute_reply": "2022-11-07T11:49:21.104432Z"
    },
    "executionInfo": {
     "elapsed": 6,
     "status": "ok",
     "timestamp": 1666002919301,
     "user": {
      "displayName": "Jeonghyeon Park",
      "userId": "12513544746873038725"
     },
     "user_tz": -540
    },
    "id": "B0b4moolsNWK",
    "papermill": {
     "duration": 0.029615,
     "end_time": "2022-11-07T11:49:21.107482",
     "exception": false,
     "start_time": "2022-11-07T11:49:21.077867",
     "status": "completed"
    },
    "tags": []
   },
   "outputs": [],
   "source": [
    "args = TrainingArguments(\n",
    "    output_dir=run_name,\n",
    "    run_name=run_name,\n",
    "    report_to=report_to,\n",
    "\n",
    "    num_train_epochs=num_train_epochs,\n",
    "    per_device_train_batch_size=per_device_train_batch_size,\n",
    "    per_device_eval_batch_size=per_device_eval_batch_size,\n",
    "    gradient_accumulation_steps=gradient_accumulation_steps,\n",
    "\n",
    "    optim=optim,\n",
    "\n",
    "    learning_rate=learning_rate,\n",
    "    weight_decay=weight_decay,\n",
    "    adam_epsilon=adam_epsilon,\n",
    "\n",
    "    lr_scheduler_type=lr_scheduler_type,\n",
    "    warmup_ratio=warmup_ratio,\n",
    "\n",
    "    save_total_limit=save_total_limit,\n",
    "\n",
    "    load_best_model_at_end=load_best_model_at_end,\n",
    "    metric_for_best_model=metric_for_best_model,\n",
    "    \n",
    "    save_strategy=save_strategy,\n",
    "    evaluation_strategy=evaluation_strategy,\n",
    "\n",
    "    logging_strategy=logging_strategy,\n",
    "    logging_first_step=logging_first_step, \n",
    "    logging_steps=logging_steps,\n",
    "    \n",
    "    fp16=fp16,\n",
    ")"
   ]
  },
  {
   "cell_type": "code",
   "execution_count": 17,
   "id": "9fb2657f",
   "metadata": {
    "execution": {
     "iopub.execute_input": "2022-11-07T11:49:21.140067Z",
     "iopub.status.busy": "2022-11-07T11:49:21.138976Z",
     "iopub.status.idle": "2022-11-07T11:49:21.145375Z",
     "shell.execute_reply": "2022-11-07T11:49:21.144358Z"
    },
    "executionInfo": {
     "elapsed": 6,
     "status": "ok",
     "timestamp": 1666002919302,
     "user": {
      "displayName": "Jeonghyeon Park",
      "userId": "12513544746873038725"
     },
     "user_tz": -540
    },
    "id": "w1aRCCDR9kVb",
    "papermill": {
     "duration": 0.02493,
     "end_time": "2022-11-07T11:49:21.147702",
     "exception": false,
     "start_time": "2022-11-07T11:49:21.122772",
     "status": "completed"
    },
    "tags": []
   },
   "outputs": [],
   "source": [
    "# es = EarlyStoppingCallback(early_stopping_patience=early_stopping_patience)"
   ]
  },
  {
   "cell_type": "code",
   "execution_count": 18,
   "id": "8f66e0a0",
   "metadata": {
    "execution": {
     "iopub.execute_input": "2022-11-07T11:49:21.204918Z",
     "iopub.status.busy": "2022-11-07T11:49:21.204432Z",
     "iopub.status.idle": "2022-11-07T11:49:28.865756Z",
     "shell.execute_reply": "2022-11-07T11:49:28.864451Z"
    },
    "executionInfo": {
     "elapsed": 4075,
     "status": "ok",
     "timestamp": 1666002923371,
     "user": {
      "displayName": "Jeonghyeon Park",
      "userId": "12513544746873038725"
     },
     "user_tz": -540
    },
    "id": "pwe87xkaMEK6",
    "papermill": {
     "duration": 7.693447,
     "end_time": "2022-11-07T11:49:28.868571",
     "exception": false,
     "start_time": "2022-11-07T11:49:21.175124",
     "status": "completed"
    },
    "tags": []
   },
   "outputs": [],
   "source": [
    "trainer = Trainer(\n",
    "    model,\n",
    "    args,\n",
    "    train_dataset=train_dataset,\n",
    "    eval_dataset=eval_dataset,\n",
    "    tokenizer=tokenizer,\n",
    "    compute_metrics=compute_metrics,\n",
    "    data_collator=data_collator,\n",
    "    # callbacks=[es],\n",
    ")"
   ]
  },
  {
   "cell_type": "markdown",
   "id": "32eba0c1",
   "metadata": {
    "id": "9KNsbWs72BoC",
    "papermill": {
     "duration": 0.014287,
     "end_time": "2022-11-07T11:49:28.898264",
     "exception": false,
     "start_time": "2022-11-07T11:49:28.883977",
     "status": "completed"
    },
    "tags": []
   },
   "source": [
    "# Run Trainer"
   ]
  },
  {
   "cell_type": "code",
   "execution_count": 19,
   "id": "109e9e31",
   "metadata": {
    "colab": {
     "base_uri": "https://localhost:8080/",
     "height": 1000
    },
    "execution": {
     "iopub.execute_input": "2022-11-07T11:49:28.929413Z",
     "iopub.status.busy": "2022-11-07T11:49:28.927905Z",
     "iopub.status.idle": "2022-11-07T14:49:12.953780Z",
     "shell.execute_reply": "2022-11-07T14:49:12.952425Z"
    },
    "executionInfo": {
     "elapsed": 13721386,
     "status": "ok",
     "timestamp": 1666016644733,
     "user": {
      "displayName": "Jeonghyeon Park",
      "userId": "12513544746873038725"
     },
     "user_tz": -540
    },
    "id": "tyN8PA8tMFsU",
    "outputId": "2f105feb-e18e-43d4-d0ed-49832d7ffc24",
    "papermill": {
     "duration": 10784.04432,
     "end_time": "2022-11-07T14:49:12.956316",
     "exception": false,
     "start_time": "2022-11-07T11:49:28.911996",
     "status": "completed"
    },
    "tags": []
   },
   "outputs": [
    {
     "name": "stderr",
     "output_type": "stream",
     "text": [
      "The following columns in the training set don't have a corresponding argument in `ElectraForSequenceClassification.forward` and have been ignored: pair, id, form. If pair, id, form are not expected by `ElectraForSequenceClassification.forward`,  you can safely ignore this message.\n"
     ]
    },
    {
     "name": "stderr",
     "output_type": "stream",
     "text": [
      "***** Running training *****\n"
     ]
    },
    {
     "name": "stderr",
     "output_type": "stream",
     "text": [
      "  Num examples = 75000\n"
     ]
    },
    {
     "name": "stderr",
     "output_type": "stream",
     "text": [
      "  Num Epochs = 10\n"
     ]
    },
    {
     "name": "stderr",
     "output_type": "stream",
     "text": [
      "  Instantaneous batch size per device = 32\n"
     ]
    },
    {
     "name": "stderr",
     "output_type": "stream",
     "text": [
      "  Total train batch size (w. parallel, distributed & accumulation) = 32\n"
     ]
    },
    {
     "name": "stderr",
     "output_type": "stream",
     "text": [
      "  Gradient Accumulation steps = 1\n"
     ]
    },
    {
     "name": "stderr",
     "output_type": "stream",
     "text": [
      "  Total optimization steps = 23440\n"
     ]
    },
    {
     "name": "stderr",
     "output_type": "stream",
     "text": [
      "  Number of trainable parameters = 113085698\n"
     ]
    },
    {
     "name": "stderr",
     "output_type": "stream",
     "text": [
      "Automatic Weights & Biases logging enabled, to disable set os.environ[\"WANDB_DISABLED\"] = \"true\"\n"
     ]
    },
    {
     "data": {
      "text/html": [
       "Tracking run with wandb version 0.13.5"
      ],
      "text/plain": [
       "<IPython.core.display.HTML object>"
      ]
     },
     "metadata": {},
     "output_type": "display_data"
    },
    {
     "data": {
      "text/html": [
       "Run data is saved locally in <code>/home/ubuntu/jongmin/Jeonghyeon/codes/absa/wandb/run-20221107_204928-2triaudp</code>"
      ],
      "text/plain": [
       "<IPython.core.display.HTML object>"
      ]
     },
     "metadata": {},
     "output_type": "display_data"
    },
    {
     "data": {
      "text/html": [
       "Syncing run <strong><a href=\"https://wandb.ai/dotsnangles/aspect_category_detection/runs/2triaudp\" target=\"_blank\">acd_monologg_koelectra_base_v3_discriminator_uncleaned_v21_maxlen_256</a></strong> to <a href=\"https://wandb.ai/dotsnangles/aspect_category_detection\" target=\"_blank\">Weights & Biases</a> (<a href=\"https://wandb.me/run\" target=\"_blank\">docs</a>)<br/>"
      ],
      "text/plain": [
       "<IPython.core.display.HTML object>"
      ]
     },
     "metadata": {},
     "output_type": "display_data"
    },
    {
     "name": "stderr",
     "output_type": "stream",
     "text": [
      "You're using a ElectraTokenizerFast tokenizer. Please note that with a fast tokenizer, using the `__call__` method is faster than using a method to encode the text followed by a call to the `pad` method to get a padded encoding.\n"
     ]
    },
    {
     "data": {
      "text/html": [
       "\n",
       "    <div>\n",
       "      \n",
       "      <progress value='23440' max='23440' style='width:300px; height:20px; vertical-align: middle;'></progress>\n",
       "      [23440/23440 2:59:18, Epoch 10/10]\n",
       "    </div>\n",
       "    <table border=\"1\" class=\"dataframe\">\n",
       "  <thead>\n",
       " <tr style=\"text-align: left;\">\n",
       "      <th>Epoch</th>\n",
       "      <th>Training Loss</th>\n",
       "      <th>Validation Loss</th>\n",
       "      <th>Accuracy</th>\n",
       "      <th>F1 True</th>\n",
       "      <th>F1 False</th>\n",
       "      <th>F1 Macro</th>\n",
       "      <th>F1 Micro</th>\n",
       "    </tr>\n",
       "  </thead>\n",
       "  <tbody>\n",
       "    <tr>\n",
       "      <td>1</td>\n",
       "      <td>0.179300</td>\n",
       "      <td>0.177347</td>\n",
       "      <td>0.957007</td>\n",
       "      <td>0.000000</td>\n",
       "      <td>0.978031</td>\n",
       "      <td>0.489016</td>\n",
       "      <td>0.957007</td>\n",
       "    </tr>\n",
       "    <tr>\n",
       "      <td>2</td>\n",
       "      <td>0.179800</td>\n",
       "      <td>0.178443</td>\n",
       "      <td>0.957007</td>\n",
       "      <td>0.000000</td>\n",
       "      <td>0.978031</td>\n",
       "      <td>0.489016</td>\n",
       "      <td>0.957007</td>\n",
       "    </tr>\n",
       "    <tr>\n",
       "      <td>3</td>\n",
       "      <td>0.176100</td>\n",
       "      <td>0.177484</td>\n",
       "      <td>0.957007</td>\n",
       "      <td>0.000000</td>\n",
       "      <td>0.978031</td>\n",
       "      <td>0.489016</td>\n",
       "      <td>0.957007</td>\n",
       "    </tr>\n",
       "    <tr>\n",
       "      <td>4</td>\n",
       "      <td>0.172600</td>\n",
       "      <td>0.177346</td>\n",
       "      <td>0.957007</td>\n",
       "      <td>0.000000</td>\n",
       "      <td>0.978031</td>\n",
       "      <td>0.489016</td>\n",
       "      <td>0.957007</td>\n",
       "    </tr>\n",
       "    <tr>\n",
       "      <td>5</td>\n",
       "      <td>0.175500</td>\n",
       "      <td>0.177683</td>\n",
       "      <td>0.957007</td>\n",
       "      <td>0.000000</td>\n",
       "      <td>0.978031</td>\n",
       "      <td>0.489016</td>\n",
       "      <td>0.957007</td>\n",
       "    </tr>\n",
       "    <tr>\n",
       "      <td>6</td>\n",
       "      <td>0.174300</td>\n",
       "      <td>0.177346</td>\n",
       "      <td>0.957007</td>\n",
       "      <td>0.000000</td>\n",
       "      <td>0.978031</td>\n",
       "      <td>0.489016</td>\n",
       "      <td>0.957007</td>\n",
       "    </tr>\n",
       "    <tr>\n",
       "      <td>7</td>\n",
       "      <td>0.176500</td>\n",
       "      <td>0.177360</td>\n",
       "      <td>0.957007</td>\n",
       "      <td>0.000000</td>\n",
       "      <td>0.978031</td>\n",
       "      <td>0.489016</td>\n",
       "      <td>0.957007</td>\n",
       "    </tr>\n",
       "    <tr>\n",
       "      <td>8</td>\n",
       "      <td>0.174500</td>\n",
       "      <td>0.177475</td>\n",
       "      <td>0.957007</td>\n",
       "      <td>0.000000</td>\n",
       "      <td>0.978031</td>\n",
       "      <td>0.489016</td>\n",
       "      <td>0.957007</td>\n",
       "    </tr>\n",
       "    <tr>\n",
       "      <td>9</td>\n",
       "      <td>0.176200</td>\n",
       "      <td>0.177376</td>\n",
       "      <td>0.957007</td>\n",
       "      <td>0.000000</td>\n",
       "      <td>0.978031</td>\n",
       "      <td>0.489016</td>\n",
       "      <td>0.957007</td>\n",
       "    </tr>\n",
       "    <tr>\n",
       "      <td>10</td>\n",
       "      <td>0.169300</td>\n",
       "      <td>0.177360</td>\n",
       "      <td>0.957007</td>\n",
       "      <td>0.000000</td>\n",
       "      <td>0.978031</td>\n",
       "      <td>0.489016</td>\n",
       "      <td>0.957007</td>\n",
       "    </tr>\n",
       "  </tbody>\n",
       "</table><p>"
      ],
      "text/plain": [
       "<IPython.core.display.HTML object>"
      ]
     },
     "metadata": {},
     "output_type": "display_data"
    },
    {
     "name": "stderr",
     "output_type": "stream",
     "text": [
      "The following columns in the evaluation set don't have a corresponding argument in `ElectraForSequenceClassification.forward` and have been ignored: pair, id, form. If pair, id, form are not expected by `ElectraForSequenceClassification.forward`,  you can safely ignore this message.\n"
     ]
    },
    {
     "name": "stderr",
     "output_type": "stream",
     "text": [
      "***** Running Evaluation *****\n"
     ]
    },
    {
     "name": "stderr",
     "output_type": "stream",
     "text": [
      "  Num examples = 69825\n"
     ]
    },
    {
     "name": "stderr",
     "output_type": "stream",
     "text": [
      "  Batch size = 32\n"
     ]
    },
    {
     "name": "stderr",
     "output_type": "stream",
     "text": [
      "Saving model checkpoint to acd_monologg_koelectra_base_v3_discriminator_uncleaned_v21_maxlen_256/checkpoint-2344\n"
     ]
    },
    {
     "name": "stderr",
     "output_type": "stream",
     "text": [
      "Configuration saved in acd_monologg_koelectra_base_v3_discriminator_uncleaned_v21_maxlen_256/checkpoint-2344/config.json\n"
     ]
    },
    {
     "name": "stderr",
     "output_type": "stream",
     "text": [
      "Model weights saved in acd_monologg_koelectra_base_v3_discriminator_uncleaned_v21_maxlen_256/checkpoint-2344/pytorch_model.bin\n"
     ]
    },
    {
     "name": "stderr",
     "output_type": "stream",
     "text": [
      "tokenizer config file saved in acd_monologg_koelectra_base_v3_discriminator_uncleaned_v21_maxlen_256/checkpoint-2344/tokenizer_config.json\n"
     ]
    },
    {
     "name": "stderr",
     "output_type": "stream",
     "text": [
      "Special tokens file saved in acd_monologg_koelectra_base_v3_discriminator_uncleaned_v21_maxlen_256/checkpoint-2344/special_tokens_map.json\n"
     ]
    },
    {
     "name": "stderr",
     "output_type": "stream",
     "text": [
      "The following columns in the evaluation set don't have a corresponding argument in `ElectraForSequenceClassification.forward` and have been ignored: pair, id, form. If pair, id, form are not expected by `ElectraForSequenceClassification.forward`,  you can safely ignore this message.\n"
     ]
    },
    {
     "name": "stderr",
     "output_type": "stream",
     "text": [
      "***** Running Evaluation *****\n"
     ]
    },
    {
     "name": "stderr",
     "output_type": "stream",
     "text": [
      "  Num examples = 69825\n"
     ]
    },
    {
     "name": "stderr",
     "output_type": "stream",
     "text": [
      "  Batch size = 32\n"
     ]
    },
    {
     "name": "stderr",
     "output_type": "stream",
     "text": [
      "Saving model checkpoint to acd_monologg_koelectra_base_v3_discriminator_uncleaned_v21_maxlen_256/checkpoint-4688\n"
     ]
    },
    {
     "name": "stderr",
     "output_type": "stream",
     "text": [
      "Configuration saved in acd_monologg_koelectra_base_v3_discriminator_uncleaned_v21_maxlen_256/checkpoint-4688/config.json\n"
     ]
    },
    {
     "name": "stderr",
     "output_type": "stream",
     "text": [
      "Model weights saved in acd_monologg_koelectra_base_v3_discriminator_uncleaned_v21_maxlen_256/checkpoint-4688/pytorch_model.bin\n"
     ]
    },
    {
     "name": "stderr",
     "output_type": "stream",
     "text": [
      "tokenizer config file saved in acd_monologg_koelectra_base_v3_discriminator_uncleaned_v21_maxlen_256/checkpoint-4688/tokenizer_config.json\n"
     ]
    },
    {
     "name": "stderr",
     "output_type": "stream",
     "text": [
      "Special tokens file saved in acd_monologg_koelectra_base_v3_discriminator_uncleaned_v21_maxlen_256/checkpoint-4688/special_tokens_map.json\n"
     ]
    },
    {
     "name": "stderr",
     "output_type": "stream",
     "text": [
      "The following columns in the evaluation set don't have a corresponding argument in `ElectraForSequenceClassification.forward` and have been ignored: pair, id, form. If pair, id, form are not expected by `ElectraForSequenceClassification.forward`,  you can safely ignore this message.\n"
     ]
    },
    {
     "name": "stderr",
     "output_type": "stream",
     "text": [
      "***** Running Evaluation *****\n"
     ]
    },
    {
     "name": "stderr",
     "output_type": "stream",
     "text": [
      "  Num examples = 69825\n"
     ]
    },
    {
     "name": "stderr",
     "output_type": "stream",
     "text": [
      "  Batch size = 32\n"
     ]
    },
    {
     "name": "stderr",
     "output_type": "stream",
     "text": [
      "Saving model checkpoint to acd_monologg_koelectra_base_v3_discriminator_uncleaned_v21_maxlen_256/checkpoint-7032\n"
     ]
    },
    {
     "name": "stderr",
     "output_type": "stream",
     "text": [
      "Configuration saved in acd_monologg_koelectra_base_v3_discriminator_uncleaned_v21_maxlen_256/checkpoint-7032/config.json\n"
     ]
    },
    {
     "name": "stderr",
     "output_type": "stream",
     "text": [
      "Model weights saved in acd_monologg_koelectra_base_v3_discriminator_uncleaned_v21_maxlen_256/checkpoint-7032/pytorch_model.bin\n"
     ]
    },
    {
     "name": "stderr",
     "output_type": "stream",
     "text": [
      "tokenizer config file saved in acd_monologg_koelectra_base_v3_discriminator_uncleaned_v21_maxlen_256/checkpoint-7032/tokenizer_config.json\n"
     ]
    },
    {
     "name": "stderr",
     "output_type": "stream",
     "text": [
      "Special tokens file saved in acd_monologg_koelectra_base_v3_discriminator_uncleaned_v21_maxlen_256/checkpoint-7032/special_tokens_map.json\n"
     ]
    },
    {
     "name": "stderr",
     "output_type": "stream",
     "text": [
      "Deleting older checkpoint [acd_monologg_koelectra_base_v3_discriminator_uncleaned_v21_maxlen_256/checkpoint-4688] due to args.save_total_limit\n"
     ]
    },
    {
     "name": "stderr",
     "output_type": "stream",
     "text": [
      "The following columns in the evaluation set don't have a corresponding argument in `ElectraForSequenceClassification.forward` and have been ignored: pair, id, form. If pair, id, form are not expected by `ElectraForSequenceClassification.forward`,  you can safely ignore this message.\n"
     ]
    },
    {
     "name": "stderr",
     "output_type": "stream",
     "text": [
      "***** Running Evaluation *****\n"
     ]
    },
    {
     "name": "stderr",
     "output_type": "stream",
     "text": [
      "  Num examples = 69825\n"
     ]
    },
    {
     "name": "stderr",
     "output_type": "stream",
     "text": [
      "  Batch size = 32\n"
     ]
    },
    {
     "name": "stderr",
     "output_type": "stream",
     "text": [
      "Saving model checkpoint to acd_monologg_koelectra_base_v3_discriminator_uncleaned_v21_maxlen_256/checkpoint-9376\n"
     ]
    },
    {
     "name": "stderr",
     "output_type": "stream",
     "text": [
      "Configuration saved in acd_monologg_koelectra_base_v3_discriminator_uncleaned_v21_maxlen_256/checkpoint-9376/config.json\n"
     ]
    },
    {
     "name": "stderr",
     "output_type": "stream",
     "text": [
      "Model weights saved in acd_monologg_koelectra_base_v3_discriminator_uncleaned_v21_maxlen_256/checkpoint-9376/pytorch_model.bin\n"
     ]
    },
    {
     "name": "stderr",
     "output_type": "stream",
     "text": [
      "tokenizer config file saved in acd_monologg_koelectra_base_v3_discriminator_uncleaned_v21_maxlen_256/checkpoint-9376/tokenizer_config.json\n"
     ]
    },
    {
     "name": "stderr",
     "output_type": "stream",
     "text": [
      "Special tokens file saved in acd_monologg_koelectra_base_v3_discriminator_uncleaned_v21_maxlen_256/checkpoint-9376/special_tokens_map.json\n"
     ]
    },
    {
     "name": "stderr",
     "output_type": "stream",
     "text": [
      "Deleting older checkpoint [acd_monologg_koelectra_base_v3_discriminator_uncleaned_v21_maxlen_256/checkpoint-7032] due to args.save_total_limit\n"
     ]
    },
    {
     "name": "stderr",
     "output_type": "stream",
     "text": [
      "The following columns in the evaluation set don't have a corresponding argument in `ElectraForSequenceClassification.forward` and have been ignored: pair, id, form. If pair, id, form are not expected by `ElectraForSequenceClassification.forward`,  you can safely ignore this message.\n"
     ]
    },
    {
     "name": "stderr",
     "output_type": "stream",
     "text": [
      "***** Running Evaluation *****\n"
     ]
    },
    {
     "name": "stderr",
     "output_type": "stream",
     "text": [
      "  Num examples = 69825\n"
     ]
    },
    {
     "name": "stderr",
     "output_type": "stream",
     "text": [
      "  Batch size = 32\n"
     ]
    },
    {
     "name": "stderr",
     "output_type": "stream",
     "text": [
      "Saving model checkpoint to acd_monologg_koelectra_base_v3_discriminator_uncleaned_v21_maxlen_256/checkpoint-11720\n"
     ]
    },
    {
     "name": "stderr",
     "output_type": "stream",
     "text": [
      "Configuration saved in acd_monologg_koelectra_base_v3_discriminator_uncleaned_v21_maxlen_256/checkpoint-11720/config.json\n"
     ]
    },
    {
     "name": "stderr",
     "output_type": "stream",
     "text": [
      "Model weights saved in acd_monologg_koelectra_base_v3_discriminator_uncleaned_v21_maxlen_256/checkpoint-11720/pytorch_model.bin\n"
     ]
    },
    {
     "name": "stderr",
     "output_type": "stream",
     "text": [
      "tokenizer config file saved in acd_monologg_koelectra_base_v3_discriminator_uncleaned_v21_maxlen_256/checkpoint-11720/tokenizer_config.json\n"
     ]
    },
    {
     "name": "stderr",
     "output_type": "stream",
     "text": [
      "Special tokens file saved in acd_monologg_koelectra_base_v3_discriminator_uncleaned_v21_maxlen_256/checkpoint-11720/special_tokens_map.json\n"
     ]
    },
    {
     "name": "stderr",
     "output_type": "stream",
     "text": [
      "Deleting older checkpoint [acd_monologg_koelectra_base_v3_discriminator_uncleaned_v21_maxlen_256/checkpoint-9376] due to args.save_total_limit\n"
     ]
    },
    {
     "name": "stderr",
     "output_type": "stream",
     "text": [
      "The following columns in the evaluation set don't have a corresponding argument in `ElectraForSequenceClassification.forward` and have been ignored: pair, id, form. If pair, id, form are not expected by `ElectraForSequenceClassification.forward`,  you can safely ignore this message.\n"
     ]
    },
    {
     "name": "stderr",
     "output_type": "stream",
     "text": [
      "***** Running Evaluation *****\n"
     ]
    },
    {
     "name": "stderr",
     "output_type": "stream",
     "text": [
      "  Num examples = 69825\n"
     ]
    },
    {
     "name": "stderr",
     "output_type": "stream",
     "text": [
      "  Batch size = 32\n"
     ]
    },
    {
     "name": "stderr",
     "output_type": "stream",
     "text": [
      "Saving model checkpoint to acd_monologg_koelectra_base_v3_discriminator_uncleaned_v21_maxlen_256/checkpoint-14064\n"
     ]
    },
    {
     "name": "stderr",
     "output_type": "stream",
     "text": [
      "Configuration saved in acd_monologg_koelectra_base_v3_discriminator_uncleaned_v21_maxlen_256/checkpoint-14064/config.json\n"
     ]
    },
    {
     "name": "stderr",
     "output_type": "stream",
     "text": [
      "Model weights saved in acd_monologg_koelectra_base_v3_discriminator_uncleaned_v21_maxlen_256/checkpoint-14064/pytorch_model.bin\n"
     ]
    },
    {
     "name": "stderr",
     "output_type": "stream",
     "text": [
      "tokenizer config file saved in acd_monologg_koelectra_base_v3_discriminator_uncleaned_v21_maxlen_256/checkpoint-14064/tokenizer_config.json\n"
     ]
    },
    {
     "name": "stderr",
     "output_type": "stream",
     "text": [
      "Special tokens file saved in acd_monologg_koelectra_base_v3_discriminator_uncleaned_v21_maxlen_256/checkpoint-14064/special_tokens_map.json\n"
     ]
    },
    {
     "name": "stderr",
     "output_type": "stream",
     "text": [
      "Deleting older checkpoint [acd_monologg_koelectra_base_v3_discriminator_uncleaned_v21_maxlen_256/checkpoint-11720] due to args.save_total_limit\n"
     ]
    },
    {
     "name": "stderr",
     "output_type": "stream",
     "text": [
      "The following columns in the evaluation set don't have a corresponding argument in `ElectraForSequenceClassification.forward` and have been ignored: pair, id, form. If pair, id, form are not expected by `ElectraForSequenceClassification.forward`,  you can safely ignore this message.\n"
     ]
    },
    {
     "name": "stderr",
     "output_type": "stream",
     "text": [
      "***** Running Evaluation *****\n"
     ]
    },
    {
     "name": "stderr",
     "output_type": "stream",
     "text": [
      "  Num examples = 69825\n"
     ]
    },
    {
     "name": "stderr",
     "output_type": "stream",
     "text": [
      "  Batch size = 32\n"
     ]
    },
    {
     "name": "stderr",
     "output_type": "stream",
     "text": [
      "Saving model checkpoint to acd_monologg_koelectra_base_v3_discriminator_uncleaned_v21_maxlen_256/checkpoint-16408\n"
     ]
    },
    {
     "name": "stderr",
     "output_type": "stream",
     "text": [
      "Configuration saved in acd_monologg_koelectra_base_v3_discriminator_uncleaned_v21_maxlen_256/checkpoint-16408/config.json\n"
     ]
    },
    {
     "name": "stderr",
     "output_type": "stream",
     "text": [
      "Model weights saved in acd_monologg_koelectra_base_v3_discriminator_uncleaned_v21_maxlen_256/checkpoint-16408/pytorch_model.bin\n"
     ]
    },
    {
     "name": "stderr",
     "output_type": "stream",
     "text": [
      "tokenizer config file saved in acd_monologg_koelectra_base_v3_discriminator_uncleaned_v21_maxlen_256/checkpoint-16408/tokenizer_config.json\n"
     ]
    },
    {
     "name": "stderr",
     "output_type": "stream",
     "text": [
      "Special tokens file saved in acd_monologg_koelectra_base_v3_discriminator_uncleaned_v21_maxlen_256/checkpoint-16408/special_tokens_map.json\n"
     ]
    },
    {
     "name": "stderr",
     "output_type": "stream",
     "text": [
      "Deleting older checkpoint [acd_monologg_koelectra_base_v3_discriminator_uncleaned_v21_maxlen_256/checkpoint-14064] due to args.save_total_limit\n"
     ]
    },
    {
     "name": "stderr",
     "output_type": "stream",
     "text": [
      "The following columns in the evaluation set don't have a corresponding argument in `ElectraForSequenceClassification.forward` and have been ignored: pair, id, form. If pair, id, form are not expected by `ElectraForSequenceClassification.forward`,  you can safely ignore this message.\n"
     ]
    },
    {
     "name": "stderr",
     "output_type": "stream",
     "text": [
      "***** Running Evaluation *****\n"
     ]
    },
    {
     "name": "stderr",
     "output_type": "stream",
     "text": [
      "  Num examples = 69825\n"
     ]
    },
    {
     "name": "stderr",
     "output_type": "stream",
     "text": [
      "  Batch size = 32\n"
     ]
    },
    {
     "name": "stderr",
     "output_type": "stream",
     "text": [
      "Saving model checkpoint to acd_monologg_koelectra_base_v3_discriminator_uncleaned_v21_maxlen_256/checkpoint-18752\n"
     ]
    },
    {
     "name": "stderr",
     "output_type": "stream",
     "text": [
      "Configuration saved in acd_monologg_koelectra_base_v3_discriminator_uncleaned_v21_maxlen_256/checkpoint-18752/config.json\n"
     ]
    },
    {
     "name": "stderr",
     "output_type": "stream",
     "text": [
      "Model weights saved in acd_monologg_koelectra_base_v3_discriminator_uncleaned_v21_maxlen_256/checkpoint-18752/pytorch_model.bin\n"
     ]
    },
    {
     "name": "stderr",
     "output_type": "stream",
     "text": [
      "tokenizer config file saved in acd_monologg_koelectra_base_v3_discriminator_uncleaned_v21_maxlen_256/checkpoint-18752/tokenizer_config.json\n"
     ]
    },
    {
     "name": "stderr",
     "output_type": "stream",
     "text": [
      "Special tokens file saved in acd_monologg_koelectra_base_v3_discriminator_uncleaned_v21_maxlen_256/checkpoint-18752/special_tokens_map.json\n"
     ]
    },
    {
     "name": "stderr",
     "output_type": "stream",
     "text": [
      "Deleting older checkpoint [acd_monologg_koelectra_base_v3_discriminator_uncleaned_v21_maxlen_256/checkpoint-16408] due to args.save_total_limit\n"
     ]
    },
    {
     "name": "stderr",
     "output_type": "stream",
     "text": [
      "The following columns in the evaluation set don't have a corresponding argument in `ElectraForSequenceClassification.forward` and have been ignored: pair, id, form. If pair, id, form are not expected by `ElectraForSequenceClassification.forward`,  you can safely ignore this message.\n"
     ]
    },
    {
     "name": "stderr",
     "output_type": "stream",
     "text": [
      "***** Running Evaluation *****\n"
     ]
    },
    {
     "name": "stderr",
     "output_type": "stream",
     "text": [
      "  Num examples = 69825\n"
     ]
    },
    {
     "name": "stderr",
     "output_type": "stream",
     "text": [
      "  Batch size = 32\n"
     ]
    },
    {
     "name": "stderr",
     "output_type": "stream",
     "text": [
      "Saving model checkpoint to acd_monologg_koelectra_base_v3_discriminator_uncleaned_v21_maxlen_256/checkpoint-21096\n"
     ]
    },
    {
     "name": "stderr",
     "output_type": "stream",
     "text": [
      "Configuration saved in acd_monologg_koelectra_base_v3_discriminator_uncleaned_v21_maxlen_256/checkpoint-21096/config.json\n"
     ]
    },
    {
     "name": "stderr",
     "output_type": "stream",
     "text": [
      "Model weights saved in acd_monologg_koelectra_base_v3_discriminator_uncleaned_v21_maxlen_256/checkpoint-21096/pytorch_model.bin\n"
     ]
    },
    {
     "name": "stderr",
     "output_type": "stream",
     "text": [
      "tokenizer config file saved in acd_monologg_koelectra_base_v3_discriminator_uncleaned_v21_maxlen_256/checkpoint-21096/tokenizer_config.json\n"
     ]
    },
    {
     "name": "stderr",
     "output_type": "stream",
     "text": [
      "Special tokens file saved in acd_monologg_koelectra_base_v3_discriminator_uncleaned_v21_maxlen_256/checkpoint-21096/special_tokens_map.json\n"
     ]
    },
    {
     "name": "stderr",
     "output_type": "stream",
     "text": [
      "Deleting older checkpoint [acd_monologg_koelectra_base_v3_discriminator_uncleaned_v21_maxlen_256/checkpoint-18752] due to args.save_total_limit\n"
     ]
    },
    {
     "name": "stderr",
     "output_type": "stream",
     "text": [
      "The following columns in the evaluation set don't have a corresponding argument in `ElectraForSequenceClassification.forward` and have been ignored: pair, id, form. If pair, id, form are not expected by `ElectraForSequenceClassification.forward`,  you can safely ignore this message.\n"
     ]
    },
    {
     "name": "stderr",
     "output_type": "stream",
     "text": [
      "***** Running Evaluation *****\n"
     ]
    },
    {
     "name": "stderr",
     "output_type": "stream",
     "text": [
      "  Num examples = 69825\n"
     ]
    },
    {
     "name": "stderr",
     "output_type": "stream",
     "text": [
      "  Batch size = 32\n"
     ]
    },
    {
     "name": "stderr",
     "output_type": "stream",
     "text": [
      "Saving model checkpoint to acd_monologg_koelectra_base_v3_discriminator_uncleaned_v21_maxlen_256/checkpoint-23440\n"
     ]
    },
    {
     "name": "stderr",
     "output_type": "stream",
     "text": [
      "Configuration saved in acd_monologg_koelectra_base_v3_discriminator_uncleaned_v21_maxlen_256/checkpoint-23440/config.json\n"
     ]
    },
    {
     "name": "stderr",
     "output_type": "stream",
     "text": [
      "Model weights saved in acd_monologg_koelectra_base_v3_discriminator_uncleaned_v21_maxlen_256/checkpoint-23440/pytorch_model.bin\n"
     ]
    },
    {
     "name": "stderr",
     "output_type": "stream",
     "text": [
      "tokenizer config file saved in acd_monologg_koelectra_base_v3_discriminator_uncleaned_v21_maxlen_256/checkpoint-23440/tokenizer_config.json\n"
     ]
    },
    {
     "name": "stderr",
     "output_type": "stream",
     "text": [
      "Special tokens file saved in acd_monologg_koelectra_base_v3_discriminator_uncleaned_v21_maxlen_256/checkpoint-23440/special_tokens_map.json\n"
     ]
    },
    {
     "name": "stderr",
     "output_type": "stream",
     "text": [
      "Deleting older checkpoint [acd_monologg_koelectra_base_v3_discriminator_uncleaned_v21_maxlen_256/checkpoint-21096] due to args.save_total_limit\n"
     ]
    },
    {
     "name": "stderr",
     "output_type": "stream",
     "text": [
      "\n",
      "\n",
      "Training completed. Do not forget to share your model on huggingface.co/models =)\n",
      "\n",
      "\n"
     ]
    },
    {
     "name": "stderr",
     "output_type": "stream",
     "text": [
      "Loading best model from acd_monologg_koelectra_base_v3_discriminator_uncleaned_v21_maxlen_256/checkpoint-2344 (score: 0.4890155728587319).\n"
     ]
    },
    {
     "name": "stderr",
     "output_type": "stream",
     "text": [
      "Saving model checkpoint to /tmp/tmpm2g8gyq9\n"
     ]
    },
    {
     "name": "stderr",
     "output_type": "stream",
     "text": [
      "Configuration saved in /tmp/tmpm2g8gyq9/config.json\n"
     ]
    },
    {
     "name": "stderr",
     "output_type": "stream",
     "text": [
      "Model weights saved in /tmp/tmpm2g8gyq9/pytorch_model.bin\n"
     ]
    },
    {
     "name": "stderr",
     "output_type": "stream",
     "text": [
      "tokenizer config file saved in /tmp/tmpm2g8gyq9/tokenizer_config.json\n"
     ]
    },
    {
     "name": "stderr",
     "output_type": "stream",
     "text": [
      "Special tokens file saved in /tmp/tmpm2g8gyq9/special_tokens_map.json\n"
     ]
    },
    {
     "data": {
      "text/html": [
       "Waiting for W&B process to finish... <strong style=\"color:green\">(success).</strong>"
      ],
      "text/plain": [
       "<IPython.core.display.HTML object>"
      ]
     },
     "metadata": {},
     "output_type": "display_data"
    },
    {
     "data": {
      "text/html": [
       "<style>\n",
       "    table.wandb td:nth-child(1) { padding: 0 10px; text-align: left ; width: auto;} td:nth-child(2) {text-align: left ; width: 100%}\n",
       "    .wandb-row { display: flex; flex-direction: row; flex-wrap: wrap; justify-content: flex-start; width: 100% }\n",
       "    .wandb-col { display: flex; flex-direction: column; flex-basis: 100%; flex: 1; padding: 10px; }\n",
       "    </style>\n",
       "<div class=\"wandb-row\"><div class=\"wandb-col\"><h3>Run history:</h3><br/><table class=\"wandb\"><tr><td>eval/accuracy</td><td>▁▁▁▁▁▁▁▁▁▁</td></tr><tr><td>eval/f1_false</td><td>▁▁▁▁▁▁▁▁▁▁</td></tr><tr><td>eval/f1_macro</td><td>▁▁▁▁▁▁▁▁▁▁</td></tr><tr><td>eval/f1_micro</td><td>▁▁▁▁▁▁▁▁▁▁</td></tr><tr><td>eval/f1_true</td><td>▁▁▁▁▁▁▁▁▁▁</td></tr><tr><td>eval/loss</td><td>▁█▂▁▃▁▁▂▁▁</td></tr><tr><td>eval/runtime</td><td>▂▂▂▃▃▃█▁▁▁</td></tr><tr><td>eval/samples_per_second</td><td>▇▆▇▆▆▅▁███</td></tr><tr><td>eval/steps_per_second</td><td>▇▆▇▆▆▅▁███</td></tr><tr><td>train/epoch</td><td>▁▁▁▂▂▂▂▂▂▃▃▃▃▃▄▄▄▄▄▄▅▅▅▅▅▅▆▆▆▆▆▇▇▇▇▇▇███</td></tr><tr><td>train/global_step</td><td>▁▁▁▂▂▂▂▂▂▃▃▃▃▃▄▄▄▄▄▄▅▅▅▅▅▅▆▆▆▆▆▇▇▇▇▇▇███</td></tr><tr><td>train/learning_rate</td><td>████████▇▇▇▇▇▆▆▆▆▅▅▅▅▄▄▄▃▃▃▃▂▂▂▂▂▂▁▁▁▁▁▁</td></tr><tr><td>train/loss</td><td>█▁▁▁▁▁▁▁▁▁▁▁▁▁▁▁▁▁▁▁▁▁▁▁▁▁▁▁▁▁▁▁▁▁▁▁▁▁▁▁</td></tr><tr><td>train/total_flos</td><td>▁</td></tr><tr><td>train/train_loss</td><td>▁</td></tr><tr><td>train/train_runtime</td><td>▁</td></tr><tr><td>train/train_samples_per_second</td><td>▁</td></tr><tr><td>train/train_steps_per_second</td><td>▁</td></tr></table><br/></div><div class=\"wandb-col\"><h3>Run summary:</h3><br/><table class=\"wandb\"><tr><td>eval/accuracy</td><td>0.95701</td></tr><tr><td>eval/f1_false</td><td>0.97803</td></tr><tr><td>eval/f1_macro</td><td>0.48902</td></tr><tr><td>eval/f1_micro</td><td>0.95701</td></tr><tr><td>eval/f1_true</td><td>0.0</td></tr><tr><td>eval/loss</td><td>0.17736</td></tr><tr><td>eval/runtime</td><td>238.6714</td></tr><tr><td>eval/samples_per_second</td><td>292.557</td></tr><tr><td>eval/steps_per_second</td><td>9.146</td></tr><tr><td>train/epoch</td><td>10.0</td></tr><tr><td>train/global_step</td><td>23440</td></tr><tr><td>train/learning_rate</td><td>0.0</td></tr><tr><td>train/loss</td><td>0.1693</td></tr><tr><td>train/total_flos</td><td>2.28398279382024e+16</td></tr><tr><td>train/train_loss</td><td>0.17668</td></tr><tr><td>train/train_runtime</td><td>10756.295</td></tr><tr><td>train/train_samples_per_second</td><td>69.727</td></tr><tr><td>train/train_steps_per_second</td><td>2.179</td></tr></table><br/></div></div>"
      ],
      "text/plain": [
       "<IPython.core.display.HTML object>"
      ]
     },
     "metadata": {},
     "output_type": "display_data"
    },
    {
     "data": {
      "text/html": [
       "Synced <strong style=\"color:#cdcd00\">acd_monologg_koelectra_base_v3_discriminator_uncleaned_v21_maxlen_256</strong>: <a href=\"https://wandb.ai/dotsnangles/aspect_category_detection/runs/2triaudp\" target=\"_blank\">https://wandb.ai/dotsnangles/aspect_category_detection/runs/2triaudp</a><br/>Synced 6 W&B file(s), 0 media file(s), 8 artifact file(s) and 0 other file(s)"
      ],
      "text/plain": [
       "<IPython.core.display.HTML object>"
      ]
     },
     "metadata": {},
     "output_type": "display_data"
    },
    {
     "data": {
      "text/html": [
       "Find logs at: <code>./wandb/run-20221107_204928-2triaudp/logs</code>"
      ],
      "text/plain": [
       "<IPython.core.display.HTML object>"
      ]
     },
     "metadata": {},
     "output_type": "display_data"
    }
   ],
   "source": [
    "trainer.train()\n",
    "wandb.finish()"
   ]
  },
  {
   "cell_type": "code",
   "execution_count": 20,
   "id": "48c8e122",
   "metadata": {
    "execution": {
     "iopub.execute_input": "2022-11-07T14:49:13.209332Z",
     "iopub.status.busy": "2022-11-07T14:49:13.208075Z",
     "iopub.status.idle": "2022-11-07T14:49:15.138253Z",
     "shell.execute_reply": "2022-11-07T14:49:15.136452Z"
    },
    "executionInfo": {
     "elapsed": 7718,
     "status": "ok",
     "timestamp": 1666016652428,
     "user": {
      "displayName": "Jeonghyeon Park",
      "userId": "12513544746873038725"
     },
     "user_tz": -540
    },
    "id": "njKzTZtir0SC",
    "papermill": {
     "duration": 2.147495,
     "end_time": "2022-11-07T14:49:15.140827",
     "exception": false,
     "start_time": "2022-11-07T14:49:12.993332",
     "status": "completed"
    },
    "tags": []
   },
   "outputs": [],
   "source": [
    "keep = [\n",
    "    'added_tokens.json',\n",
    "    'config.json',\n",
    "    'pytorch_model.bin',\n",
    "    'special_tokens_map.json',\n",
    "    'tokenizer.json',\n",
    "    'tokenizer_config.json',\n",
    "    'vocab.txt'\n",
    "]\n",
    "\n",
    "ckpts = os.listdir(run_name)\n",
    "for ckpt in ckpts:\n",
    "    ckpt = os.path.join(run_name, ckpt)\n",
    "    for item in os.listdir(ckpt):\n",
    "        if item not in keep:\n",
    "            os.remove(os.path.join(ckpt, item))\n",
    "\n",
    "!mv {run_name} {SAVE_PATH}/"
   ]
  }
 ],
 "metadata": {
  "accelerator": "GPU",
  "colab": {
   "collapsed_sections": [],
   "provenance": []
  },
  "gpuClass": "premium",
  "kernelspec": {
   "display_name": "Python 3.10.6 ('jeonghyeon')",
   "language": "python",
   "name": "python3"
  },
  "language_info": {
   "codemirror_mode": {
    "name": "ipython",
    "version": 3
   },
   "file_extension": ".py",
   "mimetype": "text/x-python",
   "name": "python",
   "nbconvert_exporter": "python",
   "pygments_lexer": "ipython3",
   "version": "3.8.13"
  },
  "papermill": {
   "default_parameters": {},
   "duration": 10840.102492,
   "end_time": "2022-11-07T14:49:19.119471",
   "environment_variables": {},
   "exception": null,
   "input_path": "./train_acd.ipynb",
   "output_path": "./papermill/train_acd.ipynb",
   "parameters": {},
   "start_time": "2022-11-07T11:48:39.016979",
   "version": "2.4.0"
  },
  "vscode": {
   "interpreter": {
    "hash": "df12b971f0e4e081474c4ac44bd338416eac6f5401e1e938ba342788cee78ecd"
   }
  },
  "widgets": {
   "application/vnd.jupyter.widget-state+json": {
    "state": {
     "06a8203f83ca4e53ac413cd1574f56ef": {
      "model_module": "@jupyter-widgets/base",
      "model_module_version": "2.0.0",
      "model_name": "LayoutModel",
      "state": {
       "_model_module": "@jupyter-widgets/base",
       "_model_module_version": "2.0.0",
       "_model_name": "LayoutModel",
       "_view_count": null,
       "_view_module": "@jupyter-widgets/base",
       "_view_module_version": "2.0.0",
       "_view_name": "LayoutView",
       "align_content": null,
       "align_items": null,
       "align_self": null,
       "border_bottom": null,
       "border_left": null,
       "border_right": null,
       "border_top": null,
       "bottom": null,
       "display": null,
       "flex": null,
       "flex_flow": null,
       "grid_area": null,
       "grid_auto_columns": null,
       "grid_auto_flow": null,
       "grid_auto_rows": null,
       "grid_column": null,
       "grid_gap": null,
       "grid_row": null,
       "grid_template_areas": null,
       "grid_template_columns": null,
       "grid_template_rows": null,
       "height": null,
       "justify_content": null,
       "justify_items": null,
       "left": null,
       "margin": null,
       "max_height": null,
       "max_width": null,
       "min_height": null,
       "min_width": null,
       "object_fit": null,
       "object_position": null,
       "order": null,
       "overflow": null,
       "padding": null,
       "right": null,
       "top": null,
       "visibility": null,
       "width": null
      }
     },
     "0851fc0745314d95897739fab96444d9": {
      "model_module": "@jupyter-widgets/controls",
      "model_module_version": "2.0.0",
      "model_name": "LabelStyleModel",
      "state": {
       "_model_module": "@jupyter-widgets/controls",
       "_model_module_version": "2.0.0",
       "_model_name": "LabelStyleModel",
       "_view_count": null,
       "_view_module": "@jupyter-widgets/base",
       "_view_module_version": "2.0.0",
       "_view_name": "StyleView",
       "background": null,
       "description_width": "",
       "font_family": null,
       "font_size": null,
       "font_style": null,
       "font_variant": null,
       "font_weight": null,
       "text_color": null,
       "text_decoration": null
      }
     },
     "0ba1cbe323574e539184c4ea89710e8a": {
      "model_module": "@jupyter-widgets/base",
      "model_module_version": "2.0.0",
      "model_name": "LayoutModel",
      "state": {
       "_model_module": "@jupyter-widgets/base",
       "_model_module_version": "2.0.0",
       "_model_name": "LayoutModel",
       "_view_count": null,
       "_view_module": "@jupyter-widgets/base",
       "_view_module_version": "2.0.0",
       "_view_name": "LayoutView",
       "align_content": null,
       "align_items": null,
       "align_self": null,
       "border_bottom": null,
       "border_left": null,
       "border_right": null,
       "border_top": null,
       "bottom": null,
       "display": null,
       "flex": null,
       "flex_flow": null,
       "grid_area": null,
       "grid_auto_columns": null,
       "grid_auto_flow": null,
       "grid_auto_rows": null,
       "grid_column": null,
       "grid_gap": null,
       "grid_row": null,
       "grid_template_areas": null,
       "grid_template_columns": null,
       "grid_template_rows": null,
       "height": null,
       "justify_content": null,
       "justify_items": null,
       "left": null,
       "margin": null,
       "max_height": null,
       "max_width": null,
       "min_height": null,
       "min_width": null,
       "object_fit": null,
       "object_position": null,
       "order": null,
       "overflow": null,
       "padding": null,
       "right": null,
       "top": null,
       "visibility": null,
       "width": null
      }
     },
     "0df84ea184bd4d23b71e6cd9f8aa32ff": {
      "model_module": "@jupyter-widgets/controls",
      "model_module_version": "2.0.0",
      "model_name": "ProgressStyleModel",
      "state": {
       "_model_module": "@jupyter-widgets/controls",
       "_model_module_version": "2.0.0",
       "_model_name": "ProgressStyleModel",
       "_view_count": null,
       "_view_module": "@jupyter-widgets/base",
       "_view_module_version": "2.0.0",
       "_view_name": "StyleView",
       "bar_color": null,
       "description_width": ""
      }
     },
     "11b8ab8b177140f3af11aee4b5a28f28": {
      "model_module": "@jupyter-widgets/controls",
      "model_module_version": "2.0.0",
      "model_name": "ProgressStyleModel",
      "state": {
       "_model_module": "@jupyter-widgets/controls",
       "_model_module_version": "2.0.0",
       "_model_name": "ProgressStyleModel",
       "_view_count": null,
       "_view_module": "@jupyter-widgets/base",
       "_view_module_version": "2.0.0",
       "_view_name": "StyleView",
       "bar_color": null,
       "description_width": ""
      }
     },
     "17b8b28bd92f4373ade94de9712b005f": {
      "model_module": "@jupyter-widgets/controls",
      "model_module_version": "2.0.0",
      "model_name": "FloatProgressModel",
      "state": {
       "_dom_classes": [],
       "_model_module": "@jupyter-widgets/controls",
       "_model_module_version": "2.0.0",
       "_model_name": "FloatProgressModel",
       "_view_count": null,
       "_view_module": "@jupyter-widgets/controls",
       "_view_module_version": "2.0.0",
       "_view_name": "ProgressView",
       "bar_style": "",
       "description": "",
       "description_allow_html": false,
       "layout": "IPY_MODEL_1f358d2fe6464756aa58ffeee6e9b985",
       "max": 1.0,
       "min": 0.0,
       "orientation": "horizontal",
       "style": "IPY_MODEL_bbd30120fb6d411a9e6e5eacebfdaa7a",
       "tabbable": null,
       "tooltip": null,
       "value": 0.0
      }
     },
     "1f358d2fe6464756aa58ffeee6e9b985": {
      "model_module": "@jupyter-widgets/base",
      "model_module_version": "2.0.0",
      "model_name": "LayoutModel",
      "state": {
       "_model_module": "@jupyter-widgets/base",
       "_model_module_version": "2.0.0",
       "_model_name": "LayoutModel",
       "_view_count": null,
       "_view_module": "@jupyter-widgets/base",
       "_view_module_version": "2.0.0",
       "_view_name": "LayoutView",
       "align_content": null,
       "align_items": null,
       "align_self": null,
       "border_bottom": null,
       "border_left": null,
       "border_right": null,
       "border_top": null,
       "bottom": null,
       "display": null,
       "flex": null,
       "flex_flow": null,
       "grid_area": null,
       "grid_auto_columns": null,
       "grid_auto_flow": null,
       "grid_auto_rows": null,
       "grid_column": null,
       "grid_gap": null,
       "grid_row": null,
       "grid_template_areas": null,
       "grid_template_columns": null,
       "grid_template_rows": null,
       "height": null,
       "justify_content": null,
       "justify_items": null,
       "left": null,
       "margin": null,
       "max_height": null,
       "max_width": null,
       "min_height": null,
       "min_width": null,
       "object_fit": null,
       "object_position": null,
       "order": null,
       "overflow": null,
       "padding": null,
       "right": null,
       "top": null,
       "visibility": null,
       "width": null
      }
     },
     "30113fb32a3847ff9bb831ff20d33dc5": {
      "model_module": "@jupyter-widgets/controls",
      "model_module_version": "2.0.0",
      "model_name": "HTMLStyleModel",
      "state": {
       "_model_module": "@jupyter-widgets/controls",
       "_model_module_version": "2.0.0",
       "_model_name": "HTMLStyleModel",
       "_view_count": null,
       "_view_module": "@jupyter-widgets/base",
       "_view_module_version": "2.0.0",
       "_view_name": "StyleView",
       "background": null,
       "description_width": "",
       "font_size": null,
       "text_color": null
      }
     },
     "31daf49395eb40029c9049b727ac0a62": {
      "model_module": "@jupyter-widgets/base",
      "model_module_version": "2.0.0",
      "model_name": "LayoutModel",
      "state": {
       "_model_module": "@jupyter-widgets/base",
       "_model_module_version": "2.0.0",
       "_model_name": "LayoutModel",
       "_view_count": null,
       "_view_module": "@jupyter-widgets/base",
       "_view_module_version": "2.0.0",
       "_view_name": "LayoutView",
       "align_content": null,
       "align_items": null,
       "align_self": null,
       "border_bottom": null,
       "border_left": null,
       "border_right": null,
       "border_top": null,
       "bottom": null,
       "display": null,
       "flex": null,
       "flex_flow": null,
       "grid_area": null,
       "grid_auto_columns": null,
       "grid_auto_flow": null,
       "grid_auto_rows": null,
       "grid_column": null,
       "grid_gap": null,
       "grid_row": null,
       "grid_template_areas": null,
       "grid_template_columns": null,
       "grid_template_rows": null,
       "height": null,
       "justify_content": null,
       "justify_items": null,
       "left": null,
       "margin": null,
       "max_height": null,
       "max_width": null,
       "min_height": null,
       "min_width": null,
       "object_fit": null,
       "object_position": null,
       "order": null,
       "overflow": null,
       "padding": null,
       "right": null,
       "top": null,
       "visibility": null,
       "width": null
      }
     },
     "3b98130dbee849cfa37fb2a35078640d": {
      "model_module": "@jupyter-widgets/controls",
      "model_module_version": "2.0.0",
      "model_name": "VBoxModel",
      "state": {
       "_dom_classes": [],
       "_model_module": "@jupyter-widgets/controls",
       "_model_module_version": "2.0.0",
       "_model_name": "VBoxModel",
       "_view_count": null,
       "_view_module": "@jupyter-widgets/controls",
       "_view_module_version": "2.0.0",
       "_view_name": "VBoxView",
       "box_style": "",
       "children": [
        "IPY_MODEL_ddd58b15072a49ac88608ef1c48f76e8",
        "IPY_MODEL_c8fb023c90274c41a9d9ae01c05041e7"
       ],
       "layout": "IPY_MODEL_af535f653d494cc292623b3970dd5e6f",
       "tabbable": null,
       "tooltip": null
      }
     },
     "3e859c14cc464f499afb94a4d59307f9": {
      "model_module": "@jupyter-widgets/controls",
      "model_module_version": "2.0.0",
      "model_name": "HTMLModel",
      "state": {
       "_dom_classes": [],
       "_model_module": "@jupyter-widgets/controls",
       "_model_module_version": "2.0.0",
       "_model_name": "HTMLModel",
       "_view_count": null,
       "_view_module": "@jupyter-widgets/controls",
       "_view_module_version": "2.0.0",
       "_view_name": "HTMLView",
       "description": "",
       "description_allow_html": false,
       "layout": "IPY_MODEL_4e4329dc388a4ae0b09a8cb04b4199fc",
       "placeholder": "​",
       "style": "IPY_MODEL_d1c0fe81dedc445ca8f3abcf746a0e9c",
       "tabbable": null,
       "tooltip": null,
       "value": " 69/70 [00:09&lt;00:00,  8.77ba/s]"
      }
     },
     "3f5caf7f6db14c12a23b76f719f51715": {
      "model_module": "@jupyter-widgets/controls",
      "model_module_version": "2.0.0",
      "model_name": "LabelModel",
      "state": {
       "_dom_classes": [],
       "_model_module": "@jupyter-widgets/controls",
       "_model_module_version": "2.0.0",
       "_model_name": "LabelModel",
       "_view_count": null,
       "_view_module": "@jupyter-widgets/controls",
       "_view_module_version": "2.0.0",
       "_view_name": "LabelView",
       "description": "",
       "description_allow_html": false,
       "layout": "IPY_MODEL_cc7a145a33a94884a496b6b348e5df48",
       "placeholder": "​",
       "style": "IPY_MODEL_b9941cce8a4d49a6882588321a187887",
       "tabbable": null,
       "tooltip": null,
       "value": ""
      }
     },
     "3fc7f04f38c543cd928c476cf4af5db0": {
      "model_module": "@jupyter-widgets/base",
      "model_module_version": "2.0.0",
      "model_name": "LayoutModel",
      "state": {
       "_model_module": "@jupyter-widgets/base",
       "_model_module_version": "2.0.0",
       "_model_name": "LayoutModel",
       "_view_count": null,
       "_view_module": "@jupyter-widgets/base",
       "_view_module_version": "2.0.0",
       "_view_name": "LayoutView",
       "align_content": null,
       "align_items": null,
       "align_self": null,
       "border_bottom": null,
       "border_left": null,
       "border_right": null,
       "border_top": null,
       "bottom": null,
       "display": null,
       "flex": null,
       "flex_flow": null,
       "grid_area": null,
       "grid_auto_columns": null,
       "grid_auto_flow": null,
       "grid_auto_rows": null,
       "grid_column": null,
       "grid_gap": null,
       "grid_row": null,
       "grid_template_areas": null,
       "grid_template_columns": null,
       "grid_template_rows": null,
       "height": null,
       "justify_content": null,
       "justify_items": null,
       "left": null,
       "margin": null,
       "max_height": null,
       "max_width": null,
       "min_height": null,
       "min_width": null,
       "object_fit": null,
       "object_position": null,
       "order": null,
       "overflow": null,
       "padding": null,
       "right": null,
       "top": null,
       "visibility": null,
       "width": null
      }
     },
     "4e4329dc388a4ae0b09a8cb04b4199fc": {
      "model_module": "@jupyter-widgets/base",
      "model_module_version": "2.0.0",
      "model_name": "LayoutModel",
      "state": {
       "_model_module": "@jupyter-widgets/base",
       "_model_module_version": "2.0.0",
       "_model_name": "LayoutModel",
       "_view_count": null,
       "_view_module": "@jupyter-widgets/base",
       "_view_module_version": "2.0.0",
       "_view_name": "LayoutView",
       "align_content": null,
       "align_items": null,
       "align_self": null,
       "border_bottom": null,
       "border_left": null,
       "border_right": null,
       "border_top": null,
       "bottom": null,
       "display": null,
       "flex": null,
       "flex_flow": null,
       "grid_area": null,
       "grid_auto_columns": null,
       "grid_auto_flow": null,
       "grid_auto_rows": null,
       "grid_column": null,
       "grid_gap": null,
       "grid_row": null,
       "grid_template_areas": null,
       "grid_template_columns": null,
       "grid_template_rows": null,
       "height": null,
       "justify_content": null,
       "justify_items": null,
       "left": null,
       "margin": null,
       "max_height": null,
       "max_width": null,
       "min_height": null,
       "min_width": null,
       "object_fit": null,
       "object_position": null,
       "order": null,
       "overflow": null,
       "padding": null,
       "right": null,
       "top": null,
       "visibility": null,
       "width": null
      }
     },
     "5765787a9e8a4e3bb4d80804c237293b": {
      "model_module": "@jupyter-widgets/base",
      "model_module_version": "2.0.0",
      "model_name": "LayoutModel",
      "state": {
       "_model_module": "@jupyter-widgets/base",
       "_model_module_version": "2.0.0",
       "_model_name": "LayoutModel",
       "_view_count": null,
       "_view_module": "@jupyter-widgets/base",
       "_view_module_version": "2.0.0",
       "_view_name": "LayoutView",
       "align_content": null,
       "align_items": null,
       "align_self": null,
       "border_bottom": null,
       "border_left": null,
       "border_right": null,
       "border_top": null,
       "bottom": null,
       "display": null,
       "flex": null,
       "flex_flow": null,
       "grid_area": null,
       "grid_auto_columns": null,
       "grid_auto_flow": null,
       "grid_auto_rows": null,
       "grid_column": null,
       "grid_gap": null,
       "grid_row": null,
       "grid_template_areas": null,
       "grid_template_columns": null,
       "grid_template_rows": null,
       "height": null,
       "justify_content": null,
       "justify_items": null,
       "left": null,
       "margin": null,
       "max_height": null,
       "max_width": null,
       "min_height": null,
       "min_width": null,
       "object_fit": null,
       "object_position": null,
       "order": null,
       "overflow": null,
       "padding": null,
       "right": null,
       "top": null,
       "visibility": null,
       "width": null
      }
     },
     "5d07314aa8464246902d5c71f36c9220": {
      "model_module": "@jupyter-widgets/controls",
      "model_module_version": "2.0.0",
      "model_name": "HBoxModel",
      "state": {
       "_dom_classes": [],
       "_model_module": "@jupyter-widgets/controls",
       "_model_module_version": "2.0.0",
       "_model_name": "HBoxModel",
       "_view_count": null,
       "_view_module": "@jupyter-widgets/controls",
       "_view_module_version": "2.0.0",
       "_view_name": "HBoxView",
       "box_style": "",
       "children": [
        "IPY_MODEL_d77ee229fb2948549fb41f264627abac",
        "IPY_MODEL_eb38b1f10ac74b9b9f0f7c7ff9a66382",
        "IPY_MODEL_73587d3e38ed4c3f9814ab7e4a1a7253"
       ],
       "layout": "IPY_MODEL_ab14aebe84d448e38e56f34b81a1c2b6",
       "tabbable": null,
       "tooltip": null
      }
     },
     "62d4ff8a0f5a4078affc9953ccec9f53": {
      "model_module": "@jupyter-widgets/controls",
      "model_module_version": "2.0.0",
      "model_name": "ProgressStyleModel",
      "state": {
       "_model_module": "@jupyter-widgets/controls",
       "_model_module_version": "2.0.0",
       "_model_name": "ProgressStyleModel",
       "_view_count": null,
       "_view_module": "@jupyter-widgets/base",
       "_view_module_version": "2.0.0",
       "_view_name": "StyleView",
       "bar_color": null,
       "description_width": ""
      }
     },
     "70b867c9d5a74cd390a539d5de7b8b63": {
      "model_module": "@jupyter-widgets/controls",
      "model_module_version": "2.0.0",
      "model_name": "HBoxModel",
      "state": {
       "_dom_classes": [],
       "_model_module": "@jupyter-widgets/controls",
       "_model_module_version": "2.0.0",
       "_model_name": "HBoxModel",
       "_view_count": null,
       "_view_module": "@jupyter-widgets/controls",
       "_view_module_version": "2.0.0",
       "_view_name": "HBoxView",
       "box_style": "",
       "children": [
        "IPY_MODEL_af65805b9f5449ffbe8947c45349c873",
        "IPY_MODEL_d7aa8a82f9c7455db78236a9a7c8da0a",
        "IPY_MODEL_3e859c14cc464f499afb94a4d59307f9"
       ],
       "layout": "IPY_MODEL_3fc7f04f38c543cd928c476cf4af5db0",
       "tabbable": null,
       "tooltip": null
      }
     },
     "73587d3e38ed4c3f9814ab7e4a1a7253": {
      "model_module": "@jupyter-widgets/controls",
      "model_module_version": "2.0.0",
      "model_name": "HTMLModel",
      "state": {
       "_dom_classes": [],
       "_model_module": "@jupyter-widgets/controls",
       "_model_module_version": "2.0.0",
       "_model_name": "HTMLModel",
       "_view_count": null,
       "_view_module": "@jupyter-widgets/controls",
       "_view_module_version": "2.0.0",
       "_view_name": "HTMLView",
       "description": "",
       "description_allow_html": false,
       "layout": "IPY_MODEL_e550153fa5644153aee37798346246dd",
       "placeholder": "​",
       "style": "IPY_MODEL_b6c4267402574ea3925b084826d8ed40",
       "tabbable": null,
       "tooltip": null,
       "value": " 74/75 [00:09&lt;00:00,  6.74ba/s]"
      }
     },
     "85564a9284ae47a487768b206e642882": {
      "model_module": "@jupyter-widgets/base",
      "model_module_version": "2.0.0",
      "model_name": "LayoutModel",
      "state": {
       "_model_module": "@jupyter-widgets/base",
       "_model_module_version": "2.0.0",
       "_model_name": "LayoutModel",
       "_view_count": null,
       "_view_module": "@jupyter-widgets/base",
       "_view_module_version": "2.0.0",
       "_view_name": "LayoutView",
       "align_content": null,
       "align_items": null,
       "align_self": null,
       "border_bottom": null,
       "border_left": null,
       "border_right": null,
       "border_top": null,
       "bottom": null,
       "display": null,
       "flex": null,
       "flex_flow": null,
       "grid_area": null,
       "grid_auto_columns": null,
       "grid_auto_flow": null,
       "grid_auto_rows": null,
       "grid_column": null,
       "grid_gap": null,
       "grid_row": null,
       "grid_template_areas": null,
       "grid_template_columns": null,
       "grid_template_rows": null,
       "height": null,
       "justify_content": null,
       "justify_items": null,
       "left": null,
       "margin": null,
       "max_height": null,
       "max_width": null,
       "min_height": null,
       "min_width": null,
       "object_fit": null,
       "object_position": null,
       "order": null,
       "overflow": null,
       "padding": null,
       "right": null,
       "top": null,
       "visibility": null,
       "width": null
      }
     },
     "aa9f35a1e6094233bbef6ac4737841eb": {
      "model_module": "@jupyter-widgets/controls",
      "model_module_version": "2.0.0",
      "model_name": "VBoxModel",
      "state": {
       "_dom_classes": [],
       "_model_module": "@jupyter-widgets/controls",
       "_model_module_version": "2.0.0",
       "_model_name": "VBoxModel",
       "_view_count": null,
       "_view_module": "@jupyter-widgets/controls",
       "_view_module_version": "2.0.0",
       "_view_name": "VBoxView",
       "box_style": "",
       "children": [
        "IPY_MODEL_3f5caf7f6db14c12a23b76f719f51715",
        "IPY_MODEL_17b8b28bd92f4373ade94de9712b005f"
       ],
       "layout": "IPY_MODEL_0ba1cbe323574e539184c4ea89710e8a",
       "tabbable": null,
       "tooltip": null
      }
     },
     "ab14aebe84d448e38e56f34b81a1c2b6": {
      "model_module": "@jupyter-widgets/base",
      "model_module_version": "2.0.0",
      "model_name": "LayoutModel",
      "state": {
       "_model_module": "@jupyter-widgets/base",
       "_model_module_version": "2.0.0",
       "_model_name": "LayoutModel",
       "_view_count": null,
       "_view_module": "@jupyter-widgets/base",
       "_view_module_version": "2.0.0",
       "_view_name": "LayoutView",
       "align_content": null,
       "align_items": null,
       "align_self": null,
       "border_bottom": null,
       "border_left": null,
       "border_right": null,
       "border_top": null,
       "bottom": null,
       "display": null,
       "flex": null,
       "flex_flow": null,
       "grid_area": null,
       "grid_auto_columns": null,
       "grid_auto_flow": null,
       "grid_auto_rows": null,
       "grid_column": null,
       "grid_gap": null,
       "grid_row": null,
       "grid_template_areas": null,
       "grid_template_columns": null,
       "grid_template_rows": null,
       "height": null,
       "justify_content": null,
       "justify_items": null,
       "left": null,
       "margin": null,
       "max_height": null,
       "max_width": null,
       "min_height": null,
       "min_width": null,
       "object_fit": null,
       "object_position": null,
       "order": null,
       "overflow": null,
       "padding": null,
       "right": null,
       "top": null,
       "visibility": null,
       "width": null
      }
     },
     "adf91e1927174ac096e6c575eb28f156": {
      "model_module": "@jupyter-widgets/controls",
      "model_module_version": "2.0.0",
      "model_name": "HTMLStyleModel",
      "state": {
       "_model_module": "@jupyter-widgets/controls",
       "_model_module_version": "2.0.0",
       "_model_name": "HTMLStyleModel",
       "_view_count": null,
       "_view_module": "@jupyter-widgets/base",
       "_view_module_version": "2.0.0",
       "_view_name": "StyleView",
       "background": null,
       "description_width": "",
       "font_size": null,
       "text_color": null
      }
     },
     "af535f653d494cc292623b3970dd5e6f": {
      "model_module": "@jupyter-widgets/base",
      "model_module_version": "2.0.0",
      "model_name": "LayoutModel",
      "state": {
       "_model_module": "@jupyter-widgets/base",
       "_model_module_version": "2.0.0",
       "_model_name": "LayoutModel",
       "_view_count": null,
       "_view_module": "@jupyter-widgets/base",
       "_view_module_version": "2.0.0",
       "_view_name": "LayoutView",
       "align_content": null,
       "align_items": null,
       "align_self": null,
       "border_bottom": null,
       "border_left": null,
       "border_right": null,
       "border_top": null,
       "bottom": null,
       "display": null,
       "flex": null,
       "flex_flow": null,
       "grid_area": null,
       "grid_auto_columns": null,
       "grid_auto_flow": null,
       "grid_auto_rows": null,
       "grid_column": null,
       "grid_gap": null,
       "grid_row": null,
       "grid_template_areas": null,
       "grid_template_columns": null,
       "grid_template_rows": null,
       "height": null,
       "justify_content": null,
       "justify_items": null,
       "left": null,
       "margin": null,
       "max_height": null,
       "max_width": null,
       "min_height": null,
       "min_width": null,
       "object_fit": null,
       "object_position": null,
       "order": null,
       "overflow": null,
       "padding": null,
       "right": null,
       "top": null,
       "visibility": null,
       "width": null
      }
     },
     "af65805b9f5449ffbe8947c45349c873": {
      "model_module": "@jupyter-widgets/controls",
      "model_module_version": "2.0.0",
      "model_name": "HTMLModel",
      "state": {
       "_dom_classes": [],
       "_model_module": "@jupyter-widgets/controls",
       "_model_module_version": "2.0.0",
       "_model_name": "HTMLModel",
       "_view_count": null,
       "_view_module": "@jupyter-widgets/controls",
       "_view_module_version": "2.0.0",
       "_view_name": "HTMLView",
       "description": "",
       "description_allow_html": false,
       "layout": "IPY_MODEL_06a8203f83ca4e53ac413cd1574f56ef",
       "placeholder": "​",
       "style": "IPY_MODEL_30113fb32a3847ff9bb831ff20d33dc5",
       "tabbable": null,
       "tooltip": null,
       "value": " 99%"
      }
     },
     "b6c4267402574ea3925b084826d8ed40": {
      "model_module": "@jupyter-widgets/controls",
      "model_module_version": "2.0.0",
      "model_name": "HTMLStyleModel",
      "state": {
       "_model_module": "@jupyter-widgets/controls",
       "_model_module_version": "2.0.0",
       "_model_name": "HTMLStyleModel",
       "_view_count": null,
       "_view_module": "@jupyter-widgets/base",
       "_view_module_version": "2.0.0",
       "_view_name": "StyleView",
       "background": null,
       "description_width": "",
       "font_size": null,
       "text_color": null
      }
     },
     "b9941cce8a4d49a6882588321a187887": {
      "model_module": "@jupyter-widgets/controls",
      "model_module_version": "2.0.0",
      "model_name": "LabelStyleModel",
      "state": {
       "_model_module": "@jupyter-widgets/controls",
       "_model_module_version": "2.0.0",
       "_model_name": "LabelStyleModel",
       "_view_count": null,
       "_view_module": "@jupyter-widgets/base",
       "_view_module_version": "2.0.0",
       "_view_name": "StyleView",
       "background": null,
       "description_width": "",
       "font_family": null,
       "font_size": null,
       "font_style": null,
       "font_variant": null,
       "font_weight": null,
       "text_color": null,
       "text_decoration": null
      }
     },
     "bbd30120fb6d411a9e6e5eacebfdaa7a": {
      "model_module": "@jupyter-widgets/controls",
      "model_module_version": "2.0.0",
      "model_name": "ProgressStyleModel",
      "state": {
       "_model_module": "@jupyter-widgets/controls",
       "_model_module_version": "2.0.0",
       "_model_name": "ProgressStyleModel",
       "_view_count": null,
       "_view_module": "@jupyter-widgets/base",
       "_view_module_version": "2.0.0",
       "_view_name": "StyleView",
       "bar_color": null,
       "description_width": ""
      }
     },
     "c8fb023c90274c41a9d9ae01c05041e7": {
      "model_module": "@jupyter-widgets/controls",
      "model_module_version": "2.0.0",
      "model_name": "FloatProgressModel",
      "state": {
       "_dom_classes": [],
       "_model_module": "@jupyter-widgets/controls",
       "_model_module_version": "2.0.0",
       "_model_name": "FloatProgressModel",
       "_view_count": null,
       "_view_module": "@jupyter-widgets/controls",
       "_view_module_version": "2.0.0",
       "_view_name": "ProgressView",
       "bar_style": "",
       "description": "",
       "description_allow_html": false,
       "layout": "IPY_MODEL_5765787a9e8a4e3bb4d80804c237293b",
       "max": 1.0,
       "min": 0.0,
       "orientation": "horizontal",
       "style": "IPY_MODEL_62d4ff8a0f5a4078affc9953ccec9f53",
       "tabbable": null,
       "tooltip": null,
       "value": 0.0
      }
     },
     "cc7a145a33a94884a496b6b348e5df48": {
      "model_module": "@jupyter-widgets/base",
      "model_module_version": "2.0.0",
      "model_name": "LayoutModel",
      "state": {
       "_model_module": "@jupyter-widgets/base",
       "_model_module_version": "2.0.0",
       "_model_name": "LayoutModel",
       "_view_count": null,
       "_view_module": "@jupyter-widgets/base",
       "_view_module_version": "2.0.0",
       "_view_name": "LayoutView",
       "align_content": null,
       "align_items": null,
       "align_self": null,
       "border_bottom": null,
       "border_left": null,
       "border_right": null,
       "border_top": null,
       "bottom": null,
       "display": null,
       "flex": null,
       "flex_flow": null,
       "grid_area": null,
       "grid_auto_columns": null,
       "grid_auto_flow": null,
       "grid_auto_rows": null,
       "grid_column": null,
       "grid_gap": null,
       "grid_row": null,
       "grid_template_areas": null,
       "grid_template_columns": null,
       "grid_template_rows": null,
       "height": null,
       "justify_content": null,
       "justify_items": null,
       "left": null,
       "margin": null,
       "max_height": null,
       "max_width": null,
       "min_height": null,
       "min_width": null,
       "object_fit": null,
       "object_position": null,
       "order": null,
       "overflow": null,
       "padding": null,
       "right": null,
       "top": null,
       "visibility": null,
       "width": null
      }
     },
     "d1c0fe81dedc445ca8f3abcf746a0e9c": {
      "model_module": "@jupyter-widgets/controls",
      "model_module_version": "2.0.0",
      "model_name": "HTMLStyleModel",
      "state": {
       "_model_module": "@jupyter-widgets/controls",
       "_model_module_version": "2.0.0",
       "_model_name": "HTMLStyleModel",
       "_view_count": null,
       "_view_module": "@jupyter-widgets/base",
       "_view_module_version": "2.0.0",
       "_view_name": "StyleView",
       "background": null,
       "description_width": "",
       "font_size": null,
       "text_color": null
      }
     },
     "d423176747914b97aaf8aedcc458c5f1": {
      "model_module": "@jupyter-widgets/base",
      "model_module_version": "2.0.0",
      "model_name": "LayoutModel",
      "state": {
       "_model_module": "@jupyter-widgets/base",
       "_model_module_version": "2.0.0",
       "_model_name": "LayoutModel",
       "_view_count": null,
       "_view_module": "@jupyter-widgets/base",
       "_view_module_version": "2.0.0",
       "_view_name": "LayoutView",
       "align_content": null,
       "align_items": null,
       "align_self": null,
       "border_bottom": null,
       "border_left": null,
       "border_right": null,
       "border_top": null,
       "bottom": null,
       "display": null,
       "flex": null,
       "flex_flow": null,
       "grid_area": null,
       "grid_auto_columns": null,
       "grid_auto_flow": null,
       "grid_auto_rows": null,
       "grid_column": null,
       "grid_gap": null,
       "grid_row": null,
       "grid_template_areas": null,
       "grid_template_columns": null,
       "grid_template_rows": null,
       "height": null,
       "justify_content": null,
       "justify_items": null,
       "left": null,
       "margin": null,
       "max_height": null,
       "max_width": null,
       "min_height": null,
       "min_width": null,
       "object_fit": null,
       "object_position": null,
       "order": null,
       "overflow": null,
       "padding": null,
       "right": null,
       "top": null,
       "visibility": null,
       "width": null
      }
     },
     "d77ee229fb2948549fb41f264627abac": {
      "model_module": "@jupyter-widgets/controls",
      "model_module_version": "2.0.0",
      "model_name": "HTMLModel",
      "state": {
       "_dom_classes": [],
       "_model_module": "@jupyter-widgets/controls",
       "_model_module_version": "2.0.0",
       "_model_name": "HTMLModel",
       "_view_count": null,
       "_view_module": "@jupyter-widgets/controls",
       "_view_module_version": "2.0.0",
       "_view_name": "HTMLView",
       "description": "",
       "description_allow_html": false,
       "layout": "IPY_MODEL_31daf49395eb40029c9049b727ac0a62",
       "placeholder": "​",
       "style": "IPY_MODEL_adf91e1927174ac096e6c575eb28f156",
       "tabbable": null,
       "tooltip": null,
       "value": " 99%"
      }
     },
     "d7aa8a82f9c7455db78236a9a7c8da0a": {
      "model_module": "@jupyter-widgets/controls",
      "model_module_version": "2.0.0",
      "model_name": "FloatProgressModel",
      "state": {
       "_dom_classes": [],
       "_model_module": "@jupyter-widgets/controls",
       "_model_module_version": "2.0.0",
       "_model_name": "FloatProgressModel",
       "_view_count": null,
       "_view_module": "@jupyter-widgets/controls",
       "_view_module_version": "2.0.0",
       "_view_name": "ProgressView",
       "bar_style": "danger",
       "description": "",
       "description_allow_html": false,
       "layout": "IPY_MODEL_fc0f83ea3ea047f49dad70505aa0e6d1",
       "max": 70.0,
       "min": 0.0,
       "orientation": "horizontal",
       "style": "IPY_MODEL_11b8ab8b177140f3af11aee4b5a28f28",
       "tabbable": null,
       "tooltip": null,
       "value": 69.0
      }
     },
     "ddd58b15072a49ac88608ef1c48f76e8": {
      "model_module": "@jupyter-widgets/controls",
      "model_module_version": "2.0.0",
      "model_name": "LabelModel",
      "state": {
       "_dom_classes": [],
       "_model_module": "@jupyter-widgets/controls",
       "_model_module_version": "2.0.0",
       "_model_name": "LabelModel",
       "_view_count": null,
       "_view_module": "@jupyter-widgets/controls",
       "_view_module_version": "2.0.0",
       "_view_name": "LabelView",
       "description": "",
       "description_allow_html": false,
       "layout": "IPY_MODEL_d423176747914b97aaf8aedcc458c5f1",
       "placeholder": "​",
       "style": "IPY_MODEL_0851fc0745314d95897739fab96444d9",
       "tabbable": null,
       "tooltip": null,
       "value": ""
      }
     },
     "e550153fa5644153aee37798346246dd": {
      "model_module": "@jupyter-widgets/base",
      "model_module_version": "2.0.0",
      "model_name": "LayoutModel",
      "state": {
       "_model_module": "@jupyter-widgets/base",
       "_model_module_version": "2.0.0",
       "_model_name": "LayoutModel",
       "_view_count": null,
       "_view_module": "@jupyter-widgets/base",
       "_view_module_version": "2.0.0",
       "_view_name": "LayoutView",
       "align_content": null,
       "align_items": null,
       "align_self": null,
       "border_bottom": null,
       "border_left": null,
       "border_right": null,
       "border_top": null,
       "bottom": null,
       "display": null,
       "flex": null,
       "flex_flow": null,
       "grid_area": null,
       "grid_auto_columns": null,
       "grid_auto_flow": null,
       "grid_auto_rows": null,
       "grid_column": null,
       "grid_gap": null,
       "grid_row": null,
       "grid_template_areas": null,
       "grid_template_columns": null,
       "grid_template_rows": null,
       "height": null,
       "justify_content": null,
       "justify_items": null,
       "left": null,
       "margin": null,
       "max_height": null,
       "max_width": null,
       "min_height": null,
       "min_width": null,
       "object_fit": null,
       "object_position": null,
       "order": null,
       "overflow": null,
       "padding": null,
       "right": null,
       "top": null,
       "visibility": null,
       "width": null
      }
     },
     "eb38b1f10ac74b9b9f0f7c7ff9a66382": {
      "model_module": "@jupyter-widgets/controls",
      "model_module_version": "2.0.0",
      "model_name": "FloatProgressModel",
      "state": {
       "_dom_classes": [],
       "_model_module": "@jupyter-widgets/controls",
       "_model_module_version": "2.0.0",
       "_model_name": "FloatProgressModel",
       "_view_count": null,
       "_view_module": "@jupyter-widgets/controls",
       "_view_module_version": "2.0.0",
       "_view_name": "ProgressView",
       "bar_style": "danger",
       "description": "",
       "description_allow_html": false,
       "layout": "IPY_MODEL_85564a9284ae47a487768b206e642882",
       "max": 75.0,
       "min": 0.0,
       "orientation": "horizontal",
       "style": "IPY_MODEL_0df84ea184bd4d23b71e6cd9f8aa32ff",
       "tabbable": null,
       "tooltip": null,
       "value": 74.0
      }
     },
     "fc0f83ea3ea047f49dad70505aa0e6d1": {
      "model_module": "@jupyter-widgets/base",
      "model_module_version": "2.0.0",
      "model_name": "LayoutModel",
      "state": {
       "_model_module": "@jupyter-widgets/base",
       "_model_module_version": "2.0.0",
       "_model_name": "LayoutModel",
       "_view_count": null,
       "_view_module": "@jupyter-widgets/base",
       "_view_module_version": "2.0.0",
       "_view_name": "LayoutView",
       "align_content": null,
       "align_items": null,
       "align_self": null,
       "border_bottom": null,
       "border_left": null,
       "border_right": null,
       "border_top": null,
       "bottom": null,
       "display": null,
       "flex": null,
       "flex_flow": null,
       "grid_area": null,
       "grid_auto_columns": null,
       "grid_auto_flow": null,
       "grid_auto_rows": null,
       "grid_column": null,
       "grid_gap": null,
       "grid_row": null,
       "grid_template_areas": null,
       "grid_template_columns": null,
       "grid_template_rows": null,
       "height": null,
       "justify_content": null,
       "justify_items": null,
       "left": null,
       "margin": null,
       "max_height": null,
       "max_width": null,
       "min_height": null,
       "min_width": null,
       "object_fit": null,
       "object_position": null,
       "order": null,
       "overflow": null,
       "padding": null,
       "right": null,
       "top": null,
       "visibility": null,
       "width": null
      }
     }
    },
    "version_major": 2,
    "version_minor": 0
   }
  }
 },
 "nbformat": 4,
 "nbformat_minor": 5
}