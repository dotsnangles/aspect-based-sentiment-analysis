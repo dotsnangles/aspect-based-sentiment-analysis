{
 "cells": [
  {
   "cell_type": "code",
   "execution_count": 1,
   "metadata": {},
   "outputs": [
    {
     "name": "stderr",
     "output_type": "stream",
     "text": [
      "/home/ubuntu/anaconda3/envs/jeonghyeon/lib/python3.10/site-packages/tqdm/auto.py:22: TqdmWarning: IProgress not found. Please update jupyter and ipywidgets. See https://ipywidgets.readthedocs.io/en/stable/user_install.html\n",
      "  from .autonotebook import tqdm as notebook_tqdm\n"
     ]
    }
   ],
   "source": [
    "from transformers import (\n",
    "    AutoConfig, ElectraTokenizerFast, ElectraForTokenClassification, \n",
    "    DataCollatorForTokenClassification,\n",
    "    TrainingArguments, Trainer,\n",
    ")\n",
    "\n",
    "from transformers.optimization import (\n",
    "    AdamW, get_linear_schedule_with_warmup,\n",
    "    Adafactor, AdafactorSchedule,\n",
    ")\n",
    "\n",
    "import torch\n",
    "import wandb\n",
    "\n",
    "import datasets\n",
    "import evaluate\n",
    "\n",
    "from sklearn.metrics import accuracy_score, f1_score\n",
    "\n",
    "import numpy as np\n",
    "import pandas as pd\n",
    "\n",
    "import os\n",
    "import re\n",
    "import random\n",
    "\n",
    "import demoji"
   ]
  },
  {
   "cell_type": "code",
   "execution_count": 2,
   "metadata": {},
   "outputs": [
    {
     "name": "stdout",
     "output_type": "stream",
     "text": [
      "cuda:0\n"
     ]
    }
   ],
   "source": [
    "device = torch.device(\"cuda:0\" if torch.cuda.is_available() else \"cpu\")\n",
    "print(device)"
   ]
  },
  {
   "cell_type": "code",
   "execution_count": 3,
   "metadata": {},
   "outputs": [],
   "source": [
    "model_checkpoint = 'training_results/monologg_koelectra_base_v3_discriminator_uncleaned_v11/target_tagger/monologg_koelectra_base_v3_discriminator_uncleaned_v11/checkpoint-370'\n",
    "\n",
    "tokenizer = ElectraTokenizerFast.from_pretrained(model_checkpoint)\n",
    "model = ElectraForTokenClassification.from_pretrained(model_checkpoint).to(device)"
   ]
  },
  {
   "cell_type": "code",
   "execution_count": 4,
   "metadata": {},
   "outputs": [],
   "source": [
    "def preprocess_function(examples):\n",
    "    input_ids = tokenizer.convert_tokens_to_ids(examples[\"input_tokens_list\"])\n",
    "    token_type_ids = [0 for _ in range(len(input_ids))]\n",
    "    attention_mask = [1 for _ in range(len(input_ids))]   \n",
    "    \n",
    "    input_triplet = dict(\n",
    "        input_ids = torch.tensor([input_ids]).to(device),\n",
    "        token_type_ids = torch.tensor([token_type_ids]).to(device),\n",
    "        attention_mask = torch.tensor([attention_mask]).to(device),\n",
    "    )\n",
    "    return input_triplet"
   ]
  },
  {
   "cell_type": "code",
   "execution_count": 5,
   "metadata": {},
   "outputs": [],
   "source": [
    "TRAIN_DATA_PATH = './dataset/uncleaned_v11/tagger_train.json'\n",
    "EVAL_DATA_PATH = './dataset/uncleaned_v11/tagger_dev.json'\n",
    "\n",
    "train_dataset = pd.read_json(TRAIN_DATA_PATH)\n",
    "eval_dataset = pd.read_json(EVAL_DATA_PATH)"
   ]
  },
  {
   "cell_type": "code",
   "execution_count": 6,
   "metadata": {},
   "outputs": [],
   "source": [
    "# while True:\n",
    "#     k = random.randrange(len(train_dataset))\n",
    "#     input_tokens_list = train_dataset['input_tokens_list'][k]\n",
    "#     sentence_form = train_dataset['sentence_form'][k]\n",
    "#     annotations = train_dataset['annotation'][k]\n",
    "#     if len(tokenizer.convert_tokens_to_ids(input_tokens_list)) != len(tokenizer.encode(sentence_form)):\n",
    "#         print(k)\n",
    "#         print(len(tokenizer.convert_tokens_to_ids(input_tokens_list)), len(tokenizer.encode(sentence_form)))\n",
    "#         print(sentence_form)\n",
    "#         print(annotations)\n",
    "#         break"
   ]
  },
  {
   "cell_type": "code",
   "execution_count": 71,
   "metadata": {},
   "outputs": [
    {
     "name": "stdout",
     "output_type": "stream",
     "text": [
      "[['패키지/구성품#디자인', ['살랑드파리 , 아쿠아컴플릿시리즈', 27, 44], 'positive']]\n",
      "Target 내 화장대를 블링블링하게 만들어주는 살랑드파리 , 아쿠아컴플릿시리즈 인데요!\n",
      "\n",
      "label:\n",
      "[0, 0, 0, 0, 0, 0, 0, 0, 0, 0, 0, 0, 0, 0, 0, 0, 0, 1, 2, 2, 2, 2, 2, 2, 2, 2, 2, 2, 0, 0]\n",
      "prediction:\n",
      "[0, 0, 0, 0, 0, 0, 0, 0, 0, 0, 0, 0, 0, 0, 0, 0, 0, 1, 2, 2, 2, 2, 2, 2, 2, 2, 2, 2, 0, 0]\n",
      "\n",
      "True\n",
      "\n",
      "targets in labels:\n",
      "살랑드파리 , 아쿠아컴플릿시리즈\n",
      "targets predicted:\n",
      "['살랑드파리, 아쿠아컴플릿시리즈']\n"
     ]
    }
   ],
   "source": [
    "idx = random.randrange(len(eval_dataset))\n",
    "sample = eval_dataset.iloc[idx]\n",
    "# sample = train_dataset.iloc[1151]\n",
    "print(sample.annotation)\n",
    "print(sample.sentence_form)\n",
    "print()\n",
    "\n",
    "input_triplet = tokenizer(sample.sentence_form, return_tensors='pt')\n",
    "input_triplet = {k:v.to(device) for k, v in input_triplet.items()}\n",
    "# input_triplet = preprocess_function(sample)\n",
    "output = model(**input_triplet).logits\n",
    "\n",
    "print('label:'), print(sample.labels[1:-1])\n",
    "print('prediction:'), print(output.argmax(-1)[-1].tolist()[1:-1])\n",
    "print()\n",
    "print(output.argmax(-1)[-1].tolist()[1:-1] == sample.labels[1:-1])\n",
    "print()\n",
    "toks = sample.input_tokens_list[1:-1]\n",
    "pred = output.argmax(-1)[-1].tolist()[1:-1]\n",
    "# labs = sample.labels\n",
    "\n",
    "starts = list({k:v for k, v in enumerate(pred) if v == 1}.keys())\n",
    "targets = []\n",
    "for start in starts:\n",
    "    target = [toks[start]]\n",
    "    for tok, lab in zip(toks[start+1:], pred[start+1:]):\n",
    "        if lab != 2:\n",
    "            break\n",
    "        else:\n",
    "            target.append(tok)\n",
    "    targets.append(tokenizer.convert_tokens_to_string(target))\n",
    "\n",
    "print('targets in labels:')\n",
    "for el in sample.annotation:\n",
    "    print(el[1][0])\n",
    "print('targets predicted:')\n",
    "print(targets)"
   ]
  },
  {
   "cell_type": "code",
   "execution_count": 74,
   "metadata": {},
   "outputs": [
    {
     "data": {
      "text/plain": [
       "True"
      ]
     },
     "execution_count": 74,
     "metadata": {},
     "output_type": "execute_result"
    }
   ],
   "source": [
    "tokenizer.encode('살랑드파리 , 아쿠아컴플릿시리즈') == tokenizer.encode('살랑드파리, 아쿠아컴플릿시리즈')"
   ]
  }
 ],
 "metadata": {
  "kernelspec": {
   "display_name": "Python 3.10.6 ('jeonghyeon')",
   "language": "python",
   "name": "python3"
  },
  "language_info": {
   "codemirror_mode": {
    "name": "ipython",
    "version": 3
   },
   "file_extension": ".py",
   "mimetype": "text/x-python",
   "name": "python",
   "nbconvert_exporter": "python",
   "pygments_lexer": "ipython3",
   "version": "3.10.6"
  },
  "orig_nbformat": 4,
  "vscode": {
   "interpreter": {
    "hash": "df12b971f0e4e081474c4ac44bd338416eac6f5401e1e938ba342788cee78ecd"
   }
  }
 },
 "nbformat": 4,
 "nbformat_minor": 2
}
