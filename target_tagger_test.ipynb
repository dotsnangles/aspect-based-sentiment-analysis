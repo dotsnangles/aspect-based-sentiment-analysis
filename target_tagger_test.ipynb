{
 "cells": [
  {
   "cell_type": "code",
   "execution_count": 261,
   "metadata": {},
   "outputs": [],
   "source": [
    "from transformers import (\n",
    "    AutoConfig, ElectraTokenizerFast, ElectraForTokenClassification, \n",
    "    DataCollatorForTokenClassification,\n",
    "    TrainingArguments, Trainer,\n",
    ")\n",
    "\n",
    "from transformers.optimization import (\n",
    "    AdamW, get_linear_schedule_with_warmup,\n",
    "    Adafactor, AdafactorSchedule,\n",
    ")\n",
    "\n",
    "import torch\n",
    "import wandb\n",
    "\n",
    "import datasets\n",
    "import evaluate\n",
    "\n",
    "from sklearn.metrics import accuracy_score, f1_score\n",
    "\n",
    "import numpy as np\n",
    "import pandas as pd\n",
    "\n",
    "import os\n",
    "import re\n",
    "import random\n",
    "\n",
    "import demoji"
   ]
  },
  {
   "cell_type": "code",
   "execution_count": 262,
   "metadata": {},
   "outputs": [
    {
     "name": "stdout",
     "output_type": "stream",
     "text": [
      "cuda:0\n"
     ]
    }
   ],
   "source": [
    "device = torch.device(\"cuda:0\" if torch.cuda.is_available() else \"cpu\")\n",
    "print(device)"
   ]
  },
  {
   "cell_type": "code",
   "execution_count": 263,
   "metadata": {},
   "outputs": [],
   "source": [
    "model_checkpoint = 'training_results/monologg_koelectra_base_v3_discriminator_uncleaned_v9/target_tagger.v2/monologg_koelectra_base_v3_discriminator_uncleaned_v9/checkpoint-370'\n",
    "\n",
    "tokenizer = ElectraTokenizerFast.from_pretrained(model_checkpoint)\n",
    "model = ElectraForTokenClassification.from_pretrained(model_checkpoint).to(device)"
   ]
  },
  {
   "cell_type": "code",
   "execution_count": 264,
   "metadata": {},
   "outputs": [],
   "source": [
    "def preprocess_function(examples):\n",
    "    input_ids = tokenizer.convert_tokens_to_ids(examples[\"input_tokens_list\"])\n",
    "    token_type_ids = [0 for _ in range(len(input_ids))]\n",
    "    attention_mask = [1 for _ in range(len(input_ids))]   \n",
    "    \n",
    "    input_triplet = dict(\n",
    "        input_ids = torch.tensor([input_ids]).to(device),\n",
    "        token_type_ids = torch.tensor([token_type_ids]).to(device),\n",
    "        attention_mask = torch.tensor([attention_mask]).to(device),\n",
    "    )\n",
    "    return input_triplet"
   ]
  },
  {
   "cell_type": "code",
   "execution_count": 265,
   "metadata": {},
   "outputs": [],
   "source": [
    "TRAIN_DATA_PATH = './dataset/uncleaned_v9/tagger_train.json'\n",
    "EVAL_DATA_PATH = './dataset/uncleaned_v9/tagger_dev.json'\n",
    "\n",
    "train_dataset = pd.read_json(TRAIN_DATA_PATH)\n",
    "eval_dataset = pd.read_json(EVAL_DATA_PATH)"
   ]
  },
  {
   "cell_type": "code",
   "execution_count": 266,
   "metadata": {},
   "outputs": [
    {
     "name": "stdout",
     "output_type": "stream",
     "text": [
      "1485\n",
      "17 16\n",
      "Target##호호에미 #프리지어 향이 은은하고 좋다\n",
      "[['본품#일반', ['호호에미 #프리지어 향', 8, 20], 'positive']]\n"
     ]
    }
   ],
   "source": [
    "while True:\n",
    "    k = random.randrange(len(train_dataset))\n",
    "    input_tokens_list = train_dataset['input_tokens_list'][k]\n",
    "    sentence_form = train_dataset['sentence_form'][k]\n",
    "    annotations = train_dataset['annotation'][k]\n",
    "    if len(tokenizer.convert_tokens_to_ids(input_tokens_list)) != len(tokenizer.encode(sentence_form)):\n",
    "        print(k)\n",
    "        print(len(tokenizer.convert_tokens_to_ids(input_tokens_list)), len(tokenizer.encode(sentence_form)))\n",
    "        print(sentence_form)\n",
    "        print(annotations)\n",
    "        break"
   ]
  },
  {
   "cell_type": "code",
   "execution_count": 267,
   "metadata": {},
   "outputs": [
    {
     "name": "stdout",
     "output_type": "stream",
     "text": [
      "[['본품#품질', ['약산성토너', 36, 41], 'positive']]\n",
      "Target#거품도 부드럽고, 자극이 없어 부담없이 쓸 수 있는 약산성토너에요.\n",
      "\n",
      "prediction:\n",
      "[1, 0, 0, 0, 0, 0, 0, 0, 0, 0, 0, 0, 0, 0, 0, 0, 0, 0, 0, 0, 0, 0, 0]\n",
      "label:\n",
      "[0, 0, 0, 0, 0, 0, 0, 0, 0, 0, 0, 0, 0, 0, 0, 0, 1, 2, 2, 2, 0, 0]\n",
      "\n",
      "False\n",
      "\n",
      "targets predicted:\n",
      "[['Target']]\n"
     ]
    },
    {
     "data": {
      "text/plain": [
       "(None, None)"
      ]
     },
     "execution_count": 267,
     "metadata": {},
     "output_type": "execute_result"
    }
   ],
   "source": [
    "# idx = random.randrange(len(eval_dataset))\n",
    "# sample = eval_dataset.iloc[idx]\n",
    "sample = train_dataset.iloc[1151]\n",
    "print(sample.annotation)\n",
    "print(sample.sentence_form)\n",
    "print()\n",
    "input_triplet = tokenizer(sample.sentence_form, return_tensors='pt')\n",
    "input_triplet = {k:v.to(device) for k, v in input_triplet.items()}\n",
    "# input_triplet = preprocess_function(sample)\n",
    "output = model(**input_triplet).logits\n",
    "print('prediction:'), print(output.argmax(-1)[-1].tolist()[1:-1])\n",
    "print('label:'), print(sample.labels[1:-1])\n",
    "print()\n",
    "print(output.argmax(-1)[-1].tolist()[1:-1] == sample.labels[1:-1])\n",
    "print()\n",
    "toks = sample.input_tokens_list[1:-1]\n",
    "pred = output.argmax(-1)[-1].tolist()[1:-1]\n",
    "# labs = sample.labels\n",
    "\n",
    "starts = list({k:v for k, v in enumerate(pred) if v == 1}.keys())\n",
    "targets = []\n",
    "for start in starts:\n",
    "    target = [toks[start]]\n",
    "    for tok, lab in zip(toks[start+1:], pred[start+1:]):\n",
    "        if lab != 2:\n",
    "            break\n",
    "        else:\n",
    "            target.append(tok)\n",
    "    targets.append(target)\n",
    "\n",
    "print('targets predicted:'), print(targets)"
   ]
  },
  {
   "cell_type": "code",
   "execution_count": 268,
   "metadata": {},
   "outputs": [
    {
     "data": {
      "text/plain": [
       "([2, 3103, 19160, 4348, 4330, 7616, 3],\n",
       " [2, 3103, 19160, 4348, 4330, 4073, 4150, 3],\n",
       " [2, 3103, 19160, 4348, 4330, 3],\n",
       " [2, 3103, 19160, 4348, 4330, 3],\n",
       " [2, 3103, 19160, 4348, 4330, 3],\n",
       " [2, 3103, 19160, 4348, 4330, 3])"
      ]
     },
     "execution_count": 268,
     "metadata": {},
     "output_type": "execute_result"
    }
   ],
   "source": [
    "sent1 = '약산성토너 에요'\n",
    "sent2 = '약산성토너에요'\n",
    "sent3 = '약산성토너'\n",
    "sent4 = ' 약산성토너'\n",
    "sent5 = '약산성토너 '\n",
    "sent6 = ' 약산성토너 '\n",
    "tokenizer.encode(sent1), tokenizer.encode(sent2), tokenizer.encode(sent3), tokenizer.encode(sent4), tokenizer.encode(sent5), tokenizer.encode(sent6)"
   ]
  },
  {
   "cell_type": "code",
   "execution_count": 269,
   "metadata": {},
   "outputs": [
    {
     "data": {
      "text/plain": [
       "(['[CLS]', '약', '##산성', '##토', '##너', '[SEP]', '에요', '[SEP]'],\n",
       " ['[CLS]', '약', '##산성', '##토', '##너', '##에', '##요', '[SEP]'])"
      ]
     },
     "execution_count": 269,
     "metadata": {},
     "output_type": "execute_result"
    }
   ],
   "source": [
    "tokenizer.convert_ids_to_tokens(tokenizer.encode(['약산성토너', '에요'])), tokenizer.convert_ids_to_tokens(tokenizer.encode('약산성토너에요'))"
   ]
  },
  {
   "cell_type": "code",
   "execution_count": 270,
   "metadata": {},
   "outputs": [
    {
     "data": {
      "text/plain": [
       "['[CLS] 약산성토너 에요 [SEP]',\n",
       " '[CLS] 약산성토너에요 [SEP]',\n",
       " '[CLS] 약산성토너 [SEP]',\n",
       " '[CLS] 약산성토너 [SEP]',\n",
       " '[CLS] 약산성토너 [SEP]',\n",
       " '[CLS] 약산성토너 [SEP]']"
      ]
     },
     "execution_count": 270,
     "metadata": {},
     "output_type": "execute_result"
    }
   ],
   "source": [
    "tokenizer.batch_decode(\n",
    "([2, 3103, 19160, 4348, 4330, 7616, 3],\n",
    " [2, 3103, 19160, 4348, 4330, 4073, 4150, 3],\n",
    " [2, 3103, 19160, 4348, 4330, 3],\n",
    " [2, 3103, 19160, 4348, 4330, 3],\n",
    " [2, 3103, 19160, 4348, 4330, 3],\n",
    " [2, 3103, 19160, 4348, 4330, 3])\n",
    "    )"
   ]
  },
  {
   "cell_type": "code",
   "execution_count": 271,
   "metadata": {},
   "outputs": [
    {
     "data": {
      "text/plain": [
       "'미백 기능성 워터'"
      ]
     },
     "execution_count": 271,
     "metadata": {},
     "output_type": "execute_result"
    }
   ],
   "source": [
    "tokenizer.convert_tokens_to_string(['미백', '기능', '##성', '워터'])"
   ]
  },
  {
   "cell_type": "code",
   "execution_count": 272,
   "metadata": {},
   "outputs": [
    {
     "name": "stdout",
     "output_type": "stream",
     "text": [
      "[CLS] Target # 세안 후 처음 바르는 미백 기능성 워터로.. 생기있게 맑아지는듯ㅎㅎㅎ [SEP]\n",
      "Target # 세안 후 처음 바르는 미백 기능성 워터로.. 생기있게 맑아지는듯ㅎㅎㅎ\n"
     ]
    }
   ],
   "source": [
    "sent = 'Target#세안 후 처음 바르는 미백 기능성 워터로.. 생기있게 맑아지는듯ㅎㅎㅎ'\n",
    "encoded = tokenizer.encode(sent)\n",
    "decoded = tokenizer.decode(encoded)\n",
    "print(decoded)\n",
    "tokenized = tokenizer.tokenize(sent)\n",
    "tokens_to_string = tokenizer.convert_tokens_to_string(tokenized)\n",
    "print(tokens_to_string)"
   ]
  },
  {
   "cell_type": "code",
   "execution_count": 274,
   "metadata": {},
   "outputs": [],
   "source": [
    "sent = '또 무슨 말이 있찌 뭐가있어또약산 성토너에요 이렇게 또 있어'\n",
    "target = '약산 성토너'\n",
    "\n",
    "def adjust_target(sentence_form, target):\n",
    "    # target_idx = sentence_form.index(target)\n",
    "    # target_rng = [target_idx, target_idx + len(target)]\n",
    "    # sentence_form[target_rng[0]:target_rng[1]]\n",
    "\n",
    "    split_sent = sentence_form.split(' ')\n",
    "    split_target = target.split(' ')\n",
    "    if len(split_target) > 1:\n",
    "        first = split_target[0]\n",
    "        last = split_target[-1]\n",
    "\n",
    "        for el in split_sent:\n",
    "            if first in el:\n",
    "                first = el\n",
    "        for el in split_sent:\n",
    "            if last in el:\n",
    "                last = el\n",
    "        \n",
    "        first_idx = sentence_form.index(first)\n",
    "        last_idx = sentence_form.index(last) + len(last)\n",
    "        target_rng = [first_idx, last_idx]\n",
    "        target = sentence_form[first_idx:last_idx]\n",
    "        return target, target_rng\n",
    "    \n",
    "    else:\n",
    "        for el in split_sent:\n",
    "            if target in el:\n",
    "                target = el\n",
    "\n",
    "        target_idx = sentence_form.index(target)\n",
    "        target_rng = [target_idx, target_idx + len(target)]\n",
    "        target = sentence_form[target_rng[0]:target_rng[1]]\n",
    "        return target, target_rng"
   ]
  },
  {
   "cell_type": "code",
   "execution_count": 275,
   "metadata": {},
   "outputs": [
    {
     "data": {
      "text/plain": [
       "'약산 성토너'"
      ]
     },
     "execution_count": 275,
     "metadata": {},
     "output_type": "execute_result"
    },
    {
     "ename": "",
     "evalue": "",
     "output_type": "error",
     "traceback": [
      "\u001b[1;31mThe Kernel crashed while executing code in the the current cell or a previous cell. Please review the code in the cell(s) to identify a possible cause of the failure. Click <a href='https://aka.ms/vscodeJupyterKernelCrash'>here</a> for more info. View Jupyter <a href='command:jupyter.viewOutput'>log</a> for further details."
     ]
    }
   ],
   "source": [
    "target, target_rng = adjust_target(sent, target)\n",
    "sent[target_rng[0]:target_rng[1]]"
   ]
  },
  {
   "cell_type": "code",
   "execution_count": null,
   "metadata": {},
   "outputs": [],
   "source": []
  },
  {
   "cell_type": "code",
   "execution_count": 251,
   "metadata": {},
   "outputs": [
    {
     "data": {
      "text/plain": [
       "'뭐가있어또약산성토너에요'"
      ]
     },
     "execution_count": 251,
     "metadata": {},
     "output_type": "execute_result"
    }
   ],
   "source": [
    "sent[rng]"
   ]
  }
 ],
 "metadata": {
  "kernelspec": {
   "display_name": "Python 3.10.6 ('jeonghyeon')",
   "language": "python",
   "name": "python3"
  },
  "language_info": {
   "codemirror_mode": {
    "name": "ipython",
    "version": 3
   },
   "file_extension": ".py",
   "mimetype": "text/x-python",
   "name": "python",
   "nbconvert_exporter": "python",
   "pygments_lexer": "ipython3",
   "version": "3.10.6"
  },
  "orig_nbformat": 4,
  "vscode": {
   "interpreter": {
    "hash": "df12b971f0e4e081474c4ac44bd338416eac6f5401e1e938ba342788cee78ecd"
   }
  }
 },
 "nbformat": 4,
 "nbformat_minor": 2
}
