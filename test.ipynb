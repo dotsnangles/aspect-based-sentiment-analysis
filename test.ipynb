{
 "cells": [
  {
   "cell_type": "code",
   "execution_count": 2,
   "metadata": {},
   "outputs": [
    {
     "data": {
      "text/plain": [
       "environ{'MAIL': '/var/mail/ubuntu',\n",
       "        'USER': 'ubuntu',\n",
       "        'SSH_CLIENT': '1.229.122.24 1464 22',\n",
       "        'SHLVL': '5',\n",
       "        'HOME': '/home/ubuntu',\n",
       "        'LC_CTYPE': 'en_US.UTF-8',\n",
       "        'LOGNAME': 'ubuntu',\n",
       "        '_': '/home/ubuntu/anaconda3/envs/jeonghyeon/bin/python',\n",
       "        'XDG_SESSION_ID': '2012',\n",
       "        'PATH': '/home/ubuntu/anaconda3/envs/jeonghyeon/bin:/home/ubuntu/.vscode-server/bin/8fa188b2b301d36553cbc9ce1b0a146ccb93351f/bin/remote-cli:/home/ubuntu/anaconda3/envs/jeonghyeon/bin:/home/ubuntu/anaconda3/condabin:/usr/local/sbin:/usr/local/bin:/usr/sbin:/usr/bin:/sbin:/bin:/usr/games:/usr/local/games:/snap/bin',\n",
       "        'VSCODE_AGENT_FOLDER': '/home/ubuntu/.vscode-server',\n",
       "        'XDG_RUNTIME_DIR': '/run/user/1000',\n",
       "        'LANG': 'en_US.UTF-8',\n",
       "        'SHELL': '/bin/bash',\n",
       "        'LC_ALL': 'en_US.UTF-8',\n",
       "        'PWD': '/home/ubuntu',\n",
       "        'SSH_CONNECTION': '1.229.122.24 1464 192.168.0.62 22',\n",
       "        'VSCODE_HANDLES_SIGPIPE': 'true',\n",
       "        'CONDA_SHLVL': '2',\n",
       "        'LS_COLORS': '',\n",
       "        'CONDA_EXE': '/home/ubuntu/anaconda3/bin/conda',\n",
       "        'MIG_PARTED_HOOKS_FILE': '/etc/nvidia-mig-manager/hooks.yaml',\n",
       "        'LESSCLOSE': '/usr/bin/lesspipe %s %s',\n",
       "        'CONDA_PREFIX': '/home/ubuntu/anaconda3/envs/jeonghyeon',\n",
       "        '_CE_M': '',\n",
       "        'CONDA_PYTHON_EXE': '/home/ubuntu/anaconda3/bin/python',\n",
       "        'MIG_PARTED_CONFIG_FILE': '/etc/nvidia-mig-manager/config.yaml',\n",
       "        '_CE_CONDA': '',\n",
       "        'CONDA_PROMPT_MODIFIER': '(jeonghyeon) ',\n",
       "        'CONDA_DEFAULT_ENV': 'jeonghyeon',\n",
       "        'LESSOPEN': '| /usr/bin/lesspipe %s',\n",
       "        'VSCODE_AMD_ENTRYPOINT': 'vs/workbench/api/node/extensionHostProcess',\n",
       "        'VSCODE_HANDLES_UNCAUGHT_ERRORS': 'true',\n",
       "        'VSCODE_NLS_CONFIG': '{\"locale\":\"en\",\"availableLanguages\":{}}',\n",
       "        'BROWSER': '/home/ubuntu/.vscode-server/bin/8fa188b2b301d36553cbc9ce1b0a146ccb93351f/bin/helpers/browser.sh',\n",
       "        'VSCODE_CWD': '/home/ubuntu',\n",
       "        'ELECTRON_RUN_AS_NODE': '1',\n",
       "        'VSCODE_IPC_HOOK_CLI': '/run/user/1000/vscode-ipc-e0bcbe57-39c7-4f03-8de2-232efeff2678.sock',\n",
       "        'APPLICATION_INSIGHTS_NO_DIAGNOSTIC_CHANNEL': '1',\n",
       "        'PYTHONUNBUFFERED': '1',\n",
       "        'PYTHONIOENCODING': 'utf-8',\n",
       "        'CONDA_PREFIX_1': '/home/ubuntu/anaconda3',\n",
       "        'CONDA_ROOT': '/home/ubuntu/anaconda3',\n",
       "        'TERM': 'xterm-color',\n",
       "        'CLICOLOR': '1',\n",
       "        'PAGER': 'cat',\n",
       "        'GIT_PAGER': 'cat',\n",
       "        'MPLBACKEND': 'module://matplotlib_inline.backend_inline',\n",
       "        'PYDEVD_IPYTHON_COMPATIBLE_DEBUGGING': '1'}"
      ]
     },
     "execution_count": 2,
     "metadata": {},
     "output_type": "execute_result"
    }
   ],
   "source": [
    "import os\n",
    "os.environ\n",
    "# os.environ[\"CUDA_DEVICE_ORDER\"]"
   ]
  },
  {
   "cell_type": "code",
   "execution_count": 7,
   "metadata": {},
   "outputs": [
    {
     "name": "stdout",
     "output_type": "stream",
     "text": [
      "Device: cuda\n",
      "Current cuda device: 0\n",
      "Count of using GPUs: 4\n"
     ]
    }
   ],
   "source": [
    "import torch\n",
    "device = torch.device(\"cuda\" if torch.cuda.is_available() else \"cpu\")\n",
    "\n",
    "print('Device:', device)\n",
    "print('Current cuda device:', torch.cuda.current_device())\n",
    "print('Count of using GPUs:', torch.cuda.device_count())"
   ]
  }
 ],
 "metadata": {
  "kernelspec": {
   "display_name": "Python 3.8.13 ('jeonghyeon')",
   "language": "python",
   "name": "python3"
  },
  "language_info": {
   "codemirror_mode": {
    "name": "ipython",
    "version": 3
   },
   "file_extension": ".py",
   "mimetype": "text/x-python",
   "name": "python",
   "nbconvert_exporter": "python",
   "pygments_lexer": "ipython3",
   "version": "3.8.13"
  },
  "orig_nbformat": 4,
  "vscode": {
   "interpreter": {
    "hash": "df12b971f0e4e081474c4ac44bd338416eac6f5401e1e938ba342788cee78ecd"
   }
  }
 },
 "nbformat": 4,
 "nbformat_minor": 2
}
