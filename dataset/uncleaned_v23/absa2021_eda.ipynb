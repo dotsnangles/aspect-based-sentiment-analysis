{
 "cells": [
  {
   "cell_type": "code",
   "execution_count": 227,
   "metadata": {},
   "outputs": [],
   "source": [
    "import pandas as pd\n",
    "import json\n",
    "from module.load_json import *\n",
    "from module.utils import *\n",
    "from module.maps import *"
   ]
  },
  {
   "cell_type": "code",
   "execution_count": 228,
   "metadata": {},
   "outputs": [],
   "source": [
    "train_path = 'dataset/NIKL_ABSA_2021_v1.0/EXSA2112203180.json'\n",
    "dev_path = 'dataset/NIKL_ABSA_2021_v1.0/EXSA2122203180.json'"
   ]
  },
  {
   "cell_type": "code",
   "execution_count": 229,
   "metadata": {},
   "outputs": [],
   "source": [
    "train = jsonload(train_path)\n",
    "dev = jsonload(dev_path)\n",
    "train = pd.DataFrame(train['document'])\n",
    "dev = pd.DataFrame(dev['document'])\n",
    "total = pd.concat([train, dev]).reset_index(drop=True)"
   ]
  },
  {
   "cell_type": "code",
   "execution_count": 230,
   "metadata": {},
   "outputs": [],
   "source": [
    "total.domain.unique()\n",
    "categories = ['제품 기타', '전자기기', '화장품/세정제']\n",
    "\n",
    "checker = total.domain.apply(lambda x: x in categories)\n",
    "total = total[checker]\n",
    "total = total[total.isna().any(axis=1) == False]\n",
    "total = total[['domain', 'sentence', 'opinions']].reset_index(drop=True)"
   ]
  },
  {
   "cell_type": "code",
   "execution_count": 231,
   "metadata": {},
   "outputs": [],
   "source": [
    "def collect_sentences(sentences):\n",
    "    collected_sentences = []\n",
    "    for sentence in sentences:\n",
    "        collected_sentences.append(sentence['sentence_form'])\n",
    "    return ' '.join(collected_sentences)"
   ]
  },
  {
   "cell_type": "code",
   "execution_count": 232,
   "metadata": {},
   "outputs": [],
   "source": [
    "def collect_opinions(opinions):\n",
    "    collected_opinions = []\n",
    "    for opinion in opinions:\n",
    "        category = opinion['category']\n",
    "        polarity = opinion['opinion polarity']\n",
    "        if polarity != 'conflict':\n",
    "            collected_opinions.append([category, [], polarity])\n",
    "    return collected_opinions"
   ]
  },
  {
   "cell_type": "code",
   "execution_count": 233,
   "metadata": {},
   "outputs": [],
   "source": [
    "total['sentence'] = total.sentence.apply(collect_sentences)\n",
    "total['opinions'] = total.opinions.apply(collect_opinions)\n",
    "total = total[total.opinions.apply(lambda x: x == []) == False]\n",
    "total = total.reset_index(drop=True)\n",
    "total = total.set_axis(['id', 'sentence_form', 'annotation'], axis='columns')"
   ]
  },
  {
   "cell_type": "code",
   "execution_count": 234,
   "metadata": {},
   "outputs": [
    {
     "name": "stdout",
     "output_type": "stream",
     "text": [
      "tags found:  1195\n",
      "tag set of df:  20\n",
      "tag set of offered:  25\n",
      "difference:  {'제품 전체#다양성', '패키지/구성품#가격', '본품#인지도', '브랜드#디자인', '본품#가격'}\n",
      "제품 전체#일반\t\t290\n",
      "본품#품질\t\t178\n",
      "본품#일반\t\t148\n",
      "제품 전체#품질\t\t103\n",
      "제품 전체#디자인\t75\n",
      "본품#편의성\t\t58\n",
      "제품 전체#인지도\t58\n",
      "제품 전체#편의성\t56\n",
      "브랜드#일반\t\t48\n",
      "패키지/구성품#디자인\t43\n",
      "제품 전체#가격\t\t33\n",
      "패키지/구성품#편의성\t33\n",
      "패키지/구성품#일반\t19\n",
      "본품#다양성\t\t19\n",
      "본품#디자인\t\t9\n",
      "패키지/구성품#품질\t7\n",
      "브랜드#품질\t\t7\n",
      "브랜드#인지도\t\t7\n",
      "브랜드#가격\t\t3\n",
      "패키지/구성품#다양성\t1\n"
     ]
    }
   ],
   "source": [
    "count_tags(total, entity_property_pair)"
   ]
  },
  {
   "cell_type": "code",
   "execution_count": 235,
   "metadata": {},
   "outputs": [
    {
     "name": "stdout",
     "output_type": "stream",
     "text": [
      "./dataset/uncleaned_v23\n"
     ]
    }
   ],
   "source": [
    "DATA_V = 'uncleaned_v23'\n",
    "save_path = f'./dataset/{DATA_V}'\n",
    "print(save_path)"
   ]
  },
  {
   "cell_type": "code",
   "execution_count": 237,
   "metadata": {},
   "outputs": [],
   "source": [
    "!mkdir -p {save_path}\n",
    "\n",
    "total.to_csv(f'{save_path}/absa2021.csv', index=False, encoding='utf-8-sig')"
   ]
  }
 ],
 "metadata": {
  "kernelspec": {
   "display_name": "Python 3.8.13 ('jeonghyeon')",
   "language": "python",
   "name": "python3"
  },
  "language_info": {
   "codemirror_mode": {
    "name": "ipython",
    "version": 3
   },
   "file_extension": ".py",
   "mimetype": "text/x-python",
   "name": "python",
   "nbconvert_exporter": "python",
   "pygments_lexer": "ipython3",
   "version": "3.8.13"
  },
  "orig_nbformat": 4,
  "vscode": {
   "interpreter": {
    "hash": "df12b971f0e4e081474c4ac44bd338416eac6f5401e1e938ba342788cee78ecd"
   }
  }
 },
 "nbformat": 4,
 "nbformat_minor": 2
}
