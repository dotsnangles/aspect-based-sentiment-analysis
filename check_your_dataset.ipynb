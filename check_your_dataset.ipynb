{
 "cells": [
  {
   "cell_type": "code",
   "execution_count": 137,
   "metadata": {},
   "outputs": [],
   "source": [
    "import pandas as pd\n",
    "import os"
   ]
  },
  {
   "cell_type": "code",
   "execution_count": 173,
   "metadata": {},
   "outputs": [],
   "source": [
    "DATA_V = 'uncleaned_v16'\n",
    "DATA_T = 'ce' # ce or pc or pc_binary\n",
    "AUGMENTATION = True\n",
    "AUG_NAME = 'balanced'\n",
    "\n",
    "ROOT_PATH = './'\n",
    "\n",
    "augornot = f'_{AUG_NAME}' if AUGMENTATION is True else ''\n",
    "TRAIN_DATA_PATH = os.path.join(ROOT_PATH, 'dataset', DATA_V, f'{DATA_T}_train{augornot}.csv')\n",
    "EVAL_DATA_PATH = os.path.join(ROOT_PATH, 'dataset', DATA_V, f'{DATA_T}_dev.csv')\n",
    "\n",
    "train_dataset = pd.read_csv(TRAIN_DATA_PATH)\n",
    "eval_dataset = pd.read_csv(EVAL_DATA_PATH)\n",
    "\n",
    "train_path = f'./dataset/{DATA_V}/raw_train.csv'\n",
    "dev_path = f'./dataset/{DATA_V}/raw_dev.csv'\n",
    "test_path = f'./dataset/{DATA_V}/raw_test.csv'"
   ]
  },
  {
   "cell_type": "code",
   "execution_count": 176,
   "metadata": {},
   "outputs": [],
   "source": [
    "def show_rows(row_iterator, times=25):\n",
    "    for _ in range(times):\n",
    "        idx, row = next(row_iterator)\n",
    "        print(idx, row.form, row.pair, row.labels)\n",
    "    print()\n",
    "\n",
    "train_dataset_augged = train_dataset.iloc[7500:]\n",
    "row_iterator = train_dataset_augged.iterrows()"
   ]
  },
  {
   "cell_type": "code",
   "execution_count": 219,
   "metadata": {},
   "outputs": [
    {
     "name": "stdout",
     "output_type": "stream",
     "text": [
      "8550 오트밀컬러 티셔츠 처음 입어보는데 생각보다 진짜 너무 대박 잘 어울리네?? ㅎㅎ 제품 전체#디자인 0\n",
      "8551 이게 흰색이면 진짜 우린 그냥 흰색으로 밀고 나가면 되지 그게 무슨 촌스런 빨강이야. 제품 전체#디자인 0\n",
      "8552 흰색이면 진짜 우린 그냥 흰색으로 밀고 나가면 되지 그게 지금 무슨 촌스런 빨강이야. 제품 전체#디자인 0\n",
      "8553 흰색이면 진짜 우린 그냥 흰색으로 밀고 나가면 되지 이게 그게 무슨 촌스런 빨강이야. 제품 전체#디자인 0\n",
      "8554 저 다이아몬드 무늬 버튼과 둥글게 처리한 게 마음에 잘 안 든다. 제품 전체#디자인 0\n",
      "8555 저 다이아몬드 무늬 달린 버튼과 둥글게 처리한 게 마음에 안 든다. 제품 전체#디자인 0\n",
      "8556 저 다이아몬드 무늬 버튼과 둥글게 처리한 다른 게 마음에 안 든다. 제품 전체#디자인 0\n",
      "8557 완전 귀여워 진짜 두근두근 ㅎㅎ 존예 보자마자 감격 - 제품 전체#디자인 0\n",
      "8558 진짜 완전 귀여워 두근두근 ㅎㅎ 존예 보자마자 감격 - 제품 전체#디자인 0\n",
      "8559 근데 완전 귀여워 두근두근 ㅎㅎ 존예 보자마자 감격 - 제품 전체#디자인 0\n",
      "8560 처음 아기띠 구입 한다고 지못미 스타일 이 되지 않 않게.. 멋스럽게 착용할 수 있는 # 아기띠 제품 전체#디자인 0\n",
      "8561 아기띠 구입 한다고 지못미 스타일 이 되지 ’ 않 않게.. 멋스럽게 착용할 수 있는 # 아기띠 제품 전체#디자인 0\n",
      "8562 아기띠 구입 한다고 지못미 스타일 이 되지 않 않게.. 멋스럽게 골라 착용할 수 있는 # 아기띠 제품 전체#디자인 0\n",
      "8563 아 이거 넘나 예뿌기 ~ ~ ~ ~ ~ ~ ~ ㅋㅋ ㅋ 제품 전체#디자인 0\n",
      "8564 아 넘나 예뿌기 ~ ~ ~ ~ ~ ~ ~ ㅋㅋ ㅋㅋ ㅋ 제품 전체#디자인 0\n",
      "8565 사랑스러운 일룸가구 덕에 & name & 처럼 방 전체 인테리어도 뭔가 엄청 이뻐질것 같아서 벌써 설레네요 제품 전체#디자인 0\n",
      "8566 사랑스러운 일룸가구 덕에 & name & 방 전체 인테리어도 뭔가 진짜 엄청 이뻐질것 같아서 벌써 설레네요 제품 전체#디자인 0\n",
      "8567 요렇게 사랑스러운 일룸가구 덕에 & name & 방 전체 인테리어도 뭔가 엄청 이뻐질것 같아서 벌써 설레네요 제품 전체#디자인 0\n",
      "8568 일반바지에 티셔츠만 입혀서 간지 좔 ᴛ 좔 ㅎㅎ 제품 전체#디자인 0\n",
      "8569 일반바지에 티셔츠만 입혀서 간지 쵝 좔 좔 ㅎㅎ 제품 전체#디자인 0\n",
      "8570 일반바지에 티셔츠만 입혀서 그런지 간지 좔 좔 ㅎㅎ 제품 전체#디자인 0\n",
      "8571 그레이와 크림의 조화로운 컬러 고급스럽고 또 세련된 느낌 넘나 맘에 들어요. 제품 전체#디자인 0\n",
      "8572 그레이와 크림의 조화로운 컬러 고급스럽고 세련된 펄 느낌 넘나 맘에 들어요. 제품 전체#디자인 0\n",
      "8573 그레이와 크림의 조화로운 컬러 대비 고급스럽고 세련된 느낌 넘나 맘에 들어요. 제품 전체#디자인 0\n",
      "8574 내가 애정하는 # 원피스 에 스트라이프 패턴이라 난 그냥 질러버렸네.. ㅎㅎ 제품 전체#디자인 0\n",
      "\n"
     ]
    }
   ],
   "source": [
    "show_rows(row_iterator)"
   ]
  },
  {
   "cell_type": "code",
   "execution_count": null,
   "metadata": {},
   "outputs": [],
   "source": []
  }
 ],
 "metadata": {
  "kernelspec": {
   "display_name": "Python 3.8.13 ('jeonghyeon')",
   "language": "python",
   "name": "python3"
  },
  "language_info": {
   "codemirror_mode": {
    "name": "ipython",
    "version": 3
   },
   "file_extension": ".py",
   "mimetype": "text/x-python",
   "name": "python",
   "nbconvert_exporter": "python",
   "pygments_lexer": "ipython3",
   "version": "3.8.13"
  },
  "orig_nbformat": 4,
  "vscode": {
   "interpreter": {
    "hash": "df12b971f0e4e081474c4ac44bd338416eac6f5401e1e938ba342788cee78ecd"
   }
  }
 },
 "nbformat": 4,
 "nbformat_minor": 2
}
