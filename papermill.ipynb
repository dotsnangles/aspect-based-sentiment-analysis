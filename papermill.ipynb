{
 "cells": [
  {
   "cell_type": "code",
   "execution_count": null,
   "metadata": {},
   "outputs": [],
   "source": [
    "nohup papermill ./acd_binary/acd_binary_trainer.ipynb ./papermill_nbs/acd_binary_trainer.ipynb > ./papermill_nbs/acd_binary_trainer.out\n",
    "nohup papermill ./asc_binary/asc_binary_trainer.ipynb ./papermill_nbs/asc_binary_trainer.ipynb > ./papermill_nbs/asc_binary_trainer.out"
   ]
  }
 ],
 "metadata": {
  "kernelspec": {
   "display_name": "Python 3.8.0 ('jongmin_nuclear')",
   "language": "python",
   "name": "python3"
  },
  "language_info": {
   "name": "python",
   "version": "3.8.0"
  },
  "orig_nbformat": 4,
  "vscode": {
   "interpreter": {
    "hash": "66c58f34006076ce684b86baf9d8f2133ec25c534243b2d921aa9f32735176ac"
   }
  }
 },
 "nbformat": 4,
 "nbformat_minor": 2
}
