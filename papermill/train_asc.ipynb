{
 "cells": [
  {
   "cell_type": "code",
   "execution_count": 1,
   "id": "0d9c2513",
   "metadata": {
    "execution": {
     "iopub.execute_input": "2022-11-07T08:33:43.614768Z",
     "iopub.status.busy": "2022-11-07T08:33:43.614175Z",
     "iopub.status.idle": "2022-11-07T08:33:44.813511Z",
     "shell.execute_reply": "2022-11-07T08:33:44.812383Z"
    },
    "papermill": {
     "duration": 1.226456,
     "end_time": "2022-11-07T08:33:44.815946",
     "exception": false,
     "start_time": "2022-11-07T08:33:43.589490",
     "status": "completed"
    },
    "tags": []
   },
   "outputs": [
    {
     "name": "stdout",
     "output_type": "stream",
     "text": [
      "Current cuda device: 0\n",
      "Count of using GPUs: 1\n"
     ]
    }
   ],
   "source": [
    "import os\n",
    "os.environ[\"TOKENIZERS_PARALLELISM\"] = \"false\"\n",
    "os.environ[\"CUDA_DEVICE_ORDER\"]=\"PCI_BUS_ID\"  # Arrange GPU devices starting from 0\n",
    "os.environ[\"CUDA_VISIBLE_DEVICES\"]= \"1\"  # Set the GPUs to use\n",
    "import torch\n",
    "print('Current cuda device:', torch.cuda.current_device())\n",
    "print('Count of using GPUs:', torch.cuda.device_count())"
   ]
  },
  {
   "cell_type": "markdown",
   "id": "6e76b0fd",
   "metadata": {
    "id": "p8Lb8VDc8Rak",
    "papermill": {
     "duration": 0.013457,
     "end_time": "2022-11-07T08:33:44.901557",
     "exception": false,
     "start_time": "2022-11-07T08:33:44.888100",
     "status": "completed"
    },
    "tags": []
   },
   "source": [
    "# Description"
   ]
  },
  {
   "cell_type": "markdown",
   "id": "7d1215a6",
   "metadata": {
    "id": "9pZhmy9xKmZX",
    "papermill": {
     "duration": 0.013804,
     "end_time": "2022-11-07T08:33:44.928183",
     "exception": false,
     "start_time": "2022-11-07T08:33:44.914379",
     "status": "completed"
    },
    "tags": []
   },
   "source": [
    "# Modules and Global Variables"
   ]
  },
  {
   "cell_type": "code",
   "execution_count": 2,
   "id": "4003fea3",
   "metadata": {
    "execution": {
     "iopub.execute_input": "2022-11-07T08:33:44.959094Z",
     "iopub.status.busy": "2022-11-07T08:33:44.958349Z",
     "iopub.status.idle": "2022-11-07T08:33:47.029786Z",
     "shell.execute_reply": "2022-11-07T08:33:47.028403Z"
    },
    "executionInfo": {
     "elapsed": 6502,
     "status": "ok",
     "timestamp": 1666258918849,
     "user": {
      "displayName": "Jeonghyeon Park",
      "userId": "12513544746873038725"
     },
     "user_tz": -540
    },
    "id": "_v8VXBZdKuUD",
    "papermill": {
     "duration": 2.090359,
     "end_time": "2022-11-07T08:33:47.032219",
     "exception": false,
     "start_time": "2022-11-07T08:33:44.941860",
     "status": "completed"
    },
    "tags": []
   },
   "outputs": [
    {
     "name": "stdout",
     "output_type": "stream",
     "text": [
      "torch.__version__: 1.7.1\n",
      "torch.cuda.is_available(): True\n",
      "NGPU: 1\n"
     ]
    }
   ],
   "source": [
    "from transformers import (\n",
    "    AutoTokenizer, AutoModelForSequenceClassification,\n",
    "    DataCollatorWithPadding, \n",
    "    TrainingArguments, Trainer,\n",
    ")\n",
    "\n",
    "import torch\n",
    "import wandb\n",
    "\n",
    "import datasets\n",
    "import evaluate\n",
    "\n",
    "import numpy as np\n",
    "import pandas as pd\n",
    "\n",
    "import os\n",
    "import re\n",
    "import random\n",
    "\n",
    "from module.args import *\n",
    "\n",
    "print_torch_info()"
   ]
  },
  {
   "cell_type": "code",
   "execution_count": 3,
   "id": "d2e62b4f",
   "metadata": {
    "colab": {
     "base_uri": "https://localhost:8080/"
    },
    "execution": {
     "iopub.execute_input": "2022-11-07T08:33:47.073252Z",
     "iopub.status.busy": "2022-11-07T08:33:47.072164Z",
     "iopub.status.idle": "2022-11-07T08:33:47.081326Z",
     "shell.execute_reply": "2022-11-07T08:33:47.080365Z"
    },
    "executionInfo": {
     "elapsed": 9,
     "status": "ok",
     "timestamp": 1666258918850,
     "user": {
      "displayName": "Jeonghyeon Park",
      "userId": "12513544746873038725"
     },
     "user_tz": -540
    },
    "id": "7t7eYrTJkyCV",
    "outputId": "4a36004a-6875-4404-dc79-01c48573a154",
    "papermill": {
     "duration": 0.031038,
     "end_time": "2022-11-07T08:33:47.083158",
     "exception": false,
     "start_time": "2022-11-07T08:33:47.052120",
     "status": "completed"
    },
    "tags": []
   },
   "outputs": [
    {
     "name": "stdout",
     "output_type": "stream",
     "text": [
      "{'True': 0, 'False': 1}\n",
      "{0: 'True', 1: 'False'}\n"
     ]
    }
   ],
   "source": [
    "### labels\n",
    "\n",
    "labels = pc_binary_labels\n",
    "\n",
    "label2id = {k: i for i, k in enumerate(labels)}\n",
    "id2label = {i: k for i, k in enumerate(labels)}\n",
    "num_labels = len(labels)\n",
    "\n",
    "print(label2id)\n",
    "print(id2label)"
   ]
  },
  {
   "cell_type": "code",
   "execution_count": 4,
   "id": "c7fa7d45",
   "metadata": {
    "colab": {
     "base_uri": "https://localhost:8080/"
    },
    "execution": {
     "iopub.execute_input": "2022-11-07T08:33:47.117480Z",
     "iopub.status.busy": "2022-11-07T08:33:47.116636Z",
     "iopub.status.idle": "2022-11-07T08:33:47.742165Z",
     "shell.execute_reply": "2022-11-07T08:33:47.740435Z"
    },
    "executionInfo": {
     "elapsed": 2145,
     "status": "ok",
     "timestamp": 1666258920989,
     "user": {
      "displayName": "Jeonghyeon Park",
      "userId": "12513544746873038725"
     },
     "user_tz": -540
    },
    "id": "Rohq6E8Lp1x1",
    "outputId": "88391cfb-80b0-436a-f862-034b00cef374",
    "papermill": {
     "duration": 0.64519,
     "end_time": "2022-11-07T08:33:47.744640",
     "exception": false,
     "start_time": "2022-11-07T08:33:47.099450",
     "status": "completed"
    },
    "tags": []
   },
   "outputs": [],
   "source": [
    "### paths and names\n",
    "\n",
    "PROJECT_NAME = 'aspect_sentiment_classification_binary'\n",
    "RUN_ID = 'uncleaned_v21_maxlen_256'\n",
    "\n",
    "DATA_V = 'uncleaned_v21'\n",
    "DATA_T = 'pc_binary' # ce or pc or pc_binary\n",
    "AUGMENTATION = False\n",
    "AUG_NAME = ''\n",
    "\n",
    "MAX_LEN = False\n",
    "\n",
    "model_checkpoint = 'monologg/koelectra-base-v3-discriminator'\n",
    "\n",
    "notebook_name = 'train_asc.ipynb'\n",
    "\n",
    "### fixed\n",
    "\n",
    "model_name = re.sub(r'[/-]', r'_', model_checkpoint).lower()\n",
    "run_name = f'asc_{model_name}_{RUN_ID}'\n",
    "\n",
    "ROOT_PATH = './'\n",
    "SAVE_PATH = os.path.join(ROOT_PATH, 'training_results', RUN_ID)\n",
    "NOTEBOOK_PATH = os.path.join(ROOT_PATH, notebook_name)\n",
    "\n",
    "augornot = f'_{AUG_NAME}' if AUGMENTATION is True else ''\n",
    "TRAIN_DATA_PATH = os.path.join(ROOT_PATH, 'dataset', DATA_V, f'{DATA_T}_train{augornot}.csv')\n",
    "EVAL_DATA_PATH = os.path.join(ROOT_PATH, 'dataset', DATA_V, f'{DATA_T}_dev.csv')\n",
    "\n",
    "!mkdir -p {SAVE_PATH}"
   ]
  },
  {
   "cell_type": "code",
   "execution_count": 5,
   "id": "774d8053",
   "metadata": {
    "execution": {
     "iopub.execute_input": "2022-11-07T08:33:47.784785Z",
     "iopub.status.busy": "2022-11-07T08:33:47.783504Z",
     "iopub.status.idle": "2022-11-07T08:33:47.793640Z",
     "shell.execute_reply": "2022-11-07T08:33:47.792376Z"
    },
    "papermill": {
     "duration": 0.032479,
     "end_time": "2022-11-07T08:33:47.795261",
     "exception": false,
     "start_time": "2022-11-07T08:33:47.762782",
     "status": "completed"
    },
    "tags": []
   },
   "outputs": [
    {
     "name": "stdout",
     "output_type": "stream",
     "text": [
      "PROJECT_NAME: aspect_sentiment_classification_binary\n",
      "\n",
      "model_checkpoint: monologg/koelectra-base-v3-discriminator\n",
      "DATA_V: uncleaned_v21\n",
      "\n",
      "SAVE_PATH: ./training_results/uncleaned_v21_maxlen_256 exists.\n",
      "NOTEBOOK_PATH: ./train_asc.ipynb exists.\n",
      "\n",
      "TRAIN_DATA_PATH: ./dataset/uncleaned_v21/pc_binary_train.csv exists.\n",
      "EVAL_DATA_PATH: ./dataset/uncleaned_v21/pc_binary_dev.csv exists.\n",
      "\n",
      "batch_size: 1\n",
      "learning_rate: 3.75e-07\n",
      "num_train_epochs: 10\n"
     ]
    }
   ],
   "source": [
    "print_paths(PROJECT_NAME, model_checkpoint, DATA_V, SAVE_PATH, NOTEBOOK_PATH, TRAIN_DATA_PATH, EVAL_DATA_PATH)\n",
    "print()\n",
    "print_args()"
   ]
  },
  {
   "cell_type": "markdown",
   "id": "9d04b441",
   "metadata": {
    "id": "yXVsV8jQpreV",
    "papermill": {
     "duration": 0.016305,
     "end_time": "2022-11-07T08:33:47.826335",
     "exception": false,
     "start_time": "2022-11-07T08:33:47.810030",
     "status": "completed"
    },
    "tags": []
   },
   "source": [
    "# WandB Configuration"
   ]
  },
  {
   "cell_type": "code",
   "execution_count": 6,
   "id": "d93a9faa",
   "metadata": {
    "colab": {
     "base_uri": "https://localhost:8080/",
     "height": 143
    },
    "execution": {
     "iopub.execute_input": "2022-11-07T08:33:47.859234Z",
     "iopub.status.busy": "2022-11-07T08:33:47.858000Z",
     "iopub.status.idle": "2022-11-07T08:33:49.665752Z",
     "shell.execute_reply": "2022-11-07T08:33:49.664401Z"
    },
    "executionInfo": {
     "elapsed": 4727,
     "status": "ok",
     "timestamp": 1666258925707,
     "user": {
      "displayName": "Jeonghyeon Park",
      "userId": "12513544746873038725"
     },
     "user_tz": -540
    },
    "id": "P0IR11QyPy26",
    "outputId": "1d7538ee-93e1-419d-ee09-4011e6742d6f",
    "papermill": {
     "duration": 1.827078,
     "end_time": "2022-11-07T08:33:49.668147",
     "exception": false,
     "start_time": "2022-11-07T08:33:47.841069",
     "status": "completed"
    },
    "tags": []
   },
   "outputs": [
    {
     "name": "stdout",
     "output_type": "stream",
     "text": [
      "env: WANDB_PROJECT=aspect_sentiment_classification_binary\n",
      "env: WANDB_NOTEBOOK_NAME=./train_asc.ipynb\n",
      "env: WANDB_LOG_MODEL=true\n",
      "env: WANDB_WATCH=all\n"
     ]
    },
    {
     "name": "stderr",
     "output_type": "stream",
     "text": [
      "\u001b[34m\u001b[1mwandb\u001b[0m: Currently logged in as: \u001b[33mdotsnangles\u001b[0m. Use \u001b[1m`wandb login --relogin`\u001b[0m to force relogin\n"
     ]
    },
    {
     "data": {
      "text/plain": [
       "True"
      ]
     },
     "execution_count": 6,
     "metadata": {},
     "output_type": "execute_result"
    }
   ],
   "source": [
    "%env WANDB_PROJECT={PROJECT_NAME}\n",
    "%env WANDB_NOTEBOOK_NAME={NOTEBOOK_PATH}\n",
    "%env WANDB_LOG_MODEL=true\n",
    "%env WANDB_WATCH=all\n",
    "wandb.login()"
   ]
  },
  {
   "cell_type": "markdown",
   "id": "b1a80256",
   "metadata": {
    "id": "XSAzFxnH1ozQ",
    "papermill": {
     "duration": 0.028575,
     "end_time": "2022-11-07T08:33:49.711276",
     "exception": false,
     "start_time": "2022-11-07T08:33:49.682701",
     "status": "completed"
    },
    "tags": []
   },
   "source": [
    "# Load Model, Tokenizer, and Collator"
   ]
  },
  {
   "cell_type": "code",
   "execution_count": 7,
   "id": "fd6ce898",
   "metadata": {
    "colab": {
     "base_uri": "https://localhost:8080/",
     "height": 256,
     "referenced_widgets": [
      "bf7dac5b27584f288107f28e482be51d",
      "9355394179624ce3be82e1b294b1a2b5",
      "e3db079ea80048359f6097228cdc8086",
      "0c4bff269e8f4d9693aec278a0a8d52a",
      "c30f1c569f584efdb38e04fd4d5f838a",
      "e01a20c18d8249cea389638d8c005b8d",
      "6acc835b544d451894d35e3736e0d804",
      "c5ed91471a484c8da8249e731a16f343",
      "bc621d540c4f48c88ef6758cc902f652",
      "9890392cc707490d88aa6fe155917a09",
      "f62340167e2d447096a2965b4fc60826",
      "83be86e7a1bc4cb5ad983f549588cec5",
      "0642dca8ab984c91a4539585afef8390",
      "92f849d5359340cc89bce483f9d15bfe",
      "a6d4a8cf193d4d4486b72f41e7ec7fa5",
      "bab12b33f3b0477c9a9c9fb02aa288db",
      "ad20f3a0ca6c42c6afc1f506046ebf3b",
      "fe51a8730e28454d897439830382db46",
      "684011384bc34d2692f71dfe935b4723",
      "44649a89dc5d4156892db45e1fdee5c1",
      "5b3593cbcc844e928f086f80d9108ba1",
      "a7c890f084ac432b9facfa6a397f6295",
      "d93d55f032ac46068d03caeb1330b7bc",
      "a143eeb39a3a4f34be3eea3253d8b3f2",
      "c2924cb5fd6642d5aa134b63aaa01dca",
      "e615f2d044e143d387a202fcaab64972",
      "4d894cca56034a818c9132a012504061",
      "a8e8e78b21d6416f858f4f7352059bc0",
      "7c3552d804164201a11b0d9a7a6d9b10",
      "efd3eea3194c47d28ce4981dceb04f54",
      "658511cf252648a0ae4dd509bbe12fe6",
      "5cb0cdb0332f49caa2c9e728078da80a",
      "1d07530c6d494b4bb5d9579e0da3c820",
      "c9b0e46751fb474ab454ba3eddd8dbd6",
      "e188d96fbcc54a35838b1356cf7a8797",
      "90465c6d97ef4e83b86160ce1e66ca8b",
      "bb83f39eb9b74852b14cc8317cacf616",
      "86c9f350fe5f491e966c968f09428b2f",
      "ba30ea7b361c4105966ff21c1d8a8695",
      "f514807a72e64160b487098810593b20",
      "110c5f6649ab4b3382cce9d0bfcca25b",
      "2e99b266d32549aa80f6234d807ff8bb",
      "45efd1e29eb445d0bbdb4d0e90dec407",
      "dff996c84db24f52bef3d54528588226"
     ]
    },
    "execution": {
     "iopub.execute_input": "2022-11-07T08:33:49.754767Z",
     "iopub.status.busy": "2022-11-07T08:33:49.753252Z",
     "iopub.status.idle": "2022-11-07T08:33:53.778180Z",
     "shell.execute_reply": "2022-11-07T08:33:53.776390Z"
    },
    "executionInfo": {
     "elapsed": 25161,
     "status": "ok",
     "timestamp": 1666258950864,
     "user": {
      "displayName": "Jeonghyeon Park",
      "userId": "12513544746873038725"
     },
     "user_tz": -540
    },
    "id": "v7hpRDtF7ChY",
    "outputId": "32ce331a-b87f-47f7-a3e7-b1af49c11478",
    "papermill": {
     "duration": 4.04774,
     "end_time": "2022-11-07T08:33:53.780945",
     "exception": false,
     "start_time": "2022-11-07T08:33:49.733205",
     "status": "completed"
    },
    "tags": []
   },
   "outputs": [
    {
     "name": "stderr",
     "output_type": "stream",
     "text": [
      "Some weights of the model checkpoint at monologg/koelectra-base-v3-discriminator were not used when initializing ElectraForSequenceClassification: ['discriminator_predictions.dense.weight', 'discriminator_predictions.dense.bias', 'discriminator_predictions.dense_prediction.bias', 'discriminator_predictions.dense_prediction.weight']\n",
      "- This IS expected if you are initializing ElectraForSequenceClassification from the checkpoint of a model trained on another task or with another architecture (e.g. initializing a BertForSequenceClassification model from a BertForPreTraining model).\n",
      "- This IS NOT expected if you are initializing ElectraForSequenceClassification from the checkpoint of a model that you expect to be exactly identical (initializing a BertForSequenceClassification model from a BertForSequenceClassification model).\n"
     ]
    },
    {
     "name": "stderr",
     "output_type": "stream",
     "text": [
      "Some weights of ElectraForSequenceClassification were not initialized from the model checkpoint at monologg/koelectra-base-v3-discriminator and are newly initialized: ['classifier.out_proj.bias', 'classifier.dense.weight', 'classifier.dense.bias', 'classifier.out_proj.weight']\n",
      "You should probably TRAIN this model on a down-stream task to be able to use it for predictions and inference.\n"
     ]
    }
   ],
   "source": [
    "tokenizer = AutoTokenizer.from_pretrained(model_checkpoint)\n",
    "model = AutoModelForSequenceClassification.from_pretrained(\n",
    "    model_checkpoint, label2id=label2id, id2label=id2label, num_labels=num_labels\n",
    ")\n",
    "\n",
    "if MAX_LEN:\n",
    "    data_collator = DataCollatorWithPadding(tokenizer=tokenizer, padding='max_length', max_length=MAX_LEN)\n",
    "else:\n",
    "    data_collator = DataCollatorWithPadding(tokenizer=tokenizer)"
   ]
  },
  {
   "cell_type": "code",
   "execution_count": 8,
   "id": "77b94a19",
   "metadata": {
    "execution": {
     "iopub.execute_input": "2022-11-07T08:33:53.811508Z",
     "iopub.status.busy": "2022-11-07T08:33:53.810742Z",
     "iopub.status.idle": "2022-11-07T08:33:55.717348Z",
     "shell.execute_reply": "2022-11-07T08:33:55.716397Z"
    },
    "papermill": {
     "duration": 1.923847,
     "end_time": "2022-11-07T08:33:55.719084",
     "exception": false,
     "start_time": "2022-11-07T08:33:53.795237",
     "status": "completed"
    },
    "tags": []
   },
   "outputs": [
    {
     "name": "stdout",
     "output_type": "stream",
     "text": [
      "35000\n"
     ]
    },
    {
     "name": "stdout",
     "output_type": "stream",
     "text": [
      "\n",
      "\n",
      "\n",
      "3060\n",
      "35212\n"
     ]
    },
    {
     "name": "stdout",
     "output_type": "stream",
     "text": [
      "212\n",
      "{'😬', '🧚', '앝', 'ღ', 'ˇ', '##💇', '듕', '🍰', '쏨', '##ᴠ', 'ᴡ', '챦', '옄', '💇', '뗴', '◍', '🎵', '😺', '##ꈍ', '##👠', '##ʀ', '컄', '㉦', '##🤘', '##잍', '##쵝', '##😮', '##😲', '😯', '##곘', 'ෆ', '##ᴍ', '🔸', '♩', '##💋', 'ᴗ', '##읒', '˃', '##쏨', '뿤', '챳', '닼', '##띡', '똭', '닠', '##ɪ', '##ᴇ', '젔', '퐉', '🎂', '##😶', '횽', '쵝', '👠', '죱', '💋', '💬', '##ᴜ', '➕', '💝', '##☝', '💎', '##㉦', '͈', '🍷', '##♪', '##ᴀ', '##👌', '˂', 'ㅖ', '🚗', '🖒', '💞', '⁉', '̵', '##ᴛ', '❔', '🌝', '곘', '##ᴏ', '😶', '🤘', '펏', '👌', '👆', 'ᴠ', 'ꈍ', '😡', '##앝', 'ᴍ', '💡', 'ɢ', 'ᴘ', 'ғ', '📸', '잍', '쫜', '##🤮', 'ɴ', '쨕', '😴', '🍼', '##💧', '##ᵕ', '🐱', '##젔', '##🕷', '🥤', 'ᴛ', '##❔', '🕺', '##🎵', '##♩', '💆', '☝', '##😬', '🍎', '##®', '띡', '##˂', '##➕', '##🎂', '◡', '💧', 'ʀ', '##닼', '##ɴ', '##츌', 'ᴀ', '⏰', 'ᴏ', '##˚', '##💄', '##˃', '🌻', '##닠', '💄', '꺠', '➰', 'ᴇ', '♬', '##옄', '뜌', '##👦', '##🥤', '##◡', '##귯', '##👆', '밪', '##➰', '##🌝', '😮', '##ˇ', '##펏', '##쨕', '##챦', '##🍎', '졓', '🤮', '💯', '🙃', 'ᵕ', '##🌹', '##쫜', '##♬', '🕸', '##🖒', '##👨', '##ᴡ', '🤡', '쓩', '##💆', '🐄', '##듕', '##🕸', '##◍', '웻', 'ɪ', '##💞', '😜', '𖤐', '🤟', '핡', '촥', '귯', '##💯', '##🐥', 'ᴜ', '##🚗', '##🤡', '##촥', '👦', '♪', '🖐', '##뜌', '🌹', '👨', '˚', '🐥', '##💝', '##🧚', '##죱', '##ᴘ', '🎀', '🕷', 'ʜ', '😲', '##͈', '읒', '##̵', '츌', '##ɢ'}\n"
     ]
    }
   ],
   "source": [
    "train_path = f'./dataset/{DATA_V}/raw_train.csv'\n",
    "dev_path = f'./dataset/{DATA_V}/raw_dev.csv'\n",
    "test_path = f'./dataset/{DATA_V}/raw_test.csv'\n",
    "train = pd.read_csv(train_path)\n",
    "dev = pd.read_csv(dev_path)\n",
    "test = pd.read_csv(test_path)\n",
    "\n",
    "print(len(tokenizer))\n",
    "tokenizer_train_data = pd.concat([train.sentence_form, dev.sentence_form, test.sentence_form]).to_frame().drop_duplicates()\n",
    "tokenizer_train_data = tokenizer_train_data.sentence_form.to_list()\n",
    "new_tokenizer = AutoTokenizer.from_pretrained(model_checkpoint)\n",
    "new_tokenizer = tokenizer.train_new_from_iterator(tokenizer_train_data, vocab_size=1)\n",
    "new_tokens = set(list(new_tokenizer.vocab.keys())) - set(tokenizer.vocab.keys())\n",
    "tokenizer.add_tokens(list(new_tokens))\n",
    "print(len(new_tokenizer))\n",
    "print(len(tokenizer))\n",
    "model.resize_token_embeddings(len(tokenizer))\n",
    "\n",
    "print(len(new_tokens))\n",
    "print(new_tokens)"
   ]
  },
  {
   "cell_type": "code",
   "execution_count": 9,
   "id": "25defa32",
   "metadata": {
    "colab": {
     "base_uri": "https://localhost:8080/"
    },
    "execution": {
     "iopub.execute_input": "2022-11-07T08:33:55.759538Z",
     "iopub.status.busy": "2022-11-07T08:33:55.758427Z",
     "iopub.status.idle": "2022-11-07T08:33:55.765050Z",
     "shell.execute_reply": "2022-11-07T08:33:55.764338Z"
    },
    "executionInfo": {
     "elapsed": 15,
     "status": "ok",
     "timestamp": 1666258957461,
     "user": {
      "displayName": "Jeonghyeon Park",
      "userId": "12513544746873038725"
     },
     "user_tz": -540
    },
    "id": "fPhUW964vTzH",
    "outputId": "eebfdfdb-9e05-4509-fac0-450ca0a24c31",
    "papermill": {
     "duration": 0.024643,
     "end_time": "2022-11-07T08:33:55.766482",
     "exception": false,
     "start_time": "2022-11-07T08:33:55.741839",
     "status": "completed"
    },
    "tags": []
   },
   "outputs": [
    {
     "data": {
      "text/plain": [
       "({'True': 0, 'False': 1}, {0: 'True', 1: 'False'}, 2)"
      ]
     },
     "execution_count": 9,
     "metadata": {},
     "output_type": "execute_result"
    }
   ],
   "source": [
    "model.config.label2id, model.config.id2label, model.num_labels"
   ]
  },
  {
   "cell_type": "markdown",
   "id": "f2dc1afd",
   "metadata": {
    "id": "V-EVcOAQ18dS",
    "papermill": {
     "duration": 0.0133,
     "end_time": "2022-11-07T08:33:55.793747",
     "exception": false,
     "start_time": "2022-11-07T08:33:55.780447",
     "status": "completed"
    },
    "tags": []
   },
   "source": [
    "# Define Metrics"
   ]
  },
  {
   "cell_type": "code",
   "execution_count": 10,
   "id": "aa7e04d3",
   "metadata": {
    "colab": {
     "base_uri": "https://localhost:8080/",
     "height": 81,
     "referenced_widgets": [
      "9a01945a9afe49a18a98c35b4cb99c8a",
      "f4a78200b20640f4928944c489daf7a7",
      "0032f06143bf468e90701a0ee56c9df1",
      "2a92b6399a3b4cfea7afcbe89ea6c1c8",
      "275c1bc29ce0431c919d30b0c4de4beb",
      "767206f5d9e04d099a2706442df3e2ca",
      "81ea513d9bbb4dffb926f175947642e9",
      "dc3f367d749440b1acd2f8cefe848c4e",
      "4cc2f55692264694a43389cc5385db8a",
      "b094395b8da34ff8a9c33fcded16377f",
      "1de70d714b014ec4bc1fa226ba66b64f",
      "76629b189eb648d3bc7ba0711e57bc66",
      "8d44dca2d0a24fb38dabcf4bd388323f",
      "89c0ae7377644daa8688ec9ede9f035a",
      "ae3f51735615420bbc92ad5dfb590263",
      "9714e67513334f8e868607422f7da2b9",
      "9237d2a901984102a5deb1c2528f1e10",
      "e9ef7c82807847eb8ff43b3f0303b7d5",
      "41e5cd9c231a46b5bfd8262b2b745cc6",
      "6dcdbf9f62004f9fb3141b1ca5dfddf0",
      "82ebe2dd5a624c418fdfe9dbc021d18d",
      "6ef978f43b214c58abfdf1155f475684"
     ]
    },
    "execution": {
     "iopub.execute_input": "2022-11-07T08:33:55.822587Z",
     "iopub.status.busy": "2022-11-07T08:33:55.821722Z",
     "iopub.status.idle": "2022-11-07T08:33:59.178013Z",
     "shell.execute_reply": "2022-11-07T08:33:59.177071Z"
    },
    "executionInfo": {
     "elapsed": 1037,
     "status": "ok",
     "timestamp": 1666258958492,
     "user": {
      "displayName": "Jeonghyeon Park",
      "userId": "12513544746873038725"
     },
     "user_tz": -540
    },
    "id": "qtEXOy22Gz8l",
    "outputId": "ec55c208-3acd-457e-f052-32644f1ffe7a",
    "papermill": {
     "duration": 3.37419,
     "end_time": "2022-11-07T08:33:59.181050",
     "exception": false,
     "start_time": "2022-11-07T08:33:55.806860",
     "status": "completed"
    },
    "tags": []
   },
   "outputs": [],
   "source": [
    "accuracy_metric = evaluate.load('accuracy')\n",
    "f1_metric = evaluate.load('f1')"
   ]
  },
  {
   "cell_type": "code",
   "execution_count": 11,
   "id": "14ff7c85",
   "metadata": {
    "execution": {
     "iopub.execute_input": "2022-11-07T08:33:59.219617Z",
     "iopub.status.busy": "2022-11-07T08:33:59.218526Z",
     "iopub.status.idle": "2022-11-07T08:33:59.224916Z",
     "shell.execute_reply": "2022-11-07T08:33:59.224342Z"
    },
    "executionInfo": {
     "elapsed": 5,
     "status": "ok",
     "timestamp": 1666258958492,
     "user": {
      "displayName": "Jeonghyeon Park",
      "userId": "12513544746873038725"
     },
     "user_tz": -540
    },
    "id": "1d61JHiLEadB",
    "papermill": {
     "duration": 0.028651,
     "end_time": "2022-11-07T08:33:59.226678",
     "exception": false,
     "start_time": "2022-11-07T08:33:59.198027",
     "status": "completed"
    },
    "tags": []
   },
   "outputs": [],
   "source": [
    "### multi\n",
    "# def compute_metrics(eval_pred):\n",
    "#     predictions, labels = eval_pred\n",
    "#     predictions = np.argmax(predictions, axis=1)\n",
    "    \n",
    "#     accuracy = accuracy_metric.compute(references=labels, predictions=predictions)['accuracy']\n",
    "#     f1_positive, f1_negative, f1_neutral = tuple(f1_metric.compute(references=labels, predictions=predictions, average=None, labels=[0,1,2])['f1'])\n",
    "#     f1_macro = f1_metric.compute(references=labels, predictions=predictions, average='macro')['f1']\n",
    "#     f1_micro = f1_metric.compute(references=labels, predictions=predictions, average='micro')['f1']\n",
    "    \n",
    "#     return {'accuracy': accuracy, \n",
    "#             'f1_positive': f1_positive, 'f1_negative': f1_negative, 'f1_neutral': f1_neutral, \n",
    "#             'f1_macro': f1_macro, 'f1_micro': f1_micro}\n",
    "\n",
    "### binary\n",
    "def compute_metrics(eval_pred):\n",
    "    predictions, labels = eval_pred\n",
    "    predictions = np.argmax(predictions, axis=1)\n",
    "    \n",
    "    accuracy = accuracy_metric.compute(references=labels, predictions=predictions)['accuracy']\n",
    "    f1_true, f1_false = tuple(f1_metric.compute(references=labels, predictions=predictions, average=None, labels=[0,1])['f1'])\n",
    "    f1_macro = f1_metric.compute(references=labels, predictions=predictions, average='macro')['f1']\n",
    "    f1_micro = f1_metric.compute(references=labels, predictions=predictions, average='micro')['f1']\n",
    "    \n",
    "    return {'accuracy': accuracy, 'f1_true': f1_true, 'f1_false': f1_false, 'f1_macro': f1_macro, 'f1_micro': f1_micro}"
   ]
  },
  {
   "cell_type": "markdown",
   "id": "9b91f4b7",
   "metadata": {
    "id": "EBp5WFGR2JRb",
    "papermill": {
     "duration": 0.014617,
     "end_time": "2022-11-07T08:33:59.255763",
     "exception": false,
     "start_time": "2022-11-07T08:33:59.241146",
     "status": "completed"
    },
    "tags": []
   },
   "source": [
    "# Load Data"
   ]
  },
  {
   "cell_type": "code",
   "execution_count": 12,
   "id": "d08640dd",
   "metadata": {
    "execution": {
     "iopub.execute_input": "2022-11-07T08:33:59.295434Z",
     "iopub.status.busy": "2022-11-07T08:33:59.294151Z",
     "iopub.status.idle": "2022-11-07T08:33:59.301231Z",
     "shell.execute_reply": "2022-11-07T08:33:59.300367Z"
    },
    "executionInfo": {
     "elapsed": 6,
     "status": "ok",
     "timestamp": 1666258958493,
     "user": {
      "displayName": "Jeonghyeon Park",
      "userId": "12513544746873038725"
     },
     "user_tz": -540
    },
    "id": "ryHwmgr7B3Ze",
    "papermill": {
     "duration": 0.033585,
     "end_time": "2022-11-07T08:33:59.303439",
     "exception": false,
     "start_time": "2022-11-07T08:33:59.269854",
     "status": "completed"
    },
    "tags": []
   },
   "outputs": [],
   "source": [
    "def preprocess_function(examples):\n",
    "    return tokenizer(examples[\"form\"], examples[\"pair\"], truncation=True)"
   ]
  },
  {
   "cell_type": "code",
   "execution_count": 13,
   "id": "414bbfd2",
   "metadata": {
    "colab": {
     "base_uri": "https://localhost:8080/",
     "height": 81,
     "referenced_widgets": [
      "e91015e3fd4e4c48930293c31958c06b",
      "03a85f47681c41cdab9d75beee0fb78a",
      "04fe7e54680749478e8daec82decd3ee",
      "f76847602c9e4f8ba5141ccf966a8918",
      "c3f6df857dac4350a4c43b98e5b61e43",
      "5c02b9951c1946279cb36c6c8a4a50f4",
      "fbe16032b1b54aab84d7f1c3caf83201",
      "7d10259a18d54648a6c670a6722e82b5",
      "505a1235079e40cda60009ba1bcf31fe",
      "d4b8a3d633a346e1ad913a3f39ff7332",
      "df47dce258854a2cbfde89bd1b4333a3",
      "6d5bfc1c2ad541e38ef71c3b70faa6aa",
      "b46847cc57cb4d1686abedd7729f2276",
      "eefa541e2bce44f48d5d57921a5105a9",
      "6a576fba1fb14f2fab2cae599e01c9cb",
      "4652216b070746baa42a73d1dd6cec47",
      "d31b16ab5eeb4d3c8d842ec0a739524b",
      "0ad2f8531b5d4ab28f8cd8f9003f7f56",
      "7c9acc1b41de46debb3a27a4af31f6c1",
      "c7cce1948cf14099b8b760cf64db0733",
      "d70edc08493c42bba3d66945ad4da9ac",
      "f472a293ade641c9bff11ee3905e34ee"
     ]
    },
    "execution": {
     "iopub.execute_input": "2022-11-07T08:33:59.338911Z",
     "iopub.status.busy": "2022-11-07T08:33:59.337951Z",
     "iopub.status.idle": "2022-11-07T08:34:02.125483Z",
     "shell.execute_reply": "2022-11-07T08:34:02.124375Z"
    },
    "executionInfo": {
     "elapsed": 15291,
     "status": "ok",
     "timestamp": 1666258973779,
     "user": {
      "displayName": "Jeonghyeon Park",
      "userId": "12513544746873038725"
     },
     "user_tz": -540
    },
    "id": "lM9mxmKb2Nah",
    "outputId": "c048ff0a-1067-4143-88fb-a765c79f3cbc",
    "papermill": {
     "duration": 2.810271,
     "end_time": "2022-11-07T08:34:02.127220",
     "exception": false,
     "start_time": "2022-11-07T08:33:59.316949",
     "status": "completed"
    },
    "tags": []
   },
   "outputs": [
    {
     "data": {
      "application/vnd.jupyter.widget-view+json": {
       "model_id": "6458d45c90544f338ccaee683a5d5a87",
       "version_major": 2,
       "version_minor": 0
      },
      "text/plain": [
       "  0%|          | 0/10 [00:00<?, ?ba/s]"
      ]
     },
     "metadata": {},
     "output_type": "display_data"
    },
    {
     "data": {
      "application/vnd.jupyter.widget-view+json": {
       "model_id": "dc3c2070cb3a4fdaad1a19c8c6324b04",
       "version_major": 2,
       "version_minor": 0
      },
      "text/plain": [
       "  0%|          | 0/10 [00:00<?, ?ba/s]"
      ]
     },
     "metadata": {},
     "output_type": "display_data"
    }
   ],
   "source": [
    "train_dataset = pd.read_csv(TRAIN_DATA_PATH)\n",
    "eval_dataset = pd.read_csv(EVAL_DATA_PATH)\n",
    "train_dataset = datasets.Dataset.from_pandas(train_dataset).shuffle(seed=42)\n",
    "eval_dataset = datasets.Dataset.from_pandas(eval_dataset).shuffle(seed=42)\n",
    "train_dataset = train_dataset.map(preprocess_function, batched=True)\n",
    "eval_dataset = eval_dataset.map(preprocess_function, batched=True)"
   ]
  },
  {
   "cell_type": "code",
   "execution_count": 14,
   "id": "f5b9deac",
   "metadata": {
    "colab": {
     "base_uri": "https://localhost:8080/"
    },
    "execution": {
     "iopub.execute_input": "2022-11-07T08:34:02.157588Z",
     "iopub.status.busy": "2022-11-07T08:34:02.157075Z",
     "iopub.status.idle": "2022-11-07T08:34:02.165223Z",
     "shell.execute_reply": "2022-11-07T08:34:02.164348Z"
    },
    "executionInfo": {
     "elapsed": 19,
     "status": "ok",
     "timestamp": 1666258973781,
     "user": {
      "displayName": "Jeonghyeon Park",
      "userId": "12513544746873038725"
     },
     "user_tz": -540
    },
    "id": "YUaaH_gi7UFe",
    "outputId": "a481e242-25ea-461f-b54e-3c6372ae7421",
    "papermill": {
     "duration": 0.0249,
     "end_time": "2022-11-07T08:34:02.166912",
     "exception": false,
     "start_time": "2022-11-07T08:34:02.142012",
     "status": "completed"
    },
    "tags": []
   },
   "outputs": [
    {
     "data": {
      "text/plain": [
       "(9588, 9006)"
      ]
     },
     "execution_count": 14,
     "metadata": {},
     "output_type": "execute_result"
    }
   ],
   "source": [
    "len(train_dataset), len(eval_dataset)"
   ]
  },
  {
   "cell_type": "code",
   "execution_count": 15,
   "id": "d34b1c20",
   "metadata": {
    "colab": {
     "base_uri": "https://localhost:8080/"
    },
    "execution": {
     "iopub.execute_input": "2022-11-07T08:34:02.198938Z",
     "iopub.status.busy": "2022-11-07T08:34:02.198214Z",
     "iopub.status.idle": "2022-11-07T08:34:02.489530Z",
     "shell.execute_reply": "2022-11-07T08:34:02.488409Z"
    },
    "executionInfo": {
     "elapsed": 18,
     "status": "ok",
     "timestamp": 1666258973782,
     "user": {
      "displayName": "Jeonghyeon Park",
      "userId": "12513544746873038725"
     },
     "user_tz": -540
    },
    "id": "AW4V6ZVKdMRP",
    "outputId": "9a4ad945-bfaa-49d1-93db-3a62b359a6a2",
    "papermill": {
     "duration": 0.309378,
     "end_time": "2022-11-07T08:34:02.492213",
     "exception": false,
     "start_time": "2022-11-07T08:34:02.182835",
     "status": "completed"
    },
    "tags": []
   },
   "outputs": [
    {
     "name": "stdout",
     "output_type": "stream",
     "text": [
      "[CLS] 순하고 가벼운 제형으로 피부에 쏘옥 ~ ~ [SEP] 본품 # 일반 # positive [SEP] 0\n",
      "[CLS] 케이스가 넘나 예쁜 # 철벽녀쿠션 앤티크 [SEP] 패키지 / 구성품 # 디자인 # positive [SEP] 0\n"
     ]
    }
   ],
   "source": [
    "k = random.randrange(len(train_dataset))\n",
    "print(tokenizer.decode(train_dataset['input_ids'][k]), train_dataset['labels'][k])\n",
    "k = random.randrange(len(eval_dataset))\n",
    "print(tokenizer.decode(eval_dataset['input_ids'][k]), eval_dataset['labels'][k])"
   ]
  },
  {
   "cell_type": "markdown",
   "id": "2aec3c67",
   "metadata": {
    "id": "admrPVvW1_Q_",
    "papermill": {
     "duration": 0.022752,
     "end_time": "2022-11-07T08:34:02.540571",
     "exception": false,
     "start_time": "2022-11-07T08:34:02.517819",
     "status": "completed"
    },
    "tags": []
   },
   "source": [
    "# Load Trainer"
   ]
  },
  {
   "cell_type": "code",
   "execution_count": 16,
   "id": "a22ca19b",
   "metadata": {
    "execution": {
     "iopub.execute_input": "2022-11-07T08:34:02.575635Z",
     "iopub.status.busy": "2022-11-07T08:34:02.574209Z",
     "iopub.status.idle": "2022-11-07T08:34:02.585507Z",
     "shell.execute_reply": "2022-11-07T08:34:02.584391Z"
    },
    "executionInfo": {
     "elapsed": 15,
     "status": "ok",
     "timestamp": 1666258973782,
     "user": {
      "displayName": "Jeonghyeon Park",
      "userId": "12513544746873038725"
     },
     "user_tz": -540
    },
    "id": "B0b4moolsNWK",
    "papermill": {
     "duration": 0.031436,
     "end_time": "2022-11-07T08:34:02.587764",
     "exception": false,
     "start_time": "2022-11-07T08:34:02.556328",
     "status": "completed"
    },
    "tags": []
   },
   "outputs": [],
   "source": [
    "args = TrainingArguments(\n",
    "    output_dir=run_name,\n",
    "    run_name=run_name,\n",
    "    report_to=report_to,\n",
    "\n",
    "    num_train_epochs=num_train_epochs,\n",
    "    per_device_train_batch_size=batch_size,\n",
    "    per_device_eval_batch_size=batch_size,\n",
    "    gradient_accumulation_steps=gradient_accumulation_steps,\n",
    "\n",
    "    optim=optim,\n",
    "\n",
    "    learning_rate=learning_rate,\n",
    "    weight_decay=weight_decay,\n",
    "    adam_epsilon=adam_epsilon,\n",
    "\n",
    "    lr_scheduler_type=lr_scheduler_type,\n",
    "    warmup_ratio=warmup_ratio,\n",
    "\n",
    "    save_total_limit=save_total_limit,\n",
    "\n",
    "    load_best_model_at_end=load_best_model_at_end,\n",
    "    metric_for_best_model=metric_for_best_model,\n",
    "    \n",
    "    save_strategy=save_strategy,\n",
    "    evaluation_strategy=evaluation_strategy,\n",
    "\n",
    "    logging_strategy=logging_strategy,\n",
    "    logging_first_step=logging_first_step, \n",
    "    logging_steps=logging_steps,\n",
    "    \n",
    "    fp16=fp16,\n",
    ")"
   ]
  },
  {
   "cell_type": "code",
   "execution_count": 17,
   "id": "09608193",
   "metadata": {
    "execution": {
     "iopub.execute_input": "2022-11-07T08:34:02.622297Z",
     "iopub.status.busy": "2022-11-07T08:34:02.620947Z",
     "iopub.status.idle": "2022-11-07T08:34:02.629586Z",
     "shell.execute_reply": "2022-11-07T08:34:02.628399Z"
    },
    "executionInfo": {
     "elapsed": 15,
     "status": "ok",
     "timestamp": 1666258973782,
     "user": {
      "displayName": "Jeonghyeon Park",
      "userId": "12513544746873038725"
     },
     "user_tz": -540
    },
    "id": "w1aRCCDR9kVb",
    "papermill": {
     "duration": 0.02799,
     "end_time": "2022-11-07T08:34:02.631736",
     "exception": false,
     "start_time": "2022-11-07T08:34:02.603746",
     "status": "completed"
    },
    "tags": []
   },
   "outputs": [],
   "source": [
    "# es = EarlyStoppingCallback(early_stopping_patience=early_stopping_patience)"
   ]
  },
  {
   "cell_type": "code",
   "execution_count": 18,
   "id": "60691e2c",
   "metadata": {
    "execution": {
     "iopub.execute_input": "2022-11-07T08:34:02.664355Z",
     "iopub.status.busy": "2022-11-07T08:34:02.663309Z",
     "iopub.status.idle": "2022-11-07T08:34:10.433597Z",
     "shell.execute_reply": "2022-11-07T08:34:10.432408Z"
    },
    "executionInfo": {
     "elapsed": 4423,
     "status": "ok",
     "timestamp": 1666258978191,
     "user": {
      "displayName": "Jeonghyeon Park",
      "userId": "12513544746873038725"
     },
     "user_tz": -540
    },
    "id": "pwe87xkaMEK6",
    "papermill": {
     "duration": 7.789722,
     "end_time": "2022-11-07T08:34:10.436290",
     "exception": false,
     "start_time": "2022-11-07T08:34:02.646568",
     "status": "completed"
    },
    "tags": []
   },
   "outputs": [],
   "source": [
    "trainer = Trainer(\n",
    "    model,\n",
    "    args,\n",
    "    train_dataset=train_dataset,\n",
    "    eval_dataset=eval_dataset,\n",
    "    tokenizer=tokenizer,\n",
    "    compute_metrics=compute_metrics,\n",
    "    data_collator=data_collator,\n",
    "    # callbacks=[es],\n",
    ")"
   ]
  },
  {
   "cell_type": "markdown",
   "id": "3ed9af1f",
   "metadata": {
    "id": "9KNsbWs72BoC",
    "papermill": {
     "duration": 0.015589,
     "end_time": "2022-11-07T08:34:10.467591",
     "exception": false,
     "start_time": "2022-11-07T08:34:10.452002",
     "status": "completed"
    },
    "tags": []
   },
   "source": [
    "# Run Trainer"
   ]
  },
  {
   "cell_type": "code",
   "execution_count": 19,
   "id": "112a9afb",
   "metadata": {
    "colab": {
     "base_uri": "https://localhost:8080/",
     "height": 349
    },
    "execution": {
     "iopub.execute_input": "2022-11-07T08:34:10.500210Z",
     "iopub.status.busy": "2022-11-07T08:34:10.499646Z"
    },
    "id": "tyN8PA8tMFsU",
    "outputId": "43105a1e-799b-4e6f-f03b-713148df5ce7",
    "papermill": {
     "duration": null,
     "end_time": null,
     "exception": false,
     "start_time": "2022-11-07T08:34:10.482742",
     "status": "running"
    },
    "tags": []
   },
   "outputs": [
    {
     "name": "stderr",
     "output_type": "stream",
     "text": [
      "The following columns in the training set don't have a corresponding argument in `ElectraForSequenceClassification.forward` and have been ignored: pair, form, id. If pair, form, id are not expected by `ElectraForSequenceClassification.forward`,  you can safely ignore this message.\n"
     ]
    },
    {
     "name": "stderr",
     "output_type": "stream",
     "text": [
      "***** Running training *****\n"
     ]
    },
    {
     "name": "stderr",
     "output_type": "stream",
     "text": [
      "  Num examples = 9588\n"
     ]
    },
    {
     "name": "stderr",
     "output_type": "stream",
     "text": [
      "  Num Epochs = 10\n"
     ]
    },
    {
     "name": "stderr",
     "output_type": "stream",
     "text": [
      "  Instantaneous batch size per device = 1\n"
     ]
    },
    {
     "name": "stderr",
     "output_type": "stream",
     "text": [
      "  Total train batch size (w. parallel, distributed & accumulation) = 1\n"
     ]
    },
    {
     "name": "stderr",
     "output_type": "stream",
     "text": [
      "  Gradient Accumulation steps = 1\n"
     ]
    },
    {
     "name": "stderr",
     "output_type": "stream",
     "text": [
      "  Total optimization steps = 95880\n"
     ]
    },
    {
     "name": "stderr",
     "output_type": "stream",
     "text": [
      "  Number of trainable parameters = 113085698\n"
     ]
    },
    {
     "name": "stderr",
     "output_type": "stream",
     "text": [
      "Automatic Weights & Biases logging enabled, to disable set os.environ[\"WANDB_DISABLED\"] = \"true\"\n"
     ]
    },
    {
     "data": {
      "text/html": [
       "Tracking run with wandb version 0.13.5"
      ],
      "text/plain": [
       "<IPython.core.display.HTML object>"
      ]
     },
     "metadata": {},
     "output_type": "display_data"
    },
    {
     "data": {
      "text/html": [
       "Run data is saved locally in <code>/home/ubuntu/jongmin/Jeonghyeon/codes/absa/wandb/run-20221107_173410-kqrtgkjx</code>"
      ],
      "text/plain": [
       "<IPython.core.display.HTML object>"
      ]
     },
     "metadata": {},
     "output_type": "display_data"
    },
    {
     "data": {
      "text/html": [
       "Syncing run <strong><a href=\"https://wandb.ai/dotsnangles/aspect_sentiment_classification_binary/runs/kqrtgkjx\" target=\"_blank\">asc_monologg_koelectra_base_v3_discriminator_uncleaned_v21_maxlen_256</a></strong> to <a href=\"https://wandb.ai/dotsnangles/aspect_sentiment_classification_binary\" target=\"_blank\">Weights & Biases</a> (<a href=\"https://wandb.me/run\" target=\"_blank\">docs</a>)<br/>"
      ],
      "text/plain": [
       "<IPython.core.display.HTML object>"
      ]
     },
     "metadata": {},
     "output_type": "display_data"
    },
    {
     "name": "stderr",
     "output_type": "stream",
     "text": [
      "You're using a ElectraTokenizerFast tokenizer. Please note that with a fast tokenizer, using the `__call__` method is faster than using a method to encode the text followed by a call to the `pad` method to get a padded encoding.\n"
     ]
    },
    {
     "data": {
      "text/html": [
       "\n",
       "    <div>\n",
       "      \n",
       "      <progress value='5501' max='95880' style='width:300px; height:20px; vertical-align: middle;'></progress>\n",
       "      [ 5501/95880 14:28 < 3:57:52, 6.33 it/s, Epoch 0.57/10]\n",
       "    </div>\n",
       "    <table border=\"1\" class=\"dataframe\">\n",
       "  <thead>\n",
       " <tr style=\"text-align: left;\">\n",
       "      <th>Epoch</th>\n",
       "      <th>Training Loss</th>\n",
       "      <th>Validation Loss</th>\n",
       "    </tr>\n",
       "  </thead>\n",
       "  <tbody>\n",
       "  </tbody>\n",
       "</table><p>"
      ],
      "text/plain": [
       "<IPython.core.display.HTML object>"
      ]
     },
     "metadata": {},
     "output_type": "display_data"
    }
   ],
   "source": [
    "trainer.train()\n",
    "wandb.finish()"
   ]
  },
  {
   "cell_type": "code",
   "execution_count": null,
   "id": "518fba4c",
   "metadata": {
    "id": "njKzTZtir0SC",
    "papermill": {
     "duration": null,
     "end_time": null,
     "exception": null,
     "start_time": null,
     "status": "pending"
    },
    "tags": []
   },
   "outputs": [],
   "source": [
    "keep = [\n",
    "    'added_tokens.json',\n",
    "    'config.json',\n",
    "    'pytorch_model.bin',\n",
    "    'special_tokens_map.json',\n",
    "    'tokenizer.json',\n",
    "    'tokenizer_config.json',\n",
    "    'vocab.txt'\n",
    "]\n",
    "\n",
    "ckpts = os.listdir(run_name)\n",
    "for ckpt in ckpts:\n",
    "    ckpt = os.path.join(run_name, ckpt)\n",
    "    for item in os.listdir(ckpt):\n",
    "        if item not in keep:\n",
    "            os.remove(os.path.join(ckpt, item))\n",
    "\n",
    "!mv {run_name} {SAVE_PATH}/"
   ]
  }
 ],
 "metadata": {
  "accelerator": "GPU",
  "colab": {
   "collapsed_sections": [],
   "provenance": []
  },
  "gpuClass": "premium",
  "kernelspec": {
   "display_name": "Python 3.10.6 ('jeonghyeon')",
   "language": "python",
   "name": "python3"
  },
  "language_info": {
   "codemirror_mode": {
    "name": "ipython",
    "version": 3
   },
   "file_extension": ".py",
   "mimetype": "text/x-python",
   "name": "python",
   "nbconvert_exporter": "python",
   "pygments_lexer": "ipython3",
   "version": "3.8.13"
  },
  "papermill": {
   "default_parameters": {},
   "duration": null,
   "end_time": null,
   "environment_variables": {},
   "exception": null,
   "input_path": "./train_asc.ipynb",
   "output_path": "./papermill/train_asc.ipynb",
   "parameters": {},
   "start_time": "2022-11-07T08:33:41.931464",
   "version": "2.4.0"
  },
  "vscode": {
   "interpreter": {
    "hash": "df12b971f0e4e081474c4ac44bd338416eac6f5401e1e938ba342788cee78ecd"
   }
  },
  "widgets": {
   "application/vnd.jupyter.widget-state+json": {
    "0032f06143bf468e90701a0ee56c9df1": {
     "model_module": "@jupyter-widgets/controls",
     "model_module_version": "1.5.0",
     "model_name": "FloatProgressModel",
     "state": {
      "_dom_classes": [],
      "_model_module": "@jupyter-widgets/controls",
      "_model_module_version": "1.5.0",
      "_model_name": "FloatProgressModel",
      "_view_count": null,
      "_view_module": "@jupyter-widgets/controls",
      "_view_module_version": "1.5.0",
      "_view_name": "ProgressView",
      "bar_style": "success",
      "description": "",
      "description_tooltip": null,
      "layout": "IPY_MODEL_dc3f367d749440b1acd2f8cefe848c4e",
      "max": 4203,
      "min": 0,
      "orientation": "horizontal",
      "style": "IPY_MODEL_4cc2f55692264694a43389cc5385db8a",
      "value": 4203
     }
    },
    "03a85f47681c41cdab9d75beee0fb78a": {
     "model_module": "@jupyter-widgets/controls",
     "model_module_version": "1.5.0",
     "model_name": "HTMLModel",
     "state": {
      "_dom_classes": [],
      "_model_module": "@jupyter-widgets/controls",
      "_model_module_version": "1.5.0",
      "_model_name": "HTMLModel",
      "_view_count": null,
      "_view_module": "@jupyter-widgets/controls",
      "_view_module_version": "1.5.0",
      "_view_name": "HTMLView",
      "description": "",
      "description_tooltip": null,
      "layout": "IPY_MODEL_5c02b9951c1946279cb36c6c8a4a50f4",
      "placeholder": "​",
      "style": "IPY_MODEL_fbe16032b1b54aab84d7f1c3caf83201",
      "value": "100%"
     }
    },
    "04fe7e54680749478e8daec82decd3ee": {
     "model_module": "@jupyter-widgets/controls",
     "model_module_version": "1.5.0",
     "model_name": "FloatProgressModel",
     "state": {
      "_dom_classes": [],
      "_model_module": "@jupyter-widgets/controls",
      "_model_module_version": "1.5.0",
      "_model_name": "FloatProgressModel",
      "_view_count": null,
      "_view_module": "@jupyter-widgets/controls",
      "_view_module_version": "1.5.0",
      "_view_name": "ProgressView",
      "bar_style": "success",
      "description": "",
      "description_tooltip": null,
      "layout": "IPY_MODEL_7d10259a18d54648a6c670a6722e82b5",
      "max": 27321,
      "min": 0,
      "orientation": "horizontal",
      "style": "IPY_MODEL_505a1235079e40cda60009ba1bcf31fe",
      "value": 27321
     }
    },
    "0642dca8ab984c91a4539585afef8390": {
     "model_module": "@jupyter-widgets/controls",
     "model_module_version": "1.5.0",
     "model_name": "HTMLModel",
     "state": {
      "_dom_classes": [],
      "_model_module": "@jupyter-widgets/controls",
      "_model_module_version": "1.5.0",
      "_model_name": "HTMLModel",
      "_view_count": null,
      "_view_module": "@jupyter-widgets/controls",
      "_view_module_version": "1.5.0",
      "_view_name": "HTMLView",
      "description": "",
      "description_tooltip": null,
      "layout": "IPY_MODEL_ad20f3a0ca6c42c6afc1f506046ebf3b",
      "placeholder": "​",
      "style": "IPY_MODEL_fe51a8730e28454d897439830382db46",
      "value": "Downloading: 100%"
     }
    },
    "0ad2f8531b5d4ab28f8cd8f9003f7f56": {
     "model_module": "@jupyter-widgets/controls",
     "model_module_version": "1.5.0",
     "model_name": "DescriptionStyleModel",
     "state": {
      "_model_module": "@jupyter-widgets/controls",
      "_model_module_version": "1.5.0",
      "_model_name": "DescriptionStyleModel",
      "_view_count": null,
      "_view_module": "@jupyter-widgets/base",
      "_view_module_version": "1.2.0",
      "_view_name": "StyleView",
      "description_width": ""
     }
    },
    "0c4bff269e8f4d9693aec278a0a8d52a": {
     "model_module": "@jupyter-widgets/controls",
     "model_module_version": "1.5.0",
     "model_name": "HTMLModel",
     "state": {
      "_dom_classes": [],
      "_model_module": "@jupyter-widgets/controls",
      "_model_module_version": "1.5.0",
      "_model_name": "HTMLModel",
      "_view_count": null,
      "_view_module": "@jupyter-widgets/controls",
      "_view_module_version": "1.5.0",
      "_view_name": "HTMLView",
      "description": "",
      "description_tooltip": null,
      "layout": "IPY_MODEL_9890392cc707490d88aa6fe155917a09",
      "placeholder": "​",
      "style": "IPY_MODEL_f62340167e2d447096a2965b4fc60826",
      "value": " 56.0/56.0 [00:00&lt;00:00, 1.44kB/s]"
     }
    },
    "110c5f6649ab4b3382cce9d0bfcca25b": {
     "model_module": "@jupyter-widgets/base",
     "model_module_version": "1.2.0",
     "model_name": "LayoutModel",
     "state": {
      "_model_module": "@jupyter-widgets/base",
      "_model_module_version": "1.2.0",
      "_model_name": "LayoutModel",
      "_view_count": null,
      "_view_module": "@jupyter-widgets/base",
      "_view_module_version": "1.2.0",
      "_view_name": "LayoutView",
      "align_content": null,
      "align_items": null,
      "align_self": null,
      "border": null,
      "bottom": null,
      "display": null,
      "flex": null,
      "flex_flow": null,
      "grid_area": null,
      "grid_auto_columns": null,
      "grid_auto_flow": null,
      "grid_auto_rows": null,
      "grid_column": null,
      "grid_gap": null,
      "grid_row": null,
      "grid_template_areas": null,
      "grid_template_columns": null,
      "grid_template_rows": null,
      "height": null,
      "justify_content": null,
      "justify_items": null,
      "left": null,
      "margin": null,
      "max_height": null,
      "max_width": null,
      "min_height": null,
      "min_width": null,
      "object_fit": null,
      "object_position": null,
      "order": null,
      "overflow": null,
      "overflow_x": null,
      "overflow_y": null,
      "padding": null,
      "right": null,
      "top": null,
      "visibility": null,
      "width": null
     }
    },
    "1d07530c6d494b4bb5d9579e0da3c820": {
     "model_module": "@jupyter-widgets/controls",
     "model_module_version": "1.5.0",
     "model_name": "DescriptionStyleModel",
     "state": {
      "_model_module": "@jupyter-widgets/controls",
      "_model_module_version": "1.5.0",
      "_model_name": "DescriptionStyleModel",
      "_view_count": null,
      "_view_module": "@jupyter-widgets/base",
      "_view_module_version": "1.2.0",
      "_view_name": "StyleView",
      "description_width": ""
     }
    },
    "1de70d714b014ec4bc1fa226ba66b64f": {
     "model_module": "@jupyter-widgets/controls",
     "model_module_version": "1.5.0",
     "model_name": "DescriptionStyleModel",
     "state": {
      "_model_module": "@jupyter-widgets/controls",
      "_model_module_version": "1.5.0",
      "_model_name": "DescriptionStyleModel",
      "_view_count": null,
      "_view_module": "@jupyter-widgets/base",
      "_view_module_version": "1.2.0",
      "_view_name": "StyleView",
      "description_width": ""
     }
    },
    "275c1bc29ce0431c919d30b0c4de4beb": {
     "model_module": "@jupyter-widgets/base",
     "model_module_version": "1.2.0",
     "model_name": "LayoutModel",
     "state": {
      "_model_module": "@jupyter-widgets/base",
      "_model_module_version": "1.2.0",
      "_model_name": "LayoutModel",
      "_view_count": null,
      "_view_module": "@jupyter-widgets/base",
      "_view_module_version": "1.2.0",
      "_view_name": "LayoutView",
      "align_content": null,
      "align_items": null,
      "align_self": null,
      "border": null,
      "bottom": null,
      "display": null,
      "flex": null,
      "flex_flow": null,
      "grid_area": null,
      "grid_auto_columns": null,
      "grid_auto_flow": null,
      "grid_auto_rows": null,
      "grid_column": null,
      "grid_gap": null,
      "grid_row": null,
      "grid_template_areas": null,
      "grid_template_columns": null,
      "grid_template_rows": null,
      "height": null,
      "justify_content": null,
      "justify_items": null,
      "left": null,
      "margin": null,
      "max_height": null,
      "max_width": null,
      "min_height": null,
      "min_width": null,
      "object_fit": null,
      "object_position": null,
      "order": null,
      "overflow": null,
      "overflow_x": null,
      "overflow_y": null,
      "padding": null,
      "right": null,
      "top": null,
      "visibility": null,
      "width": null
     }
    },
    "2a92b6399a3b4cfea7afcbe89ea6c1c8": {
     "model_module": "@jupyter-widgets/controls",
     "model_module_version": "1.5.0",
     "model_name": "HTMLModel",
     "state": {
      "_dom_classes": [],
      "_model_module": "@jupyter-widgets/controls",
      "_model_module_version": "1.5.0",
      "_model_name": "HTMLModel",
      "_view_count": null,
      "_view_module": "@jupyter-widgets/controls",
      "_view_module_version": "1.5.0",
      "_view_name": "HTMLView",
      "description": "",
      "description_tooltip": null,
      "layout": "IPY_MODEL_b094395b8da34ff8a9c33fcded16377f",
      "placeholder": "​",
      "style": "IPY_MODEL_1de70d714b014ec4bc1fa226ba66b64f",
      "value": " 4.20k/4.20k [00:00&lt;00:00, 114kB/s]"
     }
    },
    "2e99b266d32549aa80f6234d807ff8bb": {
     "model_module": "@jupyter-widgets/controls",
     "model_module_version": "1.5.0",
     "model_name": "ProgressStyleModel",
     "state": {
      "_model_module": "@jupyter-widgets/controls",
      "_model_module_version": "1.5.0",
      "_model_name": "ProgressStyleModel",
      "_view_count": null,
      "_view_module": "@jupyter-widgets/base",
      "_view_module_version": "1.2.0",
      "_view_name": "StyleView",
      "bar_color": null,
      "description_width": ""
     }
    },
    "41e5cd9c231a46b5bfd8262b2b745cc6": {
     "model_module": "@jupyter-widgets/base",
     "model_module_version": "1.2.0",
     "model_name": "LayoutModel",
     "state": {
      "_model_module": "@jupyter-widgets/base",
      "_model_module_version": "1.2.0",
      "_model_name": "LayoutModel",
      "_view_count": null,
      "_view_module": "@jupyter-widgets/base",
      "_view_module_version": "1.2.0",
      "_view_name": "LayoutView",
      "align_content": null,
      "align_items": null,
      "align_self": null,
      "border": null,
      "bottom": null,
      "display": null,
      "flex": null,
      "flex_flow": null,
      "grid_area": null,
      "grid_auto_columns": null,
      "grid_auto_flow": null,
      "grid_auto_rows": null,
      "grid_column": null,
      "grid_gap": null,
      "grid_row": null,
      "grid_template_areas": null,
      "grid_template_columns": null,
      "grid_template_rows": null,
      "height": null,
      "justify_content": null,
      "justify_items": null,
      "left": null,
      "margin": null,
      "max_height": null,
      "max_width": null,
      "min_height": null,
      "min_width": null,
      "object_fit": null,
      "object_position": null,
      "order": null,
      "overflow": null,
      "overflow_x": null,
      "overflow_y": null,
      "padding": null,
      "right": null,
      "top": null,
      "visibility": null,
      "width": null
     }
    },
    "44649a89dc5d4156892db45e1fdee5c1": {
     "model_module": "@jupyter-widgets/controls",
     "model_module_version": "1.5.0",
     "model_name": "ProgressStyleModel",
     "state": {
      "_model_module": "@jupyter-widgets/controls",
      "_model_module_version": "1.5.0",
      "_model_name": "ProgressStyleModel",
      "_view_count": null,
      "_view_module": "@jupyter-widgets/base",
      "_view_module_version": "1.2.0",
      "_view_name": "StyleView",
      "bar_color": null,
      "description_width": ""
     }
    },
    "45efd1e29eb445d0bbdb4d0e90dec407": {
     "model_module": "@jupyter-widgets/base",
     "model_module_version": "1.2.0",
     "model_name": "LayoutModel",
     "state": {
      "_model_module": "@jupyter-widgets/base",
      "_model_module_version": "1.2.0",
      "_model_name": "LayoutModel",
      "_view_count": null,
      "_view_module": "@jupyter-widgets/base",
      "_view_module_version": "1.2.0",
      "_view_name": "LayoutView",
      "align_content": null,
      "align_items": null,
      "align_self": null,
      "border": null,
      "bottom": null,
      "display": null,
      "flex": null,
      "flex_flow": null,
      "grid_area": null,
      "grid_auto_columns": null,
      "grid_auto_flow": null,
      "grid_auto_rows": null,
      "grid_column": null,
      "grid_gap": null,
      "grid_row": null,
      "grid_template_areas": null,
      "grid_template_columns": null,
      "grid_template_rows": null,
      "height": null,
      "justify_content": null,
      "justify_items": null,
      "left": null,
      "margin": null,
      "max_height": null,
      "max_width": null,
      "min_height": null,
      "min_width": null,
      "object_fit": null,
      "object_position": null,
      "order": null,
      "overflow": null,
      "overflow_x": null,
      "overflow_y": null,
      "padding": null,
      "right": null,
      "top": null,
      "visibility": null,
      "width": null
     }
    },
    "4652216b070746baa42a73d1dd6cec47": {
     "model_module": "@jupyter-widgets/base",
     "model_module_version": "1.2.0",
     "model_name": "LayoutModel",
     "state": {
      "_model_module": "@jupyter-widgets/base",
      "_model_module_version": "1.2.0",
      "_model_name": "LayoutModel",
      "_view_count": null,
      "_view_module": "@jupyter-widgets/base",
      "_view_module_version": "1.2.0",
      "_view_name": "LayoutView",
      "align_content": null,
      "align_items": null,
      "align_self": null,
      "border": null,
      "bottom": null,
      "display": null,
      "flex": null,
      "flex_flow": null,
      "grid_area": null,
      "grid_auto_columns": null,
      "grid_auto_flow": null,
      "grid_auto_rows": null,
      "grid_column": null,
      "grid_gap": null,
      "grid_row": null,
      "grid_template_areas": null,
      "grid_template_columns": null,
      "grid_template_rows": null,
      "height": null,
      "justify_content": null,
      "justify_items": null,
      "left": null,
      "margin": null,
      "max_height": null,
      "max_width": null,
      "min_height": null,
      "min_width": null,
      "object_fit": null,
      "object_position": null,
      "order": null,
      "overflow": null,
      "overflow_x": null,
      "overflow_y": null,
      "padding": null,
      "right": null,
      "top": null,
      "visibility": null,
      "width": null
     }
    },
    "4cc2f55692264694a43389cc5385db8a": {
     "model_module": "@jupyter-widgets/controls",
     "model_module_version": "1.5.0",
     "model_name": "ProgressStyleModel",
     "state": {
      "_model_module": "@jupyter-widgets/controls",
      "_model_module_version": "1.5.0",
      "_model_name": "ProgressStyleModel",
      "_view_count": null,
      "_view_module": "@jupyter-widgets/base",
      "_view_module_version": "1.2.0",
      "_view_name": "StyleView",
      "bar_color": null,
      "description_width": ""
     }
    },
    "4d894cca56034a818c9132a012504061": {
     "model_module": "@jupyter-widgets/base",
     "model_module_version": "1.2.0",
     "model_name": "LayoutModel",
     "state": {
      "_model_module": "@jupyter-widgets/base",
      "_model_module_version": "1.2.0",
      "_model_name": "LayoutModel",
      "_view_count": null,
      "_view_module": "@jupyter-widgets/base",
      "_view_module_version": "1.2.0",
      "_view_name": "LayoutView",
      "align_content": null,
      "align_items": null,
      "align_self": null,
      "border": null,
      "bottom": null,
      "display": null,
      "flex": null,
      "flex_flow": null,
      "grid_area": null,
      "grid_auto_columns": null,
      "grid_auto_flow": null,
      "grid_auto_rows": null,
      "grid_column": null,
      "grid_gap": null,
      "grid_row": null,
      "grid_template_areas": null,
      "grid_template_columns": null,
      "grid_template_rows": null,
      "height": null,
      "justify_content": null,
      "justify_items": null,
      "left": null,
      "margin": null,
      "max_height": null,
      "max_width": null,
      "min_height": null,
      "min_width": null,
      "object_fit": null,
      "object_position": null,
      "order": null,
      "overflow": null,
      "overflow_x": null,
      "overflow_y": null,
      "padding": null,
      "right": null,
      "top": null,
      "visibility": null,
      "width": null
     }
    },
    "505a1235079e40cda60009ba1bcf31fe": {
     "model_module": "@jupyter-widgets/controls",
     "model_module_version": "1.5.0",
     "model_name": "ProgressStyleModel",
     "state": {
      "_model_module": "@jupyter-widgets/controls",
      "_model_module_version": "1.5.0",
      "_model_name": "ProgressStyleModel",
      "_view_count": null,
      "_view_module": "@jupyter-widgets/base",
      "_view_module_version": "1.2.0",
      "_view_name": "StyleView",
      "bar_color": null,
      "description_width": ""
     }
    },
    "5b3593cbcc844e928f086f80d9108ba1": {
     "model_module": "@jupyter-widgets/base",
     "model_module_version": "1.2.0",
     "model_name": "LayoutModel",
     "state": {
      "_model_module": "@jupyter-widgets/base",
      "_model_module_version": "1.2.0",
      "_model_name": "LayoutModel",
      "_view_count": null,
      "_view_module": "@jupyter-widgets/base",
      "_view_module_version": "1.2.0",
      "_view_name": "LayoutView",
      "align_content": null,
      "align_items": null,
      "align_self": null,
      "border": null,
      "bottom": null,
      "display": null,
      "flex": null,
      "flex_flow": null,
      "grid_area": null,
      "grid_auto_columns": null,
      "grid_auto_flow": null,
      "grid_auto_rows": null,
      "grid_column": null,
      "grid_gap": null,
      "grid_row": null,
      "grid_template_areas": null,
      "grid_template_columns": null,
      "grid_template_rows": null,
      "height": null,
      "justify_content": null,
      "justify_items": null,
      "left": null,
      "margin": null,
      "max_height": null,
      "max_width": null,
      "min_height": null,
      "min_width": null,
      "object_fit": null,
      "object_position": null,
      "order": null,
      "overflow": null,
      "overflow_x": null,
      "overflow_y": null,
      "padding": null,
      "right": null,
      "top": null,
      "visibility": null,
      "width": null
     }
    },
    "5c02b9951c1946279cb36c6c8a4a50f4": {
     "model_module": "@jupyter-widgets/base",
     "model_module_version": "1.2.0",
     "model_name": "LayoutModel",
     "state": {
      "_model_module": "@jupyter-widgets/base",
      "_model_module_version": "1.2.0",
      "_model_name": "LayoutModel",
      "_view_count": null,
      "_view_module": "@jupyter-widgets/base",
      "_view_module_version": "1.2.0",
      "_view_name": "LayoutView",
      "align_content": null,
      "align_items": null,
      "align_self": null,
      "border": null,
      "bottom": null,
      "display": null,
      "flex": null,
      "flex_flow": null,
      "grid_area": null,
      "grid_auto_columns": null,
      "grid_auto_flow": null,
      "grid_auto_rows": null,
      "grid_column": null,
      "grid_gap": null,
      "grid_row": null,
      "grid_template_areas": null,
      "grid_template_columns": null,
      "grid_template_rows": null,
      "height": null,
      "justify_content": null,
      "justify_items": null,
      "left": null,
      "margin": null,
      "max_height": null,
      "max_width": null,
      "min_height": null,
      "min_width": null,
      "object_fit": null,
      "object_position": null,
      "order": null,
      "overflow": null,
      "overflow_x": null,
      "overflow_y": null,
      "padding": null,
      "right": null,
      "top": null,
      "visibility": null,
      "width": null
     }
    },
    "5cb0cdb0332f49caa2c9e728078da80a": {
     "model_module": "@jupyter-widgets/base",
     "model_module_version": "1.2.0",
     "model_name": "LayoutModel",
     "state": {
      "_model_module": "@jupyter-widgets/base",
      "_model_module_version": "1.2.0",
      "_model_name": "LayoutModel",
      "_view_count": null,
      "_view_module": "@jupyter-widgets/base",
      "_view_module_version": "1.2.0",
      "_view_name": "LayoutView",
      "align_content": null,
      "align_items": null,
      "align_self": null,
      "border": null,
      "bottom": null,
      "display": null,
      "flex": null,
      "flex_flow": null,
      "grid_area": null,
      "grid_auto_columns": null,
      "grid_auto_flow": null,
      "grid_auto_rows": null,
      "grid_column": null,
      "grid_gap": null,
      "grid_row": null,
      "grid_template_areas": null,
      "grid_template_columns": null,
      "grid_template_rows": null,
      "height": null,
      "justify_content": null,
      "justify_items": null,
      "left": null,
      "margin": null,
      "max_height": null,
      "max_width": null,
      "min_height": null,
      "min_width": null,
      "object_fit": null,
      "object_position": null,
      "order": null,
      "overflow": null,
      "overflow_x": null,
      "overflow_y": null,
      "padding": null,
      "right": null,
      "top": null,
      "visibility": null,
      "width": null
     }
    },
    "658511cf252648a0ae4dd509bbe12fe6": {
     "model_module": "@jupyter-widgets/controls",
     "model_module_version": "1.5.0",
     "model_name": "ProgressStyleModel",
     "state": {
      "_model_module": "@jupyter-widgets/controls",
      "_model_module_version": "1.5.0",
      "_model_name": "ProgressStyleModel",
      "_view_count": null,
      "_view_module": "@jupyter-widgets/base",
      "_view_module_version": "1.2.0",
      "_view_name": "StyleView",
      "bar_color": null,
      "description_width": ""
     }
    },
    "684011384bc34d2692f71dfe935b4723": {
     "model_module": "@jupyter-widgets/base",
     "model_module_version": "1.2.0",
     "model_name": "LayoutModel",
     "state": {
      "_model_module": "@jupyter-widgets/base",
      "_model_module_version": "1.2.0",
      "_model_name": "LayoutModel",
      "_view_count": null,
      "_view_module": "@jupyter-widgets/base",
      "_view_module_version": "1.2.0",
      "_view_name": "LayoutView",
      "align_content": null,
      "align_items": null,
      "align_self": null,
      "border": null,
      "bottom": null,
      "display": null,
      "flex": null,
      "flex_flow": null,
      "grid_area": null,
      "grid_auto_columns": null,
      "grid_auto_flow": null,
      "grid_auto_rows": null,
      "grid_column": null,
      "grid_gap": null,
      "grid_row": null,
      "grid_template_areas": null,
      "grid_template_columns": null,
      "grid_template_rows": null,
      "height": null,
      "justify_content": null,
      "justify_items": null,
      "left": null,
      "margin": null,
      "max_height": null,
      "max_width": null,
      "min_height": null,
      "min_width": null,
      "object_fit": null,
      "object_position": null,
      "order": null,
      "overflow": null,
      "overflow_x": null,
      "overflow_y": null,
      "padding": null,
      "right": null,
      "top": null,
      "visibility": null,
      "width": null
     }
    },
    "6a576fba1fb14f2fab2cae599e01c9cb": {
     "model_module": "@jupyter-widgets/controls",
     "model_module_version": "1.5.0",
     "model_name": "HTMLModel",
     "state": {
      "_dom_classes": [],
      "_model_module": "@jupyter-widgets/controls",
      "_model_module_version": "1.5.0",
      "_model_name": "HTMLModel",
      "_view_count": null,
      "_view_module": "@jupyter-widgets/controls",
      "_view_module_version": "1.5.0",
      "_view_name": "HTMLView",
      "description": "",
      "description_tooltip": null,
      "layout": "IPY_MODEL_d70edc08493c42bba3d66945ad4da9ac",
      "placeholder": "​",
      "style": "IPY_MODEL_f472a293ade641c9bff11ee3905e34ee",
      "value": " 9006/9006 [00:03&lt;00:00, 2723.19ex/s]"
     }
    },
    "6acc835b544d451894d35e3736e0d804": {
     "model_module": "@jupyter-widgets/controls",
     "model_module_version": "1.5.0",
     "model_name": "DescriptionStyleModel",
     "state": {
      "_model_module": "@jupyter-widgets/controls",
      "_model_module_version": "1.5.0",
      "_model_name": "DescriptionStyleModel",
      "_view_count": null,
      "_view_module": "@jupyter-widgets/base",
      "_view_module_version": "1.2.0",
      "_view_name": "StyleView",
      "description_width": ""
     }
    },
    "6d5bfc1c2ad541e38ef71c3b70faa6aa": {
     "model_module": "@jupyter-widgets/controls",
     "model_module_version": "1.5.0",
     "model_name": "HBoxModel",
     "state": {
      "_dom_classes": [],
      "_model_module": "@jupyter-widgets/controls",
      "_model_module_version": "1.5.0",
      "_model_name": "HBoxModel",
      "_view_count": null,
      "_view_module": "@jupyter-widgets/controls",
      "_view_module_version": "1.5.0",
      "_view_name": "HBoxView",
      "box_style": "",
      "children": [
       "IPY_MODEL_b46847cc57cb4d1686abedd7729f2276",
       "IPY_MODEL_eefa541e2bce44f48d5d57921a5105a9",
       "IPY_MODEL_6a576fba1fb14f2fab2cae599e01c9cb"
      ],
      "layout": "IPY_MODEL_4652216b070746baa42a73d1dd6cec47"
     }
    },
    "6dcdbf9f62004f9fb3141b1ca5dfddf0": {
     "model_module": "@jupyter-widgets/controls",
     "model_module_version": "1.5.0",
     "model_name": "ProgressStyleModel",
     "state": {
      "_model_module": "@jupyter-widgets/controls",
      "_model_module_version": "1.5.0",
      "_model_name": "ProgressStyleModel",
      "_view_count": null,
      "_view_module": "@jupyter-widgets/base",
      "_view_module_version": "1.2.0",
      "_view_name": "StyleView",
      "bar_color": null,
      "description_width": ""
     }
    },
    "6ef978f43b214c58abfdf1155f475684": {
     "model_module": "@jupyter-widgets/controls",
     "model_module_version": "1.5.0",
     "model_name": "DescriptionStyleModel",
     "state": {
      "_model_module": "@jupyter-widgets/controls",
      "_model_module_version": "1.5.0",
      "_model_name": "DescriptionStyleModel",
      "_view_count": null,
      "_view_module": "@jupyter-widgets/base",
      "_view_module_version": "1.2.0",
      "_view_name": "StyleView",
      "description_width": ""
     }
    },
    "76629b189eb648d3bc7ba0711e57bc66": {
     "model_module": "@jupyter-widgets/controls",
     "model_module_version": "1.5.0",
     "model_name": "HBoxModel",
     "state": {
      "_dom_classes": [],
      "_model_module": "@jupyter-widgets/controls",
      "_model_module_version": "1.5.0",
      "_model_name": "HBoxModel",
      "_view_count": null,
      "_view_module": "@jupyter-widgets/controls",
      "_view_module_version": "1.5.0",
      "_view_name": "HBoxView",
      "box_style": "",
      "children": [
       "IPY_MODEL_8d44dca2d0a24fb38dabcf4bd388323f",
       "IPY_MODEL_89c0ae7377644daa8688ec9ede9f035a",
       "IPY_MODEL_ae3f51735615420bbc92ad5dfb590263"
      ],
      "layout": "IPY_MODEL_9714e67513334f8e868607422f7da2b9"
     }
    },
    "767206f5d9e04d099a2706442df3e2ca": {
     "model_module": "@jupyter-widgets/base",
     "model_module_version": "1.2.0",
     "model_name": "LayoutModel",
     "state": {
      "_model_module": "@jupyter-widgets/base",
      "_model_module_version": "1.2.0",
      "_model_name": "LayoutModel",
      "_view_count": null,
      "_view_module": "@jupyter-widgets/base",
      "_view_module_version": "1.2.0",
      "_view_name": "LayoutView",
      "align_content": null,
      "align_items": null,
      "align_self": null,
      "border": null,
      "bottom": null,
      "display": null,
      "flex": null,
      "flex_flow": null,
      "grid_area": null,
      "grid_auto_columns": null,
      "grid_auto_flow": null,
      "grid_auto_rows": null,
      "grid_column": null,
      "grid_gap": null,
      "grid_row": null,
      "grid_template_areas": null,
      "grid_template_columns": null,
      "grid_template_rows": null,
      "height": null,
      "justify_content": null,
      "justify_items": null,
      "left": null,
      "margin": null,
      "max_height": null,
      "max_width": null,
      "min_height": null,
      "min_width": null,
      "object_fit": null,
      "object_position": null,
      "order": null,
      "overflow": null,
      "overflow_x": null,
      "overflow_y": null,
      "padding": null,
      "right": null,
      "top": null,
      "visibility": null,
      "width": null
     }
    },
    "7c3552d804164201a11b0d9a7a6d9b10": {
     "model_module": "@jupyter-widgets/controls",
     "model_module_version": "1.5.0",
     "model_name": "DescriptionStyleModel",
     "state": {
      "_model_module": "@jupyter-widgets/controls",
      "_model_module_version": "1.5.0",
      "_model_name": "DescriptionStyleModel",
      "_view_count": null,
      "_view_module": "@jupyter-widgets/base",
      "_view_module_version": "1.2.0",
      "_view_name": "StyleView",
      "description_width": ""
     }
    },
    "7c9acc1b41de46debb3a27a4af31f6c1": {
     "model_module": "@jupyter-widgets/base",
     "model_module_version": "1.2.0",
     "model_name": "LayoutModel",
     "state": {
      "_model_module": "@jupyter-widgets/base",
      "_model_module_version": "1.2.0",
      "_model_name": "LayoutModel",
      "_view_count": null,
      "_view_module": "@jupyter-widgets/base",
      "_view_module_version": "1.2.0",
      "_view_name": "LayoutView",
      "align_content": null,
      "align_items": null,
      "align_self": null,
      "border": null,
      "bottom": null,
      "display": null,
      "flex": null,
      "flex_flow": null,
      "grid_area": null,
      "grid_auto_columns": null,
      "grid_auto_flow": null,
      "grid_auto_rows": null,
      "grid_column": null,
      "grid_gap": null,
      "grid_row": null,
      "grid_template_areas": null,
      "grid_template_columns": null,
      "grid_template_rows": null,
      "height": null,
      "justify_content": null,
      "justify_items": null,
      "left": null,
      "margin": null,
      "max_height": null,
      "max_width": null,
      "min_height": null,
      "min_width": null,
      "object_fit": null,
      "object_position": null,
      "order": null,
      "overflow": null,
      "overflow_x": null,
      "overflow_y": null,
      "padding": null,
      "right": null,
      "top": null,
      "visibility": null,
      "width": null
     }
    },
    "7d10259a18d54648a6c670a6722e82b5": {
     "model_module": "@jupyter-widgets/base",
     "model_module_version": "1.2.0",
     "model_name": "LayoutModel",
     "state": {
      "_model_module": "@jupyter-widgets/base",
      "_model_module_version": "1.2.0",
      "_model_name": "LayoutModel",
      "_view_count": null,
      "_view_module": "@jupyter-widgets/base",
      "_view_module_version": "1.2.0",
      "_view_name": "LayoutView",
      "align_content": null,
      "align_items": null,
      "align_self": null,
      "border": null,
      "bottom": null,
      "display": null,
      "flex": null,
      "flex_flow": null,
      "grid_area": null,
      "grid_auto_columns": null,
      "grid_auto_flow": null,
      "grid_auto_rows": null,
      "grid_column": null,
      "grid_gap": null,
      "grid_row": null,
      "grid_template_areas": null,
      "grid_template_columns": null,
      "grid_template_rows": null,
      "height": null,
      "justify_content": null,
      "justify_items": null,
      "left": null,
      "margin": null,
      "max_height": null,
      "max_width": null,
      "min_height": null,
      "min_width": null,
      "object_fit": null,
      "object_position": null,
      "order": null,
      "overflow": null,
      "overflow_x": null,
      "overflow_y": null,
      "padding": null,
      "right": null,
      "top": null,
      "visibility": null,
      "width": null
     }
    },
    "81ea513d9bbb4dffb926f175947642e9": {
     "model_module": "@jupyter-widgets/controls",
     "model_module_version": "1.5.0",
     "model_name": "DescriptionStyleModel",
     "state": {
      "_model_module": "@jupyter-widgets/controls",
      "_model_module_version": "1.5.0",
      "_model_name": "DescriptionStyleModel",
      "_view_count": null,
      "_view_module": "@jupyter-widgets/base",
      "_view_module_version": "1.2.0",
      "_view_name": "StyleView",
      "description_width": ""
     }
    },
    "82ebe2dd5a624c418fdfe9dbc021d18d": {
     "model_module": "@jupyter-widgets/base",
     "model_module_version": "1.2.0",
     "model_name": "LayoutModel",
     "state": {
      "_model_module": "@jupyter-widgets/base",
      "_model_module_version": "1.2.0",
      "_model_name": "LayoutModel",
      "_view_count": null,
      "_view_module": "@jupyter-widgets/base",
      "_view_module_version": "1.2.0",
      "_view_name": "LayoutView",
      "align_content": null,
      "align_items": null,
      "align_self": null,
      "border": null,
      "bottom": null,
      "display": null,
      "flex": null,
      "flex_flow": null,
      "grid_area": null,
      "grid_auto_columns": null,
      "grid_auto_flow": null,
      "grid_auto_rows": null,
      "grid_column": null,
      "grid_gap": null,
      "grid_row": null,
      "grid_template_areas": null,
      "grid_template_columns": null,
      "grid_template_rows": null,
      "height": null,
      "justify_content": null,
      "justify_items": null,
      "left": null,
      "margin": null,
      "max_height": null,
      "max_width": null,
      "min_height": null,
      "min_width": null,
      "object_fit": null,
      "object_position": null,
      "order": null,
      "overflow": null,
      "overflow_x": null,
      "overflow_y": null,
      "padding": null,
      "right": null,
      "top": null,
      "visibility": null,
      "width": null
     }
    },
    "83be86e7a1bc4cb5ad983f549588cec5": {
     "model_module": "@jupyter-widgets/controls",
     "model_module_version": "1.5.0",
     "model_name": "HBoxModel",
     "state": {
      "_dom_classes": [],
      "_model_module": "@jupyter-widgets/controls",
      "_model_module_version": "1.5.0",
      "_model_name": "HBoxModel",
      "_view_count": null,
      "_view_module": "@jupyter-widgets/controls",
      "_view_module_version": "1.5.0",
      "_view_name": "HBoxView",
      "box_style": "",
      "children": [
       "IPY_MODEL_0642dca8ab984c91a4539585afef8390",
       "IPY_MODEL_92f849d5359340cc89bce483f9d15bfe",
       "IPY_MODEL_a6d4a8cf193d4d4486b72f41e7ec7fa5"
      ],
      "layout": "IPY_MODEL_bab12b33f3b0477c9a9c9fb02aa288db"
     }
    },
    "86c9f350fe5f491e966c968f09428b2f": {
     "model_module": "@jupyter-widgets/base",
     "model_module_version": "1.2.0",
     "model_name": "LayoutModel",
     "state": {
      "_model_module": "@jupyter-widgets/base",
      "_model_module_version": "1.2.0",
      "_model_name": "LayoutModel",
      "_view_count": null,
      "_view_module": "@jupyter-widgets/base",
      "_view_module_version": "1.2.0",
      "_view_name": "LayoutView",
      "align_content": null,
      "align_items": null,
      "align_self": null,
      "border": null,
      "bottom": null,
      "display": null,
      "flex": null,
      "flex_flow": null,
      "grid_area": null,
      "grid_auto_columns": null,
      "grid_auto_flow": null,
      "grid_auto_rows": null,
      "grid_column": null,
      "grid_gap": null,
      "grid_row": null,
      "grid_template_areas": null,
      "grid_template_columns": null,
      "grid_template_rows": null,
      "height": null,
      "justify_content": null,
      "justify_items": null,
      "left": null,
      "margin": null,
      "max_height": null,
      "max_width": null,
      "min_height": null,
      "min_width": null,
      "object_fit": null,
      "object_position": null,
      "order": null,
      "overflow": null,
      "overflow_x": null,
      "overflow_y": null,
      "padding": null,
      "right": null,
      "top": null,
      "visibility": null,
      "width": null
     }
    },
    "89c0ae7377644daa8688ec9ede9f035a": {
     "model_module": "@jupyter-widgets/controls",
     "model_module_version": "1.5.0",
     "model_name": "FloatProgressModel",
     "state": {
      "_dom_classes": [],
      "_model_module": "@jupyter-widgets/controls",
      "_model_module_version": "1.5.0",
      "_model_name": "FloatProgressModel",
      "_view_count": null,
      "_view_module": "@jupyter-widgets/controls",
      "_view_module_version": "1.5.0",
      "_view_name": "ProgressView",
      "bar_style": "success",
      "description": "",
      "description_tooltip": null,
      "layout": "IPY_MODEL_41e5cd9c231a46b5bfd8262b2b745cc6",
      "max": 6771,
      "min": 0,
      "orientation": "horizontal",
      "style": "IPY_MODEL_6dcdbf9f62004f9fb3141b1ca5dfddf0",
      "value": 6771
     }
    },
    "8d44dca2d0a24fb38dabcf4bd388323f": {
     "model_module": "@jupyter-widgets/controls",
     "model_module_version": "1.5.0",
     "model_name": "HTMLModel",
     "state": {
      "_dom_classes": [],
      "_model_module": "@jupyter-widgets/controls",
      "_model_module_version": "1.5.0",
      "_model_name": "HTMLModel",
      "_view_count": null,
      "_view_module": "@jupyter-widgets/controls",
      "_view_module_version": "1.5.0",
      "_view_name": "HTMLView",
      "description": "",
      "description_tooltip": null,
      "layout": "IPY_MODEL_9237d2a901984102a5deb1c2528f1e10",
      "placeholder": "​",
      "style": "IPY_MODEL_e9ef7c82807847eb8ff43b3f0303b7d5",
      "value": "Downloading builder script: 100%"
     }
    },
    "90465c6d97ef4e83b86160ce1e66ca8b": {
     "model_module": "@jupyter-widgets/controls",
     "model_module_version": "1.5.0",
     "model_name": "FloatProgressModel",
     "state": {
      "_dom_classes": [],
      "_model_module": "@jupyter-widgets/controls",
      "_model_module_version": "1.5.0",
      "_model_name": "FloatProgressModel",
      "_view_count": null,
      "_view_module": "@jupyter-widgets/controls",
      "_view_module_version": "1.5.0",
      "_view_name": "ProgressView",
      "bar_style": "success",
      "description": "",
      "description_tooltip": null,
      "layout": "IPY_MODEL_110c5f6649ab4b3382cce9d0bfcca25b",
      "max": 436416329,
      "min": 0,
      "orientation": "horizontal",
      "style": "IPY_MODEL_2e99b266d32549aa80f6234d807ff8bb",
      "value": 436416329
     }
    },
    "9237d2a901984102a5deb1c2528f1e10": {
     "model_module": "@jupyter-widgets/base",
     "model_module_version": "1.2.0",
     "model_name": "LayoutModel",
     "state": {
      "_model_module": "@jupyter-widgets/base",
      "_model_module_version": "1.2.0",
      "_model_name": "LayoutModel",
      "_view_count": null,
      "_view_module": "@jupyter-widgets/base",
      "_view_module_version": "1.2.0",
      "_view_name": "LayoutView",
      "align_content": null,
      "align_items": null,
      "align_self": null,
      "border": null,
      "bottom": null,
      "display": null,
      "flex": null,
      "flex_flow": null,
      "grid_area": null,
      "grid_auto_columns": null,
      "grid_auto_flow": null,
      "grid_auto_rows": null,
      "grid_column": null,
      "grid_gap": null,
      "grid_row": null,
      "grid_template_areas": null,
      "grid_template_columns": null,
      "grid_template_rows": null,
      "height": null,
      "justify_content": null,
      "justify_items": null,
      "left": null,
      "margin": null,
      "max_height": null,
      "max_width": null,
      "min_height": null,
      "min_width": null,
      "object_fit": null,
      "object_position": null,
      "order": null,
      "overflow": null,
      "overflow_x": null,
      "overflow_y": null,
      "padding": null,
      "right": null,
      "top": null,
      "visibility": null,
      "width": null
     }
    },
    "92f849d5359340cc89bce483f9d15bfe": {
     "model_module": "@jupyter-widgets/controls",
     "model_module_version": "1.5.0",
     "model_name": "FloatProgressModel",
     "state": {
      "_dom_classes": [],
      "_model_module": "@jupyter-widgets/controls",
      "_model_module_version": "1.5.0",
      "_model_name": "FloatProgressModel",
      "_view_count": null,
      "_view_module": "@jupyter-widgets/controls",
      "_view_module_version": "1.5.0",
      "_view_name": "ProgressView",
      "bar_style": "success",
      "description": "",
      "description_tooltip": null,
      "layout": "IPY_MODEL_684011384bc34d2692f71dfe935b4723",
      "max": 468,
      "min": 0,
      "orientation": "horizontal",
      "style": "IPY_MODEL_44649a89dc5d4156892db45e1fdee5c1",
      "value": 468
     }
    },
    "9355394179624ce3be82e1b294b1a2b5": {
     "model_module": "@jupyter-widgets/controls",
     "model_module_version": "1.5.0",
     "model_name": "HTMLModel",
     "state": {
      "_dom_classes": [],
      "_model_module": "@jupyter-widgets/controls",
      "_model_module_version": "1.5.0",
      "_model_name": "HTMLModel",
      "_view_count": null,
      "_view_module": "@jupyter-widgets/controls",
      "_view_module_version": "1.5.0",
      "_view_name": "HTMLView",
      "description": "",
      "description_tooltip": null,
      "layout": "IPY_MODEL_e01a20c18d8249cea389638d8c005b8d",
      "placeholder": "​",
      "style": "IPY_MODEL_6acc835b544d451894d35e3736e0d804",
      "value": "Downloading: 100%"
     }
    },
    "9714e67513334f8e868607422f7da2b9": {
     "model_module": "@jupyter-widgets/base",
     "model_module_version": "1.2.0",
     "model_name": "LayoutModel",
     "state": {
      "_model_module": "@jupyter-widgets/base",
      "_model_module_version": "1.2.0",
      "_model_name": "LayoutModel",
      "_view_count": null,
      "_view_module": "@jupyter-widgets/base",
      "_view_module_version": "1.2.0",
      "_view_name": "LayoutView",
      "align_content": null,
      "align_items": null,
      "align_self": null,
      "border": null,
      "bottom": null,
      "display": null,
      "flex": null,
      "flex_flow": null,
      "grid_area": null,
      "grid_auto_columns": null,
      "grid_auto_flow": null,
      "grid_auto_rows": null,
      "grid_column": null,
      "grid_gap": null,
      "grid_row": null,
      "grid_template_areas": null,
      "grid_template_columns": null,
      "grid_template_rows": null,
      "height": null,
      "justify_content": null,
      "justify_items": null,
      "left": null,
      "margin": null,
      "max_height": null,
      "max_width": null,
      "min_height": null,
      "min_width": null,
      "object_fit": null,
      "object_position": null,
      "order": null,
      "overflow": null,
      "overflow_x": null,
      "overflow_y": null,
      "padding": null,
      "right": null,
      "top": null,
      "visibility": null,
      "width": null
     }
    },
    "9890392cc707490d88aa6fe155917a09": {
     "model_module": "@jupyter-widgets/base",
     "model_module_version": "1.2.0",
     "model_name": "LayoutModel",
     "state": {
      "_model_module": "@jupyter-widgets/base",
      "_model_module_version": "1.2.0",
      "_model_name": "LayoutModel",
      "_view_count": null,
      "_view_module": "@jupyter-widgets/base",
      "_view_module_version": "1.2.0",
      "_view_name": "LayoutView",
      "align_content": null,
      "align_items": null,
      "align_self": null,
      "border": null,
      "bottom": null,
      "display": null,
      "flex": null,
      "flex_flow": null,
      "grid_area": null,
      "grid_auto_columns": null,
      "grid_auto_flow": null,
      "grid_auto_rows": null,
      "grid_column": null,
      "grid_gap": null,
      "grid_row": null,
      "grid_template_areas": null,
      "grid_template_columns": null,
      "grid_template_rows": null,
      "height": null,
      "justify_content": null,
      "justify_items": null,
      "left": null,
      "margin": null,
      "max_height": null,
      "max_width": null,
      "min_height": null,
      "min_width": null,
      "object_fit": null,
      "object_position": null,
      "order": null,
      "overflow": null,
      "overflow_x": null,
      "overflow_y": null,
      "padding": null,
      "right": null,
      "top": null,
      "visibility": null,
      "width": null
     }
    },
    "9a01945a9afe49a18a98c35b4cb99c8a": {
     "model_module": "@jupyter-widgets/controls",
     "model_module_version": "1.5.0",
     "model_name": "HBoxModel",
     "state": {
      "_dom_classes": [],
      "_model_module": "@jupyter-widgets/controls",
      "_model_module_version": "1.5.0",
      "_model_name": "HBoxModel",
      "_view_count": null,
      "_view_module": "@jupyter-widgets/controls",
      "_view_module_version": "1.5.0",
      "_view_name": "HBoxView",
      "box_style": "",
      "children": [
       "IPY_MODEL_f4a78200b20640f4928944c489daf7a7",
       "IPY_MODEL_0032f06143bf468e90701a0ee56c9df1",
       "IPY_MODEL_2a92b6399a3b4cfea7afcbe89ea6c1c8"
      ],
      "layout": "IPY_MODEL_275c1bc29ce0431c919d30b0c4de4beb"
     }
    },
    "a143eeb39a3a4f34be3eea3253d8b3f2": {
     "model_module": "@jupyter-widgets/controls",
     "model_module_version": "1.5.0",
     "model_name": "HTMLModel",
     "state": {
      "_dom_classes": [],
      "_model_module": "@jupyter-widgets/controls",
      "_model_module_version": "1.5.0",
      "_model_name": "HTMLModel",
      "_view_count": null,
      "_view_module": "@jupyter-widgets/controls",
      "_view_module_version": "1.5.0",
      "_view_name": "HTMLView",
      "description": "",
      "description_tooltip": null,
      "layout": "IPY_MODEL_a8e8e78b21d6416f858f4f7352059bc0",
      "placeholder": "​",
      "style": "IPY_MODEL_7c3552d804164201a11b0d9a7a6d9b10",
      "value": "Downloading: 100%"
     }
    },
    "a6d4a8cf193d4d4486b72f41e7ec7fa5": {
     "model_module": "@jupyter-widgets/controls",
     "model_module_version": "1.5.0",
     "model_name": "HTMLModel",
     "state": {
      "_dom_classes": [],
      "_model_module": "@jupyter-widgets/controls",
      "_model_module_version": "1.5.0",
      "_model_name": "HTMLModel",
      "_view_count": null,
      "_view_module": "@jupyter-widgets/controls",
      "_view_module_version": "1.5.0",
      "_view_name": "HTMLView",
      "description": "",
      "description_tooltip": null,
      "layout": "IPY_MODEL_5b3593cbcc844e928f086f80d9108ba1",
      "placeholder": "​",
      "style": "IPY_MODEL_a7c890f084ac432b9facfa6a397f6295",
      "value": " 468/468 [00:00&lt;00:00, 5.00kB/s]"
     }
    },
    "a7c890f084ac432b9facfa6a397f6295": {
     "model_module": "@jupyter-widgets/controls",
     "model_module_version": "1.5.0",
     "model_name": "DescriptionStyleModel",
     "state": {
      "_model_module": "@jupyter-widgets/controls",
      "_model_module_version": "1.5.0",
      "_model_name": "DescriptionStyleModel",
      "_view_count": null,
      "_view_module": "@jupyter-widgets/base",
      "_view_module_version": "1.2.0",
      "_view_name": "StyleView",
      "description_width": ""
     }
    },
    "a8e8e78b21d6416f858f4f7352059bc0": {
     "model_module": "@jupyter-widgets/base",
     "model_module_version": "1.2.0",
     "model_name": "LayoutModel",
     "state": {
      "_model_module": "@jupyter-widgets/base",
      "_model_module_version": "1.2.0",
      "_model_name": "LayoutModel",
      "_view_count": null,
      "_view_module": "@jupyter-widgets/base",
      "_view_module_version": "1.2.0",
      "_view_name": "LayoutView",
      "align_content": null,
      "align_items": null,
      "align_self": null,
      "border": null,
      "bottom": null,
      "display": null,
      "flex": null,
      "flex_flow": null,
      "grid_area": null,
      "grid_auto_columns": null,
      "grid_auto_flow": null,
      "grid_auto_rows": null,
      "grid_column": null,
      "grid_gap": null,
      "grid_row": null,
      "grid_template_areas": null,
      "grid_template_columns": null,
      "grid_template_rows": null,
      "height": null,
      "justify_content": null,
      "justify_items": null,
      "left": null,
      "margin": null,
      "max_height": null,
      "max_width": null,
      "min_height": null,
      "min_width": null,
      "object_fit": null,
      "object_position": null,
      "order": null,
      "overflow": null,
      "overflow_x": null,
      "overflow_y": null,
      "padding": null,
      "right": null,
      "top": null,
      "visibility": null,
      "width": null
     }
    },
    "ad20f3a0ca6c42c6afc1f506046ebf3b": {
     "model_module": "@jupyter-widgets/base",
     "model_module_version": "1.2.0",
     "model_name": "LayoutModel",
     "state": {
      "_model_module": "@jupyter-widgets/base",
      "_model_module_version": "1.2.0",
      "_model_name": "LayoutModel",
      "_view_count": null,
      "_view_module": "@jupyter-widgets/base",
      "_view_module_version": "1.2.0",
      "_view_name": "LayoutView",
      "align_content": null,
      "align_items": null,
      "align_self": null,
      "border": null,
      "bottom": null,
      "display": null,
      "flex": null,
      "flex_flow": null,
      "grid_area": null,
      "grid_auto_columns": null,
      "grid_auto_flow": null,
      "grid_auto_rows": null,
      "grid_column": null,
      "grid_gap": null,
      "grid_row": null,
      "grid_template_areas": null,
      "grid_template_columns": null,
      "grid_template_rows": null,
      "height": null,
      "justify_content": null,
      "justify_items": null,
      "left": null,
      "margin": null,
      "max_height": null,
      "max_width": null,
      "min_height": null,
      "min_width": null,
      "object_fit": null,
      "object_position": null,
      "order": null,
      "overflow": null,
      "overflow_x": null,
      "overflow_y": null,
      "padding": null,
      "right": null,
      "top": null,
      "visibility": null,
      "width": null
     }
    },
    "ae3f51735615420bbc92ad5dfb590263": {
     "model_module": "@jupyter-widgets/controls",
     "model_module_version": "1.5.0",
     "model_name": "HTMLModel",
     "state": {
      "_dom_classes": [],
      "_model_module": "@jupyter-widgets/controls",
      "_model_module_version": "1.5.0",
      "_model_name": "HTMLModel",
      "_view_count": null,
      "_view_module": "@jupyter-widgets/controls",
      "_view_module_version": "1.5.0",
      "_view_name": "HTMLView",
      "description": "",
      "description_tooltip": null,
      "layout": "IPY_MODEL_82ebe2dd5a624c418fdfe9dbc021d18d",
      "placeholder": "​",
      "style": "IPY_MODEL_6ef978f43b214c58abfdf1155f475684",
      "value": " 6.77k/6.77k [00:00&lt;00:00, 231kB/s]"
     }
    },
    "b094395b8da34ff8a9c33fcded16377f": {
     "model_module": "@jupyter-widgets/base",
     "model_module_version": "1.2.0",
     "model_name": "LayoutModel",
     "state": {
      "_model_module": "@jupyter-widgets/base",
      "_model_module_version": "1.2.0",
      "_model_name": "LayoutModel",
      "_view_count": null,
      "_view_module": "@jupyter-widgets/base",
      "_view_module_version": "1.2.0",
      "_view_name": "LayoutView",
      "align_content": null,
      "align_items": null,
      "align_self": null,
      "border": null,
      "bottom": null,
      "display": null,
      "flex": null,
      "flex_flow": null,
      "grid_area": null,
      "grid_auto_columns": null,
      "grid_auto_flow": null,
      "grid_auto_rows": null,
      "grid_column": null,
      "grid_gap": null,
      "grid_row": null,
      "grid_template_areas": null,
      "grid_template_columns": null,
      "grid_template_rows": null,
      "height": null,
      "justify_content": null,
      "justify_items": null,
      "left": null,
      "margin": null,
      "max_height": null,
      "max_width": null,
      "min_height": null,
      "min_width": null,
      "object_fit": null,
      "object_position": null,
      "order": null,
      "overflow": null,
      "overflow_x": null,
      "overflow_y": null,
      "padding": null,
      "right": null,
      "top": null,
      "visibility": null,
      "width": null
     }
    },
    "b46847cc57cb4d1686abedd7729f2276": {
     "model_module": "@jupyter-widgets/controls",
     "model_module_version": "1.5.0",
     "model_name": "HTMLModel",
     "state": {
      "_dom_classes": [],
      "_model_module": "@jupyter-widgets/controls",
      "_model_module_version": "1.5.0",
      "_model_name": "HTMLModel",
      "_view_count": null,
      "_view_module": "@jupyter-widgets/controls",
      "_view_module_version": "1.5.0",
      "_view_name": "HTMLView",
      "description": "",
      "description_tooltip": null,
      "layout": "IPY_MODEL_d31b16ab5eeb4d3c8d842ec0a739524b",
      "placeholder": "​",
      "style": "IPY_MODEL_0ad2f8531b5d4ab28f8cd8f9003f7f56",
      "value": "100%"
     }
    },
    "ba30ea7b361c4105966ff21c1d8a8695": {
     "model_module": "@jupyter-widgets/base",
     "model_module_version": "1.2.0",
     "model_name": "LayoutModel",
     "state": {
      "_model_module": "@jupyter-widgets/base",
      "_model_module_version": "1.2.0",
      "_model_name": "LayoutModel",
      "_view_count": null,
      "_view_module": "@jupyter-widgets/base",
      "_view_module_version": "1.2.0",
      "_view_name": "LayoutView",
      "align_content": null,
      "align_items": null,
      "align_self": null,
      "border": null,
      "bottom": null,
      "display": null,
      "flex": null,
      "flex_flow": null,
      "grid_area": null,
      "grid_auto_columns": null,
      "grid_auto_flow": null,
      "grid_auto_rows": null,
      "grid_column": null,
      "grid_gap": null,
      "grid_row": null,
      "grid_template_areas": null,
      "grid_template_columns": null,
      "grid_template_rows": null,
      "height": null,
      "justify_content": null,
      "justify_items": null,
      "left": null,
      "margin": null,
      "max_height": null,
      "max_width": null,
      "min_height": null,
      "min_width": null,
      "object_fit": null,
      "object_position": null,
      "order": null,
      "overflow": null,
      "overflow_x": null,
      "overflow_y": null,
      "padding": null,
      "right": null,
      "top": null,
      "visibility": null,
      "width": null
     }
    },
    "bab12b33f3b0477c9a9c9fb02aa288db": {
     "model_module": "@jupyter-widgets/base",
     "model_module_version": "1.2.0",
     "model_name": "LayoutModel",
     "state": {
      "_model_module": "@jupyter-widgets/base",
      "_model_module_version": "1.2.0",
      "_model_name": "LayoutModel",
      "_view_count": null,
      "_view_module": "@jupyter-widgets/base",
      "_view_module_version": "1.2.0",
      "_view_name": "LayoutView",
      "align_content": null,
      "align_items": null,
      "align_self": null,
      "border": null,
      "bottom": null,
      "display": null,
      "flex": null,
      "flex_flow": null,
      "grid_area": null,
      "grid_auto_columns": null,
      "grid_auto_flow": null,
      "grid_auto_rows": null,
      "grid_column": null,
      "grid_gap": null,
      "grid_row": null,
      "grid_template_areas": null,
      "grid_template_columns": null,
      "grid_template_rows": null,
      "height": null,
      "justify_content": null,
      "justify_items": null,
      "left": null,
      "margin": null,
      "max_height": null,
      "max_width": null,
      "min_height": null,
      "min_width": null,
      "object_fit": null,
      "object_position": null,
      "order": null,
      "overflow": null,
      "overflow_x": null,
      "overflow_y": null,
      "padding": null,
      "right": null,
      "top": null,
      "visibility": null,
      "width": null
     }
    },
    "bb83f39eb9b74852b14cc8317cacf616": {
     "model_module": "@jupyter-widgets/controls",
     "model_module_version": "1.5.0",
     "model_name": "HTMLModel",
     "state": {
      "_dom_classes": [],
      "_model_module": "@jupyter-widgets/controls",
      "_model_module_version": "1.5.0",
      "_model_name": "HTMLModel",
      "_view_count": null,
      "_view_module": "@jupyter-widgets/controls",
      "_view_module_version": "1.5.0",
      "_view_name": "HTMLView",
      "description": "",
      "description_tooltip": null,
      "layout": "IPY_MODEL_45efd1e29eb445d0bbdb4d0e90dec407",
      "placeholder": "​",
      "style": "IPY_MODEL_dff996c84db24f52bef3d54528588226",
      "value": " 436M/436M [00:17&lt;00:00, 38.8MB/s]"
     }
    },
    "bc621d540c4f48c88ef6758cc902f652": {
     "model_module": "@jupyter-widgets/controls",
     "model_module_version": "1.5.0",
     "model_name": "ProgressStyleModel",
     "state": {
      "_model_module": "@jupyter-widgets/controls",
      "_model_module_version": "1.5.0",
      "_model_name": "ProgressStyleModel",
      "_view_count": null,
      "_view_module": "@jupyter-widgets/base",
      "_view_module_version": "1.2.0",
      "_view_name": "StyleView",
      "bar_color": null,
      "description_width": ""
     }
    },
    "bf7dac5b27584f288107f28e482be51d": {
     "model_module": "@jupyter-widgets/controls",
     "model_module_version": "1.5.0",
     "model_name": "HBoxModel",
     "state": {
      "_dom_classes": [],
      "_model_module": "@jupyter-widgets/controls",
      "_model_module_version": "1.5.0",
      "_model_name": "HBoxModel",
      "_view_count": null,
      "_view_module": "@jupyter-widgets/controls",
      "_view_module_version": "1.5.0",
      "_view_name": "HBoxView",
      "box_style": "",
      "children": [
       "IPY_MODEL_9355394179624ce3be82e1b294b1a2b5",
       "IPY_MODEL_e3db079ea80048359f6097228cdc8086",
       "IPY_MODEL_0c4bff269e8f4d9693aec278a0a8d52a"
      ],
      "layout": "IPY_MODEL_c30f1c569f584efdb38e04fd4d5f838a"
     }
    },
    "c2924cb5fd6642d5aa134b63aaa01dca": {
     "model_module": "@jupyter-widgets/controls",
     "model_module_version": "1.5.0",
     "model_name": "FloatProgressModel",
     "state": {
      "_dom_classes": [],
      "_model_module": "@jupyter-widgets/controls",
      "_model_module_version": "1.5.0",
      "_model_name": "FloatProgressModel",
      "_view_count": null,
      "_view_module": "@jupyter-widgets/controls",
      "_view_module_version": "1.5.0",
      "_view_name": "ProgressView",
      "bar_style": "success",
      "description": "",
      "description_tooltip": null,
      "layout": "IPY_MODEL_efd3eea3194c47d28ce4981dceb04f54",
      "max": 213726,
      "min": 0,
      "orientation": "horizontal",
      "style": "IPY_MODEL_658511cf252648a0ae4dd509bbe12fe6",
      "value": 213726
     }
    },
    "c30f1c569f584efdb38e04fd4d5f838a": {
     "model_module": "@jupyter-widgets/base",
     "model_module_version": "1.2.0",
     "model_name": "LayoutModel",
     "state": {
      "_model_module": "@jupyter-widgets/base",
      "_model_module_version": "1.2.0",
      "_model_name": "LayoutModel",
      "_view_count": null,
      "_view_module": "@jupyter-widgets/base",
      "_view_module_version": "1.2.0",
      "_view_name": "LayoutView",
      "align_content": null,
      "align_items": null,
      "align_self": null,
      "border": null,
      "bottom": null,
      "display": null,
      "flex": null,
      "flex_flow": null,
      "grid_area": null,
      "grid_auto_columns": null,
      "grid_auto_flow": null,
      "grid_auto_rows": null,
      "grid_column": null,
      "grid_gap": null,
      "grid_row": null,
      "grid_template_areas": null,
      "grid_template_columns": null,
      "grid_template_rows": null,
      "height": null,
      "justify_content": null,
      "justify_items": null,
      "left": null,
      "margin": null,
      "max_height": null,
      "max_width": null,
      "min_height": null,
      "min_width": null,
      "object_fit": null,
      "object_position": null,
      "order": null,
      "overflow": null,
      "overflow_x": null,
      "overflow_y": null,
      "padding": null,
      "right": null,
      "top": null,
      "visibility": null,
      "width": null
     }
    },
    "c3f6df857dac4350a4c43b98e5b61e43": {
     "model_module": "@jupyter-widgets/base",
     "model_module_version": "1.2.0",
     "model_name": "LayoutModel",
     "state": {
      "_model_module": "@jupyter-widgets/base",
      "_model_module_version": "1.2.0",
      "_model_name": "LayoutModel",
      "_view_count": null,
      "_view_module": "@jupyter-widgets/base",
      "_view_module_version": "1.2.0",
      "_view_name": "LayoutView",
      "align_content": null,
      "align_items": null,
      "align_self": null,
      "border": null,
      "bottom": null,
      "display": null,
      "flex": null,
      "flex_flow": null,
      "grid_area": null,
      "grid_auto_columns": null,
      "grid_auto_flow": null,
      "grid_auto_rows": null,
      "grid_column": null,
      "grid_gap": null,
      "grid_row": null,
      "grid_template_areas": null,
      "grid_template_columns": null,
      "grid_template_rows": null,
      "height": null,
      "justify_content": null,
      "justify_items": null,
      "left": null,
      "margin": null,
      "max_height": null,
      "max_width": null,
      "min_height": null,
      "min_width": null,
      "object_fit": null,
      "object_position": null,
      "order": null,
      "overflow": null,
      "overflow_x": null,
      "overflow_y": null,
      "padding": null,
      "right": null,
      "top": null,
      "visibility": null,
      "width": null
     }
    },
    "c5ed91471a484c8da8249e731a16f343": {
     "model_module": "@jupyter-widgets/base",
     "model_module_version": "1.2.0",
     "model_name": "LayoutModel",
     "state": {
      "_model_module": "@jupyter-widgets/base",
      "_model_module_version": "1.2.0",
      "_model_name": "LayoutModel",
      "_view_count": null,
      "_view_module": "@jupyter-widgets/base",
      "_view_module_version": "1.2.0",
      "_view_name": "LayoutView",
      "align_content": null,
      "align_items": null,
      "align_self": null,
      "border": null,
      "bottom": null,
      "display": null,
      "flex": null,
      "flex_flow": null,
      "grid_area": null,
      "grid_auto_columns": null,
      "grid_auto_flow": null,
      "grid_auto_rows": null,
      "grid_column": null,
      "grid_gap": null,
      "grid_row": null,
      "grid_template_areas": null,
      "grid_template_columns": null,
      "grid_template_rows": null,
      "height": null,
      "justify_content": null,
      "justify_items": null,
      "left": null,
      "margin": null,
      "max_height": null,
      "max_width": null,
      "min_height": null,
      "min_width": null,
      "object_fit": null,
      "object_position": null,
      "order": null,
      "overflow": null,
      "overflow_x": null,
      "overflow_y": null,
      "padding": null,
      "right": null,
      "top": null,
      "visibility": null,
      "width": null
     }
    },
    "c7cce1948cf14099b8b760cf64db0733": {
     "model_module": "@jupyter-widgets/controls",
     "model_module_version": "1.5.0",
     "model_name": "ProgressStyleModel",
     "state": {
      "_model_module": "@jupyter-widgets/controls",
      "_model_module_version": "1.5.0",
      "_model_name": "ProgressStyleModel",
      "_view_count": null,
      "_view_module": "@jupyter-widgets/base",
      "_view_module_version": "1.2.0",
      "_view_name": "StyleView",
      "bar_color": null,
      "description_width": ""
     }
    },
    "c9b0e46751fb474ab454ba3eddd8dbd6": {
     "model_module": "@jupyter-widgets/controls",
     "model_module_version": "1.5.0",
     "model_name": "HBoxModel",
     "state": {
      "_dom_classes": [],
      "_model_module": "@jupyter-widgets/controls",
      "_model_module_version": "1.5.0",
      "_model_name": "HBoxModel",
      "_view_count": null,
      "_view_module": "@jupyter-widgets/controls",
      "_view_module_version": "1.5.0",
      "_view_name": "HBoxView",
      "box_style": "",
      "children": [
       "IPY_MODEL_e188d96fbcc54a35838b1356cf7a8797",
       "IPY_MODEL_90465c6d97ef4e83b86160ce1e66ca8b",
       "IPY_MODEL_bb83f39eb9b74852b14cc8317cacf616"
      ],
      "layout": "IPY_MODEL_86c9f350fe5f491e966c968f09428b2f"
     }
    },
    "d31b16ab5eeb4d3c8d842ec0a739524b": {
     "model_module": "@jupyter-widgets/base",
     "model_module_version": "1.2.0",
     "model_name": "LayoutModel",
     "state": {
      "_model_module": "@jupyter-widgets/base",
      "_model_module_version": "1.2.0",
      "_model_name": "LayoutModel",
      "_view_count": null,
      "_view_module": "@jupyter-widgets/base",
      "_view_module_version": "1.2.0",
      "_view_name": "LayoutView",
      "align_content": null,
      "align_items": null,
      "align_self": null,
      "border": null,
      "bottom": null,
      "display": null,
      "flex": null,
      "flex_flow": null,
      "grid_area": null,
      "grid_auto_columns": null,
      "grid_auto_flow": null,
      "grid_auto_rows": null,
      "grid_column": null,
      "grid_gap": null,
      "grid_row": null,
      "grid_template_areas": null,
      "grid_template_columns": null,
      "grid_template_rows": null,
      "height": null,
      "justify_content": null,
      "justify_items": null,
      "left": null,
      "margin": null,
      "max_height": null,
      "max_width": null,
      "min_height": null,
      "min_width": null,
      "object_fit": null,
      "object_position": null,
      "order": null,
      "overflow": null,
      "overflow_x": null,
      "overflow_y": null,
      "padding": null,
      "right": null,
      "top": null,
      "visibility": null,
      "width": null
     }
    },
    "d4b8a3d633a346e1ad913a3f39ff7332": {
     "model_module": "@jupyter-widgets/base",
     "model_module_version": "1.2.0",
     "model_name": "LayoutModel",
     "state": {
      "_model_module": "@jupyter-widgets/base",
      "_model_module_version": "1.2.0",
      "_model_name": "LayoutModel",
      "_view_count": null,
      "_view_module": "@jupyter-widgets/base",
      "_view_module_version": "1.2.0",
      "_view_name": "LayoutView",
      "align_content": null,
      "align_items": null,
      "align_self": null,
      "border": null,
      "bottom": null,
      "display": null,
      "flex": null,
      "flex_flow": null,
      "grid_area": null,
      "grid_auto_columns": null,
      "grid_auto_flow": null,
      "grid_auto_rows": null,
      "grid_column": null,
      "grid_gap": null,
      "grid_row": null,
      "grid_template_areas": null,
      "grid_template_columns": null,
      "grid_template_rows": null,
      "height": null,
      "justify_content": null,
      "justify_items": null,
      "left": null,
      "margin": null,
      "max_height": null,
      "max_width": null,
      "min_height": null,
      "min_width": null,
      "object_fit": null,
      "object_position": null,
      "order": null,
      "overflow": null,
      "overflow_x": null,
      "overflow_y": null,
      "padding": null,
      "right": null,
      "top": null,
      "visibility": null,
      "width": null
     }
    },
    "d70edc08493c42bba3d66945ad4da9ac": {
     "model_module": "@jupyter-widgets/base",
     "model_module_version": "1.2.0",
     "model_name": "LayoutModel",
     "state": {
      "_model_module": "@jupyter-widgets/base",
      "_model_module_version": "1.2.0",
      "_model_name": "LayoutModel",
      "_view_count": null,
      "_view_module": "@jupyter-widgets/base",
      "_view_module_version": "1.2.0",
      "_view_name": "LayoutView",
      "align_content": null,
      "align_items": null,
      "align_self": null,
      "border": null,
      "bottom": null,
      "display": null,
      "flex": null,
      "flex_flow": null,
      "grid_area": null,
      "grid_auto_columns": null,
      "grid_auto_flow": null,
      "grid_auto_rows": null,
      "grid_column": null,
      "grid_gap": null,
      "grid_row": null,
      "grid_template_areas": null,
      "grid_template_columns": null,
      "grid_template_rows": null,
      "height": null,
      "justify_content": null,
      "justify_items": null,
      "left": null,
      "margin": null,
      "max_height": null,
      "max_width": null,
      "min_height": null,
      "min_width": null,
      "object_fit": null,
      "object_position": null,
      "order": null,
      "overflow": null,
      "overflow_x": null,
      "overflow_y": null,
      "padding": null,
      "right": null,
      "top": null,
      "visibility": null,
      "width": null
     }
    },
    "d93d55f032ac46068d03caeb1330b7bc": {
     "model_module": "@jupyter-widgets/controls",
     "model_module_version": "1.5.0",
     "model_name": "HBoxModel",
     "state": {
      "_dom_classes": [],
      "_model_module": "@jupyter-widgets/controls",
      "_model_module_version": "1.5.0",
      "_model_name": "HBoxModel",
      "_view_count": null,
      "_view_module": "@jupyter-widgets/controls",
      "_view_module_version": "1.5.0",
      "_view_name": "HBoxView",
      "box_style": "",
      "children": [
       "IPY_MODEL_a143eeb39a3a4f34be3eea3253d8b3f2",
       "IPY_MODEL_c2924cb5fd6642d5aa134b63aaa01dca",
       "IPY_MODEL_e615f2d044e143d387a202fcaab64972"
      ],
      "layout": "IPY_MODEL_4d894cca56034a818c9132a012504061"
     }
    },
    "dc3f367d749440b1acd2f8cefe848c4e": {
     "model_module": "@jupyter-widgets/base",
     "model_module_version": "1.2.0",
     "model_name": "LayoutModel",
     "state": {
      "_model_module": "@jupyter-widgets/base",
      "_model_module_version": "1.2.0",
      "_model_name": "LayoutModel",
      "_view_count": null,
      "_view_module": "@jupyter-widgets/base",
      "_view_module_version": "1.2.0",
      "_view_name": "LayoutView",
      "align_content": null,
      "align_items": null,
      "align_self": null,
      "border": null,
      "bottom": null,
      "display": null,
      "flex": null,
      "flex_flow": null,
      "grid_area": null,
      "grid_auto_columns": null,
      "grid_auto_flow": null,
      "grid_auto_rows": null,
      "grid_column": null,
      "grid_gap": null,
      "grid_row": null,
      "grid_template_areas": null,
      "grid_template_columns": null,
      "grid_template_rows": null,
      "height": null,
      "justify_content": null,
      "justify_items": null,
      "left": null,
      "margin": null,
      "max_height": null,
      "max_width": null,
      "min_height": null,
      "min_width": null,
      "object_fit": null,
      "object_position": null,
      "order": null,
      "overflow": null,
      "overflow_x": null,
      "overflow_y": null,
      "padding": null,
      "right": null,
      "top": null,
      "visibility": null,
      "width": null
     }
    },
    "df47dce258854a2cbfde89bd1b4333a3": {
     "model_module": "@jupyter-widgets/controls",
     "model_module_version": "1.5.0",
     "model_name": "DescriptionStyleModel",
     "state": {
      "_model_module": "@jupyter-widgets/controls",
      "_model_module_version": "1.5.0",
      "_model_name": "DescriptionStyleModel",
      "_view_count": null,
      "_view_module": "@jupyter-widgets/base",
      "_view_module_version": "1.2.0",
      "_view_name": "StyleView",
      "description_width": ""
     }
    },
    "dff996c84db24f52bef3d54528588226": {
     "model_module": "@jupyter-widgets/controls",
     "model_module_version": "1.5.0",
     "model_name": "DescriptionStyleModel",
     "state": {
      "_model_module": "@jupyter-widgets/controls",
      "_model_module_version": "1.5.0",
      "_model_name": "DescriptionStyleModel",
      "_view_count": null,
      "_view_module": "@jupyter-widgets/base",
      "_view_module_version": "1.2.0",
      "_view_name": "StyleView",
      "description_width": ""
     }
    },
    "e01a20c18d8249cea389638d8c005b8d": {
     "model_module": "@jupyter-widgets/base",
     "model_module_version": "1.2.0",
     "model_name": "LayoutModel",
     "state": {
      "_model_module": "@jupyter-widgets/base",
      "_model_module_version": "1.2.0",
      "_model_name": "LayoutModel",
      "_view_count": null,
      "_view_module": "@jupyter-widgets/base",
      "_view_module_version": "1.2.0",
      "_view_name": "LayoutView",
      "align_content": null,
      "align_items": null,
      "align_self": null,
      "border": null,
      "bottom": null,
      "display": null,
      "flex": null,
      "flex_flow": null,
      "grid_area": null,
      "grid_auto_columns": null,
      "grid_auto_flow": null,
      "grid_auto_rows": null,
      "grid_column": null,
      "grid_gap": null,
      "grid_row": null,
      "grid_template_areas": null,
      "grid_template_columns": null,
      "grid_template_rows": null,
      "height": null,
      "justify_content": null,
      "justify_items": null,
      "left": null,
      "margin": null,
      "max_height": null,
      "max_width": null,
      "min_height": null,
      "min_width": null,
      "object_fit": null,
      "object_position": null,
      "order": null,
      "overflow": null,
      "overflow_x": null,
      "overflow_y": null,
      "padding": null,
      "right": null,
      "top": null,
      "visibility": null,
      "width": null
     }
    },
    "e188d96fbcc54a35838b1356cf7a8797": {
     "model_module": "@jupyter-widgets/controls",
     "model_module_version": "1.5.0",
     "model_name": "HTMLModel",
     "state": {
      "_dom_classes": [],
      "_model_module": "@jupyter-widgets/controls",
      "_model_module_version": "1.5.0",
      "_model_name": "HTMLModel",
      "_view_count": null,
      "_view_module": "@jupyter-widgets/controls",
      "_view_module_version": "1.5.0",
      "_view_name": "HTMLView",
      "description": "",
      "description_tooltip": null,
      "layout": "IPY_MODEL_ba30ea7b361c4105966ff21c1d8a8695",
      "placeholder": "​",
      "style": "IPY_MODEL_f514807a72e64160b487098810593b20",
      "value": "Downloading: 100%"
     }
    },
    "e3db079ea80048359f6097228cdc8086": {
     "model_module": "@jupyter-widgets/controls",
     "model_module_version": "1.5.0",
     "model_name": "FloatProgressModel",
     "state": {
      "_dom_classes": [],
      "_model_module": "@jupyter-widgets/controls",
      "_model_module_version": "1.5.0",
      "_model_name": "FloatProgressModel",
      "_view_count": null,
      "_view_module": "@jupyter-widgets/controls",
      "_view_module_version": "1.5.0",
      "_view_name": "ProgressView",
      "bar_style": "success",
      "description": "",
      "description_tooltip": null,
      "layout": "IPY_MODEL_c5ed91471a484c8da8249e731a16f343",
      "max": 56,
      "min": 0,
      "orientation": "horizontal",
      "style": "IPY_MODEL_bc621d540c4f48c88ef6758cc902f652",
      "value": 56
     }
    },
    "e615f2d044e143d387a202fcaab64972": {
     "model_module": "@jupyter-widgets/controls",
     "model_module_version": "1.5.0",
     "model_name": "HTMLModel",
     "state": {
      "_dom_classes": [],
      "_model_module": "@jupyter-widgets/controls",
      "_model_module_version": "1.5.0",
      "_model_name": "HTMLModel",
      "_view_count": null,
      "_view_module": "@jupyter-widgets/controls",
      "_view_module_version": "1.5.0",
      "_view_name": "HTMLView",
      "description": "",
      "description_tooltip": null,
      "layout": "IPY_MODEL_5cb0cdb0332f49caa2c9e728078da80a",
      "placeholder": "​",
      "style": "IPY_MODEL_1d07530c6d494b4bb5d9579e0da3c820",
      "value": " 214k/214k [00:00&lt;00:00, 481kB/s]"
     }
    },
    "e91015e3fd4e4c48930293c31958c06b": {
     "model_module": "@jupyter-widgets/controls",
     "model_module_version": "1.5.0",
     "model_name": "HBoxModel",
     "state": {
      "_dom_classes": [],
      "_model_module": "@jupyter-widgets/controls",
      "_model_module_version": "1.5.0",
      "_model_name": "HBoxModel",
      "_view_count": null,
      "_view_module": "@jupyter-widgets/controls",
      "_view_module_version": "1.5.0",
      "_view_name": "HBoxView",
      "box_style": "",
      "children": [
       "IPY_MODEL_03a85f47681c41cdab9d75beee0fb78a",
       "IPY_MODEL_04fe7e54680749478e8daec82decd3ee",
       "IPY_MODEL_f76847602c9e4f8ba5141ccf966a8918"
      ],
      "layout": "IPY_MODEL_c3f6df857dac4350a4c43b98e5b61e43"
     }
    },
    "e9ef7c82807847eb8ff43b3f0303b7d5": {
     "model_module": "@jupyter-widgets/controls",
     "model_module_version": "1.5.0",
     "model_name": "DescriptionStyleModel",
     "state": {
      "_model_module": "@jupyter-widgets/controls",
      "_model_module_version": "1.5.0",
      "_model_name": "DescriptionStyleModel",
      "_view_count": null,
      "_view_module": "@jupyter-widgets/base",
      "_view_module_version": "1.2.0",
      "_view_name": "StyleView",
      "description_width": ""
     }
    },
    "eefa541e2bce44f48d5d57921a5105a9": {
     "model_module": "@jupyter-widgets/controls",
     "model_module_version": "1.5.0",
     "model_name": "FloatProgressModel",
     "state": {
      "_dom_classes": [],
      "_model_module": "@jupyter-widgets/controls",
      "_model_module_version": "1.5.0",
      "_model_name": "FloatProgressModel",
      "_view_count": null,
      "_view_module": "@jupyter-widgets/controls",
      "_view_module_version": "1.5.0",
      "_view_name": "ProgressView",
      "bar_style": "success",
      "description": "",
      "description_tooltip": null,
      "layout": "IPY_MODEL_7c9acc1b41de46debb3a27a4af31f6c1",
      "max": 9006,
      "min": 0,
      "orientation": "horizontal",
      "style": "IPY_MODEL_c7cce1948cf14099b8b760cf64db0733",
      "value": 9006
     }
    },
    "efd3eea3194c47d28ce4981dceb04f54": {
     "model_module": "@jupyter-widgets/base",
     "model_module_version": "1.2.0",
     "model_name": "LayoutModel",
     "state": {
      "_model_module": "@jupyter-widgets/base",
      "_model_module_version": "1.2.0",
      "_model_name": "LayoutModel",
      "_view_count": null,
      "_view_module": "@jupyter-widgets/base",
      "_view_module_version": "1.2.0",
      "_view_name": "LayoutView",
      "align_content": null,
      "align_items": null,
      "align_self": null,
      "border": null,
      "bottom": null,
      "display": null,
      "flex": null,
      "flex_flow": null,
      "grid_area": null,
      "grid_auto_columns": null,
      "grid_auto_flow": null,
      "grid_auto_rows": null,
      "grid_column": null,
      "grid_gap": null,
      "grid_row": null,
      "grid_template_areas": null,
      "grid_template_columns": null,
      "grid_template_rows": null,
      "height": null,
      "justify_content": null,
      "justify_items": null,
      "left": null,
      "margin": null,
      "max_height": null,
      "max_width": null,
      "min_height": null,
      "min_width": null,
      "object_fit": null,
      "object_position": null,
      "order": null,
      "overflow": null,
      "overflow_x": null,
      "overflow_y": null,
      "padding": null,
      "right": null,
      "top": null,
      "visibility": null,
      "width": null
     }
    },
    "f472a293ade641c9bff11ee3905e34ee": {
     "model_module": "@jupyter-widgets/controls",
     "model_module_version": "1.5.0",
     "model_name": "DescriptionStyleModel",
     "state": {
      "_model_module": "@jupyter-widgets/controls",
      "_model_module_version": "1.5.0",
      "_model_name": "DescriptionStyleModel",
      "_view_count": null,
      "_view_module": "@jupyter-widgets/base",
      "_view_module_version": "1.2.0",
      "_view_name": "StyleView",
      "description_width": ""
     }
    },
    "f4a78200b20640f4928944c489daf7a7": {
     "model_module": "@jupyter-widgets/controls",
     "model_module_version": "1.5.0",
     "model_name": "HTMLModel",
     "state": {
      "_dom_classes": [],
      "_model_module": "@jupyter-widgets/controls",
      "_model_module_version": "1.5.0",
      "_model_name": "HTMLModel",
      "_view_count": null,
      "_view_module": "@jupyter-widgets/controls",
      "_view_module_version": "1.5.0",
      "_view_name": "HTMLView",
      "description": "",
      "description_tooltip": null,
      "layout": "IPY_MODEL_767206f5d9e04d099a2706442df3e2ca",
      "placeholder": "​",
      "style": "IPY_MODEL_81ea513d9bbb4dffb926f175947642e9",
      "value": "Downloading builder script: 100%"
     }
    },
    "f514807a72e64160b487098810593b20": {
     "model_module": "@jupyter-widgets/controls",
     "model_module_version": "1.5.0",
     "model_name": "DescriptionStyleModel",
     "state": {
      "_model_module": "@jupyter-widgets/controls",
      "_model_module_version": "1.5.0",
      "_model_name": "DescriptionStyleModel",
      "_view_count": null,
      "_view_module": "@jupyter-widgets/base",
      "_view_module_version": "1.2.0",
      "_view_name": "StyleView",
      "description_width": ""
     }
    },
    "f62340167e2d447096a2965b4fc60826": {
     "model_module": "@jupyter-widgets/controls",
     "model_module_version": "1.5.0",
     "model_name": "DescriptionStyleModel",
     "state": {
      "_model_module": "@jupyter-widgets/controls",
      "_model_module_version": "1.5.0",
      "_model_name": "DescriptionStyleModel",
      "_view_count": null,
      "_view_module": "@jupyter-widgets/base",
      "_view_module_version": "1.2.0",
      "_view_name": "StyleView",
      "description_width": ""
     }
    },
    "f76847602c9e4f8ba5141ccf966a8918": {
     "model_module": "@jupyter-widgets/controls",
     "model_module_version": "1.5.0",
     "model_name": "HTMLModel",
     "state": {
      "_dom_classes": [],
      "_model_module": "@jupyter-widgets/controls",
      "_model_module_version": "1.5.0",
      "_model_name": "HTMLModel",
      "_view_count": null,
      "_view_module": "@jupyter-widgets/controls",
      "_view_module_version": "1.5.0",
      "_view_name": "HTMLView",
      "description": "",
      "description_tooltip": null,
      "layout": "IPY_MODEL_d4b8a3d633a346e1ad913a3f39ff7332",
      "placeholder": "​",
      "style": "IPY_MODEL_df47dce258854a2cbfde89bd1b4333a3",
      "value": " 27321/27321 [00:10&lt;00:00, 2639.04ex/s]"
     }
    },
    "fbe16032b1b54aab84d7f1c3caf83201": {
     "model_module": "@jupyter-widgets/controls",
     "model_module_version": "1.5.0",
     "model_name": "DescriptionStyleModel",
     "state": {
      "_model_module": "@jupyter-widgets/controls",
      "_model_module_version": "1.5.0",
      "_model_name": "DescriptionStyleModel",
      "_view_count": null,
      "_view_module": "@jupyter-widgets/base",
      "_view_module_version": "1.2.0",
      "_view_name": "StyleView",
      "description_width": ""
     }
    },
    "fe51a8730e28454d897439830382db46": {
     "model_module": "@jupyter-widgets/controls",
     "model_module_version": "1.5.0",
     "model_name": "DescriptionStyleModel",
     "state": {
      "_model_module": "@jupyter-widgets/controls",
      "_model_module_version": "1.5.0",
      "_model_name": "DescriptionStyleModel",
      "_view_count": null,
      "_view_module": "@jupyter-widgets/base",
      "_view_module_version": "1.2.0",
      "_view_name": "StyleView",
      "description_width": ""
     }
    }
   }
  }
 },
 "nbformat": 4,
 "nbformat_minor": 5
}