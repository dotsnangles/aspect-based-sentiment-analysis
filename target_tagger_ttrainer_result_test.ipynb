{
 "cells": [
  {
   "cell_type": "code",
   "execution_count": 45,
   "metadata": {},
   "outputs": [],
   "source": [
    "from transformers import (\n",
    "    AutoConfig, ElectraTokenizerFast, ElectraForTokenClassification, \n",
    "    DataCollatorForTokenClassification,\n",
    "    TrainingArguments, Trainer,\n",
    ")\n",
    "\n",
    "from transformers.optimization import (\n",
    "    AdamW, get_linear_schedule_with_warmup,\n",
    "    Adafactor, AdafactorSchedule,\n",
    ")\n",
    "\n",
    "import torch\n",
    "import wandb\n",
    "\n",
    "import datasets\n",
    "import evaluate\n",
    "\n",
    "from sklearn.metrics import accuracy_score, f1_score\n",
    "\n",
    "import numpy as np\n",
    "import pandas as pd\n",
    "\n",
    "import os\n",
    "import re\n",
    "import random\n",
    "\n",
    "import demoji"
   ]
  },
  {
   "cell_type": "code",
   "execution_count": 46,
   "metadata": {},
   "outputs": [
    {
     "name": "stdout",
     "output_type": "stream",
     "text": [
      "cuda:0\n"
     ]
    }
   ],
   "source": [
    "device = torch.device(\"cuda:0\" if torch.cuda.is_available() else \"cpu\")\n",
    "print(device)"
   ]
  },
  {
   "cell_type": "code",
   "execution_count": 47,
   "metadata": {},
   "outputs": [],
   "source": [
    "model_checkpoint = 'training_results/monologg_koelectra_base_v3_discriminator_uncleaned_v11/target_tagger/monologg_koelectra_base_v3_discriminator_uncleaned_v11/checkpoint-370'\n",
    "\n",
    "tokenizer = ElectraTokenizerFast.from_pretrained(model_checkpoint)\n",
    "model = ElectraForTokenClassification.from_pretrained(model_checkpoint).to(device)"
   ]
  },
  {
   "cell_type": "code",
   "execution_count": 48,
   "metadata": {},
   "outputs": [],
   "source": [
    "# def preprocess_function(examples):\n",
    "#     input_ids = tokenizer.convert_tokens_to_ids(examples[\"input_tokens_list\"])\n",
    "#     token_type_ids = [0 for _ in range(len(input_ids))]\n",
    "#     attention_mask = [1 for _ in range(len(input_ids))]   \n",
    "    \n",
    "#     input_triplet = dict(\n",
    "#         input_ids = torch.tensor([input_ids]).to(device),\n",
    "#         token_type_ids = torch.tensor([token_type_ids]).to(device),\n",
    "#         attention_mask = torch.tensor([attention_mask]).to(device),\n",
    "#     )\n",
    "#     return input_triplet"
   ]
  },
  {
   "cell_type": "code",
   "execution_count": 49,
   "metadata": {},
   "outputs": [],
   "source": [
    "TRAIN_DATA_PATH = './dataset/uncleaned_v11/tagger_train.json'\n",
    "EVAL_DATA_PATH = './dataset/uncleaned_v11/tagger_dev.json'\n",
    "\n",
    "train_dataset = pd.read_json(TRAIN_DATA_PATH)\n",
    "eval_dataset = pd.read_json(EVAL_DATA_PATH)"
   ]
  },
  {
   "cell_type": "code",
   "execution_count": 50,
   "metadata": {},
   "outputs": [],
   "source": [
    "total = pd.concat([train_dataset, eval_dataset])"
   ]
  },
  {
   "cell_type": "code",
   "execution_count": 51,
   "metadata": {},
   "outputs": [
    {
     "name": "stdout",
     "output_type": "stream",
     "text": [
      "nikluge-sa-2022-train-01010\n",
      "nikluge-sa-2022-dev-00515\n",
      "nikluge-sa-2022-train-00599\n",
      "nikluge-sa-2022-dev-02117\n",
      "nikluge-sa-2022-train-00123\n",
      "nikluge-sa-2022-dev-01401\n",
      "nikluge-sa-2022-dev-02778\n",
      "nikluge-sa-2022-dev-02261\n",
      "nikluge-sa-2022-train-00619\n",
      "nikluge-sa-2022-dev-02269\n",
      "nikluge-sa-2022-train-00581\n",
      "nikluge-sa-2022-train-01564\n",
      "nikluge-sa-2022-train-02511\n",
      "nikluge-sa-2022-dev-02630\n",
      "nikluge-sa-2022-train-01040\n",
      "nikluge-sa-2022-dev-00496\n",
      "nikluge-sa-2022-dev-01330\n",
      "nikluge-sa-2022-train-01305\n",
      "nikluge-sa-2022-train-00265\n",
      "nikluge-sa-2022-dev-00499\n",
      "nikluge-sa-2022-dev-00888\n",
      "nikluge-sa-2022-dev-02411\n",
      "nikluge-sa-2022-train-01286\n",
      "nikluge-sa-2022-dev-00889\n",
      "nikluge-sa-2022-dev-02365\n",
      "nikluge-sa-2022-train-02412\n",
      "nikluge-sa-2022-train-00954\n",
      "nikluge-sa-2022-dev-01061\n",
      "nikluge-sa-2022-train-02014\n",
      "nikluge-sa-2022-dev-02524\n"
     ]
    }
   ],
   "source": [
    "# for idx, row in total.iterrows():\n",
    "#     for annotation in row.annotation:\n",
    "#         if annotation[1][0] == '':\n",
    "#             print(row.id)"
   ]
  },
  {
   "cell_type": "code",
   "execution_count": 52,
   "metadata": {},
   "outputs": [],
   "source": [
    "wrong = ['nikluge-sa-2022-train-00265',\n",
    "'nikluge-sa-2022-train-00619',\n",
    "'nikluge-sa-2022-train-01286',\n",
    "'nikluge-sa-2022-train-02412',\n",
    "'nikluge-sa-2022-train-02511',\n",
    "'nikluge-sa-2022-dev-00515',\n",
    "'nikluge-sa-2022-dev-01061',\n",
    "'nikluge-sa-2022-dev-02365']"
   ]
  },
  {
   "cell_type": "code",
   "execution_count": 53,
   "metadata": {},
   "outputs": [
    {
     "name": "stdout",
     "output_type": "stream",
     "text": [
      "Target 피부샵 전문가들도 사용하는 탁월한 피부관리 마스크팩인 스킨덤 디데이팩 5스텝 탄력 마스크팩\n",
      "[['제품 전체#인지도', ['', 37, 36], 'positive']]\n",
      "\n",
      "Target 피부 상황에 따라 다르게 앰플을 골라 사용 할 수 있는 제품인 지디일레븐 셀 팩토리 주사기 앰플\n",
      "[['본품#다양성', ['', 42, 24], 'positive']]\n",
      "\n",
      "Target 매일 &name&의 몸에 직접 닿는 아기바디워시인지라 순하면서 자극없고 안전한 성분을 사용해야겠다 생각이 들어서 저자극으로 유해성분이 없는 아기바디워시를 찾다가 에바비바 바디워시를 선택했어요\n",
      "[['본품#품질', ['', 97, 36], 'positive']]\n",
      "\n",
      "Target 요즘처럼 피부고민 많을 때 푸석거리는 피부관리에 시트마스크팩 찾고 계시면 프로뮨 마스크팩 한번 써보시길요!\n",
      "[['제품 전체#일반', ['', 48, 40], 'positive']]\n",
      "\n",
      "Target 마스크는 호흡은 편해야 하고 차단은 강해야 하는데 리인데이 에이스 미세먼지 마스크 추천드려요!!\n",
      "[['제품 전체#품질', ['', 35, 11], 'neutral']]\n",
      "\n",
      "Target &name&이 사용하는 콜라겐마스크팩 토기가 사용해본 어바웃미 더바브랜드의 메디앤서 콜라겐 퍼밍업 마스크 !\n",
      "[['제품 전체#인지도', ['', 37, 27], 'positive']]\n",
      "\n",
      "Target 거뭇거뭇 한 내 피부를 위해 사용중인 겟잇뷰티&name&미백크림 으로 핫한 블랙샷프리미엄 미백크림\n",
      "[['제품 전체#인지도', ['', 49, 42], 'positive']]\n",
      "\n",
      "Target 4구 짜리 멀티탭을 사용하다보면 선들때문에 지저분해 보였는데 아이디바 멀티탭 사용하니 정말 깨끗해진 느낌이라 좋아요ㅎㅎ\n",
      "[['제품 전체#일반', ['', 41, 17], 'positive']]\n",
      "\n"
     ]
    }
   ],
   "source": [
    "for idx, row in total[total.id.isin(wrong)].iterrows():\n",
    "    print(row.sentence_form)\n",
    "    print(row.annotation)\n",
    "    print()"
   ]
  },
  {
   "cell_type": "code",
   "execution_count": 54,
   "metadata": {},
   "outputs": [],
   "source": [
    "train_json = './dataset/nikluge-sa-2022-train.jsonl'\n",
    "dev_json = './dataset/nikluge-sa-2022-dev.jsonl'\n",
    "test_json = './dataset/nikluge-sa-2022-test.jsonl'\n",
    "\n",
    "train = pd.read_json(train_json, lines=True)\n",
    "dev = pd.read_json(dev_json, lines=True)\n",
    "test = pd.read_json(test_json, lines=True)\n",
    "\n",
    "train = train.drop(2319)\n",
    "dev = dev.drop(1692)\n",
    "\n",
    "ori_total = pd.concat([train, dev])"
   ]
  },
  {
   "cell_type": "code",
   "execution_count": 59,
   "metadata": {},
   "outputs": [
    {
     "name": "stdout",
     "output_type": "stream",
     "text": [
      "요즘처럼 피부고민 많을 때 푸석거리는 피부관리에 #시트마스크팩 찾고 계시면 프로뮨 마스크팩 한번 써보시길요!\n",
      "[['제품 전체#일반', ['프로뮨 마스크팩', 42, 50], 'positive']]\n",
      "\n",
      "피부 상황에 따라 다르게 앰플을 골라 사용 할 수 있는 제품인 지디일레븐 셀 팩토리 주사기 앰플\n",
      "[['본품#다양성', ['지디일레븐 셀 팩토리 주사기 앰플', 35, 53], 'positive']]\n",
      "\n",
      "마스크는 호흡은 편해야 하고 차단은 강해야 하는데 리인데이 에이스 미세먼지 마스크 추천드려요!!\n",
      "[['제품 전체#품질', ['리인데이 에이스 미세먼지 마스크', 28, 45], 'neutral']]\n",
      "\n",
      "거뭇거뭇 한 내 피부를 위해 사용중인 #겟잇뷰티&name&미백크림 으로 핫한 #블랙샷프리미엄 #미백크림\n",
      "[['제품 전체#인지도', ['블랙샷프리미엄 #미백크림', 44, 57], 'positive']]\n",
      "\n",
      "매일 &name&의 몸에 직접 닿는 아기바디워시인지라 순하면서 자극없고 안전한 성분을 사용해야겠다 생각이 들어서 저자극으로 유해성분이 없는 아기바디워시를 찾다가 에바비바 바디워시를 선택했어요\n",
      "[['본품#품질', ['에바비바 바디워시', 90, 99], 'positive']]\n",
      "\n",
      "피부샵 전문가들도 사용하는 탁월한 피부관리 마스크팩인 스킨덤 디데이팩 5스텝 탄력 마스크팩\n",
      "[['제품 전체#인지도', ['스킨덤 디데이팩 5스텝 탄력 마스크팩', 30, 50], 'positive']]\n",
      "\n",
      "#4구 짜리 멀티탭을 사용하다보면 선들때문에 지저분해 보였는데 #아이디바 #멀티탭 사용하니 정말 깨끗해진 느낌이라 좋아요ㅎㅎ\n",
      "[['제품 전체#일반', ['아이디바 #멀티탭', 36, 45], 'positive']]\n",
      "\n",
      "&name&이 사용하는 콜라겐마스크팩 토기가 사용해본 어바웃미 더바브랜드의 메디앤서 콜라겐 퍼밍업 마스크 !\n",
      "[['제품 전체#인지도', ['어바웃미 더바브랜드의 메디앤서 콜라겐 퍼밍업 마스크', 30, 58], 'positive']]\n",
      "\n"
     ]
    }
   ],
   "source": [
    "# for idx, row in ori_total[ori_total.id.isin(wrong)].iterrows():\n",
    "#     print(row.sentence_form)\n",
    "#     print(row.annotation)\n",
    "#     print()"
   ]
  },
  {
   "cell_type": "code",
   "execution_count": null,
   "metadata": {},
   "outputs": [],
   "source": [
    "# 요즘처럼 피부고민 많을 때 푸석거리는 피부관리에 #시트마스크팩 찾고 계시면 프로뮨 마스크팩 한번 써보시길요!\n",
    "# [['제품 전체#일반', ['프로뮨 마스크팩', 42, 50], 'positive']]\n",
    "\n",
    "# 피부 상황에 따라 다르게 앰플을 골라 사용 할 수 있는 제품인 지디일레븐 셀 팩토리 주사기 앰플\n",
    "# [['본품#다양성', ['지디일레븐 셀 팩토리 주사기 앰플', 35, 53], 'positive']]\n",
    "\n",
    "# 마스크는 호흡은 편해야 하고 차단은 강해야 하는데 리인데이 에이스 미세먼지 마스크 추천드려요!!\n",
    "# [['제품 전체#품질', ['리인데이 에이스 미세먼지 마스크', 28, 45], 'neutral']]\n",
    "\n",
    "# 거뭇거뭇 한 내 피부를 위해 사용중인 #겟잇뷰티&name&미백크림 으로 핫한 #블랙샷프리미엄 #미백크림\n",
    "# [['제품 전체#인지도', ['블랙샷프리미엄 #미백크림', 44, 57], 'positive']]\n",
    "\n",
    "# 매일 &name&의 몸에 직접 닿는 아기바디워시인지라 순하면서 자극없고 안전한 성분을 사용해야겠다 생각이 들어서 저자극으로 유해성분이 없는 아기바디워시를 찾다가 에바비바 바디워시를 선택했어요\n",
    "# [['본품#품질', ['에바비바 바디워시', 90, 99], 'positive']]\n",
    "\n",
    "# 피부샵 전문가들도 사용하는 탁월한 피부관리 마스크팩인 스킨덤 디데이팩 5스텝 탄력 마스크팩\n",
    "# [['제품 전체#인지도', ['스킨덤 디데이팩 5스텝 탄력 마스크팩', 30, 50], 'positive']]\n",
    "\n",
    "# #4구 짜리 멀티탭을 사용하다보면 선들때문에 지저분해 보였는데 #아이디바 #멀티탭 사용하니 정말 깨끗해진 느낌이라 좋아요ㅎㅎ\n",
    "# [['제품 전체#일반', ['아이디바 #멀티탭', 36, 45], 'positive']]\n",
    "\n",
    "# &name&이 사용하는 콜라겐마스크팩 토기가 사용해본 어바웃미 더바브랜드의 메디앤서 콜라겐 퍼밍업 마스크 !\n",
    "# [['제품 전체#인지도', ['어바웃미 더바브랜드의 메디앤서 콜라겐 퍼밍업 마스크', 30, 58], 'positive']]"
   ]
  },
  {
   "cell_type": "code",
   "execution_count": 6,
   "metadata": {},
   "outputs": [],
   "source": [
    "# while True:\n",
    "#     k = random.randrange(len(train_dataset))\n",
    "#     input_tokens_list = train_dataset['input_tokens_list'][k]\n",
    "#     sentence_form = train_dataset['sentence_form'][k]\n",
    "#     annotations = train_dataset['annotation'][k]\n",
    "#     if len(tokenizer.convert_tokens_to_ids(input_tokens_list)) != len(tokenizer.encode(sentence_form)):\n",
    "#         print(k)\n",
    "#         print(len(tokenizer.convert_tokens_to_ids(input_tokens_list)), len(tokenizer.encode(sentence_form)))\n",
    "#         print(sentence_form)\n",
    "#         print(annotations)\n",
    "#         break"
   ]
  },
  {
   "cell_type": "code",
   "execution_count": 7,
   "metadata": {},
   "outputs": [
    {
     "name": "stdout",
     "output_type": "stream",
     "text": [
      "original: \n",
      "[['제품 전체#일반', ['스웨터', 30, 33], 'positive']]\n",
      "Target 오늘입고 옷장속으로 들어갈 내가 좋아하는 스웨터\n",
      "\n",
      "label:\n",
      "[0, 0, 0, 0, 0, 0, 0, 0, 0, 0, 0, 0, 0, 0, 0, 0, 0, 1]\n",
      "prediction:\n",
      "[0, 0, 0, 0, 0, 0, 0, 0, 0, 0, 0, 0, 0, 0, 0, 0, 0, 1]\n",
      "\n",
      "True\n",
      "\n",
      "targets in labels:\n",
      "스웨터\n",
      "targets predicted:\n",
      "['스웨터']\n"
     ]
    }
   ],
   "source": [
    "idx = random.randrange(len(eval_dataset))\n",
    "sample = eval_dataset.iloc[idx]\n",
    "# sample = train_dataset.iloc[1151]\n",
    "print('original: ')\n",
    "print(sample.annotation)\n",
    "print(sample.sentence_form)\n",
    "print()\n",
    "\n",
    "input_triplet = tokenizer(sample.sentence_form, return_tensors='pt')\n",
    "input_triplet = {k:v.to(device) for k, v in input_triplet.items()}\n",
    "# input_triplet = preprocess_function(sample)\n",
    "output = model(**input_triplet).logits\n",
    "\n",
    "print('label:'), print(sample.labels[1:-1])\n",
    "print('prediction:'), print(output.argmax(-1)[-1].tolist()[1:-1])\n",
    "print()\n",
    "print(output.argmax(-1)[-1].tolist()[1:-1] == sample.labels[1:-1])\n",
    "print()\n",
    "toks = sample.input_tokens_list[1:-1]\n",
    "pred = output.argmax(-1)[-1].tolist()[1:-1]\n",
    "# labs = sample.labels\n",
    "\n",
    "starts = list({k:v for k, v in enumerate(pred) if v == 1}.keys())\n",
    "targets = []\n",
    "for start in starts:\n",
    "    target = [toks[start]]\n",
    "    for tok, lab in zip(toks[start+1:], pred[start+1:]):\n",
    "        if lab != 2:\n",
    "            break\n",
    "        else:\n",
    "            target.append(tok)\n",
    "    targets.append(tokenizer.convert_tokens_to_string(target))\n",
    "\n",
    "print('targets in labels:')\n",
    "for el in sample.annotation:\n",
    "    print(el[1][0])\n",
    "print('targets predicted:')\n",
    "print(targets)"
   ]
  },
  {
   "cell_type": "code",
   "execution_count": 8,
   "metadata": {},
   "outputs": [
    {
     "data": {
      "text/plain": [
       "True"
      ]
     },
     "execution_count": 8,
     "metadata": {},
     "output_type": "execute_result"
    }
   ],
   "source": [
    "tokenizer.encode('살랑드파리 , 아쿠아컴플릿시리즈') == tokenizer.encode('살랑드파리, 아쿠아컴플릿시리즈')"
   ]
  },
  {
   "cell_type": "code",
   "execution_count": 78,
   "metadata": {},
   "outputs": [
    {
     "name": "stdout",
     "output_type": "stream",
     "text": [
      "original: \n",
      "[['본품#품질', ['달바 미스트 세럼..!', 30, 42], 'positive']]\n",
      "Target 촤르르~~피부 윤광 장난아니게 만들어주는 달바 미스트 세럼..!\n",
      "\n"
     ]
    }
   ],
   "source": [
    "idx = random.randrange(len(eval_dataset))\n",
    "sample = eval_dataset.iloc[idx]\n",
    "# sample = train_dataset.iloc[1151]\n",
    "print('original: ')\n",
    "print(sample.annotation)\n",
    "print(sample.sentence_form)\n",
    "print()"
   ]
  },
  {
   "cell_type": "code",
   "execution_count": 79,
   "metadata": {},
   "outputs": [
    {
     "name": "stdout",
     "output_type": "stream",
     "text": [
      "Target 촤르르~~피부 윤광 장난아니게 만들어주는 달바 미스트 세럼..!\n"
     ]
    }
   ],
   "source": [
    "sentence = sample.sentence_form\n",
    "sentence = re.sub('#', '', sentence)\n",
    "sentence = re.sub('\\xa0', ' ', sentence)\n",
    "print(sentence)"
   ]
  },
  {
   "cell_type": "code",
   "execution_count": 80,
   "metadata": {},
   "outputs": [
    {
     "name": "stdout",
     "output_type": "stream",
     "text": [
      "True\n",
      "['T', '##ar', '##ge', '##t', '촤', '##르르', '~', '~', '피부', '윤', '##광', '장난', '##아', '##니', '##게', '만들', '##어', '##주', '##는', '달', '##바', '미스트', '세', '##럼', '.', '.', '!']\n",
      "['T', '##ar', '##ge', '##t', '촤', '##르르', '~', '~', '피부', '윤', '##광', '장난', '##아', '##니', '##게', '만들', '##어', '##주', '##는', '달', '##바', '미스트', '세', '##럼', '.', '.', '!']\n"
     ]
    }
   ],
   "source": [
    "tokens = tokenizer.tokenize(sentence)\n",
    "ids = tokenizer.encode(sentence)[1:-1]\n",
    "print(tokens == tokenizer.convert_ids_to_tokens(ids))\n",
    "print(tokens)\n",
    "print(tokenizer.convert_ids_to_tokens(ids))"
   ]
  },
  {
   "cell_type": "code",
   "execution_count": 81,
   "metadata": {},
   "outputs": [
    {
     "name": "stdout",
     "output_type": "stream",
     "text": [
      "[0, 0, 0, 0, 0, 0, 0, 0, 0, 0, 0, 0, 0, 0, 0, 0, 0, 0, 0, 1, 2, 2, 2, 2, 0, 0, 0]\n"
     ]
    }
   ],
   "source": [
    "input_triplet = tokenizer(sentence, return_tensors='pt')\n",
    "input_triplet = {k:v.to(device) for k, v in input_triplet.items()}\n",
    "output = model(**input_triplet).logits\n",
    "pred = output.argmax(-1)[-1].tolist()[1:-1]\n",
    "print(pred)"
   ]
  },
  {
   "cell_type": "code",
   "execution_count": 82,
   "metadata": {},
   "outputs": [
    {
     "name": "stdout",
     "output_type": "stream",
     "text": [
      "targets predicted:\n",
      "['달바 미스트 세럼']\n"
     ]
    }
   ],
   "source": [
    "starts = list({k:v for k, v in enumerate(pred) if v == 1}.keys())\n",
    "targets = []\n",
    "for start in starts:\n",
    "    target = [tokens[start]]\n",
    "    for tok, lab in zip(tokens[start+1:], pred[start+1:]):\n",
    "        if lab != 2:\n",
    "            break\n",
    "        else:\n",
    "            target.append(tok)\n",
    "    targets.append(tokenizer.convert_tokens_to_string(target))\n",
    "\n",
    "print('targets predicted:')\n",
    "print(targets)"
   ]
  },
  {
   "cell_type": "code",
   "execution_count": 83,
   "metadata": {},
   "outputs": [
    {
     "name": "stdout",
     "output_type": "stream",
     "text": [
      "targets predicted:\n",
      "['달바 미스트 세럼']\n"
     ]
    }
   ],
   "source": [
    "sentence = sample.sentence_form\n",
    "sentence = re.sub('#', '', sentence)\n",
    "sentence = re.sub('\\xa0', ' ', sentence)\n",
    "\n",
    "tokens = tokenizer.tokenize(sentence)\n",
    "ids = tokenizer.encode(sentence)[1:-1]\n",
    "\n",
    "input_triplet = tokenizer(sentence, return_tensors='pt')\n",
    "input_triplet = {k:v.to(device) for k, v in input_triplet.items()}\n",
    "\n",
    "output = model(**input_triplet).logits\n",
    "pred = output.argmax(-1)[-1].tolist()[1:-1]\n",
    "\n",
    "starts = list({k:v for k, v in enumerate(pred) if v == 1}.keys())\n",
    "targets = []\n",
    "for start in starts:\n",
    "    target = [tokens[start]]\n",
    "    for tok, lab in zip(tokens[start+1:], pred[start+1:]):\n",
    "        if lab != 2:\n",
    "            break\n",
    "        else:\n",
    "            target.append(tok)\n",
    "    targets.append(tokenizer.convert_tokens_to_string(target))\n",
    "\n",
    "print('targets predicted:')\n",
    "print(targets)"
   ]
  }
 ],
 "metadata": {
  "kernelspec": {
   "display_name": "Python 3.10.6 ('jeonghyeon')",
   "language": "python",
   "name": "python3"
  },
  "language_info": {
   "codemirror_mode": {
    "name": "ipython",
    "version": 3
   },
   "file_extension": ".py",
   "mimetype": "text/x-python",
   "name": "python",
   "nbconvert_exporter": "python",
   "pygments_lexer": "ipython3",
   "version": "3.10.6"
  },
  "orig_nbformat": 4,
  "vscode": {
   "interpreter": {
    "hash": "df12b971f0e4e081474c4ac44bd338416eac6f5401e1e938ba342788cee78ecd"
   }
  }
 },
 "nbformat": 4,
 "nbformat_minor": 2
}
