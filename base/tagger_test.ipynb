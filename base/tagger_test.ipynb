{
 "cells": [
  {
   "cell_type": "code",
   "execution_count": 45,
   "metadata": {},
   "outputs": [],
   "source": [
    "from transformers import (\n",
    "    AutoConfig, ElectraTokenizerFast, ElectraForTokenClassification, \n",
    "    DataCollatorForTokenClassification,\n",
    "    TrainingArguments, Trainer,\n",
    ")\n",
    "\n",
    "from transformers.optimization import (\n",
    "    AdamW, get_linear_schedule_with_warmup,\n",
    "    Adafactor, AdafactorSchedule,\n",
    ")\n",
    "\n",
    "import torch\n",
    "import wandb\n",
    "\n",
    "import datasets\n",
    "import evaluate\n",
    "\n",
    "from sklearn.metrics import accuracy_score, f1_score\n",
    "\n",
    "import numpy as np\n",
    "import pandas as pd\n",
    "\n",
    "import os\n",
    "import re\n",
    "import random\n",
    "\n",
    "import demoji"
   ]
  },
  {
   "cell_type": "code",
   "execution_count": 46,
   "metadata": {},
   "outputs": [
    {
     "name": "stdout",
     "output_type": "stream",
     "text": [
      "cuda:0\n"
     ]
    }
   ],
   "source": [
    "device = torch.device(\"cuda:0\" if torch.cuda.is_available() else \"cpu\")\n",
    "print(device)"
   ]
  },
  {
   "cell_type": "code",
   "execution_count": 47,
   "metadata": {},
   "outputs": [],
   "source": [
    "model_checkpoint = 'training_results/monologg_koelectra_base_v3_discriminator_uncleaned_v11/target_tagger/monologg_koelectra_base_v3_discriminator_uncleaned_v11/checkpoint-370'\n",
    "\n",
    "tokenizer = ElectraTokenizerFast.from_pretrained(model_checkpoint)\n",
    "model = ElectraForTokenClassification.from_pretrained(model_checkpoint).to(device)"
   ]
  },
  {
   "cell_type": "code",
   "execution_count": 49,
   "metadata": {},
   "outputs": [],
   "source": [
    "TRAIN_DATA_PATH = './dataset/uncleaned_v11/tagger_train.json'\n",
    "EVAL_DATA_PATH = './dataset/uncleaned_v11/tagger_dev.json'\n",
    "\n",
    "train_dataset = pd.read_json(TRAIN_DATA_PATH)\n",
    "eval_dataset = pd.read_json(EVAL_DATA_PATH)"
   ]
  },
  {
   "cell_type": "code",
   "execution_count": 7,
   "metadata": {},
   "outputs": [
    {
     "name": "stdout",
     "output_type": "stream",
     "text": [
      "original: \n",
      "[['제품 전체#일반', ['스웨터', 30, 33], 'positive']]\n",
      "Target 오늘입고 옷장속으로 들어갈 내가 좋아하는 스웨터\n",
      "\n",
      "label:\n",
      "[0, 0, 0, 0, 0, 0, 0, 0, 0, 0, 0, 0, 0, 0, 0, 0, 0, 1]\n",
      "prediction:\n",
      "[0, 0, 0, 0, 0, 0, 0, 0, 0, 0, 0, 0, 0, 0, 0, 0, 0, 1]\n",
      "\n",
      "True\n",
      "\n",
      "targets in labels:\n",
      "스웨터\n",
      "targets predicted:\n",
      "['스웨터']\n"
     ]
    }
   ],
   "source": [
    "idx = random.randrange(len(eval_dataset))\n",
    "sample = eval_dataset.iloc[idx]\n",
    "# sample = train_dataset.iloc[1151]\n",
    "print('original: ')\n",
    "print(sample.annotation)\n",
    "print(sample.sentence_form)\n",
    "print()\n",
    "\n",
    "input_triplet = tokenizer(sample.sentence_form, return_tensors='pt')\n",
    "input_triplet = {k:v.to(device) for k, v in input_triplet.items()}\n",
    "# input_triplet = preprocess_function(sample)\n",
    "output = model(**input_triplet).logits\n",
    "\n",
    "print('label:'), print(sample.labels[1:-1])\n",
    "print('prediction:'), print(output.argmax(-1)[-1].tolist()[1:-1])\n",
    "print()\n",
    "print(output.argmax(-1)[-1].tolist()[1:-1] == sample.labels[1:-1])\n",
    "print()\n",
    "toks = sample.input_tokens_list[1:-1]\n",
    "pred = output.argmax(-1)[-1].tolist()[1:-1]\n",
    "# labs = sample.labels\n",
    "\n",
    "starts = list({k:v for k, v in enumerate(pred) if v == 1}.keys())\n",
    "targets = []\n",
    "for start in starts:\n",
    "    target = [toks[start]]\n",
    "    for tok, lab in zip(toks[start+1:], pred[start+1:]):\n",
    "        if lab != 2:\n",
    "            break\n",
    "        else:\n",
    "            target.append(tok)\n",
    "    targets.append(tokenizer.convert_tokens_to_string(target))\n",
    "\n",
    "print('targets in labels:')\n",
    "for el in sample.annotation:\n",
    "    print(el[1][0])\n",
    "print('targets predicted:')\n",
    "print(targets)"
   ]
  },
  {
   "cell_type": "code",
   "execution_count": 8,
   "metadata": {},
   "outputs": [
    {
     "data": {
      "text/plain": [
       "True"
      ]
     },
     "execution_count": 8,
     "metadata": {},
     "output_type": "execute_result"
    }
   ],
   "source": [
    "tokenizer.encode('살랑드파리 , 아쿠아컴플릿시리즈') == tokenizer.encode('살랑드파리, 아쿠아컴플릿시리즈')"
   ]
  },
  {
   "cell_type": "code",
   "execution_count": 78,
   "metadata": {},
   "outputs": [
    {
     "name": "stdout",
     "output_type": "stream",
     "text": [
      "original: \n",
      "[['본품#품질', ['달바 미스트 세럼..!', 30, 42], 'positive']]\n",
      "Target 촤르르~~피부 윤광 장난아니게 만들어주는 달바 미스트 세럼..!\n",
      "\n"
     ]
    }
   ],
   "source": [
    "idx = random.randrange(len(eval_dataset))\n",
    "sample = eval_dataset.iloc[idx]\n",
    "# sample = train_dataset.iloc[1151]\n",
    "print('original: ')\n",
    "print(sample.annotation)\n",
    "print(sample.sentence_form)\n",
    "print()"
   ]
  },
  {
   "cell_type": "code",
   "execution_count": 79,
   "metadata": {},
   "outputs": [
    {
     "name": "stdout",
     "output_type": "stream",
     "text": [
      "Target 촤르르~~피부 윤광 장난아니게 만들어주는 달바 미스트 세럼..!\n"
     ]
    }
   ],
   "source": [
    "sentence = sample.sentence_form\n",
    "sentence = re.sub('#', '', sentence)\n",
    "sentence = re.sub('\\xa0', ' ', sentence)\n",
    "print(sentence)"
   ]
  },
  {
   "cell_type": "code",
   "execution_count": 80,
   "metadata": {},
   "outputs": [
    {
     "name": "stdout",
     "output_type": "stream",
     "text": [
      "True\n",
      "['T', '##ar', '##ge', '##t', '촤', '##르르', '~', '~', '피부', '윤', '##광', '장난', '##아', '##니', '##게', '만들', '##어', '##주', '##는', '달', '##바', '미스트', '세', '##럼', '.', '.', '!']\n",
      "['T', '##ar', '##ge', '##t', '촤', '##르르', '~', '~', '피부', '윤', '##광', '장난', '##아', '##니', '##게', '만들', '##어', '##주', '##는', '달', '##바', '미스트', '세', '##럼', '.', '.', '!']\n"
     ]
    }
   ],
   "source": [
    "tokens = tokenizer.tokenize(sentence)\n",
    "ids = tokenizer.encode(sentence)[1:-1]\n",
    "print(tokens == tokenizer.convert_ids_to_tokens(ids))\n",
    "print(tokens)\n",
    "print(tokenizer.convert_ids_to_tokens(ids))"
   ]
  },
  {
   "cell_type": "code",
   "execution_count": 81,
   "metadata": {},
   "outputs": [
    {
     "name": "stdout",
     "output_type": "stream",
     "text": [
      "[0, 0, 0, 0, 0, 0, 0, 0, 0, 0, 0, 0, 0, 0, 0, 0, 0, 0, 0, 1, 2, 2, 2, 2, 0, 0, 0]\n"
     ]
    }
   ],
   "source": [
    "input_triplet = tokenizer(sentence, return_tensors='pt')\n",
    "input_triplet = {k:v.to(device) for k, v in input_triplet.items()}\n",
    "output = model(**input_triplet).logits\n",
    "pred = output.argmax(-1)[-1].tolist()[1:-1]\n",
    "print(pred)"
   ]
  },
  {
   "cell_type": "code",
   "execution_count": 82,
   "metadata": {},
   "outputs": [
    {
     "name": "stdout",
     "output_type": "stream",
     "text": [
      "targets predicted:\n",
      "['달바 미스트 세럼']\n"
     ]
    }
   ],
   "source": [
    "starts = list({k:v for k, v in enumerate(pred) if v == 1}.keys())\n",
    "targets = []\n",
    "for start in starts:\n",
    "    target = [tokens[start]]\n",
    "    for tok, lab in zip(tokens[start+1:], pred[start+1:]):\n",
    "        if lab != 2:\n",
    "            break\n",
    "        else:\n",
    "            target.append(tok)\n",
    "    targets.append(tokenizer.convert_tokens_to_string(target))\n",
    "\n",
    "print('targets predicted:')\n",
    "print(targets)"
   ]
  },
  {
   "cell_type": "code",
   "execution_count": 83,
   "metadata": {},
   "outputs": [
    {
     "name": "stdout",
     "output_type": "stream",
     "text": [
      "targets predicted:\n",
      "['달바 미스트 세럼']\n"
     ]
    }
   ],
   "source": [
    "sentence = sample.sentence_form\n",
    "sentence = re.sub('#', '', sentence)\n",
    "sentence = re.sub('\\xa0', ' ', sentence)\n",
    "\n",
    "tokens = tokenizer.tokenize(sentence)\n",
    "ids = tokenizer.encode(sentence)[1:-1]\n",
    "\n",
    "input_triplet = tokenizer(sentence, return_tensors='pt')\n",
    "input_triplet = {k:v.to(device) for k, v in input_triplet.items()}\n",
    "\n",
    "output = model(**input_triplet).logits\n",
    "pred = output.argmax(-1)[-1].tolist()[1:-1]\n",
    "\n",
    "starts = list({k:v for k, v in enumerate(pred) if v == 1}.keys())\n",
    "targets = []\n",
    "for start in starts:\n",
    "    target = [tokens[start]]\n",
    "    for tok, lab in zip(tokens[start+1:], pred[start+1:]):\n",
    "        if lab != 2:\n",
    "            break\n",
    "        else:\n",
    "            target.append(tok)\n",
    "    targets.append(tokenizer.convert_tokens_to_string(target))\n",
    "\n",
    "print('targets predicted:')\n",
    "print(targets)"
   ]
  }
 ],
 "metadata": {
  "kernelspec": {
   "display_name": "Python 3.10.6 ('jeonghyeon')",
   "language": "python",
   "name": "python3"
  },
  "language_info": {
   "codemirror_mode": {
    "name": "ipython",
    "version": 3
   },
   "file_extension": ".py",
   "mimetype": "text/x-python",
   "name": "python",
   "nbconvert_exporter": "python",
   "pygments_lexer": "ipython3",
   "version": "3.10.6"
  },
  "orig_nbformat": 4,
  "vscode": {
   "interpreter": {
    "hash": "df12b971f0e4e081474c4ac44bd338416eac6f5401e1e938ba342788cee78ecd"
   }
  }
 },
 "nbformat": 4,
 "nbformat_minor": 2
}
