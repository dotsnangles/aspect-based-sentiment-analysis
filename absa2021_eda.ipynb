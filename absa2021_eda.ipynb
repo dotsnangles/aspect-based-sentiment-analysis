{
 "cells": [
  {
   "cell_type": "code",
   "execution_count": 1,
   "metadata": {},
   "outputs": [],
   "source": [
    "import pandas as pd\n",
    "import json\n",
    "from module.load_json import *\n",
    "from module.utils import *\n",
    "from module.maps import *"
   ]
  },
  {
   "cell_type": "code",
   "execution_count": 2,
   "metadata": {},
   "outputs": [],
   "source": [
    "train_path = 'dataset/NIKL_ABSA_2021_v1.0/EXSA2112203180.json'\n",
    "dev_path = 'dataset/NIKL_ABSA_2021_v1.0/EXSA2122203180.json'"
   ]
  },
  {
   "cell_type": "code",
   "execution_count": 3,
   "metadata": {},
   "outputs": [],
   "source": [
    "train = jsonload(train_path)\n",
    "dev = jsonload(dev_path)\n",
    "train = pd.DataFrame(train['document'])\n",
    "dev = pd.DataFrame(dev['document'])\n",
    "total = pd.concat([train, dev]).reset_index(drop=True)"
   ]
  },
  {
   "cell_type": "code",
   "execution_count": 4,
   "metadata": {},
   "outputs": [],
   "source": [
    "total.domain.unique()\n",
    "categories = ['제품 기타', '전자기기', '화장품/세정제']\n",
    "\n",
    "checker = total.domain.apply(lambda x: x in categories)\n",
    "total = total[checker]\n",
    "total = total[total.isna().any(axis=1) == False]\n",
    "total = total[['sentence', 'opinions']].reset_index(drop=True)"
   ]
  },
  {
   "cell_type": "code",
   "execution_count": 5,
   "metadata": {},
   "outputs": [],
   "source": [
    "def collect_sentences(sentences):\n",
    "    collected_sentences = []\n",
    "    for sentence in sentences:\n",
    "        collected_sentences.append(sentence['sentence_form'])\n",
    "    return ' '.join(collected_sentences)"
   ]
  },
  {
   "cell_type": "code",
   "execution_count": 6,
   "metadata": {},
   "outputs": [],
   "source": [
    "def collect_opinions(opinions):\n",
    "    collected_opinions = []\n",
    "    for opinion in opinions:\n",
    "        category = opinion['category']\n",
    "        polarity = opinion['opinion polarity']\n",
    "        if polarity != 'conflict':\n",
    "            collected_opinions.append([category, [], polarity])\n",
    "    return collected_opinions"
   ]
  },
  {
   "cell_type": "code",
   "execution_count": 7,
   "metadata": {},
   "outputs": [],
   "source": [
    "total['sentence'] = total.sentence.apply(collect_sentences)\n",
    "total['opinions'] = total.opinions.apply(collect_opinions)\n",
    "total = total[total.opinions.apply(lambda x: x == []) == False]\n",
    "total = total.reset_index()\n",
    "total = total.set_axis(['id', 'sentence_form', 'annotation'], axis='columns')"
   ]
  },
  {
   "cell_type": "code",
   "execution_count": 8,
   "metadata": {},
   "outputs": [
    {
     "data": {
      "text/html": [
       "<div>\n",
       "<style scoped>\n",
       "    .dataframe tbody tr th:only-of-type {\n",
       "        vertical-align: middle;\n",
       "    }\n",
       "\n",
       "    .dataframe tbody tr th {\n",
       "        vertical-align: top;\n",
       "    }\n",
       "\n",
       "    .dataframe thead th {\n",
       "        text-align: right;\n",
       "    }\n",
       "</style>\n",
       "<table border=\"1\" class=\"dataframe\">\n",
       "  <thead>\n",
       "    <tr style=\"text-align: right;\">\n",
       "      <th></th>\n",
       "      <th>id</th>\n",
       "      <th>sentence_form</th>\n",
       "      <th>annotation</th>\n",
       "    </tr>\n",
       "  </thead>\n",
       "  <tbody>\n",
       "    <tr>\n",
       "      <th>0</th>\n",
       "      <td>0</td>\n",
       "      <td>잔차 사서 일주일쯤 지났다. 그동안 비가 와서 생각만큼 많이 타진 못했고 그래도 며...</td>\n",
       "      <td>[[본품#일반, [], neutral]]</td>\n",
       "    </tr>\n",
       "    <tr>\n",
       "      <th>1</th>\n",
       "      <td>2</td>\n",
       "      <td>이런 젠장.. 동영상 재생하면서 자막 중 모르는 내용 있으면 터치해서 바로 검색하는...</td>\n",
       "      <td>[[제품 전체#가격, [], negative]]</td>\n",
       "    </tr>\n",
       "    <tr>\n",
       "      <th>2</th>\n",
       "      <td>3</td>\n",
       "      <td>스맛폰 열풍이 분 지가 언제인데 이제서야 미라크로 막차 탐. 내 예상대로 우리집에서...</td>\n",
       "      <td>[[본품#일반, [], negative]]</td>\n",
       "    </tr>\n",
       "    <tr>\n",
       "      <th>3</th>\n",
       "      <td>4</td>\n",
       "      <td>나시라 읽고 슬리브리스라고 쓴다. -_-; 지식인이므로.. ㅋㅋㅋㅋ 예전에는 혼자서...</td>\n",
       "      <td>[[본품#품질, [], neutral], [제품 전체#가격, [], neutral]...</td>\n",
       "    </tr>\n",
       "    <tr>\n",
       "      <th>4</th>\n",
       "      <td>5</td>\n",
       "      <td>화장품 가게에 갔다가 샘플로 받은 풋 마스크. 발 전용 팩이란다. -_-; 얼굴에도...</td>\n",
       "      <td>[[본품#품질, [], neutral]]</td>\n",
       "    </tr>\n",
       "    <tr>\n",
       "      <th>...</th>\n",
       "      <td>...</td>\n",
       "      <td>...</td>\n",
       "      <td>...</td>\n",
       "    </tr>\n",
       "    <tr>\n",
       "      <th>619</th>\n",
       "      <td>771</td>\n",
       "      <td>미니멀 여파인지 하고싶은 머리도 딱히 없고 짧은 머리는 또 지긋해서 심심한데 붙임머...</td>\n",
       "      <td>[[본품#편의성, [], positive]]</td>\n",
       "    </tr>\n",
       "    <tr>\n",
       "      <th>620</th>\n",
       "      <td>772</td>\n",
       "      <td>생긴건 바이오더마같이 생겼는데 가격은 절반이네 캬 플란테시스템 이름이 쓸데없이 어렵...</td>\n",
       "      <td>[[본품#일반, [], positive]]</td>\n",
       "    </tr>\n",
       "    <tr>\n",
       "      <th>621</th>\n",
       "      <td>773</td>\n",
       "      <td>http://www.head-fi.org/t/705687/review-of-audi...</td>\n",
       "      <td>[[제품 전체#가격, [], neutral]]</td>\n",
       "    </tr>\n",
       "    <tr>\n",
       "      <th>622</th>\n",
       "      <td>774</td>\n",
       "      <td>이마트에서9900원 ㅠㅠ 비싸 ㅠㅠㅠ</td>\n",
       "      <td>[[제품 전체#가격, [], negative]]</td>\n",
       "    </tr>\n",
       "    <tr>\n",
       "      <th>623</th>\n",
       "      <td>775</td>\n",
       "      <td>지난 주말 오사카를 다녀와꼬 여행 사진이 넘쳐나지만 쇼핑 후기부터 써 보려고 한닷....</td>\n",
       "      <td>[[브랜드#일반, [], positive], [브랜드#품질, [], positive...</td>\n",
       "    </tr>\n",
       "  </tbody>\n",
       "</table>\n",
       "<p>624 rows × 3 columns</p>\n",
       "</div>"
      ],
      "text/plain": [
       "      id                                      sentence_form  \\\n",
       "0      0  잔차 사서 일주일쯤 지났다. 그동안 비가 와서 생각만큼 많이 타진 못했고 그래도 며...   \n",
       "1      2  이런 젠장.. 동영상 재생하면서 자막 중 모르는 내용 있으면 터치해서 바로 검색하는...   \n",
       "2      3  스맛폰 열풍이 분 지가 언제인데 이제서야 미라크로 막차 탐. 내 예상대로 우리집에서...   \n",
       "3      4  나시라 읽고 슬리브리스라고 쓴다. -_-; 지식인이므로.. ㅋㅋㅋㅋ 예전에는 혼자서...   \n",
       "4      5  화장품 가게에 갔다가 샘플로 받은 풋 마스크. 발 전용 팩이란다. -_-; 얼굴에도...   \n",
       "..   ...                                                ...   \n",
       "619  771  미니멀 여파인지 하고싶은 머리도 딱히 없고 짧은 머리는 또 지긋해서 심심한데 붙임머...   \n",
       "620  772  생긴건 바이오더마같이 생겼는데 가격은 절반이네 캬 플란테시스템 이름이 쓸데없이 어렵...   \n",
       "621  773  http://www.head-fi.org/t/705687/review-of-audi...   \n",
       "622  774                               이마트에서9900원 ㅠㅠ 비싸 ㅠㅠㅠ   \n",
       "623  775  지난 주말 오사카를 다녀와꼬 여행 사진이 넘쳐나지만 쇼핑 후기부터 써 보려고 한닷....   \n",
       "\n",
       "                                            annotation  \n",
       "0                               [[본품#일반, [], neutral]]  \n",
       "1                           [[제품 전체#가격, [], negative]]  \n",
       "2                              [[본품#일반, [], negative]]  \n",
       "3    [[본품#품질, [], neutral], [제품 전체#가격, [], neutral]...  \n",
       "4                               [[본품#품질, [], neutral]]  \n",
       "..                                                 ...  \n",
       "619                           [[본품#편의성, [], positive]]  \n",
       "620                            [[본품#일반, [], positive]]  \n",
       "621                          [[제품 전체#가격, [], neutral]]  \n",
       "622                         [[제품 전체#가격, [], negative]]  \n",
       "623  [[브랜드#일반, [], positive], [브랜드#품질, [], positive...  \n",
       "\n",
       "[624 rows x 3 columns]"
      ]
     },
     "execution_count": 8,
     "metadata": {},
     "output_type": "execute_result"
    }
   ],
   "source": [
    "total"
   ]
  },
  {
   "cell_type": "code",
   "execution_count": 9,
   "metadata": {},
   "outputs": [
    {
     "name": "stdout",
     "output_type": "stream",
     "text": [
      "tags found:  1195\n",
      "tag set of df:  20\n",
      "tag set of offered:  25\n",
      "difference:  {'본품#인지도', '본품#가격', '브랜드#디자인', '제품 전체#다양성', '패키지/구성품#가격'}\n",
      "제품 전체#일반\t\t290\n",
      "본품#품질\t\t178\n",
      "본품#일반\t\t148\n",
      "제품 전체#품질\t\t103\n",
      "제품 전체#디자인\t75\n",
      "본품#편의성\t\t58\n",
      "제품 전체#인지도\t58\n",
      "제품 전체#편의성\t56\n",
      "브랜드#일반\t\t48\n",
      "패키지/구성품#디자인\t43\n",
      "제품 전체#가격\t\t33\n",
      "패키지/구성품#편의성\t33\n",
      "패키지/구성품#일반\t19\n",
      "본품#다양성\t\t19\n",
      "본품#디자인\t\t9\n",
      "패키지/구성품#품질\t7\n",
      "브랜드#품질\t\t7\n",
      "브랜드#인지도\t\t7\n",
      "브랜드#가격\t\t3\n",
      "패키지/구성품#다양성\t1\n"
     ]
    }
   ],
   "source": [
    "count_tags(total, entity_property_pair)"
   ]
  },
  {
   "cell_type": "code",
   "execution_count": 10,
   "metadata": {},
   "outputs": [
    {
     "name": "stdout",
     "output_type": "stream",
     "text": [
      "./dataset/uncleaned_v23\n"
     ]
    }
   ],
   "source": [
    "DATA_V = 'uncleaned_v23'\n",
    "save_path = f'./dataset/{DATA_V}'\n",
    "print(save_path)"
   ]
  },
  {
   "cell_type": "code",
   "execution_count": 11,
   "metadata": {},
   "outputs": [],
   "source": [
    "!mkdir -p {save_path}\n",
    "\n",
    "total.to_json(f'{save_path}/absa2021.json', force_ascii=False)"
   ]
  }
 ],
 "metadata": {
  "kernelspec": {
   "display_name": "Python 3.8.13 ('jeonghyeon')",
   "language": "python",
   "name": "python3"
  },
  "language_info": {
   "codemirror_mode": {
    "name": "ipython",
    "version": 3
   },
   "file_extension": ".py",
   "mimetype": "text/x-python",
   "name": "python",
   "nbconvert_exporter": "python",
   "pygments_lexer": "ipython3",
   "version": "3.8.13"
  },
  "orig_nbformat": 4,
  "vscode": {
   "interpreter": {
    "hash": "df12b971f0e4e081474c4ac44bd338416eac6f5401e1e938ba342788cee78ecd"
   }
  }
 },
 "nbformat": 4,
 "nbformat_minor": 2
}
