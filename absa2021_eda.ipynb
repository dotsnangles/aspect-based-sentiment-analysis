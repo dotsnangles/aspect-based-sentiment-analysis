{
 "cells": [
  {
   "cell_type": "code",
   "execution_count": 16,
   "metadata": {},
   "outputs": [],
   "source": [
    "import pandas as pd\n",
    "import json\n",
    "from module.load_json import *\n",
    "from module.utils import *\n",
    "from module.maps import *\n",
    "\n",
    "from transformers import (\n",
    "    AutoTokenizer, AutoModelForSequenceClassification,\n",
    "    DataCollatorWithPadding, \n",
    "    TrainingArguments, Trainer,\n",
    ")"
   ]
  },
  {
   "cell_type": "code",
   "execution_count": 17,
   "metadata": {},
   "outputs": [],
   "source": [
    "train_path = 'dataset/NIKL_ABSA_2021_v1.0/EXSA2112203180.json'\n",
    "dev_path = 'dataset/NIKL_ABSA_2021_v1.0/EXSA2122203180.json'"
   ]
  },
  {
   "cell_type": "code",
   "execution_count": 18,
   "metadata": {},
   "outputs": [],
   "source": [
    "train = jsonload(train_path)\n",
    "dev = jsonload(dev_path)\n",
    "train = pd.DataFrame(train['document'])\n",
    "dev = pd.DataFrame(dev['document'])\n",
    "total = pd.concat([train, dev]).reset_index(drop=True)"
   ]
  },
  {
   "cell_type": "code",
   "execution_count": 19,
   "metadata": {},
   "outputs": [],
   "source": [
    "total.domain.unique()\n",
    "categories = ['제품 기타', '전자기기', '화장품/세정제']\n",
    "\n",
    "checker = total.domain.apply(lambda x: x in categories)\n",
    "total = total[checker]\n",
    "total = total[total.isna().any(axis=1) == False]\n",
    "total = total[['sentence', 'opinions']].reset_index(drop=True)"
   ]
  },
  {
   "cell_type": "code",
   "execution_count": 20,
   "metadata": {},
   "outputs": [],
   "source": [
    "def collect_sentences(sentences):\n",
    "    collected_sentences = []\n",
    "    for sentence in sentences:\n",
    "        collected_sentences.append(sentence['sentence_form'])\n",
    "        collected_sentences = collected_sentences[:5]\n",
    "    return ' '.join(collected_sentences)"
   ]
  },
  {
   "cell_type": "code",
   "execution_count": 21,
   "metadata": {},
   "outputs": [],
   "source": [
    "def collect_opinions(opinions):\n",
    "    collected_opinions = []\n",
    "    for opinion in opinions:\n",
    "        category = opinion['category']\n",
    "        polarity = opinion['opinion polarity']\n",
    "        if polarity != 'conflict':\n",
    "            collected_opinions.append([category, [], polarity])\n",
    "    return collected_opinions"
   ]
  },
  {
   "cell_type": "code",
   "execution_count": 22,
   "metadata": {},
   "outputs": [],
   "source": [
    "total['sentence'] = total.sentence.apply(collect_sentences)\n",
    "total['opinions'] = total.opinions.apply(collect_opinions)\n",
    "total = total[total.opinions.apply(lambda x: x == []) == False]\n",
    "total = total.reset_index()\n",
    "total = total.set_axis(['id', 'sentence_form', 'annotation'], axis='columns')"
   ]
  },
  {
   "cell_type": "code",
   "execution_count": 23,
   "metadata": {},
   "outputs": [],
   "source": [
    "model_checkpoint = 'snunlp/KR-ELECTRA-discriminator'\n",
    "tokenizer = AutoTokenizer.from_pretrained(model_checkpoint)"
   ]
  },
  {
   "cell_type": "code",
   "execution_count": 24,
   "metadata": {},
   "outputs": [
    {
     "data": {
      "text/plain": [
       "'잔차 사서 일주일쯤 지났다. 그동안 비가 와서 생각만큼 많이 타진 못했고 그래도 며칠은 새로 잔 자전거로 출퇴근. 첫날은 허벅지가 터질 거 같은 느낌이 들어서 이러다 비욘세 언냐를 뛰어넘어 뭐가 무서운 일이 벌어지는 게 아닐까 싶었지만 -_; 태생적인 한계로 인해 느낌만 그럴 뿐 아무 이상 없음. 둘쨋날은 미친듯이 밟아봤더니 기어가 헛돌면서 틱틱 소리가 나서 경악. 이거 뭐 삐꾸를 준 거 아냐 불안하고, 거금 투자한 게 왜 이래.. 싶어서 정이 확 떨어졌는데 산 곳 가져가서 확인하니 기어 텐션 문제라고 고장 아니래.'"
      ]
     },
     "execution_count": 24,
     "metadata": {},
     "output_type": "execute_result"
    }
   ],
   "source": [
    "total.sentence_form.iloc[0]"
   ]
  },
  {
   "cell_type": "code",
   "execution_count": 25,
   "metadata": {},
   "outputs": [
    {
     "data": {
      "text/plain": [
       "151"
      ]
     },
     "execution_count": 25,
     "metadata": {},
     "output_type": "execute_result"
    }
   ],
   "source": [
    "test = total.sentence_form.apply(lambda x: len(tokenizer.encode(x, '본품#품질', truncation=True))).iloc[0]\n",
    "# tokenizer.decode(test)\n",
    "test"
   ]
  },
  {
   "cell_type": "code",
   "execution_count": 26,
   "metadata": {},
   "outputs": [
    {
     "data": {
      "text/plain": [
       "[1, 2, 3, 4]"
      ]
     },
     "execution_count": 26,
     "metadata": {},
     "output_type": "execute_result"
    }
   ],
   "source": [
    "test = [1,2,3,4,5,6,7,8,9]\n",
    "test[:len(test)//2]"
   ]
  },
  {
   "cell_type": "code",
   "execution_count": 27,
   "metadata": {},
   "outputs": [
    {
     "data": {
      "text/plain": [
       "'잔차 사서 일주일쯤 지났다. 그동안 비가 와서 생각만큼 많이 타진 못했고 그래도 며칠은 새로 잔 자전거로 출퇴근. 첫날은 허벅지가 터질 거 같은 느낌이 들어서 이러다 비욘세 언냐를 뛰어넘어 뭐가 무서운 일이 벌어지는 게 아닐까 싶었지만 -_; 태생적인 한계로 인해 느낌만 그럴 뿐 아무 이상 없음. 둘쨋날은 미친듯이 밟아봤더니 기어가 헛돌면서 틱틱 소리가 나서 경악. 이거 뭐 삐꾸를 준 거 아냐 불안하고, 거금 투자한 게 왜 이래.. 싶어서 정이 확 떨어졌는데 산 곳 가져가서 확인하니 기어 텐션 문제라고 고장 아니래.'"
      ]
     },
     "execution_count": 27,
     "metadata": {},
     "output_type": "execute_result"
    }
   ],
   "source": [
    "total.sentence_form.iloc[0]\n",
    "# total.annotation.iloc[0]"
   ]
  },
  {
   "cell_type": "code",
   "execution_count": 28,
   "metadata": {},
   "outputs": [
    {
     "name": "stdout",
     "output_type": "stream",
     "text": [
      "tags found:  1195\n",
      "tag set of df:  20\n",
      "tag set of offered:  25\n",
      "difference:  {'제품 전체#다양성', '본품#가격', '패키지/구성품#가격', '브랜드#디자인', '본품#인지도'}\n",
      "제품 전체#일반\t\t290\n",
      "본품#품질\t\t178\n",
      "본품#일반\t\t148\n",
      "제품 전체#품질\t\t103\n",
      "제품 전체#디자인\t75\n",
      "본품#편의성\t\t58\n",
      "제품 전체#인지도\t58\n",
      "제품 전체#편의성\t56\n",
      "브랜드#일반\t\t48\n",
      "패키지/구성품#디자인\t43\n",
      "제품 전체#가격\t\t33\n",
      "패키지/구성품#편의성\t33\n",
      "패키지/구성품#일반\t19\n",
      "본품#다양성\t\t19\n",
      "본품#디자인\t\t9\n",
      "패키지/구성품#품질\t7\n",
      "브랜드#품질\t\t7\n",
      "브랜드#인지도\t\t7\n",
      "브랜드#가격\t\t3\n",
      "패키지/구성품#다양성\t1\n"
     ]
    }
   ],
   "source": [
    "count_tags(total, entity_property_pair)"
   ]
  },
  {
   "cell_type": "code",
   "execution_count": 29,
   "metadata": {},
   "outputs": [
    {
     "name": "stdout",
     "output_type": "stream",
     "text": [
      "./dataset/uncleaned_v23\n"
     ]
    }
   ],
   "source": [
    "DATA_V = 'uncleaned_v23'\n",
    "save_path = f'./dataset/{DATA_V}'\n",
    "print(save_path)"
   ]
  },
  {
   "cell_type": "code",
   "execution_count": 30,
   "metadata": {},
   "outputs": [
    {
     "name": "stdout",
     "output_type": "stream",
     "text": [
      "huggingface/tokenizers: The current process just got forked, after parallelism has already been used. Disabling parallelism to avoid deadlocks...\n",
      "To disable this warning, you can either:\n",
      "\t- Avoid using `tokenizers` before the fork if possible\n",
      "\t- Explicitly set the environment variable TOKENIZERS_PARALLELISM=(true | false)\n"
     ]
    }
   ],
   "source": [
    "!mkdir -p {save_path}\n",
    "\n",
    "total.to_json(f'{save_path}/absa2021.json', force_ascii=False)"
   ]
  }
 ],
 "metadata": {
  "kernelspec": {
   "display_name": "Python 3.8.13 ('jeonghyeon')",
   "language": "python",
   "name": "python3"
  },
  "language_info": {
   "codemirror_mode": {
    "name": "ipython",
    "version": 3
   },
   "file_extension": ".py",
   "mimetype": "text/x-python",
   "name": "python",
   "nbconvert_exporter": "python",
   "pygments_lexer": "ipython3",
   "version": "3.8.13"
  },
  "orig_nbformat": 4,
  "vscode": {
   "interpreter": {
    "hash": "df12b971f0e4e081474c4ac44bd338416eac6f5401e1e938ba342788cee78ecd"
   }
  }
 },
 "nbformat": 4,
 "nbformat_minor": 2
}
