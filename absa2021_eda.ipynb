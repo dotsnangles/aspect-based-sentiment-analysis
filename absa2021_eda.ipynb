{
 "cells": [
  {
   "cell_type": "code",
   "execution_count": null,
   "metadata": {},
   "outputs": [],
   "source": [
    "import pandas as pd\n",
    "import json\n",
    "from module.load_json import *\n",
    "from module.utils import *\n",
    "from module.maps import *\n",
    "\n",
    "from transformers import (\n",
    "    AutoTokenizer, AutoModelForSequenceClassification,\n",
    "    DataCollatorWithPadding, \n",
    "    TrainingArguments, Trainer,\n",
    ")"
   ]
  },
  {
   "cell_type": "code",
   "execution_count": null,
   "metadata": {},
   "outputs": [],
   "source": [
    "train_path = 'dataset/NIKL_ABSA_2021_v1.0/EXSA2112203180.json'\n",
    "dev_path = 'dataset/NIKL_ABSA_2021_v1.0/EXSA2122203180.json'"
   ]
  },
  {
   "cell_type": "code",
   "execution_count": null,
   "metadata": {},
   "outputs": [],
   "source": [
    "train = jsonload(train_path)\n",
    "dev = jsonload(dev_path)\n",
    "train = pd.DataFrame(train['document'])\n",
    "dev = pd.DataFrame(dev['document'])\n",
    "total = pd.concat([train, dev]).reset_index(drop=True)"
   ]
  },
  {
   "cell_type": "code",
   "execution_count": null,
   "metadata": {},
   "outputs": [],
   "source": [
    "total.domain.unique()\n",
    "categories = ['제품 기타', '전자기기', '화장품/세정제']\n",
    "\n",
    "checker = total.domain.apply(lambda x: x in categories)\n",
    "total = total[checker]\n",
    "total = total[total.isna().any(axis=1) == False]\n",
    "total = total[['sentence', 'opinions']].reset_index(drop=True)"
   ]
  },
  {
   "cell_type": "code",
   "execution_count": null,
   "metadata": {},
   "outputs": [],
   "source": [
    "def collect_sentences(sentences):\n",
    "    collected_sentences = []\n",
    "    for sentence in sentences:\n",
    "        collected_sentences.append(sentence['sentence_form'])\n",
    "        collected_sentences = collected_sentences[:5]\n",
    "    return ' '.join(collected_sentences)"
   ]
  },
  {
   "cell_type": "code",
   "execution_count": null,
   "metadata": {},
   "outputs": [],
   "source": [
    "def collect_opinions(opinions):\n",
    "    collected_opinions = []\n",
    "    for opinion in opinions:\n",
    "        category = opinion['category']\n",
    "        polarity = opinion['opinion polarity']\n",
    "        if polarity != 'conflict':\n",
    "            collected_opinions.append([category, [], polarity])\n",
    "    return collected_opinions"
   ]
  },
  {
   "cell_type": "code",
   "execution_count": null,
   "metadata": {},
   "outputs": [],
   "source": [
    "total['sentence'] = total.sentence.apply(collect_sentences)\n",
    "total['opinions'] = total.opinions.apply(collect_opinions)\n",
    "total = total[total.opinions.apply(lambda x: x == []) == False]\n",
    "total = total.reset_index()\n",
    "total = total.set_axis(['id', 'sentence_form', 'annotation'], axis='columns')"
   ]
  },
  {
   "cell_type": "code",
   "execution_count": null,
   "metadata": {},
   "outputs": [],
   "source": [
    "model_checkpoint = 'snunlp/KR-ELECTRA-discriminator'\n",
    "tokenizer = AutoTokenizer.from_pretrained(model_checkpoint)"
   ]
  },
  {
   "cell_type": "code",
   "execution_count": null,
   "metadata": {},
   "outputs": [],
   "source": [
    "total.sentence_form.iloc[0]"
   ]
  },
  {
   "cell_type": "code",
   "execution_count": null,
   "metadata": {},
   "outputs": [],
   "source": [
    "test = total.sentence_form.apply(lambda x: len(tokenizer.encode(x, '본품#품질', truncation=True))).iloc[0]\n",
    "# tokenizer.decode(test)\n",
    "test"
   ]
  },
  {
   "cell_type": "code",
   "execution_count": null,
   "metadata": {},
   "outputs": [],
   "source": [
    "test = [1,2,3,4,5,6,7,8,9]\n",
    "test[:len(test)//2]"
   ]
  },
  {
   "cell_type": "code",
   "execution_count": null,
   "metadata": {},
   "outputs": [],
   "source": [
    "total.sentence_form.iloc[0]\n",
    "# total.annotation.iloc[0]"
   ]
  },
  {
   "cell_type": "code",
   "execution_count": null,
   "metadata": {},
   "outputs": [],
   "source": [
    "count_tags(total, entity_property_pair)"
   ]
  },
  {
   "cell_type": "code",
   "execution_count": null,
   "metadata": {},
   "outputs": [],
   "source": [
    "DATA_V = 'uncleaned_v23'\n",
    "save_path = f'./dataset/{DATA_V}'\n",
    "print(save_path)"
   ]
  },
  {
   "cell_type": "code",
   "execution_count": null,
   "metadata": {},
   "outputs": [],
   "source": [
    "!mkdir -p {save_path}\n",
    "\n",
    "total.to_json(f'{save_path}/absa2021.json', force_ascii=False)"
   ]
  }
 ],
 "metadata": {
  "kernelspec": {
   "display_name": "Python 3.8.13 ('jeonghyeon')",
   "language": "python",
   "name": "python3"
  },
  "language_info": {
   "codemirror_mode": {
    "name": "ipython",
    "version": 3
   },
   "file_extension": ".py",
   "mimetype": "text/x-python",
   "name": "python",
   "nbconvert_exporter": "python",
   "pygments_lexer": "ipython3",
   "version": "3.8.13"
  },
  "orig_nbformat": 4,
  "vscode": {
   "interpreter": {
    "hash": "df12b971f0e4e081474c4ac44bd338416eac6f5401e1e938ba342788cee78ecd"
   }
  }
 },
 "nbformat": 4,
 "nbformat_minor": 2
}
